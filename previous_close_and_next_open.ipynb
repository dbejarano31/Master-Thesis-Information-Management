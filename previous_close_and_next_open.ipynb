{
 "cells": [
  {
   "cell_type": "code",
   "execution_count": 1,
   "metadata": {},
   "outputs": [],
   "source": [
    "import yfinance as yf\n",
    "import pandas as pd\n",
    "import numpy as np\n",
    "from datetime import datetime, timedelta"
   ]
  },
  {
   "cell_type": "code",
   "execution_count": 2,
   "metadata": {},
   "outputs": [],
   "source": [
    "def previous_close_and_next_open(tickers, dates):\n",
    "    \"\"\"This function obtains, for each pair of ticker and date, the closing price of the ticker during the \n",
    "    day before the given date and the opening price of the ticker for the day next to the reference date.\n",
    "    \n",
    "    For the inputs:\n",
    "    tickers: List of tickers, each represented by a string\n",
    "    dates: List of dates, each represented in the format %Y-%m-%d (2010-01-24)\n",
    "    \n",
    "    The output is a pandas dataframe, with as many rows as specified tickers, and columns Reference Date, Previous Close,\n",
    "    and Next Open.\"\"\"\n",
    "    \n",
    "    results = pd.DataFrame(columns=['Ticker', \"Reference Date\", \"Previous Close\", \"Next Open\"]).set_index('Ticker')\n",
    "    for i, t in enumerate(tickers):\n",
    "        #If date falls in weekends, take Friday and Monday\n",
    "        extra_add = extra_sub = 0\n",
    "        if datetime.strptime(dates[i], '%Y-%m-%d').isoweekday() == 6:\n",
    "            extra_add = 1\n",
    "        elif datetime.strptime(dates[i], '%Y-%m-%d').isoweekday() == 7:\n",
    "            extra_sub = 1\n",
    "                \n",
    "        yesterday = datetime.strptime(dates[i], '%Y-%m-%d') - timedelta(days=1+ extra_sub)\n",
    "        tomorrow = datetime.strptime(dates[i], '%Y-%m-%d') + timedelta(days=1 + extra_add)\n",
    "        \n",
    "        data = yf.download(t, start=yesterday + timedelta(days=1), end=tomorrow + timedelta(days=1))\n",
    "        \n",
    "        previous_close = data.iloc[0]['Close']\n",
    "        next_open = data.iloc[-1]['Open']\n",
    "\n",
    "        single = pd.DataFrame({\"Reference Date\":dates[i], \"Previous Close\":previous_close, \"Next Open\":next_open}, index=[t])\n",
    "        results = results.append(single)\n",
    "    return results"
   ]
  },
  {
   "cell_type": "code",
   "execution_count": 3,
   "metadata": {},
   "outputs": [
    {
     "name": "stdout",
     "output_type": "stream",
     "text": [
      "[*********************100%***********************]  1 of 1 completed\n",
      "[*********************100%***********************]  1 of 1 completed\n"
     ]
    },
    {
     "data": {
      "text/html": [
       "<div>\n",
       "<style scoped>\n",
       "    .dataframe tbody tr th:only-of-type {\n",
       "        vertical-align: middle;\n",
       "    }\n",
       "\n",
       "    .dataframe tbody tr th {\n",
       "        vertical-align: top;\n",
       "    }\n",
       "\n",
       "    .dataframe thead th {\n",
       "        text-align: right;\n",
       "    }\n",
       "</style>\n",
       "<table border=\"1\" class=\"dataframe\">\n",
       "  <thead>\n",
       "    <tr style=\"text-align: right;\">\n",
       "      <th></th>\n",
       "      <th>Reference Date</th>\n",
       "      <th>Previous Close</th>\n",
       "      <th>Next Open</th>\n",
       "    </tr>\n",
       "  </thead>\n",
       "  <tbody>\n",
       "    <tr>\n",
       "      <th>AAPL</th>\n",
       "      <td>2012-03-15</td>\n",
       "      <td>21.056429</td>\n",
       "      <td>20.882856</td>\n",
       "    </tr>\n",
       "    <tr>\n",
       "      <th>GOOG</th>\n",
       "      <td>2010-08-21</td>\n",
       "      <td>230.147354</td>\n",
       "      <td>229.888321</td>\n",
       "    </tr>\n",
       "  </tbody>\n",
       "</table>\n",
       "</div>"
      ],
      "text/plain": [
       "     Reference Date  Previous Close   Next Open\n",
       "AAPL     2012-03-15       21.056429   20.882856\n",
       "GOOG     2010-08-21      230.147354  229.888321"
      ]
     },
     "execution_count": 3,
     "metadata": {},
     "output_type": "execute_result"
    }
   ],
   "source": [
    "tickers = ['AAPL', 'GOOG']\n",
    "dates = ['2012-03-15', '2010-08-21']\n",
    "df = previous_close_and_next_open(tickers, dates)\n",
    "df"
   ]
  }
 ],
 "metadata": {
  "kernelspec": {
   "display_name": "AnnaThesis",
   "language": "python",
   "name": "annathesis"
  },
  "language_info": {
   "codemirror_mode": {
    "name": "ipython",
    "version": 3
   },
   "file_extension": ".py",
   "mimetype": "text/x-python",
   "name": "python",
   "nbconvert_exporter": "python",
   "pygments_lexer": "ipython3",
   "version": "3.9.0"
  }
 },
 "nbformat": 4,
 "nbformat_minor": 4
}
