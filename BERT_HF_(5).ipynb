{
  "nbformat": 4,
  "nbformat_minor": 0,
  "metadata": {
    "accelerator": "GPU",
    "colab": {
      "name": "BERT_HF (5).ipynb",
      "provenance": [],
      "collapsed_sections": [
        "OcRl5qE4faCi",
        "q5jC99D79xAg",
        "EOs8pOTD-FPw",
        "DOk49lL9Bc8R"
      ],
      "include_colab_link": true
    },
    "kernelspec": {
      "display_name": "Python 3",
      "name": "python3"
    }
  },
  "cells": [
    {
      "cell_type": "markdown",
      "metadata": {
        "id": "view-in-github",
        "colab_type": "text"
      },
      "source": [
        "<a href=\"https://colab.research.google.com/github/dbejarano31/Master-Thesis-Information-Management/blob/main/BERT_HF_(5).ipynb\" target=\"_parent\"><img src=\"https://colab.research.google.com/assets/colab-badge.svg\" alt=\"Open In Colab\"/></a>"
      ]
    },
    {
      "cell_type": "markdown",
      "metadata": {
        "id": "I0Jq91Hw85wK"
      },
      "source": [
        "# BERT\n",
        "<br> </br>\n",
        "\n",
        "Here we are going to try another implementation of BERT, using the HuggingFace API [see here](https://huggingface.co/transformers/main_classes/trainer.html).\n",
        "<br></br>\n",
        "To download our dataset, [see here](https://drive.google.com/file/d/1o1BMTTU9YNPATL8x93l0N-h6sTZxLyDo/view?usp=sharing)."
      ]
    },
    {
      "cell_type": "markdown",
      "metadata": {
        "id": "OcRl5qE4faCi"
      },
      "source": [
        "## Imports"
      ]
    },
    {
      "cell_type": "code",
      "metadata": {
        "colab": {
          "base_uri": "https://localhost:8080/"
        },
        "id": "DKzSfOr3FV0e",
        "outputId": "3276a5f9-f3f6-4ff5-e932-771724d3b475"
      },
      "source": [
        "!pip install git+https://github.com/huggingface/transformers"
      ],
      "execution_count": null,
      "outputs": [
        {
          "output_type": "stream",
          "text": [
            "Collecting git+https://github.com/huggingface/transformers\n",
            "  Cloning https://github.com/huggingface/transformers to /tmp/pip-req-build-utsvydsl\n",
            "  Running command git clone -q https://github.com/huggingface/transformers /tmp/pip-req-build-utsvydsl\n",
            "  Installing build dependencies ... \u001b[?25l\u001b[?25hdone\n",
            "  Getting requirements to build wheel ... \u001b[?25l\u001b[?25hdone\n",
            "    Preparing wheel metadata ... \u001b[?25l\u001b[?25hdone\n",
            "Requirement already satisfied (use --upgrade to upgrade): transformers==4.6.0.dev0 from git+https://github.com/huggingface/transformers in /usr/local/lib/python3.7/dist-packages\n",
            "Requirement already satisfied: regex!=2019.12.17 in /usr/local/lib/python3.7/dist-packages (from transformers==4.6.0.dev0) (2019.12.20)\n",
            "Requirement already satisfied: requests in /usr/local/lib/python3.7/dist-packages (from transformers==4.6.0.dev0) (2.23.0)\n",
            "Requirement already satisfied: sacremoses in /usr/local/lib/python3.7/dist-packages (from transformers==4.6.0.dev0) (0.0.45)\n",
            "Requirement already satisfied: packaging in /usr/local/lib/python3.7/dist-packages (from transformers==4.6.0.dev0) (20.9)\n",
            "Requirement already satisfied: tqdm>=4.27 in /usr/local/lib/python3.7/dist-packages (from transformers==4.6.0.dev0) (4.41.1)\n",
            "Requirement already satisfied: huggingface-hub==0.0.8 in /usr/local/lib/python3.7/dist-packages (from transformers==4.6.0.dev0) (0.0.8)\n",
            "Requirement already satisfied: importlib-metadata; python_version < \"3.8\" in /usr/local/lib/python3.7/dist-packages (from transformers==4.6.0.dev0) (3.10.1)\n",
            "Requirement already satisfied: numpy>=1.17 in /usr/local/lib/python3.7/dist-packages (from transformers==4.6.0.dev0) (1.19.5)\n",
            "Requirement already satisfied: filelock in /usr/local/lib/python3.7/dist-packages (from transformers==4.6.0.dev0) (3.0.12)\n",
            "Requirement already satisfied: tokenizers<0.11,>=0.10.1 in /usr/local/lib/python3.7/dist-packages (from transformers==4.6.0.dev0) (0.10.2)\n",
            "Requirement already satisfied: idna<3,>=2.5 in /usr/local/lib/python3.7/dist-packages (from requests->transformers==4.6.0.dev0) (2.10)\n",
            "Requirement already satisfied: chardet<4,>=3.0.2 in /usr/local/lib/python3.7/dist-packages (from requests->transformers==4.6.0.dev0) (3.0.4)\n",
            "Requirement already satisfied: certifi>=2017.4.17 in /usr/local/lib/python3.7/dist-packages (from requests->transformers==4.6.0.dev0) (2020.12.5)\n",
            "Requirement already satisfied: urllib3!=1.25.0,!=1.25.1,<1.26,>=1.21.1 in /usr/local/lib/python3.7/dist-packages (from requests->transformers==4.6.0.dev0) (1.24.3)\n",
            "Requirement already satisfied: click in /usr/local/lib/python3.7/dist-packages (from sacremoses->transformers==4.6.0.dev0) (7.1.2)\n",
            "Requirement already satisfied: six in /usr/local/lib/python3.7/dist-packages (from sacremoses->transformers==4.6.0.dev0) (1.15.0)\n",
            "Requirement already satisfied: joblib in /usr/local/lib/python3.7/dist-packages (from sacremoses->transformers==4.6.0.dev0) (1.0.1)\n",
            "Requirement already satisfied: pyparsing>=2.0.2 in /usr/local/lib/python3.7/dist-packages (from packaging->transformers==4.6.0.dev0) (2.4.7)\n",
            "Requirement already satisfied: typing-extensions>=3.6.4; python_version < \"3.8\" in /usr/local/lib/python3.7/dist-packages (from importlib-metadata; python_version < \"3.8\"->transformers==4.6.0.dev0) (3.7.4.3)\n",
            "Requirement already satisfied: zipp>=0.5 in /usr/local/lib/python3.7/dist-packages (from importlib-metadata; python_version < \"3.8\"->transformers==4.6.0.dev0) (3.4.1)\n",
            "Building wheels for collected packages: transformers\n",
            "  Building wheel for transformers (PEP 517) ... \u001b[?25l\u001b[?25hdone\n",
            "  Created wheel for transformers: filename=transformers-4.6.0.dev0-cp37-none-any.whl size=2178482 sha256=615f457aad392146f0c2d5a0f1b3e9926ad815d268d23ba1b479f348fcf69fcb\n",
            "  Stored in directory: /tmp/pip-ephem-wheel-cache-umbta3wc/wheels/70/d3/52/b3fa4f8b8ef04167ac62e5bb2accb62ae764db2a378247490e\n",
            "Successfully built transformers\n"
          ],
          "name": "stdout"
        }
      ]
    },
    {
      "cell_type": "code",
      "metadata": {
        "colab": {
          "base_uri": "https://localhost:8080/"
        },
        "id": "gQIaevyCQDZj",
        "outputId": "3b40fdce-599a-4fda-e42b-6be9705b5ae8"
      },
      "source": [
        "#!pip install transformers\n",
        "from typing import TYPE_CHECKING, Any, Callable, Dict, List, Optional, Tuple, Union\n",
        "import pandas as pd\n",
        "import numpy as np\n",
        "import math\n",
        "import time\n",
        "\n",
        "import nltk\n",
        "from nltk.corpus import stopwords\n",
        "from nltk.tokenize import word_tokenize\n",
        "import string\n",
        "nltk.download('stopwords')\n",
        "nltk.download('punkt')\n",
        "\n",
        "import matplotlib.pyplot as plt\n",
        "import seaborn as sns\n",
        "\n",
        "import os\n",
        "\n",
        "from transformers.utils import *\n",
        "from transformers.data.data_collator import DataCollator, DataCollatorWithPadding, default_data_collator\n",
        "from transformers.file_utils import (\n",
        "    WEIGHTS_NAME,\n",
        "    is_apex_available,\n",
        "    is_datasets_available,\n",
        "    is_in_notebook,\n",
        "    is_sagemaker_dp_enabled,\n",
        "    is_sagemaker_mp_enabled,\n",
        "    is_torch_tpu_available,\n",
        "    is_training_run_on_sagemaker,\n",
        ")\n",
        "from transformers.modeling_utils import PreTrainedModel, unwrap_model\n",
        "from transformers.optimization import Adafactor, AdamW, get_scheduler\n",
        "from transformers.tokenization_utils_base import PreTrainedTokenizerBase\n",
        "from transformers.trainer_callback import (\n",
        "    CallbackHandler,\n",
        "    DefaultFlowCallback,\n",
        "    PrinterCallback,\n",
        "    ProgressCallback,\n",
        "    TrainerCallback,\n",
        "    TrainerControl,\n",
        "    TrainerState,\n",
        ")\n",
        "from transformers.trainer_utils import (\n",
        "    PREFIX_CHECKPOINT_DIR,\n",
        "    BestRun,\n",
        "    EvalPrediction,\n",
        "    HPSearchBackend,\n",
        "    PredictionOutput,\n",
        "    ShardedDDPOption,\n",
        "    TrainerMemoryTracker,\n",
        "    TrainOutput,\n",
        "    default_compute_objective,\n",
        "    default_hp_space,\n",
        "    denumpify_detensorize,\n",
        "    get_last_checkpoint,\n",
        "    set_seed,\n",
        "    speed_metrics,\n",
        ")\n",
        "from transformers.training_args import ParallelMode, TrainingArguments\n",
        "from transformers.utils import logging\n",
        "from transformers.utils.modeling_auto_mapping import MODEL_FOR_QUESTION_ANSWERING_MAPPING_NAMES \n",
        "import torch\n",
        "import tensorflow as tf\n",
        "from transformers import AutoModelForSequenceClassification, AutoTokenizer, TrainingArguments, Trainer, EarlyStoppingCallback\n",
        "import tensorflow_hub as hub\n",
        "\n",
        "from sklearn.feature_extraction.text import CountVectorizer\n",
        "from sklearn.metrics import accuracy_score, precision_recall_fscore_support\n",
        "from sklearn.model_selection import train_test_split\n",
        "\n",
        "\n",
        "\n",
        "from torch.utils.data.dataset import Dataset\n"
      ],
      "execution_count": null,
      "outputs": [
        {
          "output_type": "stream",
          "text": [
            "[nltk_data] Downloading package stopwords to /root/nltk_data...\n",
            "[nltk_data]   Package stopwords is already up-to-date!\n",
            "[nltk_data] Downloading package punkt to /root/nltk_data...\n",
            "[nltk_data]   Package punkt is already up-to-date!\n"
          ],
          "name": "stdout"
        }
      ]
    },
    {
      "cell_type": "markdown",
      "metadata": {
        "id": "q5jC99D79xAg"
      },
      "source": [
        "## Connecting to cloud hardware"
      ]
    },
    {
      "cell_type": "code",
      "metadata": {
        "colab": {
          "base_uri": "https://localhost:8080/"
        },
        "id": "ZHyTDoHT9zHG",
        "outputId": "17068d52-8593-42cc-c9a0-53228fc6822c"
      },
      "source": [
        "device_name = tf.test.gpu_device_name()\n",
        "if device_name == '/device:GPU:0':\n",
        "  print('Found GPU at: {}'.format(device_name))\n",
        "else:\n",
        "  raise SystemError('GPU device not found')"
      ],
      "execution_count": null,
      "outputs": [
        {
          "output_type": "stream",
          "text": [
            "Found GPU at: /device:GPU:0\n"
          ],
          "name": "stdout"
        }
      ]
    },
    {
      "cell_type": "code",
      "metadata": {
        "colab": {
          "base_uri": "https://localhost:8080/"
        },
        "id": "TYeVLXrg91A-",
        "outputId": "a2bc6756-ca56-4f78-dc64-315af387c6a2"
      },
      "source": [
        "if torch.cuda.is_available():\n",
        "  device = torch.device(\"cuda\")\n",
        "  print('There are %d GPU(s) available' % torch.cuda.device_count())\n",
        "  print('We will use the GPU:', torch.cuda.get_device_name(0))\n",
        "else:\n",
        "  print('No GPU available, using CPU')\n",
        "  device = torch.device(\"cpu\")"
      ],
      "execution_count": null,
      "outputs": [
        {
          "output_type": "stream",
          "text": [
            "There are 1 GPU(s) available\n",
            "We will use the GPU: Tesla P100-PCIE-16GB\n"
          ],
          "name": "stdout"
        }
      ]
    },
    {
      "cell_type": "markdown",
      "metadata": {
        "id": "EOs8pOTD-FPw"
      },
      "source": [
        "## Importing data"
      ]
    },
    {
      "cell_type": "code",
      "metadata": {
        "colab": {
          "base_uri": "https://localhost:8080/"
        },
        "id": "Lh3Euzfa-A2k",
        "outputId": "6bb47169-1283-4b9b-ed5f-faff8dad97a8"
      },
      "source": [
        "df = pd.read_csv('/content/final_consolidated_data')\n",
        "df.head()"
      ],
      "execution_count": null,
      "outputs": [
        {
          "output_type": "execute_result",
          "data": {
            "text/html": [
              "<div>\n",
              "<style scoped>\n",
              "    .dataframe tbody tr th:only-of-type {\n",
              "        vertical-align: middle;\n",
              "    }\n",
              "\n",
              "    .dataframe tbody tr th {\n",
              "        vertical-align: top;\n",
              "    }\n",
              "\n",
              "    .dataframe thead th {\n",
              "        text-align: right;\n",
              "    }\n",
              "</style>\n",
              "<table border=\"1\" class=\"dataframe\">\n",
              "  <thead>\n",
              "    <tr style=\"text-align: right;\">\n",
              "      <th></th>\n",
              "      <th>Unnamed: 0</th>\n",
              "      <th>CIK Code</th>\n",
              "      <th>Filing</th>\n",
              "      <th>Date Filed</th>\n",
              "      <th>Ticker</th>\n",
              "      <th>CompanyName</th>\n",
              "      <th>PrevAvgPriceChange</th>\n",
              "      <th>PostAvgPriceChange</th>\n",
              "      <th>Label</th>\n",
              "    </tr>\n",
              "  </thead>\n",
              "  <tbody>\n",
              "    <tr>\n",
              "      <th>0</th>\n",
              "      <td>0</td>\n",
              "      <td>1680378</td>\n",
              "      <td>Investing in ourshares of common stock involve...</td>\n",
              "      <td>2021-03-18</td>\n",
              "      <td>SNES</td>\n",
              "      <td>SenesTech, Inc.</td>\n",
              "      <td>0.001328</td>\n",
              "      <td>-0.003177</td>\n",
              "      <td>decrease</td>\n",
              "    </tr>\n",
              "    <tr>\n",
              "      <th>1</th>\n",
              "      <td>1</td>\n",
              "      <td>1222719</td>\n",
              "      <td>Investing in any of our securities involves ri...</td>\n",
              "      <td>2021-01-31</td>\n",
              "      <td>CHY</td>\n",
              "      <td>CALAMOS CONVERTIBLE &amp; HIGH INCOME FUND</td>\n",
              "      <td>0.004126</td>\n",
              "      <td>0.006552</td>\n",
              "      <td>neutral</td>\n",
              "    </tr>\n",
              "    <tr>\n",
              "      <th>2</th>\n",
              "      <td>2</td>\n",
              "      <td>1364954</td>\n",
              "      <td>An investment in our securities involves a hig...</td>\n",
              "      <td>2021-04-03</td>\n",
              "      <td>CHGG</td>\n",
              "      <td>CHEGG, INC</td>\n",
              "      <td>0.065078</td>\n",
              "      <td>0.011987</td>\n",
              "      <td>neutral</td>\n",
              "    </tr>\n",
              "    <tr>\n",
              "      <th>3</th>\n",
              "      <td>3</td>\n",
              "      <td>1674930</td>\n",
              "      <td>Investing in our common stock involves risk. B...</td>\n",
              "      <td>2020-08-12</td>\n",
              "      <td>FLGT</td>\n",
              "      <td>Fulgent Genetics, Inc.</td>\n",
              "      <td>0.412805</td>\n",
              "      <td>0.058477</td>\n",
              "      <td>neutral</td>\n",
              "    </tr>\n",
              "    <tr>\n",
              "      <th>4</th>\n",
              "      <td>4</td>\n",
              "      <td>1409375</td>\n",
              "      <td>Investing in our common stock involves a high ...</td>\n",
              "      <td>2021-03-10</td>\n",
              "      <td>OESX</td>\n",
              "      <td>ORION ENERGY SYSTEMS, INC.</td>\n",
              "      <td>-0.046603</td>\n",
              "      <td>-0.002521</td>\n",
              "      <td>neutral</td>\n",
              "    </tr>\n",
              "  </tbody>\n",
              "</table>\n",
              "</div>"
            ],
            "text/plain": [
              "   Unnamed: 0  CIK Code  ... PostAvgPriceChange     Label\n",
              "0           0   1680378  ...          -0.003177  decrease\n",
              "1           1   1222719  ...           0.006552   neutral\n",
              "2           2   1364954  ...           0.011987   neutral\n",
              "3           3   1674930  ...           0.058477   neutral\n",
              "4           4   1409375  ...          -0.002521   neutral\n",
              "\n",
              "[5 rows x 9 columns]"
            ]
          },
          "metadata": {
            "tags": []
          },
          "execution_count": 40
        }
      ]
    },
    {
      "cell_type": "code",
      "metadata": {
        "colab": {
          "base_uri": "https://localhost:8080/"
        },
        "id": "flnfY8FH-I6p",
        "outputId": "874f9064-8785-49fd-8373-9877cebae12f"
      },
      "source": [
        "df.drop(columns = 'Unnamed: 0', inplace = True)\n",
        "df.dropna(axis = 0, how = 'any', inplace = True)\n",
        "df.info()"
      ],
      "execution_count": null,
      "outputs": [
        {
          "output_type": "stream",
          "text": [
            "<class 'pandas.core.frame.DataFrame'>\n",
            "Int64Index: 1350 entries, 0 to 1349\n",
            "Data columns (total 8 columns):\n",
            " #   Column              Non-Null Count  Dtype  \n",
            "---  ------              --------------  -----  \n",
            " 0   CIK Code            1350 non-null   int64  \n",
            " 1   Filing              1350 non-null   object \n",
            " 2   Date Filed          1350 non-null   object \n",
            " 3   Ticker              1350 non-null   object \n",
            " 4   CompanyName         1350 non-null   object \n",
            " 5   PrevAvgPriceChange  1350 non-null   float64\n",
            " 6   PostAvgPriceChange  1350 non-null   float64\n",
            " 7   Label               1350 non-null   object \n",
            "dtypes: float64(2), int64(1), object(5)\n",
            "memory usage: 94.9+ KB\n"
          ],
          "name": "stdout"
        }
      ]
    },
    {
      "cell_type": "code",
      "metadata": {
        "id": "H-HQxfhuJpld",
        "colab": {
          "base_uri": "https://localhost:8080/"
        },
        "outputId": "adf2612e-e123-44ff-a7b5-11e9889a11e4"
      },
      "source": [
        "incr_counts = 0\n",
        "decr_counts = 0\n",
        "neutral_counts = 0\n",
        "\n",
        "for i in df.Label:\n",
        "  if i == 'increase':\n",
        "    incr_counts += 1\n",
        "  elif i == 'decrease':\n",
        "    decr_counts += 1\n",
        "\n",
        "neutral_counts = len(df) - (incr_counts + decr_counts)\n",
        "\n",
        "counts = [incr_counts, decr_counts, neutral_counts]\n",
        "labs = ['increase', 'decrease', 'neutral']\n",
        "\n",
        "sns.set_style('darkgrid')\n",
        "color = 'lightsteelblue'\n",
        "\n",
        "plt.bar(labs, counts, color = color)\n",
        "plt.ylim([100, 900])\n",
        "plt.show()"
      ],
      "execution_count": null,
      "outputs": [
        {
          "output_type": "display_data",
          "data": {
            "image/png": "[encoded data removed]",
            "text/plain": [
              "<Figure size 432x288 with 1 Axes>"
            ]
          },
          "metadata": {
            "tags": []
          }
        }
      ]
    },
    {
      "cell_type": "markdown",
      "metadata": {
        "id": "p-rw1cTL-SFP"
      },
      "source": [
        "## Model import and configuration"
      ]
    },
    {
      "cell_type": "code",
      "metadata": {
        "colab": {
          "base_uri": "https://localhost:8080/"
        },
        "id": "kYJVsWRf-Ub3",
        "outputId": "30d89502-1bca-4556-f6d6-44a1b574a02c"
      },
      "source": [
        "# importing model\n",
        "bert = AutoModelForSequenceClassification.from_pretrained('bert-base-uncased',\n",
        "                                                          num_labels = 3)\n",
        "config = bert.config"
      ],
      "execution_count": null,
      "outputs": [
        {
          "output_type": "stream",
          "text": [
            "Some weights of the model checkpoint at bert-base-uncased were not used when initializing BertForSequenceClassification: ['cls.predictions.bias', 'cls.predictions.transform.dense.weight', 'cls.predictions.transform.dense.bias', 'cls.predictions.decoder.weight', 'cls.seq_relationship.weight', 'cls.seq_relationship.bias', 'cls.predictions.transform.LayerNorm.weight', 'cls.predictions.transform.LayerNorm.bias']\n",
            "- This IS expected if you are initializing BertForSequenceClassification from the checkpoint of a model trained on another task or with another architecture (e.g. initializing a BertForSequenceClassification model from a BertForPreTraining model).\n",
            "- This IS NOT expected if you are initializing BertForSequenceClassification from the checkpoint of a model that you expect to be exactly identical (initializing a BertForSequenceClassification model from a BertForSequenceClassification model).\n",
            "Some weights of BertForSequenceClassification were not initialized from the model checkpoint at bert-base-uncased and are newly initialized: ['classifier.weight', 'classifier.bias']\n",
            "You should probably TRAIN this model on a down-stream task to be able to use it for predictions and inference.\n"
          ],
          "name": "stderr"
        }
      ]
    },
    {
      "cell_type": "code",
      "metadata": {
        "colab": {
          "base_uri": "https://localhost:8080/"
        },
        "id": "DXRIQ_jD_oi-",
        "outputId": "fe29154c-8508-4450-82e6-5859bf1bf5e7"
      },
      "source": [
        "#changing labels\n",
        "config.max_position_embeddings = 300\n",
        "config.id2label[0] = 'decrease'\n",
        "config.id2label[1] = 'neutral'\n",
        "config.id2label[2] = 'increase'\n",
        "config"
      ],
      "execution_count": null,
      "outputs": [
        {
          "output_type": "execute_result",
          "data": {
            "text/plain": [
              "BertConfig {\n",
              "  \"_name_or_path\": \"bert-base-uncased\",\n",
              "  \"architectures\": [\n",
              "    \"BertForMaskedLM\"\n",
              "  ],\n",
              "  \"attention_probs_dropout_prob\": 0.1,\n",
              "  \"gradient_checkpointing\": false,\n",
              "  \"hidden_act\": \"gelu\",\n",
              "  \"hidden_dropout_prob\": 0.1,\n",
              "  \"hidden_size\": 768,\n",
              "  \"id2label\": {\n",
              "    \"0\": \"decrease\",\n",
              "    \"1\": \"neutral\",\n",
              "    \"2\": \"increase\"\n",
              "  },\n",
              "  \"initializer_range\": 0.02,\n",
              "  \"intermediate_size\": 3072,\n",
              "  \"label2id\": {\n",
              "    \"LABEL_0\": 0,\n",
              "    \"LABEL_1\": 1,\n",
              "    \"LABEL_2\": 2\n",
              "  },\n",
              "  \"layer_norm_eps\": 1e-12,\n",
              "  \"max_position_embeddings\": 300,\n",
              "  \"model_type\": \"bert\",\n",
              "  \"num_attention_heads\": 12,\n",
              "  \"num_hidden_layers\": 12,\n",
              "  \"pad_token_id\": 0,\n",
              "  \"position_embedding_type\": \"absolute\",\n",
              "  \"transformers_version\": \"4.6.0.dev0\",\n",
              "  \"type_vocab_size\": 2,\n",
              "  \"use_cache\": true,\n",
              "  \"vocab_size\": 30522\n",
              "}"
            ]
          },
          "metadata": {
            "tags": []
          },
          "execution_count": 44
        }
      ]
    },
    {
      "cell_type": "code",
      "metadata": {
        "colab": {
          "base_uri": "https://localhost:8080/"
        },
        "id": "ReH4TpZJEO2F",
        "outputId": "ce540c25-5a60-46d3-ba7a-ab67d8cf7074"
      },
      "source": [
        "config.label2id['decrease'] = config.label2id['LABEL_0']\n",
        "config.label2id['neutral'] = config.label2id['LABEL_1']\n",
        "config.label2id['increase'] = config.label2id['LABEL_2']\n",
        "del config.label2id['LABEL_0']\n",
        "del config.label2id['LABEL_1']\n",
        "del config.label2id['LABEL_2']\n",
        "config"
      ],
      "execution_count": null,
      "outputs": [
        {
          "output_type": "execute_result",
          "data": {
            "text/plain": [
              "BertConfig {\n",
              "  \"_name_or_path\": \"bert-base-uncased\",\n",
              "  \"architectures\": [\n",
              "    \"BertForMaskedLM\"\n",
              "  ],\n",
              "  \"attention_probs_dropout_prob\": 0.1,\n",
              "  \"gradient_checkpointing\": false,\n",
              "  \"hidden_act\": \"gelu\",\n",
              "  \"hidden_dropout_prob\": 0.1,\n",
              "  \"hidden_size\": 768,\n",
              "  \"id2label\": {\n",
              "    \"0\": \"decrease\",\n",
              "    \"1\": \"neutral\",\n",
              "    \"2\": \"increase\"\n",
              "  },\n",
              "  \"initializer_range\": 0.02,\n",
              "  \"intermediate_size\": 3072,\n",
              "  \"label2id\": {\n",
              "    \"decrease\": 0,\n",
              "    \"increase\": 2,\n",
              "    \"neutral\": 1\n",
              "  },\n",
              "  \"layer_norm_eps\": 1e-12,\n",
              "  \"max_position_embeddings\": 300,\n",
              "  \"model_type\": \"bert\",\n",
              "  \"num_attention_heads\": 12,\n",
              "  \"num_hidden_layers\": 12,\n",
              "  \"pad_token_id\": 0,\n",
              "  \"position_embedding_type\": \"absolute\",\n",
              "  \"transformers_version\": \"4.6.0.dev0\",\n",
              "  \"type_vocab_size\": 2,\n",
              "  \"use_cache\": true,\n",
              "  \"vocab_size\": 30522\n",
              "}"
            ]
          },
          "metadata": {
            "tags": []
          },
          "execution_count": 45
        }
      ]
    },
    {
      "cell_type": "code",
      "metadata": {
        "id": "bKBk_cL714Dx"
      },
      "source": [
        "config.hidden_dropout_prob = 0.3"
      ],
      "execution_count": null,
      "outputs": []
    },
    {
      "cell_type": "code",
      "metadata": {
        "id": "y6CfUzZg_qji"
      },
      "source": [
        "# importing tokenizer\n",
        "from transformers import AutoTokenizer\n",
        "tokenizer = AutoTokenizer.from_pretrained('bert-base-uncased', use_fast = True)"
      ],
      "execution_count": null,
      "outputs": []
    },
    {
      "cell_type": "code",
      "metadata": {
        "colab": {
          "base_uri": "https://localhost:8080/"
        },
        "id": "xpIIPPPIAiIC",
        "outputId": "a197f635-f358-4533-d5cb-b167d08e68b5"
      },
      "source": [
        "tokenizer.model_max_length = 300\n",
        "tokenizer.model_max_length"
      ],
      "execution_count": null,
      "outputs": [
        {
          "output_type": "execute_result",
          "data": {
            "text/plain": [
              "300"
            ]
          },
          "metadata": {
            "tags": []
          },
          "execution_count": 49
        }
      ]
    },
    {
      "cell_type": "markdown",
      "metadata": {
        "id": "QlYSy4cHnS3W"
      },
      "source": [
        "TUNE PARAMETERS HERE !"
      ]
    },
    {
      "cell_type": "code",
      "metadata": {
        "id": "KLk7ty1cBDAx"
      },
      "source": [
        "batch_size = 32\n",
        "epochs = 10\n",
        "lr = 1e-5\n",
        "early_stopping = early_stopping = tf.keras.callbacks.EarlyStopping(\n",
        "    monitor = 'val_loss',\n",
        "    verbose = 1,\n",
        "    patience = 10,\n",
        "    mode = 'max',\n",
        "    restore_best_weights = True\n",
        ")\n",
        "auto = tf.data.experimental.AUTOTUNE\n",
        "max_seq_length = 300"
      ],
      "execution_count": null,
      "outputs": []
    },
    {
      "cell_type": "markdown",
      "metadata": {
        "id": "DOk49lL9Bc8R"
      },
      "source": [
        "## Data pre-processing"
      ]
    },
    {
      "cell_type": "markdown",
      "metadata": {
        "id": "e1cLvhoPULLg"
      },
      "source": [
        "BERT's word embeddings are really good, and they do really well processing completely unstructured and unprocessed data. But in order to minimize the amount of data to be used (we have to spare our GPU memory) we are going to remove stop words. "
      ]
    },
    {
      "cell_type": "code",
      "metadata": {
        "id": "nQFpzulomajq"
      },
      "source": [
        "# Stop word removal\n",
        "def remove_stopwords(text):\n",
        "  filtered = []\n",
        "  stop_words = set(stopwords.words('english'))\n",
        "  word_tokens = word_tokenize(text)\n",
        "  for w in word_tokens:\n",
        "    if w not in stop_words:\n",
        "      filtered.append(w)\n",
        "  filtered_doc = ' '.join(str(i) for i in filtered)\n",
        "  return filtered_doc"
      ],
      "execution_count": null,
      "outputs": []
    },
    {
      "cell_type": "code",
      "metadata": {
        "id": "9_X0thZGmhFm"
      },
      "source": [
        "df['Filing'] = df['Filing'].apply(lambda x: remove_stopwords(x))"
      ],
      "execution_count": null,
      "outputs": []
    },
    {
      "cell_type": "code",
      "metadata": {
        "id": "sRRhGQNtBe5B"
      },
      "source": [
        "#train/test splitting\n",
        "x = df.Filing.values\n",
        "y = df.Label.values\n",
        "labs = []\n",
        "\n",
        "for i in y:\n",
        "  if i == 'decrease':\n",
        "    labs.append(0)\n",
        "  elif i == 'neutral':\n",
        "    labs.append(1)\n",
        "  else:\n",
        "    labs.append(2)\n",
        "labs = np.array(labs)\n",
        "x_train, x_test, y_train, y_test = train_test_split(x, labs, test_size = 0.3, random_state = 42)"
      ],
      "execution_count": null,
      "outputs": []
    },
    {
      "cell_type": "code",
      "metadata": {
        "id": "ArOpCzvLB4p3"
      },
      "source": [
        "train_texts, val_texts, train_labels, val_labels = train_test_split(x_train, y_train, test_size =0.2)"
      ],
      "execution_count": null,
      "outputs": []
    },
    {
      "cell_type": "code",
      "metadata": {
        "id": "mw75kVL3B8F0"
      },
      "source": [
        "train_encodings = tokenizer(list(train_texts),\n",
        "                            truncation = True,\n",
        "                            padding = True,\n",
        "                            return_overflowing_tokens = True,\n",
        "                            return_offsets_mapping = True,\n",
        "                            stride = 100,\n",
        "                            max_length = max_seq_length,\n",
        "                            return_tensors = 'pt')\n",
        "\n",
        "val_encodings = tokenizer(list(val_texts),\n",
        "                          truncation = True,\n",
        "                          padding = True,\n",
        "                          return_overflowing_tokens = True,\n",
        "                          return_offsets_mapping = True,\n",
        "                          stride = 100,\n",
        "                          max_length = max_seq_length,\n",
        "                          return_tensors = 'pt')\n",
        "\n",
        "test_encodings = tokenizer(list(x_test),\n",
        "                           truncation = True,\n",
        "                           padding = True,\n",
        "                           return_overflowing_tokens = True, \n",
        "                           return_offsets_mapping = True,\n",
        "                           stride = 100, \n",
        "                           max_length = max_seq_length,\n",
        "                           return_tensors = 'pt')"
      ],
      "execution_count": null,
      "outputs": []
    },
    {
      "cell_type": "markdown",
      "metadata": {
        "id": "rC_XIvFbnr1G"
      },
      "source": [
        "The cell above tokenizes and splits the filings into the sub-filings of length 300, with a 100 token overlap with its neighboring sub-filings. Now we have to map each window to its respective label. For this we use the offsets mapping that was returned. "
      ]
    },
    {
      "cell_type": "code",
      "metadata": {
        "id": "OAc3b9OtnqJV"
      },
      "source": [
        "train_sub_labs = []\n",
        "val_sub_labs = []\n",
        "test_sub_labs = []\n",
        "\n",
        "for idx, lab in enumerate(train_labels):\n",
        "  for i in train_encodings['overflow_to_sample_mapping']:\n",
        "    if i == idx:\n",
        "      train_sub_labs.append(lab)\n",
        "\n",
        "for idx, lab in enumerate(val_labels):\n",
        "  for i in val_encodings['overflow_to_sample_mapping']:\n",
        "    if i == idx:\n",
        "      val_sub_labs.append(lab)\n",
        "\n",
        "for idx, lab in enumerate(y_test):\n",
        "  for i in test_encodings['overflow_to_sample_mapping']:\n",
        "    if i == idx:\n",
        "      test_sub_labs.append(lab)\n",
        "\n",
        "train_sub_labs = np.array(train_sub_labs)\n",
        "val_sub_labs = np.array(val_sub_labs)\n",
        "test_sub_labs = np.array(test_sub_labs)"
      ],
      "execution_count": null,
      "outputs": []
    },
    {
      "cell_type": "markdown",
      "metadata": {
        "id": "ZiQPf-ZWotvw"
      },
      "source": [
        "Now that we have each window mapped with their label, we have to make sure that our inputs are correct. We actually used the overflowing tokens and offsets mapping for the steps above, but BERT does not recognize them as input, so we need to take them out. "
      ]
    },
    {
      "cell_type": "code",
      "metadata": {
        "colab": {
          "base_uri": "https://localhost:8080/"
        },
        "id": "w6qFZrMvo8Jh",
        "outputId": "fd12a975-a2c7-4840-e5dd-e336cd1082c5"
      },
      "source": [
        "tokenizer.model_input_names"
      ],
      "execution_count": null,
      "outputs": [
        {
          "output_type": "execute_result",
          "data": {
            "text/plain": [
              "['input_ids', 'token_type_ids', 'attention_mask']"
            ]
          },
          "metadata": {
            "tags": []
          },
          "execution_count": 70
        }
      ]
    },
    {
      "cell_type": "code",
      "metadata": {
        "colab": {
          "base_uri": "https://localhost:8080/"
        },
        "id": "tkLlw3aAo_CL",
        "outputId": "8312146a-850b-4354-a57e-b8d65f122b64"
      },
      "source": [
        "train_encodings.keys"
      ],
      "execution_count": null,
      "outputs": [
        {
          "output_type": "execute_result",
          "data": {
            "text/plain": [
              "<bound method BatchEncoding.keys of {'input_ids': tensor([[  101,  8875, 20720,  ...,  6855,  3176,   102],\n",
              "        [  101,  4598,  7790,  ...,  3325,  4022,   102],\n",
              "        [  101,  2256,  4945,  ...,  1012,  2256,   102],\n",
              "        ...,\n",
              "        [  101,  6226,  1012,  ...,  7080,  4295,   102],\n",
              "        [  101,  1011,  1057,  ...,  8875, 20720,   102],\n",
              "        [  101,  3795,  4425,  ...,     0,     0,     0]]), 'token_type_ids': tensor([[0, 0, 0,  ..., 0, 0, 0],\n",
              "        [0, 0, 0,  ..., 0, 0, 0],\n",
              "        [0, 0, 0,  ..., 0, 0, 0],\n",
              "        ...,\n",
              "        [0, 0, 0,  ..., 0, 0, 0],\n",
              "        [0, 0, 0,  ..., 0, 0, 0],\n",
              "        [0, 0, 0,  ..., 0, 0, 0]]), 'attention_mask': tensor([[1, 1, 1,  ..., 1, 1, 1],\n",
              "        [1, 1, 1,  ..., 1, 1, 1],\n",
              "        [1, 1, 1,  ..., 1, 1, 1],\n",
              "        ...,\n",
              "        [1, 1, 1,  ..., 1, 1, 1],\n",
              "        [1, 1, 1,  ..., 1, 1, 1],\n",
              "        [1, 1, 1,  ..., 0, 0, 0]]), 'offset_mapping': tensor([[[     0,      0],\n",
              "         [     0,      4],\n",
              "         [     5,      7],\n",
              "         ...,\n",
              "         [  1957,   1963],\n",
              "         [  1964,   1974],\n",
              "         [     0,      0]],\n",
              "\n",
              "        [[     0,      0],\n",
              "         [  1314,   1323],\n",
              "         [  1324,   1333],\n",
              "         ...,\n",
              "         [  3356,   3366],\n",
              "         [  3367,   3376],\n",
              "         [     0,      0]],\n",
              "\n",
              "        [[     0,      0],\n",
              "         [  2698,   2701],\n",
              "         [  2702,   2709],\n",
              "         ...,\n",
              "         [  4643,   4644],\n",
              "         [  4645,   4648],\n",
              "         [     0,      0]],\n",
              "\n",
              "        ...,\n",
              "\n",
              "        [[     0,      0],\n",
              "         [104173, 104181],\n",
              "         [104182, 104183],\n",
              "         ...,\n",
              "         [105865, 105876],\n",
              "         [105877, 105884],\n",
              "         [     0,      0]],\n",
              "\n",
              "        [[     0,      0],\n",
              "         [105259, 105260],\n",
              "         [105260, 105261],\n",
              "         ...,\n",
              "         [107222, 107226],\n",
              "         [107227, 107229],\n",
              "         [     0,      0]],\n",
              "\n",
              "        [[     0,      0],\n",
              "         [106595, 106601],\n",
              "         [106602, 106608],\n",
              "         ...,\n",
              "         [     0,      0],\n",
              "         [     0,      0],\n",
              "         [     0,      0]]]), 'overflow_to_sample_mapping': tensor([  0,   0,   0,  ..., 755, 755, 755])}>"
            ]
          },
          "metadata": {
            "tags": []
          },
          "execution_count": 71
        }
      ]
    },
    {
      "cell_type": "code",
      "metadata": {
        "colab": {
          "base_uri": "https://localhost:8080/"
        },
        "id": "N52JO15BpKgi",
        "outputId": "b1f3cc7c-3654-4bfa-91c8-3c5e762ca358"
      },
      "source": [
        "train_encodings.pop('overflow_to_sample_mapping')\n",
        "train_encodings.pop('offset_mapping')\n",
        "test_encodings.pop('overflow_to_sample_mapping')\n",
        "test_encodings.pop('offset_mapping')\n",
        "val_encodings.pop('overflow_to_sample_mapping')\n",
        "val_encodings.pop('offset_mapping')\n",
        "train_encodings.keys"
      ],
      "execution_count": null,
      "outputs": [
        {
          "output_type": "execute_result",
          "data": {
            "text/plain": [
              "<bound method BatchEncoding.keys of {'input_ids': tensor([[  101,  8875, 20720,  ...,  6855,  3176,   102],\n",
              "        [  101,  4598,  7790,  ...,  3325,  4022,   102],\n",
              "        [  101,  2256,  4945,  ...,  1012,  2256,   102],\n",
              "        ...,\n",
              "        [  101,  6226,  1012,  ...,  7080,  4295,   102],\n",
              "        [  101,  1011,  1057,  ...,  8875, 20720,   102],\n",
              "        [  101,  3795,  4425,  ...,     0,     0,     0]]), 'token_type_ids': tensor([[0, 0, 0,  ..., 0, 0, 0],\n",
              "        [0, 0, 0,  ..., 0, 0, 0],\n",
              "        [0, 0, 0,  ..., 0, 0, 0],\n",
              "        ...,\n",
              "        [0, 0, 0,  ..., 0, 0, 0],\n",
              "        [0, 0, 0,  ..., 0, 0, 0],\n",
              "        [0, 0, 0,  ..., 0, 0, 0]]), 'attention_mask': tensor([[1, 1, 1,  ..., 1, 1, 1],\n",
              "        [1, 1, 1,  ..., 1, 1, 1],\n",
              "        [1, 1, 1,  ..., 1, 1, 1],\n",
              "        ...,\n",
              "        [1, 1, 1,  ..., 1, 1, 1],\n",
              "        [1, 1, 1,  ..., 1, 1, 1],\n",
              "        [1, 1, 1,  ..., 0, 0, 0]])}>"
            ]
          },
          "metadata": {
            "tags": []
          },
          "execution_count": 72
        }
      ]
    },
    {
      "cell_type": "markdown",
      "metadata": {
        "id": "etFnYjgjpSmQ"
      },
      "source": [
        "Now that inputs are ready, we can create the PyTorch datasets with the encodings and the labels. "
      ]
    },
    {
      "cell_type": "code",
      "metadata": {
        "id": "ROGi0M_0B_u4"
      },
      "source": [
        "class SEC_Dataset(torch.utils.data.Dataset):\n",
        "  def __init__(self, encodings, labels):\n",
        "    self.encodings = encodings\n",
        "    self.labels = labels\n",
        "\n",
        "  def __getitem__(self, idx):\n",
        "    item = {key: torch.tensor(val[idx]) for key, val in self.encodings.items()}\n",
        "    item['labels'] = torch.tensor(self.labels[idx])\n",
        "    return item\n",
        "\n",
        "  def __len__(self):\n",
        "    return len(self.labels)\n",
        "\n",
        "train_dataset = SEC_Dataset(train_encodings, train_sub_labs)\n",
        "val_dataset = SEC_Dataset(val_encodings, val_sub_labs)\n",
        "test_dataset = SEC_Dataset(test_encodings, test_sub_labs)"
      ],
      "execution_count": null,
      "outputs": []
    },
    {
      "cell_type": "markdown",
      "metadata": {
        "id": "gaBLlkxWCKiR"
      },
      "source": [
        "## Performance metrics"
      ]
    },
    {
      "cell_type": "code",
      "metadata": {
        "id": "4-mnWTOhCL1M"
      },
      "source": [
        "# custom metrics\n",
        "def compute_metrics(eval_pred):\n",
        "  labels = eval_pred.label_ids\n",
        "  preds = eval_pred.predictions.argmax(-1)\n",
        "  lab_names = [0,1,2]\n",
        "  \n",
        "  precision, recall, f1, support = precision_recall_fscore_support(labels, preds, average ='weighted')\n",
        "  acc = accuracy_score(labels, preds)\n",
        "  print(precision_recall_fscore_support(labels, preds, average = None, labels = lab_names))\n",
        "\n",
        "  dic = {\n",
        "      'Accuracy': acc,\n",
        "      'F1': f1,\n",
        "      'Precision': precision,\n",
        "      'Recall': recall,\n",
        "      'Support': support\n",
        "  }\n",
        "  return dic"
      ],
      "execution_count": null,
      "outputs": []
    },
    {
      "cell_type": "markdown",
      "metadata": {
        "id": "yM0wlobJCP2P"
      },
      "source": [
        "## Training"
      ]
    },
    {
      "cell_type": "code",
      "metadata": {
        "id": "dWDMV8MCoCXu"
      },
      "source": [
        "# overriding trainer class to log metrics during training --> evaluate overfitting\n",
        "class MyTrainer(Trainer):\n",
        "  def __init__(self, model,\n",
        "        args = None,\n",
        "        data_collator = None,\n",
        "        train_dataset = None,\n",
        "        eval_dataset = None,\n",
        "        tokenizer = None,\n",
        "        model_init = None,\n",
        "        compute_metrics = None,\n",
        "        callbacks = None,\n",
        "        optimizers = (None,None)\n",
        "    ):\n",
        "\n",
        "    super().__init__(model, args, data_collator, train_dataset, eval_dataset, tokenizer, model_init,\n",
        "                  compute_metrics, callbacks, optimizers) \n",
        "    \n",
        "  def evaluate(\n",
        "        self,\n",
        "        train_dataset = None,\n",
        "        eval_dataset: Optional[Dataset] = None,\n",
        "        ignore_keys: Optional[List[str]] = None,\n",
        "        metric_key_prefix: str = \"eval\",\n",
        "    ) -> Dict[str, float]:\n",
        "        \n",
        "        # memory metrics - must set up as early as possible\n",
        "        self._memory_tracker.start()\n",
        "\n",
        "        if eval_dataset is not None and not isinstance(eval_dataset, collections.abc.Sized):\n",
        "            raise ValueError(\"eval_dataset must implement __len__\")\n",
        "\n",
        "        train_dataloader = self.get_train_dataloader()\n",
        "        eval_dataloader = self.get_eval_dataloader(eval_dataset)\n",
        "        start_time = time.time()\n",
        "\n",
        "        train_output = self.prediction_loop(\n",
        "            train_dataloader,\n",
        "            description = 'Training',\n",
        "            prediction_loss_only = True if self.compute_metrics is None else None,\n",
        "            ignore_keys = ignore_keys,\n",
        "            metric_key_prefix = 'train',\n",
        "            )\n",
        "\n",
        "\n",
        "        eval_output = self.prediction_loop(\n",
        "            eval_dataloader,\n",
        "            description=\"Evaluation\",\n",
        "            # No point gathering the predictions if there are no metrics, otherwise we defer to\n",
        "            # self.args.prediction_loss_only\n",
        "            prediction_loss_only=True if self.compute_metrics is None else None,\n",
        "            ignore_keys=ignore_keys,\n",
        "            metric_key_prefix=metric_key_prefix,\n",
        "        )\n",
        "        train_n_samples = len(self.train_dataset)\n",
        "        train_output.metrics.update(speed_metrics('train', start_time, train_n_samples))\n",
        "        self.log(train_output.metrics)\n",
        "\n",
        "        eval_n_samples = len(eval_dataset if eval_dataset is not None else self.eval_dataset)\n",
        "        eval_output.metrics.update(speed_metrics(metric_key_prefix, start_time, eval_n_samples))\n",
        "        self.log(eval_output.metrics)\n",
        "\n",
        "        if self.args.tpu_metrics_debug or self.args.debug:\n",
        "            # tpu-comment: Logging debug metrics for PyTorch/XLA (compile, execute times, ops, etc.)\n",
        "            xm.master_print(met.metrics_report())\n",
        "        \n",
        "        train_output.metrics['eval_loss'] = 'No log'\n",
        "        self.control = self.callback_handler.on_evaluate(self.args, self.state, self.control, eval_output.metrics)\n",
        "        self.control = self.callback_handler.on_evaluate(self.args, self.state, self.control, train_output.metrics)\n",
        "\n",
        "        self._memory_tracker.stop_and_update_metrics(train_output.metrics)\n",
        "        self._memory_tracker.stop_and_update_metrics(eval_output.metrics)\n",
        "\n",
        "        dic = {\n",
        "        'Training metrics': train_output.metrics,\n",
        "        'Validation metrics': eval_output.metrics\n",
        "        }\n",
        "\n",
        "        return dic\n",
        "\n"
      ],
      "execution_count": null,
      "outputs": []
    },
    {
      "cell_type": "markdown",
      "metadata": {
        "id": "vVGuMJDN2RNb"
      },
      "source": [
        "<b>NOTE</b> below two rows per epoch are reported since it prints one row for the evaluation, and one row for training. That's why there is no log in the second row for validation loss, and why the training loss is the same for the two rows. "
      ]
    },
    {
      "cell_type": "code",
      "metadata": {
        "colab": {
          "base_uri": "https://localhost:8080/",
          "height": 1000
        },
        "id": "SvsG51khCQ4p",
        "outputId": "6dc08f42-73c1-431e-ade0-59b2dd7bc859"
      },
      "source": [
        "training_args = TrainingArguments(\n",
        "    output_dir = 'BERT',\n",
        "    num_train_epochs = epochs,\n",
        "    do_train = True,\n",
        "    do_eval = True,\n",
        "    evaluation_strategy = 'epoch',\n",
        "    logging_strategy = 'epoch',\n",
        "    per_device_train_batch_size = batch_size,\n",
        "    per_device_eval_batch_size = batch_size,\n",
        "    warmup_steps = 250,\n",
        "    weight_decay = 0.2,\n",
        "    gradient_accumulation_steps = 3,\n",
        "    learning_rate = 1e-5,\n",
        "    fp16 = True \n",
        ")\n",
        "\n",
        "trainer = MyTrainer(\n",
        "    model = bert,\n",
        "    args = training_args,\n",
        "    train_dataset = train_dataset,\n",
        "    eval_dataset = val_dataset,\n",
        "    compute_metrics = compute_metrics\n",
        ")\n",
        "\n",
        "trainer.train()"
      ],
      "execution_count": null,
      "outputs": [
        {
          "output_type": "stream",
          "text": [
            "/usr/local/lib/python3.7/dist-packages/ipykernel_launcher.py:7: UserWarning: To copy construct from a tensor, it is recommended to use sourceTensor.clone().detach() or sourceTensor.clone().detach().requires_grad_(True), rather than torch.tensor(sourceTensor).\n",
            "  import sys\n"
          ],
          "name": "stderr"
        },
        {
          "output_type": "display_data",
          "data": {
            "text/html": [
              "\n",
              "    <div>\n",
              "      \n",
              "      <progress value='2590' max='2590' style='width:300px; height:20px; vertical-align: middle;'></progress>\n",
              "      [2590/2590 2:58:19, Epoch 10/10]\n",
              "    </div>\n",
              "    <table border=\"1\" class=\"dataframe\">\n",
              "  <thead>\n",
              "    <tr style=\"text-align: left;\">\n",
              "      <th>Epoch</th>\n",
              "      <th>Training Loss</th>\n",
              "      <th>Validation Loss</th>\n",
              "      <th>Accuracy</th>\n",
              "      <th>F1</th>\n",
              "      <th>Precision</th>\n",
              "      <th>Recall</th>\n",
              "      <th>Support</th>\n",
              "    </tr>\n",
              "  </thead>\n",
              "  <tbody>\n",
              "    <tr>\n",
              "      <td>1</td>\n",
              "      <td>1.043200</td>\n",
              "      <td>1.065484</td>\n",
              "      <td>0.459409</td>\n",
              "      <td>0.441004</td>\n",
              "      <td>0.452141</td>\n",
              "      <td>0.459409</td>\n",
              "      <td>None</td>\n",
              "    </tr>\n",
              "    <tr>\n",
              "      <td>1</td>\n",
              "      <td>1.043200</td>\n",
              "      <td>No log</td>\n",
              "      <td>0.556718</td>\n",
              "      <td>0.548049</td>\n",
              "      <td>0.566872</td>\n",
              "      <td>0.556718</td>\n",
              "      <td>None</td>\n",
              "    </tr>\n",
              "    <tr>\n",
              "      <td>2</td>\n",
              "      <td>0.846400</td>\n",
              "      <td>1.075785</td>\n",
              "      <td>0.505265</td>\n",
              "      <td>0.484164</td>\n",
              "      <td>0.509036</td>\n",
              "      <td>0.505265</td>\n",
              "      <td>None</td>\n",
              "    </tr>\n",
              "    <tr>\n",
              "      <td>2</td>\n",
              "      <td>0.846400</td>\n",
              "      <td>No log</td>\n",
              "      <td>0.710893</td>\n",
              "      <td>0.703463</td>\n",
              "      <td>0.726439</td>\n",
              "      <td>0.710893</td>\n",
              "      <td>None</td>\n",
              "    </tr>\n",
              "    <tr>\n",
              "      <td>3</td>\n",
              "      <td>0.651200</td>\n",
              "      <td>0.996068</td>\n",
              "      <td>0.570652</td>\n",
              "      <td>0.563971</td>\n",
              "      <td>0.566603</td>\n",
              "      <td>0.570652</td>\n",
              "      <td>None</td>\n",
              "    </tr>\n",
              "    <tr>\n",
              "      <td>3</td>\n",
              "      <td>0.651200</td>\n",
              "      <td>No log</td>\n",
              "      <td>0.805249</td>\n",
              "      <td>0.804922</td>\n",
              "      <td>0.808433</td>\n",
              "      <td>0.805249</td>\n",
              "      <td>None</td>\n",
              "    </tr>\n",
              "    <tr>\n",
              "      <td>4</td>\n",
              "      <td>0.529800</td>\n",
              "      <td>0.988709</td>\n",
              "      <td>0.592221</td>\n",
              "      <td>0.590958</td>\n",
              "      <td>0.594767</td>\n",
              "      <td>0.592221</td>\n",
              "      <td>None</td>\n",
              "    </tr>\n",
              "    <tr>\n",
              "      <td>4</td>\n",
              "      <td>0.529800</td>\n",
              "      <td>No log</td>\n",
              "      <td>0.839143</td>\n",
              "      <td>0.839659</td>\n",
              "      <td>0.846169</td>\n",
              "      <td>0.839143</td>\n",
              "      <td>None</td>\n",
              "    </tr>\n",
              "    <tr>\n",
              "      <td>5</td>\n",
              "      <td>0.450200</td>\n",
              "      <td>1.038999</td>\n",
              "      <td>0.605639</td>\n",
              "      <td>0.600970</td>\n",
              "      <td>0.602100</td>\n",
              "      <td>0.605639</td>\n",
              "      <td>None</td>\n",
              "    </tr>\n",
              "    <tr>\n",
              "      <td>5</td>\n",
              "      <td>0.450200</td>\n",
              "      <td>No log</td>\n",
              "      <td>0.878794</td>\n",
              "      <td>0.878524</td>\n",
              "      <td>0.878640</td>\n",
              "      <td>0.878794</td>\n",
              "      <td>None</td>\n",
              "    </tr>\n",
              "    <tr>\n",
              "      <td>6</td>\n",
              "      <td>0.385100</td>\n",
              "      <td>1.099005</td>\n",
              "      <td>0.609885</td>\n",
              "      <td>0.604747</td>\n",
              "      <td>0.611171</td>\n",
              "      <td>0.609885</td>\n",
              "      <td>None</td>\n",
              "    </tr>\n",
              "    <tr>\n",
              "      <td>6</td>\n",
              "      <td>0.385100</td>\n",
              "      <td>No log</td>\n",
              "      <td>0.891675</td>\n",
              "      <td>0.891328</td>\n",
              "      <td>0.891856</td>\n",
              "      <td>0.891675</td>\n",
              "      <td>None</td>\n",
              "    </tr>\n",
              "    <tr>\n",
              "      <td>7</td>\n",
              "      <td>0.345500</td>\n",
              "      <td>1.124913</td>\n",
              "      <td>0.618546</td>\n",
              "      <td>0.613753</td>\n",
              "      <td>0.615800</td>\n",
              "      <td>0.618546</td>\n",
              "      <td>None</td>\n",
              "    </tr>\n",
              "    <tr>\n",
              "      <td>7</td>\n",
              "      <td>0.345500</td>\n",
              "      <td>No log</td>\n",
              "      <td>0.904114</td>\n",
              "      <td>0.904049</td>\n",
              "      <td>0.904024</td>\n",
              "      <td>0.904114</td>\n",
              "      <td>None</td>\n",
              "    </tr>\n",
              "    <tr>\n",
              "      <td>8</td>\n",
              "      <td>0.312800</td>\n",
              "      <td>1.133430</td>\n",
              "      <td>0.620075</td>\n",
              "      <td>0.618157</td>\n",
              "      <td>0.617330</td>\n",
              "      <td>0.620075</td>\n",
              "      <td>None</td>\n",
              "    </tr>\n",
              "    <tr>\n",
              "      <td>8</td>\n",
              "      <td>0.312800</td>\n",
              "      <td>No log</td>\n",
              "      <td>0.906650</td>\n",
              "      <td>0.906775</td>\n",
              "      <td>0.907042</td>\n",
              "      <td>0.906650</td>\n",
              "      <td>None</td>\n",
              "    </tr>\n",
              "    <tr>\n",
              "      <td>9</td>\n",
              "      <td>0.293300</td>\n",
              "      <td>1.169703</td>\n",
              "      <td>0.624830</td>\n",
              "      <td>0.619775</td>\n",
              "      <td>0.621025</td>\n",
              "      <td>0.624830</td>\n",
              "      <td>None</td>\n",
              "    </tr>\n",
              "    <tr>\n",
              "      <td>9</td>\n",
              "      <td>0.293300</td>\n",
              "      <td>No log</td>\n",
              "      <td>0.912286</td>\n",
              "      <td>0.912244</td>\n",
              "      <td>0.912407</td>\n",
              "      <td>0.912286</td>\n",
              "      <td>None</td>\n",
              "    </tr>\n",
              "    <tr>\n",
              "      <td>10</td>\n",
              "      <td>0.276100</td>\n",
              "      <td>1.192482</td>\n",
              "      <td>0.626019</td>\n",
              "      <td>0.620563</td>\n",
              "      <td>0.622834</td>\n",
              "      <td>0.626019</td>\n",
              "      <td>None</td>\n",
              "    </tr>\n",
              "    <tr>\n",
              "      <td>10</td>\n",
              "      <td>0.276100</td>\n",
              "      <td>No log</td>\n",
              "      <td>0.915385</td>\n",
              "      <td>0.915269</td>\n",
              "      <td>0.915355</td>\n",
              "      <td>0.915385</td>\n",
              "      <td>None</td>\n",
              "    </tr>\n",
              "  </tbody>\n",
              "</table><p>"
            ],
            "text/plain": [
              "<IPython.core.display.HTML object>"
            ]
          },
          "metadata": {
            "tags": []
          }
        },
        {
          "output_type": "stream",
          "text": [
            "/usr/local/lib/python3.7/dist-packages/transformers/trainer_pt_utils.py:368: FutureWarning: DistributedTensorGatherer is deprecated and will be removed in v5 of Transformers.\n",
            "  FutureWarning,\n"
          ],
          "name": "stderr"
        },
        {
          "output_type": "stream",
          "text": [
            "(array([0.51365751, 0.59484385, 0.59856115]), array([0.68687097, 0.57936103, 0.33537569]), array([0.58776853, 0.58700036, 0.4298853 ]), array([8843, 9797, 6202]))\n"
          ],
          "name": "stdout"
        },
        {
          "output_type": "stream",
          "text": [
            "Trainer is attempting to log a value of \"None\" of type <class 'NoneType'> for key \"train/train_Support\" as a scalar. This invocation of Tensorboard's writer.add_scalar() is incorrect so we dropped this attribute.\n",
            "Trainer is attempting to log a value of \"None\" of type <class 'NoneType'> for key \"eval/Support\" as a scalar. This invocation of Tensorboard's writer.add_scalar() is incorrect so we dropped this attribute.\n"
          ],
          "name": "stderr"
        },
        {
          "output_type": "stream",
          "text": [
            "(array([0.50368236, 0.40789474, 0.41374474]), array([0.59969501, 0.49821429, 0.18611987]), array([0.54751131, 0.44855305, 0.256745  ]), array([2623, 1680, 1585]))\n"
          ],
          "name": "stdout"
        },
        {
          "output_type": "stream",
          "text": [
            "/usr/local/lib/python3.7/dist-packages/ipykernel_launcher.py:7: UserWarning: To copy construct from a tensor, it is recommended to use sourceTensor.clone().detach() or sourceTensor.clone().detach().requires_grad_(True), rather than torch.tensor(sourceTensor).\n",
            "  import sys\n",
            "/usr/local/lib/python3.7/dist-packages/transformers/trainer_pt_utils.py:368: FutureWarning: DistributedTensorGatherer is deprecated and will be removed in v5 of Transformers.\n",
            "  FutureWarning,\n"
          ],
          "name": "stderr"
        },
        {
          "output_type": "stream",
          "text": [
            "(array([0.68699229, 0.69335517, 0.83494593]), array([0.75551284, 0.82116975, 0.4730732 ]), array([0.71962516, 0.75186916, 0.60395224]), array([8843, 9797, 6202]))\n"
          ],
          "name": "stdout"
        },
        {
          "output_type": "stream",
          "text": [
            "Trainer is attempting to log a value of \"None\" of type <class 'NoneType'> for key \"train/train_Support\" as a scalar. This invocation of Tensorboard's writer.add_scalar() is incorrect so we dropped this attribute.\n",
            "Trainer is attempting to log a value of \"None\" of type <class 'NoneType'> for key \"eval/Support\" as a scalar. This invocation of Tensorboard's writer.add_scalar() is incorrect so we dropped this attribute.\n"
          ],
          "name": "stderr"
        },
        {
          "output_type": "stream",
          "text": [
            "(array([0.55397924, 0.44739057, 0.5       ]), array([0.61036981, 0.6327381 , 0.19621451]), array([0.580809  , 0.52416174, 0.28183054]), array([2623, 1680, 1585]))\n",
            "(array([0.75837031, 0.84047469, 0.82920059]), array([0.85039014, 0.81688272, 0.72250887]), array([0.80174849, 0.82851079, 0.7721868 ]), array([8843, 9797, 6202]))\n"
          ],
          "name": "stdout"
        },
        {
          "output_type": "stream",
          "text": [
            "Trainer is attempting to log a value of \"None\" of type <class 'NoneType'> for key \"train/train_Support\" as a scalar. This invocation of Tensorboard's writer.add_scalar() is incorrect so we dropped this attribute.\n",
            "Trainer is attempting to log a value of \"None\" of type <class 'NoneType'> for key \"eval/Support\" as a scalar. This invocation of Tensorboard's writer.add_scalar() is incorrect so we dropped this attribute.\n"
          ],
          "name": "stderr"
        },
        {
          "output_type": "stream",
          "text": [
            "(array([0.59337748, 0.55426582, 0.53537118]), array([0.68318719, 0.56845238, 0.38675079]), array([0.63512316, 0.56126947, 0.44908425]), array([2623, 1680, 1585]))\n"
          ],
          "name": "stdout"
        },
        {
          "output_type": "stream",
          "text": [
            "/usr/local/lib/python3.7/dist-packages/ipykernel_launcher.py:7: UserWarning: To copy construct from a tensor, it is recommended to use sourceTensor.clone().detach() or sourceTensor.clone().detach().requires_grad_(True), rather than torch.tensor(sourceTensor).\n",
            "  import sys\n",
            "/usr/local/lib/python3.7/dist-packages/transformers/trainer_pt_utils.py:368: FutureWarning: DistributedTensorGatherer is deprecated and will be removed in v5 of Transformers.\n",
            "  FutureWarning,\n"
          ],
          "name": "stderr"
        },
        {
          "output_type": "stream",
          "text": [
            "(array([0.82535631, 0.91612213, 0.76534245]), array([0.87753025, 0.78707768, 0.86665592]), array([0.85064401, 0.84671132, 0.81285444]), array([8843, 9797, 6202]))\n"
          ],
          "name": "stdout"
        },
        {
          "output_type": "stream",
          "text": [
            "Trainer is attempting to log a value of \"None\" of type <class 'NoneType'> for key \"train/train_Support\" as a scalar. This invocation of Tensorboard's writer.add_scalar() is incorrect so we dropped this attribute.\n",
            "Trainer is attempting to log a value of \"None\" of type <class 'NoneType'> for key \"eval/Support\" as a scalar. This invocation of Tensorboard's writer.add_scalar() is incorrect so we dropped this attribute.\n"
          ],
          "name": "stderr"
        },
        {
          "output_type": "stream",
          "text": [
            "(array([0.61990325, 0.64956012, 0.49509202]), array([0.68394968, 0.52738095, 0.50914826]), array([0.65035345, 0.58212878, 0.50202177]), array([2623, 1680, 1585]))\n",
            "(array([0.87702703, 0.88487921, 0.8710825 ]), array([0.8806966 , 0.90854343, 0.82908739]), array([0.87885798, 0.8965552 , 0.84956629]), array([8843, 9797, 6202]))\n"
          ],
          "name": "stdout"
        },
        {
          "output_type": "stream",
          "text": [
            "Trainer is attempting to log a value of \"None\" of type <class 'NoneType'> for key \"train/train_Support\" as a scalar. This invocation of Tensorboard's writer.add_scalar() is incorrect so we dropped this attribute.\n",
            "Trainer is attempting to log a value of \"None\" of type <class 'NoneType'> for key \"eval/Support\" as a scalar. This invocation of Tensorboard's writer.add_scalar() is incorrect so we dropped this attribute.\n"
          ],
          "name": "stderr"
        },
        {
          "output_type": "stream",
          "text": [
            "(array([0.63866145, 0.58833063, 0.55618893]), array([0.68394968, 0.64821429, 0.43091483]), array([0.66053019, 0.61682243, 0.48560256]), array([2623, 1680, 1585]))\n"
          ],
          "name": "stdout"
        },
        {
          "output_type": "stream",
          "text": [
            "/usr/local/lib/python3.7/dist-packages/ipykernel_launcher.py:7: UserWarning: To copy construct from a tensor, it is recommended to use sourceTensor.clone().detach() or sourceTensor.clone().detach().requires_grad_(True), rather than torch.tensor(sourceTensor).\n",
            "  import sys\n",
            "/usr/local/lib/python3.7/dist-packages/transformers/trainer_pt_utils.py:368: FutureWarning: DistributedTensorGatherer is deprecated and will be removed in v5 of Transformers.\n",
            "  FutureWarning,\n"
          ],
          "name": "stderr"
        },
        {
          "output_type": "stream",
          "text": [
            "(array([0.9002983 , 0.88458175, 0.89130807]), array([0.88736854, 0.92936613, 0.83827797]), array([0.89378666, 0.90642111, 0.86398006]), array([8843, 9797, 6202]))\n"
          ],
          "name": "stdout"
        },
        {
          "output_type": "stream",
          "text": [
            "Trainer is attempting to log a value of \"None\" of type <class 'NoneType'> for key \"train/train_Support\" as a scalar. This invocation of Tensorboard's writer.add_scalar() is incorrect so we dropped this attribute.\n",
            "Trainer is attempting to log a value of \"None\" of type <class 'NoneType'> for key \"eval/Support\" as a scalar. This invocation of Tensorboard's writer.add_scalar() is incorrect so we dropped this attribute.\n"
          ],
          "name": "stderr"
        },
        {
          "output_type": "stream",
          "text": [
            "(array([0.65354623, 0.5622276 , 0.59292035]), array([0.67098742, 0.69107143, 0.42271293]), array([0.66215199, 0.6200267 , 0.49355433]), array([2623, 1680, 1585]))\n",
            "(array([0.90387213, 0.91446834, 0.88774172]), array([0.90806287, 0.9199755 , 0.87342793]), array([0.90596266, 0.91721366, 0.88052666]), array([8843, 9797, 6202]))\n"
          ],
          "name": "stdout"
        },
        {
          "output_type": "stream",
          "text": [
            "Trainer is attempting to log a value of \"None\" of type <class 'NoneType'> for key \"train/train_Support\" as a scalar. This invocation of Tensorboard's writer.add_scalar() is incorrect so we dropped this attribute.\n",
            "Trainer is attempting to log a value of \"None\" of type <class 'NoneType'> for key \"eval/Support\" as a scalar. This invocation of Tensorboard's writer.add_scalar() is incorrect so we dropped this attribute.\n"
          ],
          "name": "stderr"
        },
        {
          "output_type": "stream",
          "text": [
            "(array([0.64807624, 0.59675676, 0.58257261]), array([0.69996188, 0.65714286, 0.44290221]), array([0.67302053, 0.62549575, 0.50322581]), array([2623, 1680, 1585]))\n"
          ],
          "name": "stdout"
        },
        {
          "output_type": "stream",
          "text": [
            "/usr/local/lib/python3.7/dist-packages/ipykernel_launcher.py:7: UserWarning: To copy construct from a tensor, it is recommended to use sourceTensor.clone().detach() or sourceTensor.clone().detach().requires_grad_(True), rather than torch.tensor(sourceTensor).\n",
            "  import sys\n",
            "/usr/local/lib/python3.7/dist-packages/transformers/trainer_pt_utils.py:368: FutureWarning: DistributedTensorGatherer is deprecated and will be removed in v5 of Transformers.\n",
            "  FutureWarning,\n"
          ],
          "name": "stderr"
        },
        {
          "output_type": "stream",
          "text": [
            "(array([0.91300387, 0.92500259, 0.8701705 ]), array([0.90670587, 0.91272839, 0.89696872]), array([0.90984397, 0.9188245 , 0.88336642]), array([8843, 9797, 6202]))\n"
          ],
          "name": "stdout"
        },
        {
          "output_type": "stream",
          "text": [
            "Trainer is attempting to log a value of \"None\" of type <class 'NoneType'> for key \"train/train_Support\" as a scalar. This invocation of Tensorboard's writer.add_scalar() is incorrect so we dropped this attribute.\n",
            "Trainer is attempting to log a value of \"None\" of type <class 'NoneType'> for key \"eval/Support\" as a scalar. This invocation of Tensorboard's writer.add_scalar() is incorrect so we dropped this attribute.\n"
          ],
          "name": "stderr"
        },
        {
          "output_type": "stream",
          "text": [
            "(array([0.65398551, 0.62868949, 0.5446304 ]), array([0.68814335, 0.63392857, 0.49274448]), array([0.67062976, 0.63129816, 0.51738986]), array([2623, 1680, 1585]))\n",
            "(array([0.90212251, 0.9282099 , 0.90210943]), array([0.92762637, 0.91721956, 0.88261851]), array([0.9146967 , 0.922682  , 0.89225754]), array([8843, 9797, 6202]))\n"
          ],
          "name": "stdout"
        },
        {
          "output_type": "stream",
          "text": [
            "Trainer is attempting to log a value of \"None\" of type <class 'NoneType'> for key \"train/train_Support\" as a scalar. This invocation of Tensorboard's writer.add_scalar() is incorrect so we dropped this attribute.\n",
            "Trainer is attempting to log a value of \"None\" of type <class 'NoneType'> for key \"eval/Support\" as a scalar. This invocation of Tensorboard's writer.add_scalar() is incorrect so we dropped this attribute.\n"
          ],
          "name": "stderr"
        },
        {
          "output_type": "stream",
          "text": [
            "(array([0.64414875, 0.62514484, 0.57839155]), array([0.7197865 , 0.6422619 , 0.44921136]), array([0.67987036, 0.63358779, 0.50568182]), array([2623, 1680, 1585]))\n"
          ],
          "name": "stdout"
        },
        {
          "output_type": "stream",
          "text": [
            "/usr/local/lib/python3.7/dist-packages/ipykernel_launcher.py:7: UserWarning: To copy construct from a tensor, it is recommended to use sourceTensor.clone().detach() or sourceTensor.clone().detach().requires_grad_(True), rather than torch.tensor(sourceTensor).\n",
            "  import sys\n",
            "/usr/local/lib/python3.7/dist-packages/transformers/trainer_pt_utils.py:368: FutureWarning: DistributedTensorGatherer is deprecated and will be removed in v5 of Transformers.\n",
            "  FutureWarning,\n"
          ],
          "name": "stderr"
        },
        {
          "output_type": "stream",
          "text": [
            "(array([0.91067053, 0.92190187, 0.91169092]), array([0.92457311, 0.93018271, 0.87891003]), array([0.91756916, 0.92602378, 0.89500041]), array([8843, 9797, 6202]))\n"
          ],
          "name": "stdout"
        },
        {
          "output_type": "stream",
          "text": [
            "Trainer is attempting to log a value of \"None\" of type <class 'NoneType'> for key \"train/train_Support\" as a scalar. This invocation of Tensorboard's writer.add_scalar() is incorrect so we dropped this attribute.\n",
            "Trainer is attempting to log a value of \"None\" of type <class 'NoneType'> for key \"eval/Support\" as a scalar. This invocation of Tensorboard's writer.add_scalar() is incorrect so we dropped this attribute.\n"
          ],
          "name": "stderr"
        },
        {
          "output_type": "stream",
          "text": [
            "(array([0.65117892, 0.60967565, 0.58987342]), array([0.71597408, 0.66011905, 0.44100946]), array([0.68204104, 0.6338954 , 0.50469314]), array([2623, 1680, 1585]))\n"
          ],
          "name": "stdout"
        },
        {
          "output_type": "execute_result",
          "data": {
            "text/plain": [
              "TrainOutput(global_step=2590, training_loss=0.5133533669254494, metrics={'train_runtime': 10702.8138, 'train_samples_per_second': 0.242, 'total_flos': 1698368086882800.0, 'epoch': 10.0, 'init_mem_cpu_alloc_delta': 61440, 'init_mem_gpu_alloc_delta': 439355904, 'init_mem_cpu_peaked_delta': 0, 'init_mem_gpu_peaked_delta': 0, 'train_mem_cpu_alloc_delta': -1972228096, 'train_mem_gpu_alloc_delta': 1341046784, 'train_mem_cpu_peaked_delta': 1972477952, 'train_mem_gpu_peaked_delta': 9656779776})"
            ]
          },
          "metadata": {
            "tags": []
          },
          "execution_count": 74
        }
      ]
    },
    {
      "cell_type": "code",
      "metadata": {
        "colab": {
          "base_uri": "https://localhost:8080/"
        },
        "id": "KQbikfhd2yw5",
        "outputId": "98f95176-4c1a-4848-f286-76fca44d8c2f"
      },
      "source": [
        "trainer.state.log_history"
      ],
      "execution_count": null,
      "outputs": [
        {
          "output_type": "execute_result",
          "data": {
            "text/plain": [
              "[{'epoch': 1.0,\n",
              "  'learning_rate': 9.961538461538463e-06,\n",
              "  'loss': 1.0432,\n",
              "  'step': 259},\n",
              " {'epoch': 1.0,\n",
              "  'step': 259,\n",
              "  'train_Accuracy': 0.5567184606714435,\n",
              "  'train_F1': 0.5480487990543723,\n",
              "  'train_Precision': 0.5668720215576611,\n",
              "  'train_Recall': 0.5567184606714435,\n",
              "  'train_Support': None,\n",
              "  'train_loss': 0.9318682551383972,\n",
              "  'train_runtime': 299.4548,\n",
              "  'train_samples_per_second': 82.957},\n",
              " {'epoch': 1.0,\n",
              "  'eval_Accuracy': 0.4594089673913043,\n",
              "  'eval_F1': 0.44100409678688807,\n",
              "  'eval_Precision': 0.4521412013052532,\n",
              "  'eval_Recall': 0.4594089673913043,\n",
              "  'eval_Support': None,\n",
              "  'eval_loss': 1.0654839277267456,\n",
              "  'eval_runtime': 299.4627,\n",
              "  'eval_samples_per_second': 19.662,\n",
              "  'step': 259},\n",
              " {'epoch': 2.0,\n",
              "  'learning_rate': 8.854700854700855e-06,\n",
              "  'loss': 0.8464,\n",
              "  'step': 518},\n",
              " {'epoch': 2.0,\n",
              "  'step': 518,\n",
              "  'train_Accuracy': 0.710892842766283,\n",
              "  'train_F1': 0.7034626547316261,\n",
              "  'train_Precision': 0.7264394184135554,\n",
              "  'train_Recall': 0.710892842766283,\n",
              "  'train_Support': None,\n",
              "  'train_loss': 0.6862392425537109,\n",
              "  'train_runtime': 299.4021,\n",
              "  'train_samples_per_second': 82.972},\n",
              " {'epoch': 2.0,\n",
              "  'eval_Accuracy': 0.505264945652174,\n",
              "  'eval_F1': 0.4841635732862862,\n",
              "  'eval_Precision': 0.5090359553105905,\n",
              "  'eval_Recall': 0.505264945652174,\n",
              "  'eval_Support': None,\n",
              "  'eval_loss': 1.0757845640182495,\n",
              "  'eval_runtime': 299.4047,\n",
              "  'eval_samples_per_second': 19.666,\n",
              "  'step': 518},\n",
              " {'epoch': 3.0,\n",
              "  'learning_rate': 7.74786324786325e-06,\n",
              "  'loss': 0.6512,\n",
              "  'step': 777},\n",
              " {'epoch': 3.0,\n",
              "  'step': 777,\n",
              "  'train_Accuracy': 0.8052491747846389,\n",
              "  'train_F1': 0.804922498191688,\n",
              "  'train_Precision': 0.8084333495313517,\n",
              "  'train_Recall': 0.8052491747846389,\n",
              "  'train_Support': None,\n",
              "  'train_loss': 0.49035441875457764,\n",
              "  'train_runtime': 299.3414,\n",
              "  'train_samples_per_second': 82.989},\n",
              " {'epoch': 3.0,\n",
              "  'eval_Accuracy': 0.5706521739130435,\n",
              "  'eval_F1': 0.5639706680856659,\n",
              "  'eval_Precision': 0.5666030957517492,\n",
              "  'eval_Recall': 0.5706521739130435,\n",
              "  'eval_Support': None,\n",
              "  'eval_loss': 0.9960682988166809,\n",
              "  'eval_runtime': 299.3454,\n",
              "  'eval_samples_per_second': 19.67,\n",
              "  'step': 777},\n",
              " {'epoch': 4.0,\n",
              "  'learning_rate': 6.641025641025641e-06,\n",
              "  'loss': 0.5298,\n",
              "  'step': 1036},\n",
              " {'epoch': 4.0,\n",
              "  'step': 1036,\n",
              "  'train_Accuracy': 0.839143386200789,\n",
              "  'train_F1': 0.8396586048430579,\n",
              "  'train_Precision': 0.8461689163728828,\n",
              "  'train_Recall': 0.839143386200789,\n",
              "  'train_Support': None,\n",
              "  'train_loss': 0.40827545523643494,\n",
              "  'train_runtime': 299.4085,\n",
              "  'train_samples_per_second': 82.97},\n",
              " {'epoch': 4.0,\n",
              "  'eval_Accuracy': 0.5922214673913043,\n",
              "  'eval_F1': 0.5909575346712397,\n",
              "  'eval_Precision': 0.5947669965570966,\n",
              "  'eval_Recall': 0.5922214673913043,\n",
              "  'eval_Support': None,\n",
              "  'eval_loss': 0.9887093305587769,\n",
              "  'eval_runtime': 299.4153,\n",
              "  'eval_samples_per_second': 19.665,\n",
              "  'step': 1036},\n",
              " {'epoch': 5.0,\n",
              "  'learning_rate': 5.538461538461539e-06,\n",
              "  'loss': 0.4502,\n",
              "  'step': 1295},\n",
              " {'epoch': 5.0,\n",
              "  'step': 1295,\n",
              "  'train_Accuracy': 0.8787939779405844,\n",
              "  'train_F1': 0.8785243763616815,\n",
              "  'train_Precision': 0.8786396149228539,\n",
              "  'train_Recall': 0.8787939779405844,\n",
              "  'train_Support': None,\n",
              "  'train_loss': 0.31938764452934265,\n",
              "  'train_runtime': 299.4188,\n",
              "  'train_samples_per_second': 82.967},\n",
              " {'epoch': 5.0,\n",
              "  'eval_Accuracy': 0.6056385869565217,\n",
              "  'eval_F1': 0.600970181949078,\n",
              "  'eval_Precision': 0.6020998436363224,\n",
              "  'eval_Recall': 0.6056385869565217,\n",
              "  'eval_Support': None,\n",
              "  'eval_loss': 1.038999319076538,\n",
              "  'eval_runtime': 299.4217,\n",
              "  'eval_samples_per_second': 19.665,\n",
              "  'step': 1295},\n",
              " {'epoch': 6.0,\n",
              "  'learning_rate': 4.431623931623932e-06,\n",
              "  'loss': 0.3851,\n",
              "  'step': 1554},\n",
              " {'epoch': 6.0,\n",
              "  'step': 1554,\n",
              "  'train_Accuracy': 0.8916753884550358,\n",
              "  'train_F1': 0.8913278858275677,\n",
              "  'train_Precision': 0.8918556482431134,\n",
              "  'train_Recall': 0.8916753884550358,\n",
              "  'train_Support': None,\n",
              "  'train_loss': 0.2733137607574463,\n",
              "  'train_runtime': 299.3727,\n",
              "  'train_samples_per_second': 82.98},\n",
              " {'epoch': 6.0,\n",
              "  'eval_Accuracy': 0.6098845108695652,\n",
              "  'eval_F1': 0.6047474778532942,\n",
              "  'eval_Precision': 0.6111706687797998,\n",
              "  'eval_Recall': 0.6098845108695652,\n",
              "  'eval_Support': None,\n",
              "  'eval_loss': 1.0990045070648193,\n",
              "  'eval_runtime': 299.3785,\n",
              "  'eval_samples_per_second': 19.667,\n",
              "  'step': 1554},\n",
              " {'epoch': 7.0,\n",
              "  'learning_rate': 3.324786324786325e-06,\n",
              "  'loss': 0.3455,\n",
              "  'step': 1813},\n",
              " {'epoch': 7.0,\n",
              "  'step': 1813,\n",
              "  'train_Accuracy': 0.9041140004830529,\n",
              "  'train_F1': 0.9040494443110567,\n",
              "  'train_Precision': 0.9040239023742359,\n",
              "  'train_Recall': 0.9041140004830529,\n",
              "  'train_Support': None,\n",
              "  'train_loss': 0.2405710518360138,\n",
              "  'train_runtime': 299.3606,\n",
              "  'train_samples_per_second': 82.984},\n",
              " {'epoch': 7.0,\n",
              "  'eval_Accuracy': 0.618546195652174,\n",
              "  'eval_F1': 0.6137531604942915,\n",
              "  'eval_Precision': 0.6158004302678161,\n",
              "  'eval_Recall': 0.618546195652174,\n",
              "  'eval_Support': None,\n",
              "  'eval_loss': 1.1249126195907593,\n",
              "  'eval_runtime': 299.369,\n",
              "  'eval_samples_per_second': 19.668,\n",
              "  'step': 1813},\n",
              " {'epoch': 8.0,\n",
              "  'learning_rate': 2.217948717948718e-06,\n",
              "  'loss': 0.3128,\n",
              "  'step': 2072},\n",
              " {'epoch': 8.0,\n",
              "  'step': 2072,\n",
              "  'train_Accuracy': 0.9066500281780855,\n",
              "  'train_F1': 0.9067753136121026,\n",
              "  'train_Precision': 0.9070421466489968,\n",
              "  'train_Recall': 0.9066500281780855,\n",
              "  'train_Support': None,\n",
              "  'train_loss': 0.2274634838104248,\n",
              "  'train_runtime': 299.3559,\n",
              "  'train_samples_per_second': 82.985},\n",
              " {'epoch': 8.0,\n",
              "  'eval_Accuracy': 0.6200747282608695,\n",
              "  'eval_F1': 0.6181565402556458,\n",
              "  'eval_Precision': 0.6173304218221133,\n",
              "  'eval_Recall': 0.6200747282608695,\n",
              "  'eval_Support': None,\n",
              "  'eval_loss': 1.1334296464920044,\n",
              "  'eval_runtime': 299.3584,\n",
              "  'eval_samples_per_second': 19.669,\n",
              "  'step': 2072},\n",
              " {'epoch': 9.0,\n",
              "  'learning_rate': 1.111111111111111e-06,\n",
              "  'loss': 0.2933,\n",
              "  'step': 2331},\n",
              " {'epoch': 9.0,\n",
              "  'step': 2331,\n",
              "  'train_Accuracy': 0.9122856452781579,\n",
              "  'train_F1': 0.9122437695710365,\n",
              "  'train_Precision': 0.9124073900287146,\n",
              "  'train_Recall': 0.9122856452781579,\n",
              "  'train_Support': None,\n",
              "  'train_loss': 0.21320722997188568,\n",
              "  'train_runtime': 299.4033,\n",
              "  'train_samples_per_second': 82.972},\n",
              " {'epoch': 9.0,\n",
              "  'eval_Accuracy': 0.6248301630434783,\n",
              "  'eval_F1': 0.619774647881136,\n",
              "  'eval_Precision': 0.6210251579503554,\n",
              "  'eval_Recall': 0.6248301630434783,\n",
              "  'eval_Support': None,\n",
              "  'eval_loss': 1.1697031259536743,\n",
              "  'eval_runtime': 299.4057,\n",
              "  'eval_samples_per_second': 19.666,\n",
              "  'step': 2331},\n",
              " {'epoch': 10.0,\n",
              "  'learning_rate': 4.273504273504274e-09,\n",
              "  'loss': 0.2761,\n",
              "  'step': 2590},\n",
              " {'epoch': 10.0,\n",
              "  'step': 2590,\n",
              "  'train_Accuracy': 0.9153852346831978,\n",
              "  'train_F1': 0.9152689630961366,\n",
              "  'train_Precision': 0.915354608678587,\n",
              "  'train_Recall': 0.9153852346831978,\n",
              "  'train_Support': None,\n",
              "  'train_loss': 0.20590989291667938,\n",
              "  'train_runtime': 299.1496,\n",
              "  'train_samples_per_second': 83.042},\n",
              " {'epoch': 10.0,\n",
              "  'eval_Accuracy': 0.6260190217391305,\n",
              "  'eval_F1': 0.6205632714678547,\n",
              "  'eval_Precision': 0.6228340276253566,\n",
              "  'eval_Recall': 0.6260190217391305,\n",
              "  'eval_Support': None,\n",
              "  'eval_loss': 1.1924821138381958,\n",
              "  'eval_runtime': 299.1518,\n",
              "  'eval_samples_per_second': 19.682,\n",
              "  'step': 2590},\n",
              " {'epoch': 10.0,\n",
              "  'step': 2590,\n",
              "  'total_flos': 1698368086882800.0,\n",
              "  'train_runtime': 10702.8138,\n",
              "  'train_samples_per_second': 0.242}]"
            ]
          },
          "metadata": {
            "tags": []
          },
          "execution_count": 75
        }
      ]
    },
    {
      "cell_type": "markdown",
      "metadata": {
        "id": "nY3rUW0HGrzq"
      },
      "source": [
        "## Plotting training"
      ]
    },
    {
      "cell_type": "code",
      "metadata": {
        "colab": {
          "base_uri": "https://localhost:8080/"
        },
        "id": "BM4T7EOLGtP5",
        "outputId": "a1e762b2-f516-4c3c-9415-2728edd2584f"
      },
      "source": [
        "for log_history in trainer.state.log_history:\n",
        "  print(log_history.keys())"
      ],
      "execution_count": null,
      "outputs": [
        {
          "output_type": "stream",
          "text": [
            "dict_keys(['loss', 'learning_rate', 'epoch', 'step'])\n",
            "dict_keys(['train_loss', 'train_Accuracy', 'train_F1', 'train_Precision', 'train_Recall', 'train_Support', 'train_runtime', 'train_samples_per_second', 'epoch', 'step'])\n",
            "dict_keys(['eval_loss', 'eval_Accuracy', 'eval_F1', 'eval_Precision', 'eval_Recall', 'eval_Support', 'eval_runtime', 'eval_samples_per_second', 'epoch', 'step'])\n",
            "dict_keys(['loss', 'learning_rate', 'epoch', 'step'])\n",
            "dict_keys(['train_loss', 'train_Accuracy', 'train_F1', 'train_Precision', 'train_Recall', 'train_Support', 'train_runtime', 'train_samples_per_second', 'epoch', 'step'])\n",
            "dict_keys(['eval_loss', 'eval_Accuracy', 'eval_F1', 'eval_Precision', 'eval_Recall', 'eval_Support', 'eval_runtime', 'eval_samples_per_second', 'epoch', 'step'])\n",
            "dict_keys(['loss', 'learning_rate', 'epoch', 'step'])\n",
            "dict_keys(['train_loss', 'train_Accuracy', 'train_F1', 'train_Precision', 'train_Recall', 'train_Support', 'train_runtime', 'train_samples_per_second', 'epoch', 'step'])\n",
            "dict_keys(['eval_loss', 'eval_Accuracy', 'eval_F1', 'eval_Precision', 'eval_Recall', 'eval_Support', 'eval_runtime', 'eval_samples_per_second', 'epoch', 'step'])\n",
            "dict_keys(['loss', 'learning_rate', 'epoch', 'step'])\n",
            "dict_keys(['train_loss', 'train_Accuracy', 'train_F1', 'train_Precision', 'train_Recall', 'train_Support', 'train_runtime', 'train_samples_per_second', 'epoch', 'step'])\n",
            "dict_keys(['eval_loss', 'eval_Accuracy', 'eval_F1', 'eval_Precision', 'eval_Recall', 'eval_Support', 'eval_runtime', 'eval_samples_per_second', 'epoch', 'step'])\n",
            "dict_keys(['loss', 'learning_rate', 'epoch', 'step'])\n",
            "dict_keys(['train_loss', 'train_Accuracy', 'train_F1', 'train_Precision', 'train_Recall', 'train_Support', 'train_runtime', 'train_samples_per_second', 'epoch', 'step'])\n",
            "dict_keys(['eval_loss', 'eval_Accuracy', 'eval_F1', 'eval_Precision', 'eval_Recall', 'eval_Support', 'eval_runtime', 'eval_samples_per_second', 'epoch', 'step'])\n",
            "dict_keys(['loss', 'learning_rate', 'epoch', 'step'])\n",
            "dict_keys(['train_loss', 'train_Accuracy', 'train_F1', 'train_Precision', 'train_Recall', 'train_Support', 'train_runtime', 'train_samples_per_second', 'epoch', 'step'])\n",
            "dict_keys(['eval_loss', 'eval_Accuracy', 'eval_F1', 'eval_Precision', 'eval_Recall', 'eval_Support', 'eval_runtime', 'eval_samples_per_second', 'epoch', 'step'])\n",
            "dict_keys(['loss', 'learning_rate', 'epoch', 'step'])\n",
            "dict_keys(['train_loss', 'train_Accuracy', 'train_F1', 'train_Precision', 'train_Recall', 'train_Support', 'train_runtime', 'train_samples_per_second', 'epoch', 'step'])\n",
            "dict_keys(['eval_loss', 'eval_Accuracy', 'eval_F1', 'eval_Precision', 'eval_Recall', 'eval_Support', 'eval_runtime', 'eval_samples_per_second', 'epoch', 'step'])\n",
            "dict_keys(['loss', 'learning_rate', 'epoch', 'step'])\n",
            "dict_keys(['train_loss', 'train_Accuracy', 'train_F1', 'train_Precision', 'train_Recall', 'train_Support', 'train_runtime', 'train_samples_per_second', 'epoch', 'step'])\n",
            "dict_keys(['eval_loss', 'eval_Accuracy', 'eval_F1', 'eval_Precision', 'eval_Recall', 'eval_Support', 'eval_runtime', 'eval_samples_per_second', 'epoch', 'step'])\n",
            "dict_keys(['loss', 'learning_rate', 'epoch', 'step'])\n",
            "dict_keys(['train_loss', 'train_Accuracy', 'train_F1', 'train_Precision', 'train_Recall', 'train_Support', 'train_runtime', 'train_samples_per_second', 'epoch', 'step'])\n",
            "dict_keys(['eval_loss', 'eval_Accuracy', 'eval_F1', 'eval_Precision', 'eval_Recall', 'eval_Support', 'eval_runtime', 'eval_samples_per_second', 'epoch', 'step'])\n",
            "dict_keys(['loss', 'learning_rate', 'epoch', 'step'])\n",
            "dict_keys(['train_loss', 'train_Accuracy', 'train_F1', 'train_Precision', 'train_Recall', 'train_Support', 'train_runtime', 'train_samples_per_second', 'epoch', 'step'])\n",
            "dict_keys(['eval_loss', 'eval_Accuracy', 'eval_F1', 'eval_Precision', 'eval_Recall', 'eval_Support', 'eval_runtime', 'eval_samples_per_second', 'epoch', 'step'])\n",
            "dict_keys(['train_runtime', 'train_samples_per_second', 'total_flos', 'epoch', 'step'])\n"
          ],
          "name": "stdout"
        }
      ]
    },
    {
      "cell_type": "code",
      "metadata": {
        "colab": {
          "base_uri": "https://localhost:8080/",
          "height": 353
        },
        "id": "xjW01aT3GuvN",
        "outputId": "ef19d3d4-2c3f-4a11-ec58-72803aa53d6d"
      },
      "source": [
        "sns.set_style('darkgrid')\n",
        "train_loss = []\n",
        "eval_loss = []\n",
        "eval_acc = []\n",
        "train_acc = []\n",
        "\n",
        "for log_history in trainer.state.log_history:\n",
        "\n",
        "  if 'train_loss' in log_history.keys():\n",
        "    train_loss.append(log_history['train_loss'])\n",
        "    train_acc.append(log_history['train_Accuracy'])\n",
        "    \n",
        "  elif 'eval_loss' in log_history.keys():\n",
        "    eval_loss.append(log_history['eval_loss'])\n",
        "    eval_acc.append(log_history['eval_Accuracy'])\n",
        "\n",
        "x = range(1, len(train_acc) + 1)\n",
        "plt.figure(figsize = (12,5))\n",
        "plt.subplot(1,2,1)\n",
        "plt.plot(x, train_acc, 'b', label = 'Training accuracy')\n",
        "plt.plot(x, eval_acc, 'r', label = 'Validation accuracy')\n",
        "plt.title('Training and validation accuracy')\n",
        "plt.legend()\n",
        "plt.subplot(1,2,2)\n",
        "plt.plot(x, train_loss, 'b', label = 'Training loss')\n",
        "plt.plot(x, eval_loss, 'r', label = 'Validation loss')\n",
        "plt.title('Training and validation loss')\n",
        "plt.legend()"
      ],
      "execution_count": null,
      "outputs": [
        {
          "output_type": "execute_result",
          "data": {
            "text/plain": [
              "<matplotlib.legend.Legend at 0x7fbfd57d8510>"
            ]
          },
          "metadata": {
            "tags": []
          },
          "execution_count": 77
        },
        {
          "output_type": "display_data",
          "data": {
            "image/png": "[encoded data removed]",
            "text/plain": [
              "<Figure size 864x360 with 2 Axes>"
            ]
          },
          "metadata": {
            "tags": []
          }
        }
      ]
    },
    {
      "cell_type": "code",
      "metadata": {
        "colab": {
          "base_uri": "https://localhost:8080/"
        },
        "id": "RPMROhZ_HGKj",
        "outputId": "135c073c-1a4c-410c-8ec1-704698d30b44"
      },
      "source": [
        "print(eval_loss, eval_acc)"
      ],
      "execution_count": null,
      "outputs": [
        {
          "output_type": "stream",
          "text": [
            "[1.0654839277267456, 1.0757845640182495, 0.9960682988166809, 0.9887093305587769, 1.038999319076538, 1.0990045070648193, 1.1249126195907593, 1.1334296464920044, 1.1697031259536743, 1.1924821138381958] [0.4594089673913043, 0.505264945652174, 0.5706521739130435, 0.5922214673913043, 0.6056385869565217, 0.6098845108695652, 0.618546195652174, 0.6200747282608695, 0.6248301630434783, 0.6260190217391305]\n"
          ],
          "name": "stdout"
        }
      ]
    },
    {
      "cell_type": "code",
      "metadata": {
        "colab": {
          "base_uri": "https://localhost:8080/",
          "height": 227
        },
        "id": "yMC6nmwAYoX-",
        "outputId": "c7b3292c-6736-419c-bac9-bd3378bbad99"
      },
      "source": [
        "trainer.predict(test_dataset)"
      ],
      "execution_count": null,
      "outputs": [
        {
          "output_type": "stream",
          "text": [
            "/usr/local/lib/python3.7/dist-packages/ipykernel_launcher.py:7: UserWarning: To copy construct from a tensor, it is recommended to use sourceTensor.clone().detach() or sourceTensor.clone().detach().requires_grad_(True), rather than torch.tensor(sourceTensor).\n",
            "  import sys\n"
          ],
          "name": "stderr"
        },
        {
          "output_type": "display_data",
          "data": {
            "text/html": [
              "\n",
              "    <div>\n",
              "      \n",
              "      <progress value='409' max='409' style='width:300px; height:20px; vertical-align: middle;'></progress>\n",
              "      [409/409 02:10]\n",
              "    </div>\n",
              "    "
            ],
            "text/plain": [
              "<IPython.core.display.HTML object>"
            ]
          },
          "metadata": {
            "tags": []
          }
        },
        {
          "output_type": "stream",
          "text": [
            "(array([0.55444423, 0.61829475, 0.53708958]), array([0.57506361, 0.6792804 , 0.42278239]), array([0.56456572, 0.64735442, 0.4731298 ]), array([5109, 4836, 3134]))\n"
          ],
          "name": "stdout"
        },
        {
          "output_type": "execute_result",
          "data": {
            "text/plain": [
              "PredictionOutput(predictions=array([[ 1.1682962 ,  1.8538942 , -2.420154  ],\n",
              "       [ 1.6199521 ,  1.3385397 , -2.4182038 ],\n",
              "       [-2.1470115 ,  3.0189173 , -1.3297758 ],\n",
              "       ...,\n",
              "       [ 2.1409113 , -2.7389429 ,  0.82145435],\n",
              "       [ 1.9699595 , -2.33028   ,  0.6156627 ],\n",
              "       [ 3.1488488 , -2.4010017 , -0.01001421]], dtype=float32), label_ids=array([1, 1, 1, ..., 2, 2, 2]), metrics={'test_loss': 1.4325487613677979, 'test_Accuracy': 0.5771083416163315, 'test_F1': 0.5732671469893497, 'test_Precision': 0.573894621283847, 'test_Recall': 0.5771083416163315, 'test_Support': None, 'test_runtime': 131.1943, 'test_samples_per_second': 99.692, 'test_mem_cpu_alloc_delta': 413696, 'test_mem_gpu_alloc_delta': 0, 'test_mem_cpu_peaked_delta': 0, 'test_mem_gpu_peaked_delta': 799074304})"
            ]
          },
          "metadata": {
            "tags": []
          },
          "execution_count": 79
        }
      ]
    },
    {
      "cell_type": "code",
      "metadata": {
        "id": "LLQ5pfZWLT7g"
      },
      "source": [
        ""
      ],
      "execution_count": null,
      "outputs": []
    }
  ]
}