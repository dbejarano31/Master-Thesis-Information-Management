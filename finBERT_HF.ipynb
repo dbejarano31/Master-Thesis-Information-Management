{
  "nbformat": 4,
  "nbformat_minor": 0,
  "metadata": {
    "accelerator": "GPU",
    "colab": {
      "name": "finBERT_HF.ipynb",
      "provenance": [],
      "collapsed_sections": [],
      "include_colab_link": true
    },
    "kernelspec": {
      "display_name": "Python 3",
      "name": "python3"
    },
    "language_info": {
      "name": "python"
    }
  },
  "cells": [
    {
      "cell_type": "markdown",
      "metadata": {
        "id": "view-in-github",
        "colab_type": "text"
      },
      "source": [
        "<a href=\"https://colab.research.google.com/github/dbejarano31/Master-Thesis-Information-Management/blob/main/finBERT_HF.ipynb\" target=\"_parent\"><img src=\"https://colab.research.google.com/assets/colab-badge.svg\" alt=\"Open In Colab\"/></a>"
      ]
    },
    {
      "cell_type": "markdown",
      "metadata": {
        "id": "kFmPBOejxPjS"
      },
      "source": [
        "#FinBERT"
      ]
    },
    {
      "cell_type": "markdown",
      "metadata": {
        "id": "t8OMNeunxaPh"
      },
      "source": [
        "In this notebook we try the pre-trained FinBERT model by [Araci, 2019](https://arxiv.org/abs/1908.10063). FinBERT is pre-trained on the TRC2 news dataset from Reuters and the Financial PhraseBank dataset. We download the pre-trained model from the HuggingFace transformers library, [see here](https://huggingface.co/ProsusAI/finbert).\n",
        "<br></br>\n",
        "To access the dataset, [see here](https://drive.google.com/file/d/1o1BMTTU9YNPATL8x93l0N-h6sTZxLyDo/view?usp=sharing). "
      ]
    },
    {
      "cell_type": "markdown",
      "metadata": {
        "id": "i15FipMIg_J8"
      },
      "source": [
        "## Imports"
      ]
    },
    {
      "cell_type": "code",
      "metadata": {
        "colab": {
          "base_uri": "https://localhost:8080/"
        },
        "id": "37MNJzteZ7eS",
        "outputId": "df133da7-21fa-4e96-c951-b24e839773b4"
      },
      "source": [
        "!pip install git+https://github.com/huggingface/transformers\n",
        "!pip install ray[tune]"
      ],
      "execution_count": null,
      "outputs": [
        {
          "output_type": "stream",
          "text": [
            "Collecting git+https://github.com/huggingface/transformers\n",
            "  Cloning https://github.com/huggingface/transformers to /tmp/pip-req-build-r00jrm_j\n",
            "  Running command git clone -q https://github.com/huggingface/transformers /tmp/pip-req-build-r00jrm_j\n",
            "  Installing build dependencies ... \u001b[?25l\u001b[?25hdone\n",
            "  Getting requirements to build wheel ... \u001b[?25l\u001b[?25hdone\n",
            "    Preparing wheel metadata ... \u001b[?25l\u001b[?25hdone\n",
            "Requirement already satisfied (use --upgrade to upgrade): transformers==4.6.0.dev0 from git+https://github.com/huggingface/transformers in /usr/local/lib/python3.7/dist-packages\n",
            "Requirement already satisfied: tqdm>=4.27 in /usr/local/lib/python3.7/dist-packages (from transformers==4.6.0.dev0) (4.41.1)\n",
            "Requirement already satisfied: packaging in /usr/local/lib/python3.7/dist-packages (from transformers==4.6.0.dev0) (20.9)\n",
            "Requirement already satisfied: regex!=2019.12.17 in /usr/local/lib/python3.7/dist-packages (from transformers==4.6.0.dev0) (2019.12.20)\n",
            "Requirement already satisfied: requests in /usr/local/lib/python3.7/dist-packages (from transformers==4.6.0.dev0) (2.23.0)\n",
            "Requirement already satisfied: huggingface-hub==0.0.8 in /usr/local/lib/python3.7/dist-packages (from transformers==4.6.0.dev0) (0.0.8)\n",
            "Requirement already satisfied: sacremoses in /usr/local/lib/python3.7/dist-packages (from transformers==4.6.0.dev0) (0.0.45)\n",
            "Requirement already satisfied: importlib-metadata; python_version < \"3.8\" in /usr/local/lib/python3.7/dist-packages (from transformers==4.6.0.dev0) (3.10.1)\n",
            "Requirement already satisfied: tokenizers<0.11,>=0.10.1 in /usr/local/lib/python3.7/dist-packages (from transformers==4.6.0.dev0) (0.10.2)\n",
            "Requirement already satisfied: filelock in /usr/local/lib/python3.7/dist-packages (from transformers==4.6.0.dev0) (3.0.12)\n",
            "Requirement already satisfied: numpy>=1.17 in /usr/local/lib/python3.7/dist-packages (from transformers==4.6.0.dev0) (1.19.5)\n",
            "Requirement already satisfied: pyparsing>=2.0.2 in /usr/local/lib/python3.7/dist-packages (from packaging->transformers==4.6.0.dev0) (2.4.7)\n",
            "Requirement already satisfied: urllib3!=1.25.0,!=1.25.1,<1.26,>=1.21.1 in /usr/local/lib/python3.7/dist-packages (from requests->transformers==4.6.0.dev0) (1.24.3)\n",
            "Requirement already satisfied: chardet<4,>=3.0.2 in /usr/local/lib/python3.7/dist-packages (from requests->transformers==4.6.0.dev0) (3.0.4)\n",
            "Requirement already satisfied: idna<3,>=2.5 in /usr/local/lib/python3.7/dist-packages (from requests->transformers==4.6.0.dev0) (2.10)\n",
            "Requirement already satisfied: certifi>=2017.4.17 in /usr/local/lib/python3.7/dist-packages (from requests->transformers==4.6.0.dev0) (2020.12.5)\n",
            "Requirement already satisfied: six in /usr/local/lib/python3.7/dist-packages (from sacremoses->transformers==4.6.0.dev0) (1.15.0)\n",
            "Requirement already satisfied: click in /usr/local/lib/python3.7/dist-packages (from sacremoses->transformers==4.6.0.dev0) (7.1.2)\n",
            "Requirement already satisfied: joblib in /usr/local/lib/python3.7/dist-packages (from sacremoses->transformers==4.6.0.dev0) (1.0.1)\n",
            "Requirement already satisfied: zipp>=0.5 in /usr/local/lib/python3.7/dist-packages (from importlib-metadata; python_version < \"3.8\"->transformers==4.6.0.dev0) (3.4.1)\n",
            "Requirement already satisfied: typing-extensions>=3.6.4; python_version < \"3.8\" in /usr/local/lib/python3.7/dist-packages (from importlib-metadata; python_version < \"3.8\"->transformers==4.6.0.dev0) (3.7.4.3)\n",
            "Building wheels for collected packages: transformers\n",
            "  Building wheel for transformers (PEP 517) ... \u001b[?25l\u001b[?25hdone\n",
            "  Created wheel for transformers: filename=transformers-4.6.0.dev0-cp37-none-any.whl size=2168830 sha256=b29c9746292edf72e3779a7721388866fedbee1fe692e815bb4f7af9ae6d1cbe\n",
            "  Stored in directory: /tmp/pip-ephem-wheel-cache-d6hxff59/wheels/70/d3/52/b3fa4f8b8ef04167ac62e5bb2accb62ae764db2a378247490e\n",
            "Successfully built transformers\n",
            "Requirement already satisfied: ray[tune] in /usr/local/lib/python3.7/dist-packages (1.3.0)\n",
            "Requirement already satisfied: jsonschema in /usr/local/lib/python3.7/dist-packages (from ray[tune]) (2.6.0)\n",
            "Requirement already satisfied: redis>=3.5.0 in /usr/local/lib/python3.7/dist-packages (from ray[tune]) (3.5.3)\n",
            "Requirement already satisfied: filelock in /usr/local/lib/python3.7/dist-packages (from ray[tune]) (3.0.12)\n",
            "Requirement already satisfied: colorama in /usr/local/lib/python3.7/dist-packages (from ray[tune]) (0.4.4)\n",
            "Requirement already satisfied: pyyaml in /usr/local/lib/python3.7/dist-packages (from ray[tune]) (3.13)\n",
            "Requirement already satisfied: opencensus in /usr/local/lib/python3.7/dist-packages (from ray[tune]) (0.7.12)\n",
            "Requirement already satisfied: numpy>=1.16 in /usr/local/lib/python3.7/dist-packages (from ray[tune]) (1.19.5)\n",
            "Requirement already satisfied: prometheus-client>=0.7.1 in /usr/local/lib/python3.7/dist-packages (from ray[tune]) (0.10.1)\n",
            "Requirement already satisfied: gpustat in /usr/local/lib/python3.7/dist-packages (from ray[tune]) (0.6.0)\n",
            "Requirement already satisfied: protobuf>=3.15.3 in /usr/local/lib/python3.7/dist-packages (from ray[tune]) (3.15.8)\n",
            "Requirement already satisfied: aiohttp-cors in /usr/local/lib/python3.7/dist-packages (from ray[tune]) (0.7.0)\n",
            "Requirement already satisfied: click>=7.0 in /usr/local/lib/python3.7/dist-packages (from ray[tune]) (7.1.2)\n",
            "Requirement already satisfied: grpcio>=1.28.1 in /usr/local/lib/python3.7/dist-packages (from ray[tune]) (1.32.0)\n",
            "Requirement already satisfied: requests in /usr/local/lib/python3.7/dist-packages (from ray[tune]) (2.23.0)\n",
            "Requirement already satisfied: py-spy>=0.2.0 in /usr/local/lib/python3.7/dist-packages (from ray[tune]) (0.3.5)\n",
            "Requirement already satisfied: aiohttp in /usr/local/lib/python3.7/dist-packages (from ray[tune]) (3.7.4.post0)\n",
            "Requirement already satisfied: msgpack<2.0.0,>=1.0.0 in /usr/local/lib/python3.7/dist-packages (from ray[tune]) (1.0.2)\n",
            "Requirement already satisfied: aioredis in /usr/local/lib/python3.7/dist-packages (from ray[tune]) (1.3.1)\n",
            "Requirement already satisfied: tensorboardX; extra == \"tune\" in /usr/local/lib/python3.7/dist-packages (from ray[tune]) (2.2)\n",
            "Requirement already satisfied: pandas; extra == \"tune\" in /usr/local/lib/python3.7/dist-packages (from ray[tune]) (1.1.5)\n",
            "Requirement already satisfied: tabulate; extra == \"tune\" in /usr/local/lib/python3.7/dist-packages (from ray[tune]) (0.8.9)\n",
            "Requirement already satisfied: opencensus-context==0.1.2 in /usr/local/lib/python3.7/dist-packages (from opencensus->ray[tune]) (0.1.2)\n",
            "Requirement already satisfied: google-api-core<2.0.0,>=1.0.0 in /usr/local/lib/python3.7/dist-packages (from opencensus->ray[tune]) (1.26.3)\n",
            "Requirement already satisfied: nvidia-ml-py3>=7.352.0 in /usr/local/lib/python3.7/dist-packages (from gpustat->ray[tune]) (7.352.0)\n",
            "Requirement already satisfied: blessings>=1.6 in /usr/local/lib/python3.7/dist-packages (from gpustat->ray[tune]) (1.7)\n",
            "Requirement already satisfied: six>=1.7 in /usr/local/lib/python3.7/dist-packages (from gpustat->ray[tune]) (1.15.0)\n",
            "Requirement already satisfied: psutil in /usr/local/lib/python3.7/dist-packages (from gpustat->ray[tune]) (5.4.8)\n",
            "Requirement already satisfied: idna<3,>=2.5 in /usr/local/lib/python3.7/dist-packages (from requests->ray[tune]) (2.10)\n",
            "Requirement already satisfied: chardet<4,>=3.0.2 in /usr/local/lib/python3.7/dist-packages (from requests->ray[tune]) (3.0.4)\n",
            "Requirement already satisfied: certifi>=2017.4.17 in /usr/local/lib/python3.7/dist-packages (from requests->ray[tune]) (2020.12.5)\n",
            "Requirement already satisfied: urllib3!=1.25.0,!=1.25.1,<1.26,>=1.21.1 in /usr/local/lib/python3.7/dist-packages (from requests->ray[tune]) (1.24.3)\n",
            "Requirement already satisfied: multidict<7.0,>=4.5 in /usr/local/lib/python3.7/dist-packages (from aiohttp->ray[tune]) (5.1.0)\n",
            "Requirement already satisfied: attrs>=17.3.0 in /usr/local/lib/python3.7/dist-packages (from aiohttp->ray[tune]) (20.3.0)\n",
            "Requirement already satisfied: yarl<2.0,>=1.0 in /usr/local/lib/python3.7/dist-packages (from aiohttp->ray[tune]) (1.6.3)\n",
            "Requirement already satisfied: typing-extensions>=3.6.5 in /usr/local/lib/python3.7/dist-packages (from aiohttp->ray[tune]) (3.7.4.3)\n",
            "Requirement already satisfied: async-timeout<4.0,>=3.0 in /usr/local/lib/python3.7/dist-packages (from aiohttp->ray[tune]) (3.0.1)\n",
            "Requirement already satisfied: hiredis in /usr/local/lib/python3.7/dist-packages (from aioredis->ray[tune]) (2.0.0)\n",
            "Requirement already satisfied: python-dateutil>=2.7.3 in /usr/local/lib/python3.7/dist-packages (from pandas; extra == \"tune\"->ray[tune]) (2.8.1)\n",
            "Requirement already satisfied: pytz>=2017.2 in /usr/local/lib/python3.7/dist-packages (from pandas; extra == \"tune\"->ray[tune]) (2018.9)\n",
            "Requirement already satisfied: googleapis-common-protos<2.0dev,>=1.6.0 in /usr/local/lib/python3.7/dist-packages (from google-api-core<2.0.0,>=1.0.0->opencensus->ray[tune]) (1.53.0)\n",
            "Requirement already satisfied: google-auth<2.0dev,>=1.21.1 in /usr/local/lib/python3.7/dist-packages (from google-api-core<2.0.0,>=1.0.0->opencensus->ray[tune]) (1.28.1)\n",
            "Requirement already satisfied: packaging>=14.3 in /usr/local/lib/python3.7/dist-packages (from google-api-core<2.0.0,>=1.0.0->opencensus->ray[tune]) (20.9)\n",
            "Requirement already satisfied: setuptools>=40.3.0 in /usr/local/lib/python3.7/dist-packages (from google-api-core<2.0.0,>=1.0.0->opencensus->ray[tune]) (56.0.0)\n",
            "Requirement already satisfied: cachetools<5.0,>=2.0.0 in /usr/local/lib/python3.7/dist-packages (from google-auth<2.0dev,>=1.21.1->google-api-core<2.0.0,>=1.0.0->opencensus->ray[tune]) (4.2.1)\n",
            "Requirement already satisfied: rsa<5,>=3.1.4; python_version >= \"3.6\" in /usr/local/lib/python3.7/dist-packages (from google-auth<2.0dev,>=1.21.1->google-api-core<2.0.0,>=1.0.0->opencensus->ray[tune]) (4.7.2)\n",
            "Requirement already satisfied: pyasn1-modules>=0.2.1 in /usr/local/lib/python3.7/dist-packages (from google-auth<2.0dev,>=1.21.1->google-api-core<2.0.0,>=1.0.0->opencensus->ray[tune]) (0.2.8)\n",
            "Requirement already satisfied: pyparsing>=2.0.2 in /usr/local/lib/python3.7/dist-packages (from packaging>=14.3->google-api-core<2.0.0,>=1.0.0->opencensus->ray[tune]) (2.4.7)\n",
            "Requirement already satisfied: pyasn1>=0.1.3 in /usr/local/lib/python3.7/dist-packages (from rsa<5,>=3.1.4; python_version >= \"3.6\"->google-auth<2.0dev,>=1.21.1->google-api-core<2.0.0,>=1.0.0->opencensus->ray[tune]) (0.4.8)\n"
          ],
          "name": "stdout"
        }
      ]
    },
    {
      "cell_type": "code",
      "metadata": {
        "colab": {
          "base_uri": "https://localhost:8080/"
        },
        "id": "5y-PYu7AxACc",
        "outputId": "028edd12-fd7e-4c32-b255-a358deb1effd"
      },
      "source": [
        "#!pip install transformers\n",
        "from typing import TYPE_CHECKING, Any, Callable, Dict, List, Optional, Tuple, Union\n",
        "import pandas as pd\n",
        "import numpy as np\n",
        "import math\n",
        "import time\n",
        "\n",
        "import nltk\n",
        "from nltk.corpus import stopwords\n",
        "from nltk.tokenize import word_tokenize\n",
        "import string\n",
        "nltk.download('stopwords')\n",
        "nltk.download('punkt')\n",
        "\n",
        "import matplotlib.pyplot as plt\n",
        "import seaborn as sns\n",
        "\n",
        "import os\n",
        "\n",
        "from transformers.utils import *\n",
        "from transformers.data.data_collator import DataCollator, DataCollatorWithPadding, default_data_collator\n",
        "from transformers.file_utils import (\n",
        "    WEIGHTS_NAME,\n",
        "    is_apex_available,\n",
        "    is_datasets_available,\n",
        "    is_in_notebook,\n",
        "    is_sagemaker_dp_enabled,\n",
        "    is_sagemaker_mp_enabled,\n",
        "    is_torch_tpu_available,\n",
        "    is_training_run_on_sagemaker,\n",
        ")\n",
        "from transformers.modeling_utils import PreTrainedModel, unwrap_model\n",
        "from transformers.optimization import Adafactor, AdamW, get_scheduler\n",
        "from transformers.tokenization_utils_base import PreTrainedTokenizerBase\n",
        "from transformers.trainer_callback import (\n",
        "    CallbackHandler,\n",
        "    DefaultFlowCallback,\n",
        "    PrinterCallback,\n",
        "    ProgressCallback,\n",
        "    TrainerCallback,\n",
        "    TrainerControl,\n",
        "    TrainerState,\n",
        ")\n",
        "from transformers.trainer_utils import (\n",
        "    PREFIX_CHECKPOINT_DIR,\n",
        "    BestRun,\n",
        "    EvalPrediction,\n",
        "    HPSearchBackend,\n",
        "    PredictionOutput,\n",
        "    ShardedDDPOption,\n",
        "    TrainerMemoryTracker,\n",
        "    TrainOutput,\n",
        "    default_compute_objective,\n",
        "    default_hp_space,\n",
        "    denumpify_detensorize,\n",
        "    get_last_checkpoint,\n",
        "    set_seed,\n",
        "    speed_metrics,\n",
        ")\n",
        "from transformers.training_args import ParallelMode, TrainingArguments\n",
        "from transformers.utils import logging\n",
        "from transformers.utils.modeling_auto_mapping import MODEL_FOR_QUESTION_ANSWERING_MAPPING_NAMES \n",
        "import torch\n",
        "import tensorflow as tf\n",
        "from transformers import AutoModelForSequenceClassification, AutoTokenizer, TrainingArguments, Trainer\n",
        "import tensorflow_hub as hub\n",
        "\n",
        "from sklearn.feature_extraction.text import CountVectorizer\n",
        "from sklearn.metrics import accuracy_score, precision_recall_fscore_support\n",
        "from sklearn.model_selection import train_test_split\n",
        "\n",
        "\n",
        "\n",
        "from torch.utils.data.dataset import Dataset\n",
        "\n"
      ],
      "execution_count": null,
      "outputs": [
        {
          "output_type": "stream",
          "text": [
            "[nltk_data] Downloading package stopwords to /root/nltk_data...\n",
            "[nltk_data]   Package stopwords is already up-to-date!\n",
            "[nltk_data] Downloading package punkt to /root/nltk_data...\n",
            "[nltk_data]   Package punkt is already up-to-date!\n"
          ],
          "name": "stdout"
        }
      ]
    },
    {
      "cell_type": "markdown",
      "metadata": {
        "id": "rTBXfqYHBtCY"
      },
      "source": [
        "## Connecting to cloud hardware"
      ]
    },
    {
      "cell_type": "markdown",
      "metadata": {
        "id": "28oBLUsSaLh6"
      },
      "source": [
        "Edit > Notebook Settings > Hardware accelerator"
      ]
    },
    {
      "cell_type": "code",
      "metadata": {
        "colab": {
          "base_uri": "https://localhost:8080/"
        },
        "id": "zhpQoksBxHO3",
        "outputId": "cf904a58-ab8a-4943-8523-12b88ff843d8"
      },
      "source": [
        "device_name = tf.test.gpu_device_name()\n",
        "if device_name == '/device:GPU:0':\n",
        "  print('Found GPU at: {}'.format(device_name))\n",
        "else:\n",
        "  raise SystemError('GPU device not found')"
      ],
      "execution_count": null,
      "outputs": [
        {
          "output_type": "stream",
          "text": [
            "Found GPU at: /device:GPU:0\n"
          ],
          "name": "stdout"
        }
      ]
    },
    {
      "cell_type": "code",
      "metadata": {
        "colab": {
          "base_uri": "https://localhost:8080/"
        },
        "id": "cMrXcwA8xZ9X",
        "outputId": "9b0ab330-eab5-4085-dc6f-7c31f55b0787"
      },
      "source": [
        "if torch.cuda.is_available():\n",
        "  device = torch.device(\"cuda\")\n",
        "  print('There are %d GPU(s) available' % torch.cuda.device_count())\n",
        "  print('We will use the GPU:', torch.cuda.get_device_name(0))\n",
        "else:\n",
        "  print('No GPU available, using CPU')\n",
        "  device = torch.device(\"cpu\")"
      ],
      "execution_count": null,
      "outputs": [
        {
          "output_type": "stream",
          "text": [
            "There are 1 GPU(s) available\n",
            "We will use the GPU: Tesla T4\n"
          ],
          "name": "stdout"
        }
      ]
    },
    {
      "cell_type": "markdown",
      "metadata": {
        "id": "d02BmPnV63Ri"
      },
      "source": [
        "## Importing data"
      ]
    },
    {
      "cell_type": "code",
      "metadata": {
        "colab": {
          "base_uri": "https://localhost:8080/"
        },
        "id": "NIBF-VVvxJxM",
        "outputId": "576c84aa-2ab8-4a3c-d3e1-abfab0a73fa9"
      },
      "source": [
        "df = pd.read_csv('/content/final_consolidated_data')\n",
        "df.head()"
      ],
      "execution_count": null,
      "outputs": [
        {
          "output_type": "execute_result",
          "data": {
            "text/html": [
              "<div>\n",
              "<style scoped>\n",
              "    .dataframe tbody tr th:only-of-type {\n",
              "        vertical-align: middle;\n",
              "    }\n",
              "\n",
              "    .dataframe tbody tr th {\n",
              "        vertical-align: top;\n",
              "    }\n",
              "\n",
              "    .dataframe thead th {\n",
              "        text-align: right;\n",
              "    }\n",
              "</style>\n",
              "<table border=\"1\" class=\"dataframe\">\n",
              "  <thead>\n",
              "    <tr style=\"text-align: right;\">\n",
              "      <th></th>\n",
              "      <th>Unnamed: 0</th>\n",
              "      <th>CIK Code</th>\n",
              "      <th>Filing</th>\n",
              "      <th>Date Filed</th>\n",
              "      <th>Ticker</th>\n",
              "      <th>CompanyName</th>\n",
              "      <th>PrevAvgPriceChange</th>\n",
              "      <th>PostAvgPriceChange</th>\n",
              "      <th>Label</th>\n",
              "    </tr>\n",
              "  </thead>\n",
              "  <tbody>\n",
              "    <tr>\n",
              "      <th>0</th>\n",
              "      <td>0</td>\n",
              "      <td>1680378</td>\n",
              "      <td>Investing in ourshares of common stock involve...</td>\n",
              "      <td>2021-03-18</td>\n",
              "      <td>SNES</td>\n",
              "      <td>SenesTech, Inc.</td>\n",
              "      <td>0.001328</td>\n",
              "      <td>-0.003177</td>\n",
              "      <td>decrease</td>\n",
              "    </tr>\n",
              "    <tr>\n",
              "      <th>1</th>\n",
              "      <td>1</td>\n",
              "      <td>1222719</td>\n",
              "      <td>Investing in any of our securities involves ri...</td>\n",
              "      <td>2021-01-31</td>\n",
              "      <td>CHY</td>\n",
              "      <td>CALAMOS CONVERTIBLE &amp; HIGH INCOME FUND</td>\n",
              "      <td>0.004126</td>\n",
              "      <td>0.006552</td>\n",
              "      <td>neutral</td>\n",
              "    </tr>\n",
              "    <tr>\n",
              "      <th>2</th>\n",
              "      <td>2</td>\n",
              "      <td>1364954</td>\n",
              "      <td>An investment in our securities involves a hig...</td>\n",
              "      <td>2021-04-03</td>\n",
              "      <td>CHGG</td>\n",
              "      <td>CHEGG, INC</td>\n",
              "      <td>0.065078</td>\n",
              "      <td>0.011987</td>\n",
              "      <td>neutral</td>\n",
              "    </tr>\n",
              "    <tr>\n",
              "      <th>3</th>\n",
              "      <td>3</td>\n",
              "      <td>1674930</td>\n",
              "      <td>Investing in our common stock involves risk. B...</td>\n",
              "      <td>2020-08-12</td>\n",
              "      <td>FLGT</td>\n",
              "      <td>Fulgent Genetics, Inc.</td>\n",
              "      <td>0.412805</td>\n",
              "      <td>0.058477</td>\n",
              "      <td>neutral</td>\n",
              "    </tr>\n",
              "    <tr>\n",
              "      <th>4</th>\n",
              "      <td>4</td>\n",
              "      <td>1409375</td>\n",
              "      <td>Investing in our common stock involves a high ...</td>\n",
              "      <td>2021-03-10</td>\n",
              "      <td>OESX</td>\n",
              "      <td>ORION ENERGY SYSTEMS, INC.</td>\n",
              "      <td>-0.046603</td>\n",
              "      <td>-0.002521</td>\n",
              "      <td>neutral</td>\n",
              "    </tr>\n",
              "  </tbody>\n",
              "</table>\n",
              "</div>"
            ],
            "text/plain": [
              "   Unnamed: 0  CIK Code  ... PostAvgPriceChange     Label\n",
              "0           0   1680378  ...          -0.003177  decrease\n",
              "1           1   1222719  ...           0.006552   neutral\n",
              "2           2   1364954  ...           0.011987   neutral\n",
              "3           3   1674930  ...           0.058477   neutral\n",
              "4           4   1409375  ...          -0.002521   neutral\n",
              "\n",
              "[5 rows x 9 columns]"
            ]
          },
          "metadata": {
            "tags": []
          },
          "execution_count": 4
        }
      ]
    },
    {
      "cell_type": "code",
      "metadata": {
        "colab": {
          "base_uri": "https://localhost:8080/"
        },
        "id": "MSrHxOfV6NJB",
        "outputId": "135cd3c0-f2de-4b66-a7ab-1a5887f29fdc"
      },
      "source": [
        "df.drop(columns = 'Unnamed: 0', inplace = True)\n",
        "df.dropna(axis = 0, how = 'any', inplace = True)\n",
        "df.info()"
      ],
      "execution_count": null,
      "outputs": [
        {
          "output_type": "stream",
          "text": [
            "<class 'pandas.core.frame.DataFrame'>\n",
            "Int64Index: 1350 entries, 0 to 1349\n",
            "Data columns (total 8 columns):\n",
            " #   Column              Non-Null Count  Dtype  \n",
            "---  ------              --------------  -----  \n",
            " 0   CIK Code            1350 non-null   int64  \n",
            " 1   Filing              1350 non-null   object \n",
            " 2   Date Filed          1350 non-null   object \n",
            " 3   Ticker              1350 non-null   object \n",
            " 4   CompanyName         1350 non-null   object \n",
            " 5   PrevAvgPriceChange  1350 non-null   float64\n",
            " 6   PostAvgPriceChange  1350 non-null   float64\n",
            " 7   Label               1350 non-null   object \n",
            "dtypes: float64(2), int64(1), object(5)\n",
            "memory usage: 94.9+ KB\n"
          ],
          "name": "stdout"
        }
      ]
    },
    {
      "cell_type": "markdown",
      "metadata": {
        "id": "tAMDRFq-9EjI"
      },
      "source": [
        "## Configuration of parameters"
      ]
    },
    {
      "cell_type": "code",
      "metadata": {
        "id": "KMwgQ1di9CvK"
      },
      "source": [
        "finbert = AutoModelForSequenceClassification.from_pretrained('ProsusAI/finbert', cache_dir = None, num_labels = 3)\n",
        "config = finbert.config"
      ],
      "execution_count": null,
      "outputs": []
    },
    {
      "cell_type": "code",
      "metadata": {
        "colab": {
          "base_uri": "https://localhost:8080/"
        },
        "id": "_3WiEnlaks8U",
        "outputId": "27706241-62d8-410c-e6d4-2a9c251024f9"
      },
      "source": [
        "config.hidden_dropout_prob = 0.5\n",
        "config.layer_norm_eps = 0.01\n",
        "max_seq_length = config.max_position_embeddings = 200\n",
        "config.id2label[0] = 'decrease'\n",
        "config.id2label[1] = 'neutral'\n",
        "config.id2label[2] = 'increase'\n",
        "config.label2id['decrease'] = 0\n",
        "config.label2id['neutral'] = 1\n",
        "config.label2id['increase'] = 2\n",
        "del config.label2id['negative']\n",
        "del config.label2id['positive']\n",
        "config"
      ],
      "execution_count": null,
      "outputs": [
        {
          "output_type": "execute_result",
          "data": {
            "text/plain": [
              "BertConfig {\n",
              "  \"_name_or_path\": \"ProsusAI/finbert\",\n",
              "  \"architectures\": [\n",
              "    \"BertForSequenceClassification\"\n",
              "  ],\n",
              "  \"attention_probs_dropout_prob\": 0.1,\n",
              "  \"gradient_checkpointing\": false,\n",
              "  \"hidden_act\": \"gelu\",\n",
              "  \"hidden_dropout_prob\": 0.5,\n",
              "  \"hidden_size\": 768,\n",
              "  \"id2label\": {\n",
              "    \"0\": \"decrease\",\n",
              "    \"1\": \"neutral\",\n",
              "    \"2\": \"increase\"\n",
              "  },\n",
              "  \"initializer_range\": 0.02,\n",
              "  \"intermediate_size\": 3072,\n",
              "  \"label2id\": {\n",
              "    \"decrease\": 0,\n",
              "    \"increase\": 2,\n",
              "    \"neutral\": 1\n",
              "  },\n",
              "  \"layer_norm_eps\": 0.01,\n",
              "  \"max_position_embeddings\": 200,\n",
              "  \"model_type\": \"bert\",\n",
              "  \"num_attention_heads\": 12,\n",
              "  \"num_hidden_layers\": 12,\n",
              "  \"pad_token_id\": 0,\n",
              "  \"position_embedding_type\": \"absolute\",\n",
              "  \"transformers_version\": \"4.6.0.dev0\",\n",
              "  \"type_vocab_size\": 2,\n",
              "  \"use_cache\": true,\n",
              "  \"vocab_size\": 30522\n",
              "}"
            ]
          },
          "metadata": {
            "tags": []
          },
          "execution_count": 7
        }
      ]
    },
    {
      "cell_type": "code",
      "metadata": {
        "id": "Df_beR5TF-tr"
      },
      "source": [
        "from transformers import AutoTokenizer\n",
        "tokenizer = AutoTokenizer.from_pretrained('ProsusAI/finbert')"
      ],
      "execution_count": null,
      "outputs": []
    },
    {
      "cell_type": "code",
      "metadata": {
        "id": "AYKdjibZLlt9"
      },
      "source": [
        "batch_size = 32\n",
        "epochs = 5\n",
        "lr = 1e-5"
      ],
      "execution_count": null,
      "outputs": []
    },
    {
      "cell_type": "markdown",
      "metadata": {
        "id": "YazbbX08D_46"
      },
      "source": [
        "## Data pre-processing"
      ]
    },
    {
      "cell_type": "code",
      "metadata": {
        "id": "AjFkwMmLqyuv"
      },
      "source": [
        "# Stop word removal\n",
        "def remove_stopwords(text):\n",
        "  filtered = []\n",
        "  stop_words = set(stopwords.words('english'))\n",
        "  word_tokens = word_tokenize(text)\n",
        "  for w in word_tokens:\n",
        "    if w not in stop_words:\n",
        "      filtered.append(w)\n",
        "  filtered_doc = ' '.join(str(i) for i in filtered)\n",
        "  return filtered_doc"
      ],
      "execution_count": null,
      "outputs": []
    },
    {
      "cell_type": "code",
      "metadata": {
        "id": "MTYb6yMiq2Ng"
      },
      "source": [
        "df['Filing'] = df['Filing'].apply(lambda x: remove_stopwords(x))"
      ],
      "execution_count": null,
      "outputs": []
    },
    {
      "cell_type": "markdown",
      "metadata": {
        "id": "Je1r-h1e7D4f"
      },
      "source": [
        "Here we are going to perform the train/validation/test split of our data. We also do one-hot encoding of our labels. "
      ]
    },
    {
      "cell_type": "code",
      "metadata": {
        "id": "FnzWHtOCEB1F"
      },
      "source": [
        "x = df.Filing.values\n",
        "y = df.Label.values\n",
        "labs = []\n",
        "\n",
        "for i in y:\n",
        "  if i == 'decrease':\n",
        "    labs.append(0)\n",
        "  elif i == 'neutral':\n",
        "    labs.append(1)\n",
        "  else:\n",
        "    labs.append(2)\n",
        "labs = np.array(labs)\n",
        "x_train, x_test, y_train, y_test = train_test_split(x,labs, test_size = 0.2, random_state = 42)\n",
        "train_texts, val_texts, train_labels, val_labels = train_test_split(x_train, y_train, test_size =0.2)"
      ],
      "execution_count": null,
      "outputs": []
    },
    {
      "cell_type": "markdown",
      "metadata": {
        "id": "7_vjR1l87Vch"
      },
      "source": [
        "Below is where the tokenization magic happens. We use the arguments `return_overflowing_tokens` and `return_offsets_mapping` in order to segment long filings into windows of 150 tokens, and map the \"sub-filings\" to the label of the \"parent\" filing. The argument `stride` is used to impose some token overlap into the sub-filings. We use this to minimize the contextual loss that comes from truncation. \n"
      ]
    },
    {
      "cell_type": "code",
      "metadata": {
        "id": "06tmn5fsRA1K"
      },
      "source": [
        "train_encodings = tokenizer(list(train_texts),\n",
        "                            truncation = True,\n",
        "                            padding = True,\n",
        "                            return_overflowing_tokens = True,\n",
        "                            return_offsets_mapping = True,\n",
        "                            stride = 100,\n",
        "                            max_length = max_seq_length,\n",
        "                            return_tensors = 'pt')\n",
        "\n",
        "val_encodings = tokenizer(list(val_texts),\n",
        "                          truncation = True,\n",
        "                          padding = True,\n",
        "                          return_overflowing_tokens = True,\n",
        "                          return_offsets_mapping = True,\n",
        "                          stride = 100,\n",
        "                          max_length = max_seq_length,\n",
        "                          return_tensors = 'pt')\n",
        "\n",
        "test_encodings = tokenizer(list(x_test),\n",
        "                           truncation = True,\n",
        "                           padding = True,\n",
        "                           return_overflowing_tokens = True,\n",
        "                           return_offsets_mapping = True,\n",
        "                           stride = 100,\n",
        "                           max_length = max_seq_length,\n",
        "                           return_tensors = 'pt')"
      ],
      "execution_count": null,
      "outputs": []
    },
    {
      "cell_type": "markdown",
      "metadata": {
        "id": "btNmaNTU7_q3"
      },
      "source": [
        "Here we look at the `overflow_to_sample_mapping` in order to match the \"sub-filings\" to the labels of the parent filing. "
      ]
    },
    {
      "cell_type": "code",
      "metadata": {
        "id": "8uL5d3aOrVnH"
      },
      "source": [
        "train_sub_labs = []\n",
        "val_sub_labs = []\n",
        "test_sub_labs = []\n",
        "\n",
        "for idx, lab in enumerate(train_labels):\n",
        "  for i in train_encodings['overflow_to_sample_mapping']:\n",
        "    if i == idx:\n",
        "      train_sub_labs.append(lab)\n",
        "\n",
        "for idx, lab in enumerate(val_labels):\n",
        "  for i in val_encodings['overflow_to_sample_mapping']:\n",
        "    if i == idx:\n",
        "      val_sub_labs.append(lab)\n",
        "\n",
        "for idx, lab in enumerate(y_test):\n",
        "  for i in test_encodings['overflow_to_sample_mapping']:\n",
        "    if i == idx:\n",
        "      test_sub_labs.append(lab)\n",
        "\n",
        "train_sub_labs = np.array(train_sub_labs)\n",
        "val_sub_labs = np.array(val_sub_labs)\n",
        "test_sub_labs = np.array(test_sub_labs)"
      ],
      "execution_count": null,
      "outputs": []
    },
    {
      "cell_type": "markdown",
      "metadata": {
        "id": "QwF9ZmDQ8Qgx"
      },
      "source": [
        "To create the windows of the long filings, the tokenizer returned some items that are not recognized by BERT models for fine-tuning. We need to get rid of those. "
      ]
    },
    {
      "cell_type": "code",
      "metadata": {
        "colab": {
          "base_uri": "https://localhost:8080/"
        },
        "id": "vjPR9I-78aYw",
        "outputId": "477a2bc2-4c36-49dc-f690-d9e54a2b9918"
      },
      "source": [
        "print('Model requirements: {}'.format(tokenizer.model_input_names))\n",
        "print('='*90)\n",
        "print('Current inputs: {}'.format(train_encodings.keys))"
      ],
      "execution_count": null,
      "outputs": [
        {
          "output_type": "stream",
          "text": [
            "Model requirements: ['input_ids', 'token_type_ids', 'attention_mask']\n",
            "==========================================================================================\n",
            "Current inputs: <bound method BatchEncoding.keys of {'input_ids': tensor([[  101,  1028,  8875,  ...,     0,     0,     0],\n",
            "        [  101,  6614,  5714,  ..., 14728,  6970,   102],\n",
            "        [  101,  3737,  3820,  ...,     0,     0,     0],\n",
            "        ...,\n",
            "        [  101,  3006,  3037,  ...,  2326, 14422,   102],\n",
            "        [  101,  2094, 21693,  ...,     0,     0,     0],\n",
            "        [  101,  2006,  2258,  ...,     0,     0,     0]]), 'token_type_ids': tensor([[0, 0, 0,  ..., 0, 0, 0],\n",
            "        [0, 0, 0,  ..., 0, 0, 0],\n",
            "        [0, 0, 0,  ..., 0, 0, 0],\n",
            "        ...,\n",
            "        [0, 0, 0,  ..., 0, 0, 0],\n",
            "        [0, 0, 0,  ..., 0, 0, 0],\n",
            "        [0, 0, 0,  ..., 0, 0, 0]]), 'attention_mask': tensor([[1, 1, 1,  ..., 0, 0, 0],\n",
            "        [1, 1, 1,  ..., 1, 1, 1],\n",
            "        [1, 1, 1,  ..., 0, 0, 0],\n",
            "        ...,\n",
            "        [1, 1, 1,  ..., 1, 1, 1],\n",
            "        [1, 1, 1,  ..., 0, 0, 0],\n",
            "        [1, 1, 1,  ..., 0, 0, 0]]), 'offset_mapping': tensor([[[    0,     0],\n",
            "         [    0,     1],\n",
            "         [    2,     6],\n",
            "         ...,\n",
            "         [    0,     0],\n",
            "         [    0,     0],\n",
            "         [    0,     0]],\n",
            "\n",
            "        [[    0,     0],\n",
            "         [    0,     3],\n",
            "         [    3,     5],\n",
            "         ...,\n",
            "         [  855,   858],\n",
            "         [  859,   864],\n",
            "         [    0,     0]],\n",
            "\n",
            "        [[    0,     0],\n",
            "         [  414,   421],\n",
            "         [  422,   431],\n",
            "         ...,\n",
            "         [    0,     0],\n",
            "         [    0,     0],\n",
            "         [    0,     0]],\n",
            "\n",
            "        ...,\n",
            "\n",
            "        [[    0,     0],\n",
            "         [22381, 22387],\n",
            "         [22388, 22396],\n",
            "         ...,\n",
            "         [23621, 23628],\n",
            "         [23629, 23640],\n",
            "         [    0,     0]],\n",
            "\n",
            "        [[    0,     0],\n",
            "         [23017, 23018],\n",
            "         [23018, 23020],\n",
            "         ...,\n",
            "         [    0,     0],\n",
            "         [    0,     0],\n",
            "         [    0,     0]],\n",
            "\n",
            "        [[    0,     0],\n",
            "         [    0,     2],\n",
            "         [    3,     8],\n",
            "         ...,\n",
            "         [    0,     0],\n",
            "         [    0,     0],\n",
            "         [    0,     0]]]), 'overflow_to_sample_mapping': tensor([  0,   1,   1,  ..., 862, 862, 863])}>\n"
          ],
          "name": "stdout"
        }
      ]
    },
    {
      "cell_type": "code",
      "metadata": {
        "colab": {
          "base_uri": "https://localhost:8080/"
        },
        "id": "goM86yRxrZUo",
        "outputId": "cd937e6e-fde7-4793-e0c3-08ca1f8dff19"
      },
      "source": [
        "train_encodings.pop('overflow_to_sample_mapping')\n",
        "train_encodings.pop('offset_mapping')\n",
        "test_encodings.pop('overflow_to_sample_mapping')\n",
        "test_encodings.pop('offset_mapping')\n",
        "val_encodings.pop('overflow_to_sample_mapping')\n",
        "val_encodings.pop('offset_mapping')\n",
        "train_encodings.keys"
      ],
      "execution_count": null,
      "outputs": [
        {
          "output_type": "execute_result",
          "data": {
            "text/plain": [
              "<bound method BatchEncoding.keys of {'input_ids': tensor([[  101,  1028,  8875,  ...,     0,     0,     0],\n",
              "        [  101,  1028,  8875,  ...,     0,     0,     0],\n",
              "        [  101,  1028,  8875,  ...,     0,     0,     0],\n",
              "        ...,\n",
              "        [  101,  2961,  1010,  ...,  8910, 13266,   102],\n",
              "        [  101, 13421,  3382,  ...,  4989, 11075,   102],\n",
              "        [  101,  8910, 13266,  ...,     0,     0,     0]]), 'token_type_ids': tensor([[0, 0, 0,  ..., 0, 0, 0],\n",
              "        [0, 0, 0,  ..., 0, 0, 0],\n",
              "        [0, 0, 0,  ..., 0, 0, 0],\n",
              "        ...,\n",
              "        [0, 0, 0,  ..., 0, 0, 0],\n",
              "        [0, 0, 0,  ..., 0, 0, 0],\n",
              "        [0, 0, 0,  ..., 0, 0, 0]]), 'attention_mask': tensor([[1, 1, 1,  ..., 0, 0, 0],\n",
              "        [1, 1, 1,  ..., 0, 0, 0],\n",
              "        [1, 1, 1,  ..., 0, 0, 0],\n",
              "        ...,\n",
              "        [1, 1, 1,  ..., 1, 1, 1],\n",
              "        [1, 1, 1,  ..., 1, 1, 1],\n",
              "        [1, 1, 1,  ..., 0, 0, 0]])}>"
            ]
          },
          "metadata": {
            "tags": []
          },
          "execution_count": 16
        }
      ]
    },
    {
      "cell_type": "code",
      "metadata": {
        "id": "TsNf1RUGOLsQ"
      },
      "source": [
        "class SEC_Dataset(torch.utils.data.Dataset):\n",
        "  def __init__(self, encodings, labels):\n",
        "    self.encodings = encodings\n",
        "    self.labels = labels\n",
        "\n",
        "  def __getitem__(self, idx):\n",
        "    item = {key: torch.tensor(val[idx]) for key, val in self.encodings.items()}\n",
        "    item['labels'] = torch.tensor(self.labels[idx])\n",
        "    return item\n",
        "\n",
        "  def __len__(self):\n",
        "    return len(self.labels)\n",
        "\n",
        "train_dataset = SEC_Dataset(train_encodings, train_sub_labs)\n",
        "val_dataset = SEC_Dataset(val_encodings, val_sub_labs)\n",
        "test_dataset = SEC_Dataset(test_encodings, test_sub_labs)"
      ],
      "execution_count": null,
      "outputs": []
    },
    {
      "cell_type": "markdown",
      "metadata": {
        "id": "q6XE1RB6TIJ4"
      },
      "source": [
        "## Performance metrics"
      ]
    },
    {
      "cell_type": "code",
      "metadata": {
        "id": "ZNUbBJNNuzV2"
      },
      "source": [
        "from sklearn.metrics import accuracy_score, precision_recall_fscore_support, classification_report\n",
        "\n",
        "def compute_metrics(eval_pred):\n",
        "  labels = eval_pred.label_ids\n",
        "  preds = eval_pred.predictions.argmax(-1)\n",
        "  lab_names = [0,1,2]\n",
        "  \n",
        "  precision, recall, f1, _ = precision_recall_fscore_support(labels, preds, average ='weighted')\n",
        "  acc = accuracy_score(labels, preds)\n",
        "  print(precision_recall_fscore_support(labels, preds, average = None, labels = lab_names))\n",
        "\n",
        "\n",
        "  dic = {\n",
        "      'Accuracy': acc,\n",
        "      'F1': f1,\n",
        "      'Precision': precision,\n",
        "      'Recall': recall\n",
        "  }\n",
        "  return dic"
      ],
      "execution_count": null,
      "outputs": []
    },
    {
      "cell_type": "markdown",
      "metadata": {
        "id": "P-a_7_-evT8J"
      },
      "source": [
        "## Training"
      ]
    },
    {
      "cell_type": "code",
      "metadata": {
        "id": "sp4TNcf9blvy"
      },
      "source": [
        "class MyTrainer(Trainer):\n",
        "  def __init__(self, model,\n",
        "        args = None,\n",
        "        data_collator = None,\n",
        "        train_dataset = None,\n",
        "        eval_dataset = None,\n",
        "        tokenizer = None,\n",
        "        model_init = None,\n",
        "        compute_metrics = None,\n",
        "        callbacks = None,\n",
        "        optimizers = (None,None)\n",
        "    ):\n",
        "\n",
        "    super().__init__(model, args, data_collator, train_dataset, eval_dataset, tokenizer, model_init,\n",
        "                  compute_metrics, callbacks, optimizers) \n",
        "    \n",
        "  def evaluate(\n",
        "        self,\n",
        "        train_dataset = None,\n",
        "        eval_dataset: Optional[Dataset] = None,\n",
        "        ignore_keys: Optional[List[str]] = None,\n",
        "        metric_key_prefix: str = \"eval\",\n",
        "    ) -> Dict[str, float]:\n",
        "        \n",
        "        # memory metrics - must set up as early as possible\n",
        "        self._memory_tracker.start()\n",
        "\n",
        "        if eval_dataset is not None and not isinstance(eval_dataset, collections.abc.Sized):\n",
        "            raise ValueError(\"eval_dataset must implement __len__\")\n",
        "\n",
        "        train_dataloader = self.get_train_dataloader()\n",
        "        eval_dataloader = self.get_eval_dataloader(eval_dataset)\n",
        "        start_time = time.time()\n",
        "\n",
        "        train_output = self.prediction_loop(\n",
        "            train_dataloader,\n",
        "            description = 'Training',\n",
        "            prediction_loss_only = True if self.compute_metrics is None else None,\n",
        "            ignore_keys = ignore_keys,\n",
        "            metric_key_prefix = 'train',\n",
        "            )\n",
        "\n",
        "\n",
        "        eval_output = self.prediction_loop(\n",
        "            eval_dataloader,\n",
        "            description=\"Evaluation\",\n",
        "            # No point gathering the predictions if there are no metrics, otherwise we defer to\n",
        "            # self.args.prediction_loss_only\n",
        "            prediction_loss_only=True if self.compute_metrics is None else None,\n",
        "            ignore_keys=ignore_keys,\n",
        "            metric_key_prefix=metric_key_prefix,\n",
        "        )\n",
        "        train_n_samples = len(self.train_dataset)\n",
        "        train_output.metrics.update(speed_metrics('train', start_time, train_n_samples))\n",
        "        self.log(train_output.metrics)\n",
        "\n",
        "        eval_n_samples = len(eval_dataset if eval_dataset is not None else self.eval_dataset)\n",
        "        eval_output.metrics.update(speed_metrics(metric_key_prefix, start_time, eval_n_samples))\n",
        "        self.log(eval_output.metrics)\n",
        "\n",
        "        if self.args.tpu_metrics_debug or self.args.debug:\n",
        "            # tpu-comment: Logging debug metrics for PyTorch/XLA (compile, execute times, ops, etc.)\n",
        "            xm.master_print(met.metrics_report())\n",
        "        \n",
        "        train_output.metrics['eval_loss'] = 'No log'\n",
        "        self.control = self.callback_handler.on_evaluate(self.args, self.state, self.control, eval_output.metrics)\n",
        "        self.control = self.callback_handler.on_evaluate(self.args, self.state, self.control, train_output.metrics)\n",
        "\n",
        "        self._memory_tracker.stop_and_update_metrics(train_output.metrics)\n",
        "        self._memory_tracker.stop_and_update_metrics(eval_output.metrics)\n",
        "\n",
        "        dic = {\n",
        "        'Training metrics': train_output.metrics,\n",
        "        'Validation metrics': eval_output.metrics\n",
        "        }\n",
        "\n",
        "        return dic\n",
        "\n"
      ],
      "execution_count": null,
      "outputs": []
    },
    {
      "cell_type": "markdown",
      "metadata": {
        "id": "iYt3tT9ckJpE"
      },
      "source": [
        "<b>NOTE:</b>The log prints two rows per epoch because the second row was added into the source code to retrieve the training accuracy. That is why the training loss is the same, and there is no log for validation loss."
      ]
    },
    {
      "cell_type": "code",
      "metadata": {
        "colab": {
          "base_uri": "https://localhost:8080/",
          "height": 966
        },
        "id": "EYI3fxu8Hijr",
        "outputId": "0ac15686-7a44-48c1-97ce-6b8112d52796"
      },
      "source": [
        "training_args = TrainingArguments(\n",
        "    output_dir = 'finBERT',\n",
        "    num_train_epochs = epochs,\n",
        "    do_train = True,\n",
        "    do_eval = True,\n",
        "    evaluation_strategy = 'epoch',\n",
        "    logging_strategy = 'epoch',\n",
        "    per_device_train_batch_size = 32,\n",
        "    per_device_eval_batch_size = 32,\n",
        "    warmup_steps = 250,\n",
        "    weight_decay = 0.2,\n",
        "    gradient_accumulation_steps = 3,\n",
        "    learning_rate = 1e-6,\n",
        "    fp16 = True\n",
        ")\n",
        "\n",
        "trainer = MyTrainer(\n",
        "    model = finbert,\n",
        "    args = training_args,\n",
        "    train_dataset = train_dataset,\n",
        "    eval_dataset = val_dataset,\n",
        "    compute_metrics = compute_metrics\n",
        ")\n",
        "trainer.train()"
      ],
      "execution_count": null,
      "outputs": [
        {
          "output_type": "stream",
          "text": [
            "/usr/local/lib/python3.7/dist-packages/ipykernel_launcher.py:7: UserWarning: To copy construct from a tensor, it is recommended to use sourceTensor.clone().detach() or sourceTensor.clone().detach().requires_grad_(True), rather than torch.tensor(sourceTensor).\n",
            "  import sys\n"
          ],
          "name": "stderr"
        },
        {
          "output_type": "display_data",
          "data": {
            "text/html": [
              "\n",
              "    <div>\n",
              "      \n",
              "      <progress value='2830' max='2830' style='width:300px; height:20px; vertical-align: middle;'></progress>\n",
              "      [2830/2830 2:16:22, Epoch 5/5]\n",
              "    </div>\n",
              "    <table border=\"1\" class=\"dataframe\">\n",
              "  <thead>\n",
              "    <tr style=\"text-align: left;\">\n",
              "      <th>Epoch</th>\n",
              "      <th>Training Loss</th>\n",
              "      <th>Validation Loss</th>\n",
              "      <th>Accuracy</th>\n",
              "      <th>F1</th>\n",
              "      <th>Precision</th>\n",
              "      <th>Recall</th>\n",
              "    </tr>\n",
              "  </thead>\n",
              "  <tbody>\n",
              "    <tr>\n",
              "      <td>1</td>\n",
              "      <td>1.294800</td>\n",
              "      <td>1.184223</td>\n",
              "      <td>0.352301</td>\n",
              "      <td>0.272703</td>\n",
              "      <td>0.405395</td>\n",
              "      <td>0.352301</td>\n",
              "    </tr>\n",
              "    <tr>\n",
              "      <td>1</td>\n",
              "      <td>1.294800</td>\n",
              "      <td>No log</td>\n",
              "      <td>0.468141</td>\n",
              "      <td>0.422898</td>\n",
              "      <td>0.478553</td>\n",
              "      <td>0.468141</td>\n",
              "    </tr>\n",
              "    <tr>\n",
              "      <td>2</td>\n",
              "      <td>1.016200</td>\n",
              "      <td>1.179168</td>\n",
              "      <td>0.356342</td>\n",
              "      <td>0.288893</td>\n",
              "      <td>0.434984</td>\n",
              "      <td>0.356342</td>\n",
              "    </tr>\n",
              "    <tr>\n",
              "      <td>2</td>\n",
              "      <td>1.016200</td>\n",
              "      <td>No log</td>\n",
              "      <td>0.481157</td>\n",
              "      <td>0.442584</td>\n",
              "      <td>0.494472</td>\n",
              "      <td>0.481157</td>\n",
              "    </tr>\n",
              "    <tr>\n",
              "      <td>3</td>\n",
              "      <td>0.995200</td>\n",
              "      <td>1.153587</td>\n",
              "      <td>0.375244</td>\n",
              "      <td>0.336996</td>\n",
              "      <td>0.431433</td>\n",
              "      <td>0.375244</td>\n",
              "    </tr>\n",
              "    <tr>\n",
              "      <td>3</td>\n",
              "      <td>0.995200</td>\n",
              "      <td>No log</td>\n",
              "      <td>0.504152</td>\n",
              "      <td>0.486099</td>\n",
              "      <td>0.505854</td>\n",
              "      <td>0.504152</td>\n",
              "    </tr>\n",
              "    <tr>\n",
              "      <td>4</td>\n",
              "      <td>0.978400</td>\n",
              "      <td>1.149252</td>\n",
              "      <td>0.383979</td>\n",
              "      <td>0.354033</td>\n",
              "      <td>0.434612</td>\n",
              "      <td>0.383979</td>\n",
              "    </tr>\n",
              "    <tr>\n",
              "      <td>4</td>\n",
              "      <td>0.978400</td>\n",
              "      <td>No log</td>\n",
              "      <td>0.516100</td>\n",
              "      <td>0.503898</td>\n",
              "      <td>0.516071</td>\n",
              "      <td>0.516100</td>\n",
              "    </tr>\n",
              "    <tr>\n",
              "      <td>5</td>\n",
              "      <td>0.970000</td>\n",
              "      <td>1.158218</td>\n",
              "      <td>0.383588</td>\n",
              "      <td>0.350259</td>\n",
              "      <td>0.437498</td>\n",
              "      <td>0.383588</td>\n",
              "    </tr>\n",
              "    <tr>\n",
              "      <td>5</td>\n",
              "      <td>0.970000</td>\n",
              "      <td>No log</td>\n",
              "      <td>0.521089</td>\n",
              "      <td>0.506334</td>\n",
              "      <td>0.521388</td>\n",
              "      <td>0.521089</td>\n",
              "    </tr>\n",
              "  </tbody>\n",
              "</table><p>"
            ],
            "text/plain": [
              "<IPython.core.display.HTML object>"
            ]
          },
          "metadata": {
            "tags": []
          }
        },
        {
          "output_type": "stream",
          "text": [
            "/usr/local/lib/python3.7/dist-packages/ipykernel_launcher.py:7: UserWarning: To copy construct from a tensor, it is recommended to use sourceTensor.clone().detach() or sourceTensor.clone().detach().requires_grad_(True), rather than torch.tensor(sourceTensor).\n",
            "  import sys\n",
            "/usr/local/lib/python3.7/dist-packages/transformers/trainer_pt_utils.py:368: FutureWarning: DistributedTensorGatherer is deprecated and will be removed in v5 of Transformers.\n",
            "  FutureWarning,\n"
          ],
          "name": "stderr"
        },
        {
          "output_type": "stream",
          "text": [
            "(array([0.42596197, 0.53772703, 0.45950413]), array([0.67410672, 0.49043814, 0.02541366]), array([0.52204709, 0.51299509, 0.04816355]), array([21102, 22276, 10939]))\n",
            "(array([0.33189512, 0.37904669, 0.48076923]), array([0.67996374, 0.47444512, 0.01246054]), array([0.44606349, 0.42141436, 0.0242915 ]), array([4412, 4911, 6019]))\n"
          ],
          "name": "stdout"
        },
        {
          "output_type": "stream",
          "text": [
            "/usr/local/lib/python3.7/dist-packages/ipykernel_launcher.py:7: UserWarning: To copy construct from a tensor, it is recommended to use sourceTensor.clone().detach() or sourceTensor.clone().detach().requires_grad_(True), rather than torch.tensor(sourceTensor).\n",
            "  import sys\n",
            "/usr/local/lib/python3.7/dist-packages/transformers/trainer_pt_utils.py:368: FutureWarning: DistributedTensorGatherer is deprecated and will be removed in v5 of Transformers.\n",
            "  FutureWarning,\n"
          ],
          "name": "stderr"
        },
        {
          "output_type": "stream",
          "text": [
            "(array([0.43183279, 0.59233553, 0.41601913]), array([0.73234764, 0.44824026, 0.06362556]), array([0.54330363, 0.51031099, 0.11037108]), array([21102, 22276, 10939]))\n",
            "(array([0.32791328, 0.39554829, 0.54564315]), array([0.74048051, 0.39442069, 0.04369497]), array([0.45453913, 0.39498369, 0.08091063]), array([4412, 4911, 6019]))\n"
          ],
          "name": "stdout"
        },
        {
          "output_type": "stream",
          "text": [
            "/usr/local/lib/python3.7/dist-packages/ipykernel_launcher.py:7: UserWarning: To copy construct from a tensor, it is recommended to use sourceTensor.clone().detach() or sourceTensor.clone().detach().requires_grad_(True), rather than torch.tensor(sourceTensor).\n",
            "  import sys\n",
            "/usr/local/lib/python3.7/dist-packages/transformers/trainer_pt_utils.py:368: FutureWarning: DistributedTensorGatherer is deprecated and will be removed in v5 of Transformers.\n",
            "  FutureWarning,\n"
          ],
          "name": "stderr"
        },
        {
          "output_type": "stream",
          "text": [
            "(array([0.45990105, 0.59875282, 0.40532151]), array([0.66960478, 0.51292871, 0.16710851]), array([0.54528615, 0.55252787, 0.23664962]), array([21102, 22276, 10939]))\n",
            "(array([0.33576892, 0.40256263, 0.52511078]), array([0.66659112, 0.42862961, 0.11812593]), array([0.4465872 , 0.41518738, 0.19286586]), array([4412, 4911, 6019]))\n"
          ],
          "name": "stdout"
        },
        {
          "output_type": "stream",
          "text": [
            "/usr/local/lib/python3.7/dist-packages/ipykernel_launcher.py:7: UserWarning: To copy construct from a tensor, it is recommended to use sourceTensor.clone().detach() or sourceTensor.clone().detach().requires_grad_(True), rather than torch.tensor(sourceTensor).\n",
            "  import sys\n",
            "/usr/local/lib/python3.7/dist-packages/transformers/trainer_pt_utils.py:368: FutureWarning: DistributedTensorGatherer is deprecated and will be removed in v5 of Transformers.\n",
            "  FutureWarning,\n"
          ],
          "name": "stderr"
        },
        {
          "output_type": "stream",
          "text": [
            "(array([0.47473479, 0.60263908, 0.419526  ]), array([0.64467823, 0.54125516, 0.21683883]), array([0.54680654, 0.57030012, 0.28590369]), array([21102, 22276, 10939]))\n",
            "(array([0.34103624, 0.40455631, 0.52772809]), array([0.63553944, 0.44838119, 0.14703439]), array([0.44388159, 0.42534286, 0.2299896 ]), array([4412, 4911, 6019]))\n"
          ],
          "name": "stdout"
        },
        {
          "output_type": "stream",
          "text": [
            "/usr/local/lib/python3.7/dist-packages/ipykernel_launcher.py:7: UserWarning: To copy construct from a tensor, it is recommended to use sourceTensor.clone().detach() or sourceTensor.clone().detach().requires_grad_(True), rather than torch.tensor(sourceTensor).\n",
            "  import sys\n",
            "/usr/local/lib/python3.7/dist-packages/transformers/trainer_pt_utils.py:368: FutureWarning: DistributedTensorGatherer is deprecated and will be removed in v5 of Transformers.\n",
            "  FutureWarning,\n"
          ],
          "name": "stderr"
        },
        {
          "output_type": "stream",
          "text": [
            "(array([0.47802574, 0.60688587, 0.43092946]), array([0.661833  , 0.5452056 , 0.20047536]), array([0.5551095 , 0.57439463, 0.27364612]), array([21102, 22276, 10939]))\n",
            "(array([0.34103083, 0.4072909 , 0.53285621]), array([0.64936537, 0.44817756, 0.13606911]), array([0.44720206, 0.42675715, 0.21678137]), array([4412, 4911, 6019]))\n"
          ],
          "name": "stdout"
        },
        {
          "output_type": "execute_result",
          "data": {
            "text/plain": [
              "TrainOutput(global_step=2830, training_loss=1.050913392191641, metrics={'train_runtime': 8183.3583, 'train_samples_per_second': 0.346, 'total_flos': 4159668291080400.0, 'epoch': 5.0, 'init_mem_cpu_alloc_delta': 2398773248, 'init_mem_gpu_alloc_delta': 439075328, 'init_mem_cpu_peaked_delta': 0, 'init_mem_gpu_peaked_delta': 0, 'train_mem_cpu_alloc_delta': -246169600, 'train_mem_gpu_alloc_delta': 1338201088, 'train_mem_cpu_peaked_delta': 260988928, 'train_mem_gpu_peaked_delta': 5468968448})"
            ]
          },
          "metadata": {
            "tags": []
          },
          "execution_count": 20
        }
      ]
    },
    {
      "cell_type": "code",
      "metadata": {
        "colab": {
          "base_uri": "https://localhost:8080/"
        },
        "id": "yUlmHIQucaEK",
        "outputId": "d2bb4dda-d720-4707-8c47-09873323d9ce"
      },
      "source": [
        "trainer.state.log_history"
      ],
      "execution_count": null,
      "outputs": [
        {
          "output_type": "execute_result",
          "data": {
            "text/plain": [
              "[{'epoch': 1.0, 'learning_rate': 1.08e-05, 'loss': 1.5889, 'step': 54},\n",
              " {'epoch': 1.0,\n",
              "  'step': 54,\n",
              "  'train_Accuracy': 0.5706018518518519,\n",
              "  'train_F1': 0.5283289417562254,\n",
              "  'train_Precision': 0.6636304787169279,\n",
              "  'train_Recall': 0.5706018518518519,\n",
              "  'train_loss': 0.916656494140625,\n",
              "  'train_runtime': 13.869,\n",
              "  'train_samples_per_second': 62.297},\n",
              " {'epoch': 1.0,\n",
              "  'eval_Accuracy': 0.6388888888888888,\n",
              "  'eval_F1': 0.5939153439153438,\n",
              "  'eval_Precision': 0.6381262042389211,\n",
              "  'eval_Recall': 0.6388888888888888,\n",
              "  'eval_loss': 0.8379929661750793,\n",
              "  'eval_runtime': 13.8704,\n",
              "  'eval_samples_per_second': 15.573,\n",
              "  'step': 54},\n",
              " {'epoch': 2.0, 'learning_rate': 2.16e-05, 'loss': 0.879, 'step': 108},\n",
              " {'epoch': 2.0,\n",
              "  'step': 108,\n",
              "  'train_Accuracy': 0.7256944444444444,\n",
              "  'train_F1': 0.7121798610325983,\n",
              "  'train_Precision': 0.7466012931480656,\n",
              "  'train_Recall': 0.7256944444444444,\n",
              "  'train_loss': 0.7005714178085327,\n",
              "  'train_runtime': 13.2764,\n",
              "  'train_samples_per_second': 65.078},\n",
              " {'epoch': 2.0,\n",
              "  'eval_Accuracy': 0.6712962962962963,\n",
              "  'eval_F1': 0.6656979559385645,\n",
              "  'eval_Precision': 0.6833403374853028,\n",
              "  'eval_Recall': 0.6712962962962963,\n",
              "  'eval_loss': 0.8295806646347046,\n",
              "  'eval_runtime': 13.2777,\n",
              "  'eval_samples_per_second': 16.268,\n",
              "  'step': 108},\n",
              " {'epoch': 3.0, 'learning_rate': 3.24e-05, 'loss': 0.7162, 'step': 162},\n",
              " {'epoch': 3.0,\n",
              "  'step': 162,\n",
              "  'train_Accuracy': 0.8136574074074074,\n",
              "  'train_F1': 0.8069400690106497,\n",
              "  'train_Precision': 0.8322081076957041,\n",
              "  'train_Recall': 0.8136574074074074,\n",
              "  'train_loss': 0.49462100863456726,\n",
              "  'train_runtime': 13.5539,\n",
              "  'train_samples_per_second': 63.746},\n",
              " {'epoch': 3.0,\n",
              "  'eval_Accuracy': 0.7083333333333334,\n",
              "  'eval_F1': 0.6985009668306025,\n",
              "  'eval_Precision': 0.7231782672931449,\n",
              "  'eval_Recall': 0.7083333333333334,\n",
              "  'eval_loss': 0.774017870426178,\n",
              "  'eval_runtime': 13.5552,\n",
              "  'eval_samples_per_second': 15.935,\n",
              "  'step': 162},\n",
              " {'epoch': 4.0, 'learning_rate': 4.32e-05, 'loss': 0.6077, 'step': 216},\n",
              " {'epoch': 4.0,\n",
              "  'step': 216,\n",
              "  'train_Accuracy': 0.8541666666666666,\n",
              "  'train_F1': 0.8524320140884205,\n",
              "  'train_Precision': 0.8689531622006171,\n",
              "  'train_Recall': 0.8541666666666666,\n",
              "  'train_loss': 0.4381493926048279,\n",
              "  'train_runtime': 13.3965,\n",
              "  'train_samples_per_second': 64.494},\n",
              " {'epoch': 4.0,\n",
              "  'eval_Accuracy': 0.7870370370370371,\n",
              "  'eval_F1': 0.7744001703582927,\n",
              "  'eval_Precision': 0.7927777777777778,\n",
              "  'eval_Recall': 0.7870370370370371,\n",
              "  'eval_loss': 0.6554203033447266,\n",
              "  'eval_runtime': 13.398,\n",
              "  'eval_samples_per_second': 16.122,\n",
              "  'step': 216},\n",
              " {'epoch': 5.0, 'learning_rate': 0.0, 'loss': 0.5342, 'step': 270},\n",
              " {'epoch': 5.0,\n",
              "  'step': 270,\n",
              "  'train_Accuracy': 0.8877314814814815,\n",
              "  'train_F1': 0.8867356655051165,\n",
              "  'train_Precision': 0.8882941725098884,\n",
              "  'train_Recall': 0.8877314814814815,\n",
              "  'train_loss': 0.32392117381095886,\n",
              "  'train_runtime': 13.4902,\n",
              "  'train_samples_per_second': 64.046},\n",
              " {'epoch': 5.0,\n",
              "  'eval_Accuracy': 0.7037037037037037,\n",
              "  'eval_F1': 0.7030262867172118,\n",
              "  'eval_Precision': 0.7050882271708415,\n",
              "  'eval_Recall': 0.7037037037037037,\n",
              "  'eval_loss': 0.8036671280860901,\n",
              "  'eval_runtime': 13.4918,\n",
              "  'eval_samples_per_second': 16.01,\n",
              "  'step': 270},\n",
              " {'epoch': 5.0,\n",
              "  'step': 270,\n",
              "  'total_flos': 567567891648000.0,\n",
              "  'train_runtime': 244.1086,\n",
              "  'train_samples_per_second': 1.106}]"
            ]
          },
          "metadata": {
            "tags": []
          },
          "execution_count": 21
        }
      ]
    },
    {
      "cell_type": "markdown",
      "metadata": {
        "id": "R9ue43_-pnYH"
      },
      "source": [
        "## Plotting training"
      ]
    },
    {
      "cell_type": "code",
      "metadata": {
        "colab": {
          "base_uri": "https://localhost:8080/"
        },
        "id": "twP4iCokqL7k",
        "outputId": "cf51a060-fa69-4050-bc94-af7fd37710f2"
      },
      "source": [
        "for log_history in trainer.state.log_history:\n",
        "  print(log_history.keys())"
      ],
      "execution_count": null,
      "outputs": [
        {
          "output_type": "stream",
          "text": [
            "dict_keys(['loss', 'learning_rate', 'epoch', 'step'])\n",
            "dict_keys(['train_loss', 'train_Accuracy', 'train_F1', 'train_Precision', 'train_Recall', 'train_runtime', 'train_samples_per_second', 'epoch', 'step'])\n",
            "dict_keys(['eval_loss', 'eval_Accuracy', 'eval_F1', 'eval_Precision', 'eval_Recall', 'eval_runtime', 'eval_samples_per_second', 'epoch', 'step'])\n",
            "dict_keys(['loss', 'learning_rate', 'epoch', 'step'])\n",
            "dict_keys(['train_loss', 'train_Accuracy', 'train_F1', 'train_Precision', 'train_Recall', 'train_runtime', 'train_samples_per_second', 'epoch', 'step'])\n",
            "dict_keys(['eval_loss', 'eval_Accuracy', 'eval_F1', 'eval_Precision', 'eval_Recall', 'eval_runtime', 'eval_samples_per_second', 'epoch', 'step'])\n",
            "dict_keys(['loss', 'learning_rate', 'epoch', 'step'])\n",
            "dict_keys(['train_loss', 'train_Accuracy', 'train_F1', 'train_Precision', 'train_Recall', 'train_runtime', 'train_samples_per_second', 'epoch', 'step'])\n",
            "dict_keys(['eval_loss', 'eval_Accuracy', 'eval_F1', 'eval_Precision', 'eval_Recall', 'eval_runtime', 'eval_samples_per_second', 'epoch', 'step'])\n",
            "dict_keys(['loss', 'learning_rate', 'epoch', 'step'])\n",
            "dict_keys(['train_loss', 'train_Accuracy', 'train_F1', 'train_Precision', 'train_Recall', 'train_runtime', 'train_samples_per_second', 'epoch', 'step'])\n",
            "dict_keys(['eval_loss', 'eval_Accuracy', 'eval_F1', 'eval_Precision', 'eval_Recall', 'eval_runtime', 'eval_samples_per_second', 'epoch', 'step'])\n",
            "dict_keys(['loss', 'learning_rate', 'epoch', 'step'])\n",
            "dict_keys(['train_loss', 'train_Accuracy', 'train_F1', 'train_Precision', 'train_Recall', 'train_runtime', 'train_samples_per_second', 'epoch', 'step'])\n",
            "dict_keys(['eval_loss', 'eval_Accuracy', 'eval_F1', 'eval_Precision', 'eval_Recall', 'eval_runtime', 'eval_samples_per_second', 'epoch', 'step'])\n",
            "dict_keys(['train_runtime', 'train_samples_per_second', 'total_flos', 'epoch', 'step'])\n"
          ],
          "name": "stdout"
        }
      ]
    },
    {
      "cell_type": "code",
      "metadata": {
        "colab": {
          "base_uri": "https://localhost:8080/",
          "height": 353
        },
        "id": "DCRd-v88prGC",
        "outputId": "2f5f8c58-5042-4004-e19c-2e4b07ab2eb9"
      },
      "source": [
        "# here we plot BERT vs finBERT\n",
        "finbert_train_loss = []\n",
        "finbert_val_loss = []\n",
        "finbert_train_acc = []\n",
        "finbert_val_acc = []\n",
        "bert_val_loss = [0.9916209578514099, 0.8696171641349792, 0.8130695223808289, 0.6990460753440857, 0.6732652187347412]\n",
        "bert_acc = [0.5324074074074074, 0.6666666666666666, 0.6759259259259259, 0.6759259259259259, 0.7407407407407407]\n",
        "\n",
        "\n",
        "for log_history in trainer.state.log_history:\n",
        "\n",
        "  if 'train_loss' in log_history.keys():\n",
        "    # Deal with trianing loss.\n",
        "    finbert_train_loss.append(log_history['train_loss'])\n",
        "    finbert_train_acc.append(log_history['train_Accuracy'])\n",
        "    \n",
        "  elif 'eval_loss' in log_history.keys():\n",
        "    # Deal with eval loss.\n",
        "    finbert_val_loss.append(log_history['eval_loss'])\n",
        "    finbert_val_acc.append(log_history['eval_Accuracy'])\n",
        "\n",
        "sns.set_style('darkgrid')\n",
        "\n",
        "x = range(1, len(finbert_train_acc) + 1)\n",
        "plt.figure(figsize = (12,5))\n",
        "plt.subplot(1,2,1)\n",
        "plt.plot(x, finbert_val_acc, 'r', label = 'FinBERT')\n",
        "plt.plot(x, bert_acc, 'b', label = 'BERT')\n",
        "plt.title('Validation accuracy')\n",
        "plt.legend()\n",
        "plt.subplot(1,2,2)\n",
        "plt.plot(x, finbert_val_loss, 'r', label = 'FinBERT')\n",
        "plt.plot(x, bert_val_loss, 'b', label = 'BERT')\n",
        "plt.title('Validation loss')\n",
        "plt.legend()"
      ],
      "execution_count": null,
      "outputs": [
        {
          "output_type": "execute_result",
          "data": {
            "text/plain": [
              "<matplotlib.legend.Legend at 0x7fea9807d690>"
            ]
          },
          "metadata": {
            "tags": []
          },
          "execution_count": 23
        },
        {
          "output_type": "display_data",
          "data": {
            "image/png": "[encoded data removed]",
            "text/plain": [
              "<Figure size 864x360 with 2 Axes>"
            ]
          },
          "metadata": {
            "tags": []
          }
        }
      ]
    },
    {
      "cell_type": "code",
      "metadata": {
        "colab": {
          "base_uri": "https://localhost:8080/",
          "height": 353
        },
        "id": "IdymfDwvMGZc",
        "outputId": "11fc7d6b-063c-4784-b8ba-6aa09a0bf4f0"
      },
      "source": [
        "# here we plot finBERT training\n",
        "sns.set_style('darkgrid')\n",
        "\n",
        "finbert_train_loss = []\n",
        "finbert_val_loss = []\n",
        "finbert_train_acc = []\n",
        "finbert_val_acc = []\n",
        "\n",
        "for log_history in trainer.state.log_history:\n",
        "\n",
        "  if 'train_loss' in log_history.keys():\n",
        "    # Deal with trianing loss.\n",
        "    finbert_train_loss.append(log_history['train_loss'])\n",
        "    finbert_train_acc.append(log_history['train_Accuracy'])\n",
        "    \n",
        "  elif 'eval_loss' in log_history.keys():\n",
        "    # Deal with eval loss.\n",
        "    finbert_val_loss.append(log_history['eval_loss'])\n",
        "    finbert_val_acc.append(log_history['eval_Accuracy'])\n",
        "\n",
        "x = range(1, len(finbert_train_acc) + 1)\n",
        "plt.figure(figsize = (12,5))\n",
        "plt.subplot(1,2,1)\n",
        "plt.plot(x, finbert_train_acc, 'b', label = 'Training accuracy')\n",
        "plt.plot(x, finbert_val_acc, 'r', label = 'Validation accuracy')\n",
        "plt.title('Training and validation accuracy')\n",
        "plt.legend()\n",
        "plt.subplot(1,2,2)\n",
        "plt.plot(x, finbert_train_loss, 'b', label = 'Training loss')\n",
        "plt.plot(x, finbert_val_loss, 'r', label = 'Validation loss')\n",
        "plt.title('Training and validation loss')\n",
        "plt.legend()"
      ],
      "execution_count": null,
      "outputs": [
        {
          "output_type": "execute_result",
          "data": {
            "text/plain": [
              "<matplotlib.legend.Legend at 0x7fc8fe4f30d0>"
            ]
          },
          "metadata": {
            "tags": []
          },
          "execution_count": 21
        },
        {
          "output_type": "display_data",
          "data": {
            "image/png": "[encoded data removed]",
            "text/plain": [
              "<Figure size 864x360 with 2 Axes>"
            ]
          },
          "metadata": {
            "tags": []
          }
        }
      ]
    },
    {
      "cell_type": "code",
      "metadata": {
        "colab": {
          "base_uri": "https://localhost:8080/",
          "height": 227
        },
        "id": "Y8XwpYbCeaeG",
        "outputId": "24e42938-a1a8-4c72-cb1c-71aab1cdf6c5"
      },
      "source": [
        "trainer.predict(test_dataset)"
      ],
      "execution_count": null,
      "outputs": [
        {
          "output_type": "stream",
          "text": [
            "/usr/local/lib/python3.7/dist-packages/ipykernel_launcher.py:7: UserWarning: To copy construct from a tensor, it is recommended to use sourceTensor.clone().detach() or sourceTensor.clone().detach().requires_grad_(True), rather than torch.tensor(sourceTensor).\n",
            "  import sys\n"
          ],
          "name": "stderr"
        },
        {
          "output_type": "display_data",
          "data": {
            "text/html": [
              "\n",
              "    <div>\n",
              "      \n",
              "      <progress value='562' max='562' style='width:300px; height:20px; vertical-align: middle;'></progress>\n",
              "      [562/562 02:51]\n",
              "    </div>\n",
              "    "
            ],
            "text/plain": [
              "<IPython.core.display.HTML object>"
            ]
          },
          "metadata": {
            "tags": []
          }
        },
        {
          "output_type": "stream",
          "text": [
            "(array([0.67089431, 0.53011436, 0.60893855]), array([0.53612266, 0.76382278, 0.49958333]), array([0.5959844 , 0.62586259, 0.54886702]), array([3848, 2731, 2400]))\n"
          ],
          "name": "stdout"
        },
        {
          "output_type": "execute_result",
          "data": {
            "text/plain": [
              "PredictionOutput(predictions=array([[ 1.1897818,  2.740166 , -4.2689333],\n",
              "       [ 1.0860116,  3.1160717, -4.3964705],\n",
              "       [-3.1065092,  6.1474695, -2.0017674],\n",
              "       ...,\n",
              "       [ 2.2150695, -4.0159945,  0.3592593],\n",
              "       [ 4.2244544, -3.5040836, -2.2149353],\n",
              "       [ 0.9382123,  1.1161212, -2.3684924]], dtype=float32), label_ids=array([1, 1, 1, ..., 0, 0, 0]), metrics={'test_loss': 2.3114173412323, 'test_Accuracy': 0.5956119835170954, 'test_F1': 0.5924779525451968, 'test_Precision': 0.6115153276933849, 'test_Recall': 0.5956119835170954, 'test_runtime': 172.2495, 'test_samples_per_second': 52.128, 'test_mem_cpu_alloc_delta': 323584, 'test_mem_gpu_alloc_delta': 0, 'test_mem_cpu_peaked_delta': 0, 'test_mem_gpu_peaked_delta': 359882752})"
            ]
          },
          "metadata": {
            "tags": []
          },
          "execution_count": 30
        }
      ]
    },
    {
      "cell_type": "code",
      "metadata": {
        "id": "6jQEQAe7M2QZ"
      },
      "source": [
        ""
      ],
      "execution_count": null,
      "outputs": []
    }
  ]
}