{
  "nbformat": 4,
  "nbformat_minor": 0,
  "metadata": {
    "colab": {
      "name": "finBERT_HF.ipynb",
      "provenance": [],
      "collapsed_sections": []
    },
    "kernelspec": {
      "name": "python3",
      "display_name": "Python 3"
    },
    "language_info": {
      "name": "python"
    },
    "accelerator": "GPU",
    "widgets": {
      "application/vnd.jupyter.widget-state+json": {
        "584dd03ba5cb4dd6b7e28965da85e9b0": {
          "model_module": "@jupyter-widgets/controls",
          "model_name": "HBoxModel",
          "state": {
            "_view_name": "HBoxView",
            "_dom_classes": [],
            "_model_name": "HBoxModel",
            "_view_module": "@jupyter-widgets/controls",
            "_model_module_version": "1.5.0",
            "_view_count": null,
            "_view_module_version": "1.5.0",
            "box_style": "",
            "layout": "IPY_MODEL_abbc0945e5a24ee7b8c8cec3260e0051",
            "_model_module": "@jupyter-widgets/controls",
            "children": [
              "IPY_MODEL_f745d1fc5aeb43f5a0b64ed703139839",
              "IPY_MODEL_5f677154e498472693b60274f30f514a"
            ]
          }
        },
        "abbc0945e5a24ee7b8c8cec3260e0051": {
          "model_module": "@jupyter-widgets/base",
          "model_name": "LayoutModel",
          "state": {
            "_view_name": "LayoutView",
            "grid_template_rows": null,
            "right": null,
            "justify_content": null,
            "_view_module": "@jupyter-widgets/base",
            "overflow": null,
            "_model_module_version": "1.2.0",
            "_view_count": null,
            "flex_flow": null,
            "width": null,
            "min_width": null,
            "border": null,
            "align_items": null,
            "bottom": null,
            "_model_module": "@jupyter-widgets/base",
            "top": null,
            "grid_column": null,
            "overflow_y": null,
            "overflow_x": null,
            "grid_auto_flow": null,
            "grid_area": null,
            "grid_template_columns": null,
            "flex": null,
            "_model_name": "LayoutModel",
            "justify_items": null,
            "grid_row": null,
            "max_height": null,
            "align_content": null,
            "visibility": null,
            "align_self": null,
            "height": null,
            "min_height": null,
            "padding": null,
            "grid_auto_rows": null,
            "grid_gap": null,
            "max_width": null,
            "order": null,
            "_view_module_version": "1.2.0",
            "grid_template_areas": null,
            "object_position": null,
            "object_fit": null,
            "grid_auto_columns": null,
            "margin": null,
            "display": null,
            "left": null
          }
        },
        "f745d1fc5aeb43f5a0b64ed703139839": {
          "model_module": "@jupyter-widgets/controls",
          "model_name": "FloatProgressModel",
          "state": {
            "_view_name": "ProgressView",
            "style": "IPY_MODEL_f1e80b9214d543ab95aa7fa4101659cc",
            "_dom_classes": [],
            "description": "Downloading: 100%",
            "_model_name": "FloatProgressModel",
            "bar_style": "success",
            "max": 758,
            "_view_module": "@jupyter-widgets/controls",
            "_model_module_version": "1.5.0",
            "value": 758,
            "_view_count": null,
            "_view_module_version": "1.5.0",
            "orientation": "horizontal",
            "min": 0,
            "description_tooltip": null,
            "_model_module": "@jupyter-widgets/controls",
            "layout": "IPY_MODEL_ae8024102ab34de0bebf1af6d469a226"
          }
        },
        "5f677154e498472693b60274f30f514a": {
          "model_module": "@jupyter-widgets/controls",
          "model_name": "HTMLModel",
          "state": {
            "_view_name": "HTMLView",
            "style": "IPY_MODEL_fe3fa146f4384a499d4fbdd12d9cbc63",
            "_dom_classes": [],
            "description": "",
            "_model_name": "HTMLModel",
            "placeholder": "​",
            "_view_module": "@jupyter-widgets/controls",
            "_model_module_version": "1.5.0",
            "value": " 758/758 [00:00&lt;00:00, 12.1kB/s]",
            "_view_count": null,
            "_view_module_version": "1.5.0",
            "description_tooltip": null,
            "_model_module": "@jupyter-widgets/controls",
            "layout": "IPY_MODEL_8c16f0cac2934e339971feeb38a31e14"
          }
        },
        "f1e80b9214d543ab95aa7fa4101659cc": {
          "model_module": "@jupyter-widgets/controls",
          "model_name": "ProgressStyleModel",
          "state": {
            "_view_name": "StyleView",
            "_model_name": "ProgressStyleModel",
            "description_width": "initial",
            "_view_module": "@jupyter-widgets/base",
            "_model_module_version": "1.5.0",
            "_view_count": null,
            "_view_module_version": "1.2.0",
            "bar_color": null,
            "_model_module": "@jupyter-widgets/controls"
          }
        },
        "ae8024102ab34de0bebf1af6d469a226": {
          "model_module": "@jupyter-widgets/base",
          "model_name": "LayoutModel",
          "state": {
            "_view_name": "LayoutView",
            "grid_template_rows": null,
            "right": null,
            "justify_content": null,
            "_view_module": "@jupyter-widgets/base",
            "overflow": null,
            "_model_module_version": "1.2.0",
            "_view_count": null,
            "flex_flow": null,
            "width": null,
            "min_width": null,
            "border": null,
            "align_items": null,
            "bottom": null,
            "_model_module": "@jupyter-widgets/base",
            "top": null,
            "grid_column": null,
            "overflow_y": null,
            "overflow_x": null,
            "grid_auto_flow": null,
            "grid_area": null,
            "grid_template_columns": null,
            "flex": null,
            "_model_name": "LayoutModel",
            "justify_items": null,
            "grid_row": null,
            "max_height": null,
            "align_content": null,
            "visibility": null,
            "align_self": null,
            "height": null,
            "min_height": null,
            "padding": null,
            "grid_auto_rows": null,
            "grid_gap": null,
            "max_width": null,
            "order": null,
            "_view_module_version": "1.2.0",
            "grid_template_areas": null,
            "object_position": null,
            "object_fit": null,
            "grid_auto_columns": null,
            "margin": null,
            "display": null,
            "left": null
          }
        },
        "fe3fa146f4384a499d4fbdd12d9cbc63": {
          "model_module": "@jupyter-widgets/controls",
          "model_name": "DescriptionStyleModel",
          "state": {
            "_view_name": "StyleView",
            "_model_name": "DescriptionStyleModel",
            "description_width": "",
            "_view_module": "@jupyter-widgets/base",
            "_model_module_version": "1.5.0",
            "_view_count": null,
            "_view_module_version": "1.2.0",
            "_model_module": "@jupyter-widgets/controls"
          }
        },
        "8c16f0cac2934e339971feeb38a31e14": {
          "model_module": "@jupyter-widgets/base",
          "model_name": "LayoutModel",
          "state": {
            "_view_name": "LayoutView",
            "grid_template_rows": null,
            "right": null,
            "justify_content": null,
            "_view_module": "@jupyter-widgets/base",
            "overflow": null,
            "_model_module_version": "1.2.0",
            "_view_count": null,
            "flex_flow": null,
            "width": null,
            "min_width": null,
            "border": null,
            "align_items": null,
            "bottom": null,
            "_model_module": "@jupyter-widgets/base",
            "top": null,
            "grid_column": null,
            "overflow_y": null,
            "overflow_x": null,
            "grid_auto_flow": null,
            "grid_area": null,
            "grid_template_columns": null,
            "flex": null,
            "_model_name": "LayoutModel",
            "justify_items": null,
            "grid_row": null,
            "max_height": null,
            "align_content": null,
            "visibility": null,
            "align_self": null,
            "height": null,
            "min_height": null,
            "padding": null,
            "grid_auto_rows": null,
            "grid_gap": null,
            "max_width": null,
            "order": null,
            "_view_module_version": "1.2.0",
            "grid_template_areas": null,
            "object_position": null,
            "object_fit": null,
            "grid_auto_columns": null,
            "margin": null,
            "display": null,
            "left": null
          }
        },
        "e73c93a28788405aa507d77d17f5891c": {
          "model_module": "@jupyter-widgets/controls",
          "model_name": "HBoxModel",
          "state": {
            "_view_name": "HBoxView",
            "_dom_classes": [],
            "_model_name": "HBoxModel",
            "_view_module": "@jupyter-widgets/controls",
            "_model_module_version": "1.5.0",
            "_view_count": null,
            "_view_module_version": "1.5.0",
            "box_style": "",
            "layout": "IPY_MODEL_286185180f94466cb75775341bbea5e2",
            "_model_module": "@jupyter-widgets/controls",
            "children": [
              "IPY_MODEL_61554e3d4752411685db4c8bf1317f89",
              "IPY_MODEL_06de124db259406b9cab1de07c37ba8f"
            ]
          }
        },
        "286185180f94466cb75775341bbea5e2": {
          "model_module": "@jupyter-widgets/base",
          "model_name": "LayoutModel",
          "state": {
            "_view_name": "LayoutView",
            "grid_template_rows": null,
            "right": null,
            "justify_content": null,
            "_view_module": "@jupyter-widgets/base",
            "overflow": null,
            "_model_module_version": "1.2.0",
            "_view_count": null,
            "flex_flow": null,
            "width": null,
            "min_width": null,
            "border": null,
            "align_items": null,
            "bottom": null,
            "_model_module": "@jupyter-widgets/base",
            "top": null,
            "grid_column": null,
            "overflow_y": null,
            "overflow_x": null,
            "grid_auto_flow": null,
            "grid_area": null,
            "grid_template_columns": null,
            "flex": null,
            "_model_name": "LayoutModel",
            "justify_items": null,
            "grid_row": null,
            "max_height": null,
            "align_content": null,
            "visibility": null,
            "align_self": null,
            "height": null,
            "min_height": null,
            "padding": null,
            "grid_auto_rows": null,
            "grid_gap": null,
            "max_width": null,
            "order": null,
            "_view_module_version": "1.2.0",
            "grid_template_areas": null,
            "object_position": null,
            "object_fit": null,
            "grid_auto_columns": null,
            "margin": null,
            "display": null,
            "left": null
          }
        },
        "61554e3d4752411685db4c8bf1317f89": {
          "model_module": "@jupyter-widgets/controls",
          "model_name": "FloatProgressModel",
          "state": {
            "_view_name": "ProgressView",
            "style": "IPY_MODEL_f6d39a237ff74fd7bb8cd3cbba05b9eb",
            "_dom_classes": [],
            "description": "Downloading: 100%",
            "_model_name": "FloatProgressModel",
            "bar_style": "success",
            "max": 437992753,
            "_view_module": "@jupyter-widgets/controls",
            "_model_module_version": "1.5.0",
            "value": 437992753,
            "_view_count": null,
            "_view_module_version": "1.5.0",
            "orientation": "horizontal",
            "min": 0,
            "description_tooltip": null,
            "_model_module": "@jupyter-widgets/controls",
            "layout": "IPY_MODEL_18e51935b8fc4e23b7fda0ac82b47fb4"
          }
        },
        "06de124db259406b9cab1de07c37ba8f": {
          "model_module": "@jupyter-widgets/controls",
          "model_name": "HTMLModel",
          "state": {
            "_view_name": "HTMLView",
            "style": "IPY_MODEL_cd34f3de4db04adaa5792788a21ca4fb",
            "_dom_classes": [],
            "description": "",
            "_model_name": "HTMLModel",
            "placeholder": "​",
            "_view_module": "@jupyter-widgets/controls",
            "_model_module_version": "1.5.0",
            "value": " 438M/438M [00:08&lt;00:00, 52.0MB/s]",
            "_view_count": null,
            "_view_module_version": "1.5.0",
            "description_tooltip": null,
            "_model_module": "@jupyter-widgets/controls",
            "layout": "IPY_MODEL_a0329c57b80a4bec9710163b5a111606"
          }
        },
        "f6d39a237ff74fd7bb8cd3cbba05b9eb": {
          "model_module": "@jupyter-widgets/controls",
          "model_name": "ProgressStyleModel",
          "state": {
            "_view_name": "StyleView",
            "_model_name": "ProgressStyleModel",
            "description_width": "initial",
            "_view_module": "@jupyter-widgets/base",
            "_model_module_version": "1.5.0",
            "_view_count": null,
            "_view_module_version": "1.2.0",
            "bar_color": null,
            "_model_module": "@jupyter-widgets/controls"
          }
        },
        "18e51935b8fc4e23b7fda0ac82b47fb4": {
          "model_module": "@jupyter-widgets/base",
          "model_name": "LayoutModel",
          "state": {
            "_view_name": "LayoutView",
            "grid_template_rows": null,
            "right": null,
            "justify_content": null,
            "_view_module": "@jupyter-widgets/base",
            "overflow": null,
            "_model_module_version": "1.2.0",
            "_view_count": null,
            "flex_flow": null,
            "width": null,
            "min_width": null,
            "border": null,
            "align_items": null,
            "bottom": null,
            "_model_module": "@jupyter-widgets/base",
            "top": null,
            "grid_column": null,
            "overflow_y": null,
            "overflow_x": null,
            "grid_auto_flow": null,
            "grid_area": null,
            "grid_template_columns": null,
            "flex": null,
            "_model_name": "LayoutModel",
            "justify_items": null,
            "grid_row": null,
            "max_height": null,
            "align_content": null,
            "visibility": null,
            "align_self": null,
            "height": null,
            "min_height": null,
            "padding": null,
            "grid_auto_rows": null,
            "grid_gap": null,
            "max_width": null,
            "order": null,
            "_view_module_version": "1.2.0",
            "grid_template_areas": null,
            "object_position": null,
            "object_fit": null,
            "grid_auto_columns": null,
            "margin": null,
            "display": null,
            "left": null
          }
        },
        "cd34f3de4db04adaa5792788a21ca4fb": {
          "model_module": "@jupyter-widgets/controls",
          "model_name": "DescriptionStyleModel",
          "state": {
            "_view_name": "StyleView",
            "_model_name": "DescriptionStyleModel",
            "description_width": "",
            "_view_module": "@jupyter-widgets/base",
            "_model_module_version": "1.5.0",
            "_view_count": null,
            "_view_module_version": "1.2.0",
            "_model_module": "@jupyter-widgets/controls"
          }
        },
        "a0329c57b80a4bec9710163b5a111606": {
          "model_module": "@jupyter-widgets/base",
          "model_name": "LayoutModel",
          "state": {
            "_view_name": "LayoutView",
            "grid_template_rows": null,
            "right": null,
            "justify_content": null,
            "_view_module": "@jupyter-widgets/base",
            "overflow": null,
            "_model_module_version": "1.2.0",
            "_view_count": null,
            "flex_flow": null,
            "width": null,
            "min_width": null,
            "border": null,
            "align_items": null,
            "bottom": null,
            "_model_module": "@jupyter-widgets/base",
            "top": null,
            "grid_column": null,
            "overflow_y": null,
            "overflow_x": null,
            "grid_auto_flow": null,
            "grid_area": null,
            "grid_template_columns": null,
            "flex": null,
            "_model_name": "LayoutModel",
            "justify_items": null,
            "grid_row": null,
            "max_height": null,
            "align_content": null,
            "visibility": null,
            "align_self": null,
            "height": null,
            "min_height": null,
            "padding": null,
            "grid_auto_rows": null,
            "grid_gap": null,
            "max_width": null,
            "order": null,
            "_view_module_version": "1.2.0",
            "grid_template_areas": null,
            "object_position": null,
            "object_fit": null,
            "grid_auto_columns": null,
            "margin": null,
            "display": null,
            "left": null
          }
        },
        "537ab09583304345b918d485bdcffe80": {
          "model_module": "@jupyter-widgets/controls",
          "model_name": "HBoxModel",
          "state": {
            "_view_name": "HBoxView",
            "_dom_classes": [],
            "_model_name": "HBoxModel",
            "_view_module": "@jupyter-widgets/controls",
            "_model_module_version": "1.5.0",
            "_view_count": null,
            "_view_module_version": "1.5.0",
            "box_style": "",
            "layout": "IPY_MODEL_bb0b48bbaecc4f739320f26b225a60c2",
            "_model_module": "@jupyter-widgets/controls",
            "children": [
              "IPY_MODEL_e7d315b81562465194c6666df7e946c6",
              "IPY_MODEL_e13211b658ad4e28806b8f19db73de97"
            ]
          }
        },
        "bb0b48bbaecc4f739320f26b225a60c2": {
          "model_module": "@jupyter-widgets/base",
          "model_name": "LayoutModel",
          "state": {
            "_view_name": "LayoutView",
            "grid_template_rows": null,
            "right": null,
            "justify_content": null,
            "_view_module": "@jupyter-widgets/base",
            "overflow": null,
            "_model_module_version": "1.2.0",
            "_view_count": null,
            "flex_flow": null,
            "width": null,
            "min_width": null,
            "border": null,
            "align_items": null,
            "bottom": null,
            "_model_module": "@jupyter-widgets/base",
            "top": null,
            "grid_column": null,
            "overflow_y": null,
            "overflow_x": null,
            "grid_auto_flow": null,
            "grid_area": null,
            "grid_template_columns": null,
            "flex": null,
            "_model_name": "LayoutModel",
            "justify_items": null,
            "grid_row": null,
            "max_height": null,
            "align_content": null,
            "visibility": null,
            "align_self": null,
            "height": null,
            "min_height": null,
            "padding": null,
            "grid_auto_rows": null,
            "grid_gap": null,
            "max_width": null,
            "order": null,
            "_view_module_version": "1.2.0",
            "grid_template_areas": null,
            "object_position": null,
            "object_fit": null,
            "grid_auto_columns": null,
            "margin": null,
            "display": null,
            "left": null
          }
        },
        "e7d315b81562465194c6666df7e946c6": {
          "model_module": "@jupyter-widgets/controls",
          "model_name": "FloatProgressModel",
          "state": {
            "_view_name": "ProgressView",
            "style": "IPY_MODEL_8c204fc34d524614935c96bdd726bb27",
            "_dom_classes": [],
            "description": "Downloading: 100%",
            "_model_name": "FloatProgressModel",
            "bar_style": "success",
            "max": 231508,
            "_view_module": "@jupyter-widgets/controls",
            "_model_module_version": "1.5.0",
            "value": 231508,
            "_view_count": null,
            "_view_module_version": "1.5.0",
            "orientation": "horizontal",
            "min": 0,
            "description_tooltip": null,
            "_model_module": "@jupyter-widgets/controls",
            "layout": "IPY_MODEL_46be7d80ed484557af961985483a58df"
          }
        },
        "e13211b658ad4e28806b8f19db73de97": {
          "model_module": "@jupyter-widgets/controls",
          "model_name": "HTMLModel",
          "state": {
            "_view_name": "HTMLView",
            "style": "IPY_MODEL_ddf8e27902334c1a944027f0f9c673c3",
            "_dom_classes": [],
            "description": "",
            "_model_name": "HTMLModel",
            "placeholder": "​",
            "_view_module": "@jupyter-widgets/controls",
            "_model_module_version": "1.5.0",
            "value": " 232k/232k [00:00&lt;00:00, 743kB/s]",
            "_view_count": null,
            "_view_module_version": "1.5.0",
            "description_tooltip": null,
            "_model_module": "@jupyter-widgets/controls",
            "layout": "IPY_MODEL_9a0b2ec0f8a140be989051e5555ebf0f"
          }
        },
        "8c204fc34d524614935c96bdd726bb27": {
          "model_module": "@jupyter-widgets/controls",
          "model_name": "ProgressStyleModel",
          "state": {
            "_view_name": "StyleView",
            "_model_name": "ProgressStyleModel",
            "description_width": "initial",
            "_view_module": "@jupyter-widgets/base",
            "_model_module_version": "1.5.0",
            "_view_count": null,
            "_view_module_version": "1.2.0",
            "bar_color": null,
            "_model_module": "@jupyter-widgets/controls"
          }
        },
        "46be7d80ed484557af961985483a58df": {
          "model_module": "@jupyter-widgets/base",
          "model_name": "LayoutModel",
          "state": {
            "_view_name": "LayoutView",
            "grid_template_rows": null,
            "right": null,
            "justify_content": null,
            "_view_module": "@jupyter-widgets/base",
            "overflow": null,
            "_model_module_version": "1.2.0",
            "_view_count": null,
            "flex_flow": null,
            "width": null,
            "min_width": null,
            "border": null,
            "align_items": null,
            "bottom": null,
            "_model_module": "@jupyter-widgets/base",
            "top": null,
            "grid_column": null,
            "overflow_y": null,
            "overflow_x": null,
            "grid_auto_flow": null,
            "grid_area": null,
            "grid_template_columns": null,
            "flex": null,
            "_model_name": "LayoutModel",
            "justify_items": null,
            "grid_row": null,
            "max_height": null,
            "align_content": null,
            "visibility": null,
            "align_self": null,
            "height": null,
            "min_height": null,
            "padding": null,
            "grid_auto_rows": null,
            "grid_gap": null,
            "max_width": null,
            "order": null,
            "_view_module_version": "1.2.0",
            "grid_template_areas": null,
            "object_position": null,
            "object_fit": null,
            "grid_auto_columns": null,
            "margin": null,
            "display": null,
            "left": null
          }
        },
        "ddf8e27902334c1a944027f0f9c673c3": {
          "model_module": "@jupyter-widgets/controls",
          "model_name": "DescriptionStyleModel",
          "state": {
            "_view_name": "StyleView",
            "_model_name": "DescriptionStyleModel",
            "description_width": "",
            "_view_module": "@jupyter-widgets/base",
            "_model_module_version": "1.5.0",
            "_view_count": null,
            "_view_module_version": "1.2.0",
            "_model_module": "@jupyter-widgets/controls"
          }
        },
        "9a0b2ec0f8a140be989051e5555ebf0f": {
          "model_module": "@jupyter-widgets/base",
          "model_name": "LayoutModel",
          "state": {
            "_view_name": "LayoutView",
            "grid_template_rows": null,
            "right": null,
            "justify_content": null,
            "_view_module": "@jupyter-widgets/base",
            "overflow": null,
            "_model_module_version": "1.2.0",
            "_view_count": null,
            "flex_flow": null,
            "width": null,
            "min_width": null,
            "border": null,
            "align_items": null,
            "bottom": null,
            "_model_module": "@jupyter-widgets/base",
            "top": null,
            "grid_column": null,
            "overflow_y": null,
            "overflow_x": null,
            "grid_auto_flow": null,
            "grid_area": null,
            "grid_template_columns": null,
            "flex": null,
            "_model_name": "LayoutModel",
            "justify_items": null,
            "grid_row": null,
            "max_height": null,
            "align_content": null,
            "visibility": null,
            "align_self": null,
            "height": null,
            "min_height": null,
            "padding": null,
            "grid_auto_rows": null,
            "grid_gap": null,
            "max_width": null,
            "order": null,
            "_view_module_version": "1.2.0",
            "grid_template_areas": null,
            "object_position": null,
            "object_fit": null,
            "grid_auto_columns": null,
            "margin": null,
            "display": null,
            "left": null
          }
        },
        "8efefc220354439e9a976c4562e33e16": {
          "model_module": "@jupyter-widgets/controls",
          "model_name": "HBoxModel",
          "state": {
            "_view_name": "HBoxView",
            "_dom_classes": [],
            "_model_name": "HBoxModel",
            "_view_module": "@jupyter-widgets/controls",
            "_model_module_version": "1.5.0",
            "_view_count": null,
            "_view_module_version": "1.5.0",
            "box_style": "",
            "layout": "IPY_MODEL_8c84656d3848421ca84a3e4fc9785164",
            "_model_module": "@jupyter-widgets/controls",
            "children": [
              "IPY_MODEL_e329dc47ab714109ad6834f111fe71c1",
              "IPY_MODEL_7d66be0c28864e1f9a95e44e01a7441a"
            ]
          }
        },
        "8c84656d3848421ca84a3e4fc9785164": {
          "model_module": "@jupyter-widgets/base",
          "model_name": "LayoutModel",
          "state": {
            "_view_name": "LayoutView",
            "grid_template_rows": null,
            "right": null,
            "justify_content": null,
            "_view_module": "@jupyter-widgets/base",
            "overflow": null,
            "_model_module_version": "1.2.0",
            "_view_count": null,
            "flex_flow": null,
            "width": null,
            "min_width": null,
            "border": null,
            "align_items": null,
            "bottom": null,
            "_model_module": "@jupyter-widgets/base",
            "top": null,
            "grid_column": null,
            "overflow_y": null,
            "overflow_x": null,
            "grid_auto_flow": null,
            "grid_area": null,
            "grid_template_columns": null,
            "flex": null,
            "_model_name": "LayoutModel",
            "justify_items": null,
            "grid_row": null,
            "max_height": null,
            "align_content": null,
            "visibility": null,
            "align_self": null,
            "height": null,
            "min_height": null,
            "padding": null,
            "grid_auto_rows": null,
            "grid_gap": null,
            "max_width": null,
            "order": null,
            "_view_module_version": "1.2.0",
            "grid_template_areas": null,
            "object_position": null,
            "object_fit": null,
            "grid_auto_columns": null,
            "margin": null,
            "display": null,
            "left": null
          }
        },
        "e329dc47ab714109ad6834f111fe71c1": {
          "model_module": "@jupyter-widgets/controls",
          "model_name": "FloatProgressModel",
          "state": {
            "_view_name": "ProgressView",
            "style": "IPY_MODEL_592d9963c13e45ec8f676c713dc2388c",
            "_dom_classes": [],
            "description": "Downloading: 100%",
            "_model_name": "FloatProgressModel",
            "bar_style": "success",
            "max": 112,
            "_view_module": "@jupyter-widgets/controls",
            "_model_module_version": "1.5.0",
            "value": 112,
            "_view_count": null,
            "_view_module_version": "1.5.0",
            "orientation": "horizontal",
            "min": 0,
            "description_tooltip": null,
            "_model_module": "@jupyter-widgets/controls",
            "layout": "IPY_MODEL_e5bc3dfe3e974e57844e72f17d413fa3"
          }
        },
        "7d66be0c28864e1f9a95e44e01a7441a": {
          "model_module": "@jupyter-widgets/controls",
          "model_name": "HTMLModel",
          "state": {
            "_view_name": "HTMLView",
            "style": "IPY_MODEL_c7c9c5c42e9f427297efb2c3c1f62a27",
            "_dom_classes": [],
            "description": "",
            "_model_name": "HTMLModel",
            "placeholder": "​",
            "_view_module": "@jupyter-widgets/controls",
            "_model_module_version": "1.5.0",
            "value": " 112/112 [00:00&lt;00:00, 1.10kB/s]",
            "_view_count": null,
            "_view_module_version": "1.5.0",
            "description_tooltip": null,
            "_model_module": "@jupyter-widgets/controls",
            "layout": "IPY_MODEL_a845d8be0b9a497798cea2c2cc57a7c9"
          }
        },
        "592d9963c13e45ec8f676c713dc2388c": {
          "model_module": "@jupyter-widgets/controls",
          "model_name": "ProgressStyleModel",
          "state": {
            "_view_name": "StyleView",
            "_model_name": "ProgressStyleModel",
            "description_width": "initial",
            "_view_module": "@jupyter-widgets/base",
            "_model_module_version": "1.5.0",
            "_view_count": null,
            "_view_module_version": "1.2.0",
            "bar_color": null,
            "_model_module": "@jupyter-widgets/controls"
          }
        },
        "e5bc3dfe3e974e57844e72f17d413fa3": {
          "model_module": "@jupyter-widgets/base",
          "model_name": "LayoutModel",
          "state": {
            "_view_name": "LayoutView",
            "grid_template_rows": null,
            "right": null,
            "justify_content": null,
            "_view_module": "@jupyter-widgets/base",
            "overflow": null,
            "_model_module_version": "1.2.0",
            "_view_count": null,
            "flex_flow": null,
            "width": null,
            "min_width": null,
            "border": null,
            "align_items": null,
            "bottom": null,
            "_model_module": "@jupyter-widgets/base",
            "top": null,
            "grid_column": null,
            "overflow_y": null,
            "overflow_x": null,
            "grid_auto_flow": null,
            "grid_area": null,
            "grid_template_columns": null,
            "flex": null,
            "_model_name": "LayoutModel",
            "justify_items": null,
            "grid_row": null,
            "max_height": null,
            "align_content": null,
            "visibility": null,
            "align_self": null,
            "height": null,
            "min_height": null,
            "padding": null,
            "grid_auto_rows": null,
            "grid_gap": null,
            "max_width": null,
            "order": null,
            "_view_module_version": "1.2.0",
            "grid_template_areas": null,
            "object_position": null,
            "object_fit": null,
            "grid_auto_columns": null,
            "margin": null,
            "display": null,
            "left": null
          }
        },
        "c7c9c5c42e9f427297efb2c3c1f62a27": {
          "model_module": "@jupyter-widgets/controls",
          "model_name": "DescriptionStyleModel",
          "state": {
            "_view_name": "StyleView",
            "_model_name": "DescriptionStyleModel",
            "description_width": "",
            "_view_module": "@jupyter-widgets/base",
            "_model_module_version": "1.5.0",
            "_view_count": null,
            "_view_module_version": "1.2.0",
            "_model_module": "@jupyter-widgets/controls"
          }
        },
        "a845d8be0b9a497798cea2c2cc57a7c9": {
          "model_module": "@jupyter-widgets/base",
          "model_name": "LayoutModel",
          "state": {
            "_view_name": "LayoutView",
            "grid_template_rows": null,
            "right": null,
            "justify_content": null,
            "_view_module": "@jupyter-widgets/base",
            "overflow": null,
            "_model_module_version": "1.2.0",
            "_view_count": null,
            "flex_flow": null,
            "width": null,
            "min_width": null,
            "border": null,
            "align_items": null,
            "bottom": null,
            "_model_module": "@jupyter-widgets/base",
            "top": null,
            "grid_column": null,
            "overflow_y": null,
            "overflow_x": null,
            "grid_auto_flow": null,
            "grid_area": null,
            "grid_template_columns": null,
            "flex": null,
            "_model_name": "LayoutModel",
            "justify_items": null,
            "grid_row": null,
            "max_height": null,
            "align_content": null,
            "visibility": null,
            "align_self": null,
            "height": null,
            "min_height": null,
            "padding": null,
            "grid_auto_rows": null,
            "grid_gap": null,
            "max_width": null,
            "order": null,
            "_view_module_version": "1.2.0",
            "grid_template_areas": null,
            "object_position": null,
            "object_fit": null,
            "grid_auto_columns": null,
            "margin": null,
            "display": null,
            "left": null
          }
        },
        "9c91fbb9fac943f0ae0d776245c3f7b2": {
          "model_module": "@jupyter-widgets/controls",
          "model_name": "HBoxModel",
          "state": {
            "_view_name": "HBoxView",
            "_dom_classes": [],
            "_model_name": "HBoxModel",
            "_view_module": "@jupyter-widgets/controls",
            "_model_module_version": "1.5.0",
            "_view_count": null,
            "_view_module_version": "1.5.0",
            "box_style": "",
            "layout": "IPY_MODEL_e5f33b8b2161481eb86fb45ecd18fe3d",
            "_model_module": "@jupyter-widgets/controls",
            "children": [
              "IPY_MODEL_d4eb4b264c234b25b89c07a4bfbcf9e3",
              "IPY_MODEL_ef8b05f976fc464c9a7380766da666c7"
            ]
          }
        },
        "e5f33b8b2161481eb86fb45ecd18fe3d": {
          "model_module": "@jupyter-widgets/base",
          "model_name": "LayoutModel",
          "state": {
            "_view_name": "LayoutView",
            "grid_template_rows": null,
            "right": null,
            "justify_content": null,
            "_view_module": "@jupyter-widgets/base",
            "overflow": null,
            "_model_module_version": "1.2.0",
            "_view_count": null,
            "flex_flow": null,
            "width": null,
            "min_width": null,
            "border": null,
            "align_items": null,
            "bottom": null,
            "_model_module": "@jupyter-widgets/base",
            "top": null,
            "grid_column": null,
            "overflow_y": null,
            "overflow_x": null,
            "grid_auto_flow": null,
            "grid_area": null,
            "grid_template_columns": null,
            "flex": null,
            "_model_name": "LayoutModel",
            "justify_items": null,
            "grid_row": null,
            "max_height": null,
            "align_content": null,
            "visibility": null,
            "align_self": null,
            "height": null,
            "min_height": null,
            "padding": null,
            "grid_auto_rows": null,
            "grid_gap": null,
            "max_width": null,
            "order": null,
            "_view_module_version": "1.2.0",
            "grid_template_areas": null,
            "object_position": null,
            "object_fit": null,
            "grid_auto_columns": null,
            "margin": null,
            "display": null,
            "left": null
          }
        },
        "d4eb4b264c234b25b89c07a4bfbcf9e3": {
          "model_module": "@jupyter-widgets/controls",
          "model_name": "FloatProgressModel",
          "state": {
            "_view_name": "ProgressView",
            "style": "IPY_MODEL_32c9b9cbae7c44f4bedf37a4e6512303",
            "_dom_classes": [],
            "description": "Downloading: 100%",
            "_model_name": "FloatProgressModel",
            "bar_style": "success",
            "max": 252,
            "_view_module": "@jupyter-widgets/controls",
            "_model_module_version": "1.5.0",
            "value": 252,
            "_view_count": null,
            "_view_module_version": "1.5.0",
            "orientation": "horizontal",
            "min": 0,
            "description_tooltip": null,
            "_model_module": "@jupyter-widgets/controls",
            "layout": "IPY_MODEL_67d0f08d1fc1479592b1459fe4810550"
          }
        },
        "ef8b05f976fc464c9a7380766da666c7": {
          "model_module": "@jupyter-widgets/controls",
          "model_name": "HTMLModel",
          "state": {
            "_view_name": "HTMLView",
            "style": "IPY_MODEL_3da6ca104fe2451994f9c9ab6bca0de9",
            "_dom_classes": [],
            "description": "",
            "_model_name": "HTMLModel",
            "placeholder": "​",
            "_view_module": "@jupyter-widgets/controls",
            "_model_module_version": "1.5.0",
            "value": " 252/252 [00:00&lt;00:00, 2.76kB/s]",
            "_view_count": null,
            "_view_module_version": "1.5.0",
            "description_tooltip": null,
            "_model_module": "@jupyter-widgets/controls",
            "layout": "IPY_MODEL_b1860ebd5b2a42d8b0f8935e2a18dfd0"
          }
        },
        "32c9b9cbae7c44f4bedf37a4e6512303": {
          "model_module": "@jupyter-widgets/controls",
          "model_name": "ProgressStyleModel",
          "state": {
            "_view_name": "StyleView",
            "_model_name": "ProgressStyleModel",
            "description_width": "initial",
            "_view_module": "@jupyter-widgets/base",
            "_model_module_version": "1.5.0",
            "_view_count": null,
            "_view_module_version": "1.2.0",
            "bar_color": null,
            "_model_module": "@jupyter-widgets/controls"
          }
        },
        "67d0f08d1fc1479592b1459fe4810550": {
          "model_module": "@jupyter-widgets/base",
          "model_name": "LayoutModel",
          "state": {
            "_view_name": "LayoutView",
            "grid_template_rows": null,
            "right": null,
            "justify_content": null,
            "_view_module": "@jupyter-widgets/base",
            "overflow": null,
            "_model_module_version": "1.2.0",
            "_view_count": null,
            "flex_flow": null,
            "width": null,
            "min_width": null,
            "border": null,
            "align_items": null,
            "bottom": null,
            "_model_module": "@jupyter-widgets/base",
            "top": null,
            "grid_column": null,
            "overflow_y": null,
            "overflow_x": null,
            "grid_auto_flow": null,
            "grid_area": null,
            "grid_template_columns": null,
            "flex": null,
            "_model_name": "LayoutModel",
            "justify_items": null,
            "grid_row": null,
            "max_height": null,
            "align_content": null,
            "visibility": null,
            "align_self": null,
            "height": null,
            "min_height": null,
            "padding": null,
            "grid_auto_rows": null,
            "grid_gap": null,
            "max_width": null,
            "order": null,
            "_view_module_version": "1.2.0",
            "grid_template_areas": null,
            "object_position": null,
            "object_fit": null,
            "grid_auto_columns": null,
            "margin": null,
            "display": null,
            "left": null
          }
        },
        "3da6ca104fe2451994f9c9ab6bca0de9": {
          "model_module": "@jupyter-widgets/controls",
          "model_name": "DescriptionStyleModel",
          "state": {
            "_view_name": "StyleView",
            "_model_name": "DescriptionStyleModel",
            "description_width": "",
            "_view_module": "@jupyter-widgets/base",
            "_model_module_version": "1.5.0",
            "_view_count": null,
            "_view_module_version": "1.2.0",
            "_model_module": "@jupyter-widgets/controls"
          }
        },
        "b1860ebd5b2a42d8b0f8935e2a18dfd0": {
          "model_module": "@jupyter-widgets/base",
          "model_name": "LayoutModel",
          "state": {
            "_view_name": "LayoutView",
            "grid_template_rows": null,
            "right": null,
            "justify_content": null,
            "_view_module": "@jupyter-widgets/base",
            "overflow": null,
            "_model_module_version": "1.2.0",
            "_view_count": null,
            "flex_flow": null,
            "width": null,
            "min_width": null,
            "border": null,
            "align_items": null,
            "bottom": null,
            "_model_module": "@jupyter-widgets/base",
            "top": null,
            "grid_column": null,
            "overflow_y": null,
            "overflow_x": null,
            "grid_auto_flow": null,
            "grid_area": null,
            "grid_template_columns": null,
            "flex": null,
            "_model_name": "LayoutModel",
            "justify_items": null,
            "grid_row": null,
            "max_height": null,
            "align_content": null,
            "visibility": null,
            "align_self": null,
            "height": null,
            "min_height": null,
            "padding": null,
            "grid_auto_rows": null,
            "grid_gap": null,
            "max_width": null,
            "order": null,
            "_view_module_version": "1.2.0",
            "grid_template_areas": null,
            "object_position": null,
            "object_fit": null,
            "grid_auto_columns": null,
            "margin": null,
            "display": null,
            "left": null
          }
        }
      }
    }
  },
  "cells": [
    {
      "cell_type": "markdown",
      "metadata": {
        "id": "kFmPBOejxPjS"
      },
      "source": [
        "#FinBERT"
      ]
    },
    {
      "cell_type": "markdown",
      "metadata": {
        "id": "t8OMNeunxaPh"
      },
      "source": [
        "In this notebook we try the pre-trained FinBERT model by [Araci, 2019](https://arxiv.org/abs/1908.10063). FinBERT is pre-trained on the TRC2 news dataset from Reuters and the Financial PhraseBank dataset. We download the pre-trained model from the HuggingFace transformers library, [see here](https://huggingface.co/ProsusAI/finbert).\n",
        "<br></br>\n",
        "To access the dataset, [see here](https://drive.google.com/file/d/1o1BMTTU9YNPATL8x93l0N-h6sTZxLyDo/view?usp=sharing). "
      ]
    },
    {
      "cell_type": "markdown",
      "metadata": {
        "id": "i15FipMIg_J8"
      },
      "source": [
        "## Imports"
      ]
    },
    {
      "cell_type": "code",
      "metadata": {
        "colab": {
          "base_uri": "https://localhost:8080/"
        },
        "id": "37MNJzteZ7eS",
        "outputId": "2ac30a8d-7428-4be1-8598-00bb1387b618"
      },
      "source": [
        "!pip install git+https://github.com/huggingface/transformers"
      ],
      "execution_count": null,
      "outputs": [
        {
          "output_type": "stream",
          "text": [
            "Collecting git+https://github.com/huggingface/transformers\n",
            "  Cloning https://github.com/huggingface/transformers to /tmp/pip-req-build-55w6dua1\n",
            "  Running command git clone -q https://github.com/huggingface/transformers /tmp/pip-req-build-55w6dua1\n",
            "  Installing build dependencies ... \u001b[?25l\u001b[?25hdone\n",
            "  Getting requirements to build wheel ... \u001b[?25l\u001b[?25hdone\n",
            "    Preparing wheel metadata ... \u001b[?25l\u001b[?25hdone\n",
            "Requirement already satisfied: regex!=2019.12.17 in /usr/local/lib/python3.7/dist-packages (from transformers==4.6.0.dev0) (2019.12.20)\n",
            "Requirement already satisfied: packaging in /usr/local/lib/python3.7/dist-packages (from transformers==4.6.0.dev0) (20.9)\n",
            "Requirement already satisfied: requests in /usr/local/lib/python3.7/dist-packages (from transformers==4.6.0.dev0) (2.23.0)\n",
            "Requirement already satisfied: filelock in /usr/local/lib/python3.7/dist-packages (from transformers==4.6.0.dev0) (3.0.12)\n",
            "Collecting sacremoses\n",
            "\u001b[?25l  Downloading https://files.pythonhosted.org/packages/08/cd/342e584ee544d044fb573ae697404ce22ede086c9e87ce5960772084cad0/sacremoses-0.0.44.tar.gz (862kB)\n",
            "\u001b[K     |████████████████████████████████| 870kB 17.6MB/s \n",
            "\u001b[?25hCollecting tokenizers<0.11,>=0.10.1\n",
            "\u001b[?25l  Downloading https://files.pythonhosted.org/packages/ae/04/5b870f26a858552025a62f1649c20d29d2672c02ff3c3fb4c688ca46467a/tokenizers-0.10.2-cp37-cp37m-manylinux2010_x86_64.whl (3.3MB)\n",
            "\u001b[K     |████████████████████████████████| 3.3MB 45.6MB/s \n",
            "\u001b[?25hRequirement already satisfied: tqdm>=4.27 in /usr/local/lib/python3.7/dist-packages (from transformers==4.6.0.dev0) (4.41.1)\n",
            "Requirement already satisfied: importlib-metadata; python_version < \"3.8\" in /usr/local/lib/python3.7/dist-packages (from transformers==4.6.0.dev0) (3.10.1)\n",
            "Requirement already satisfied: numpy>=1.17 in /usr/local/lib/python3.7/dist-packages (from transformers==4.6.0.dev0) (1.19.5)\n",
            "Requirement already satisfied: pyparsing>=2.0.2 in /usr/local/lib/python3.7/dist-packages (from packaging->transformers==4.6.0.dev0) (2.4.7)\n",
            "Requirement already satisfied: idna<3,>=2.5 in /usr/local/lib/python3.7/dist-packages (from requests->transformers==4.6.0.dev0) (2.10)\n",
            "Requirement already satisfied: certifi>=2017.4.17 in /usr/local/lib/python3.7/dist-packages (from requests->transformers==4.6.0.dev0) (2020.12.5)\n",
            "Requirement already satisfied: chardet<4,>=3.0.2 in /usr/local/lib/python3.7/dist-packages (from requests->transformers==4.6.0.dev0) (3.0.4)\n",
            "Requirement already satisfied: urllib3!=1.25.0,!=1.25.1,<1.26,>=1.21.1 in /usr/local/lib/python3.7/dist-packages (from requests->transformers==4.6.0.dev0) (1.24.3)\n",
            "Requirement already satisfied: six in /usr/local/lib/python3.7/dist-packages (from sacremoses->transformers==4.6.0.dev0) (1.15.0)\n",
            "Requirement already satisfied: click in /usr/local/lib/python3.7/dist-packages (from sacremoses->transformers==4.6.0.dev0) (7.1.2)\n",
            "Requirement already satisfied: joblib in /usr/local/lib/python3.7/dist-packages (from sacremoses->transformers==4.6.0.dev0) (1.0.1)\n",
            "Requirement already satisfied: zipp>=0.5 in /usr/local/lib/python3.7/dist-packages (from importlib-metadata; python_version < \"3.8\"->transformers==4.6.0.dev0) (3.4.1)\n",
            "Requirement already satisfied: typing-extensions>=3.6.4; python_version < \"3.8\" in /usr/local/lib/python3.7/dist-packages (from importlib-metadata; python_version < \"3.8\"->transformers==4.6.0.dev0) (3.7.4.3)\n",
            "Building wheels for collected packages: transformers\n",
            "  Building wheel for transformers (PEP 517) ... \u001b[?25l\u001b[?25hdone\n",
            "  Created wheel for transformers: filename=transformers-4.6.0.dev0-cp37-none-any.whl size=2112159 sha256=98f15ef61a1881f78ad6690c8e21c177dac4f61f11c9c0e56c55260ca5c6a38a\n",
            "  Stored in directory: /tmp/pip-ephem-wheel-cache-9h_hzfs_/wheels/70/d3/52/b3fa4f8b8ef04167ac62e5bb2accb62ae764db2a378247490e\n",
            "Successfully built transformers\n",
            "Building wheels for collected packages: sacremoses\n",
            "  Building wheel for sacremoses (setup.py) ... \u001b[?25l\u001b[?25hdone\n",
            "  Created wheel for sacremoses: filename=sacremoses-0.0.44-cp37-none-any.whl size=886084 sha256=1d44131f7763c0a752f693c4c8f54c04c8394669f7fa035e89cc3af7657deddf\n",
            "  Stored in directory: /root/.cache/pip/wheels/3e/fb/c0/13ab4d63d537658f448366744654323077c4d90069b6512f3c\n",
            "Successfully built sacremoses\n",
            "Installing collected packages: sacremoses, tokenizers, transformers\n",
            "Successfully installed sacremoses-0.0.44 tokenizers-0.10.2 transformers-4.6.0.dev0\n"
          ],
          "name": "stdout"
        }
      ]
    },
    {
      "cell_type": "code",
      "metadata": {
        "id": "5y-PYu7AxACc"
      },
      "source": [
        "#!pip install transformers\n",
        "from typing import TYPE_CHECKING, Any, Callable, Dict, List, Optional, Tuple, Union\n",
        "import pandas as pd\n",
        "import numpy as np\n",
        "import math\n",
        "import time\n",
        "\n",
        "import matplotlib.pyplot as plt\n",
        "import seaborn as sns\n",
        "\n",
        "import os\n",
        "\n",
        "from transformers.utils import *\n",
        "from transformers.data.data_collator import DataCollator, DataCollatorWithPadding, default_data_collator\n",
        "from transformers.file_utils import (\n",
        "    WEIGHTS_NAME,\n",
        "    is_apex_available,\n",
        "    is_datasets_available,\n",
        "    is_in_notebook,\n",
        "    is_sagemaker_dp_enabled,\n",
        "    is_sagemaker_mp_enabled,\n",
        "    is_torch_tpu_available,\n",
        "    is_training_run_on_sagemaker,\n",
        ")\n",
        "from transformers.modeling_utils import PreTrainedModel, unwrap_model\n",
        "from transformers.optimization import Adafactor, AdamW, get_scheduler\n",
        "from transformers.tokenization_utils_base import PreTrainedTokenizerBase\n",
        "from transformers.trainer_callback import (\n",
        "    CallbackHandler,\n",
        "    DefaultFlowCallback,\n",
        "    PrinterCallback,\n",
        "    ProgressCallback,\n",
        "    TrainerCallback,\n",
        "    TrainerControl,\n",
        "    TrainerState,\n",
        ")\n",
        "from transformers.trainer_utils import (\n",
        "    PREFIX_CHECKPOINT_DIR,\n",
        "    BestRun,\n",
        "    EvalPrediction,\n",
        "    HPSearchBackend,\n",
        "    PredictionOutput,\n",
        "    ShardedDDPOption,\n",
        "    TrainerMemoryTracker,\n",
        "    TrainOutput,\n",
        "    default_compute_objective,\n",
        "    default_hp_space,\n",
        "    denumpify_detensorize,\n",
        "    get_last_checkpoint,\n",
        "    set_seed,\n",
        "    speed_metrics,\n",
        ")\n",
        "from transformers.training_args import ParallelMode, TrainingArguments\n",
        "from transformers.utils import logging\n",
        "from transformers.utils.modeling_auto_mapping import MODEL_FOR_QUESTION_ANSWERING_MAPPING_NAMES \n",
        "import torch\n",
        "import tensorflow as tf\n",
        "from transformers import AutoModelForSequenceClassification, AutoTokenizer, TrainingArguments, Trainer\n",
        "import tensorflow_hub as hub\n",
        "\n",
        "from sklearn.feature_extraction.text import CountVectorizer\n",
        "from sklearn.metrics import accuracy_score, precision_recall_fscore_support\n",
        "from sklearn.model_selection import train_test_split\n",
        "\n",
        "\n",
        "\n",
        "from torch.utils.data.dataset import Dataset\n",
        "\n"
      ],
      "execution_count": null,
      "outputs": []
    },
    {
      "cell_type": "markdown",
      "metadata": {
        "id": "rTBXfqYHBtCY"
      },
      "source": [
        "## Connecting to cloud hardware"
      ]
    },
    {
      "cell_type": "markdown",
      "metadata": {
        "id": "28oBLUsSaLh6"
      },
      "source": [
        "Edit > Notebook Settings > Hardware accelerator"
      ]
    },
    {
      "cell_type": "code",
      "metadata": {
        "colab": {
          "base_uri": "https://localhost:8080/"
        },
        "id": "zhpQoksBxHO3",
        "outputId": "ff50ede6-388d-4c48-c049-65e46ef88e45"
      },
      "source": [
        "device_name = tf.test.gpu_device_name()\n",
        "if device_name == '/device:GPU:0':\n",
        "  print('Found GPU at: {}'.format(device_name))\n",
        "else:\n",
        "  raise SystemError('GPU device not found')"
      ],
      "execution_count": null,
      "outputs": [
        {
          "output_type": "stream",
          "text": [
            "Found GPU at: /device:GPU:0\n"
          ],
          "name": "stdout"
        }
      ]
    },
    {
      "cell_type": "code",
      "metadata": {
        "colab": {
          "base_uri": "https://localhost:8080/"
        },
        "id": "cMrXcwA8xZ9X",
        "outputId": "bf2525af-1637-42ca-bf4c-19bf595cabbb"
      },
      "source": [
        "if torch.cuda.is_available():\n",
        "  device = torch.device(\"cuda\")\n",
        "  print('There are %d GPU(s) available' % torch.cuda.device_count())\n",
        "  print('We will use the GPU:', torch.cuda.get_device_name(0))\n",
        "else:\n",
        "  print('No GPU available, using CPU')\n",
        "  device = torch.device(\"cpu\")"
      ],
      "execution_count": null,
      "outputs": [
        {
          "output_type": "stream",
          "text": [
            "There are 1 GPU(s) available\n",
            "We will use the GPU: Tesla T4\n"
          ],
          "name": "stdout"
        }
      ]
    },
    {
      "cell_type": "markdown",
      "metadata": {
        "id": "d02BmPnV63Ri"
      },
      "source": [
        "## Importing data"
      ]
    },
    {
      "cell_type": "code",
      "metadata": {
        "colab": {
          "base_uri": "https://localhost:8080/",
          "height": 306
        },
        "id": "NIBF-VVvxJxM",
        "outputId": "f12882b7-3d3e-4b2a-bffd-e7d9e49bd2c6"
      },
      "source": [
        "df = pd.read_csv('/content/final_consolidated_data.txt')\n",
        "df.head()"
      ],
      "execution_count": null,
      "outputs": [
        {
          "output_type": "execute_result",
          "data": {
            "text/html": [
              "<div>\n",
              "<style scoped>\n",
              "    .dataframe tbody tr th:only-of-type {\n",
              "        vertical-align: middle;\n",
              "    }\n",
              "\n",
              "    .dataframe tbody tr th {\n",
              "        vertical-align: top;\n",
              "    }\n",
              "\n",
              "    .dataframe thead th {\n",
              "        text-align: right;\n",
              "    }\n",
              "</style>\n",
              "<table border=\"1\" class=\"dataframe\">\n",
              "  <thead>\n",
              "    <tr style=\"text-align: right;\">\n",
              "      <th></th>\n",
              "      <th>Unnamed: 0</th>\n",
              "      <th>CIK Code</th>\n",
              "      <th>Filing</th>\n",
              "      <th>Date Filed</th>\n",
              "      <th>Ticker</th>\n",
              "      <th>CompanyName</th>\n",
              "      <th>PrevAvgPriceChange</th>\n",
              "      <th>PostAvgPriceChange</th>\n",
              "      <th>Label</th>\n",
              "    </tr>\n",
              "  </thead>\n",
              "  <tbody>\n",
              "    <tr>\n",
              "      <th>0</th>\n",
              "      <td>0</td>\n",
              "      <td>1680378</td>\n",
              "      <td>Investing in ourshares of common stock involve...</td>\n",
              "      <td>2021-03-18</td>\n",
              "      <td>SNES</td>\n",
              "      <td>SenesTech, Inc.</td>\n",
              "      <td>0.001328</td>\n",
              "      <td>-0.003177</td>\n",
              "      <td>neutral</td>\n",
              "    </tr>\n",
              "    <tr>\n",
              "      <th>1</th>\n",
              "      <td>1</td>\n",
              "      <td>1222719</td>\n",
              "      <td>Investing in any of our securities involves ri...</td>\n",
              "      <td>2021-01-31</td>\n",
              "      <td>CHY</td>\n",
              "      <td>CALAMOS CONVERTIBLE &amp; HIGH INCOME FUND</td>\n",
              "      <td>0.004126</td>\n",
              "      <td>0.006552</td>\n",
              "      <td>neutral</td>\n",
              "    </tr>\n",
              "    <tr>\n",
              "      <th>2</th>\n",
              "      <td>2</td>\n",
              "      <td>1364954</td>\n",
              "      <td>An investment in our securities involves a hig...</td>\n",
              "      <td>2021-04-03</td>\n",
              "      <td>CHGG</td>\n",
              "      <td>CHEGG, INC</td>\n",
              "      <td>0.065078</td>\n",
              "      <td>0.011987</td>\n",
              "      <td>neutral</td>\n",
              "    </tr>\n",
              "    <tr>\n",
              "      <th>3</th>\n",
              "      <td>3</td>\n",
              "      <td>1674930</td>\n",
              "      <td>Investing in our common stock involves risk. B...</td>\n",
              "      <td>2020-08-12</td>\n",
              "      <td>FLGT</td>\n",
              "      <td>Fulgent Genetics, Inc.</td>\n",
              "      <td>0.412805</td>\n",
              "      <td>0.058477</td>\n",
              "      <td>neutral</td>\n",
              "    </tr>\n",
              "    <tr>\n",
              "      <th>4</th>\n",
              "      <td>4</td>\n",
              "      <td>1409375</td>\n",
              "      <td>Investing in our common stock involves a high ...</td>\n",
              "      <td>2021-03-10</td>\n",
              "      <td>OESX</td>\n",
              "      <td>ORION ENERGY SYSTEMS, INC.</td>\n",
              "      <td>-0.046603</td>\n",
              "      <td>-0.002521</td>\n",
              "      <td>increase</td>\n",
              "    </tr>\n",
              "  </tbody>\n",
              "</table>\n",
              "</div>"
            ],
            "text/plain": [
              "   Unnamed: 0  CIK Code  ... PostAvgPriceChange     Label\n",
              "0           0   1680378  ...          -0.003177   neutral\n",
              "1           1   1222719  ...           0.006552   neutral\n",
              "2           2   1364954  ...           0.011987   neutral\n",
              "3           3   1674930  ...           0.058477   neutral\n",
              "4           4   1409375  ...          -0.002521  increase\n",
              "\n",
              "[5 rows x 9 columns]"
            ]
          },
          "metadata": {
            "tags": []
          },
          "execution_count": 5
        }
      ]
    },
    {
      "cell_type": "code",
      "metadata": {
        "colab": {
          "base_uri": "https://localhost:8080/"
        },
        "id": "MSrHxOfV6NJB",
        "outputId": "b14edb57-e3d4-44d3-9e64-a789e83bfb48"
      },
      "source": [
        "df.drop(columns = 'Unnamed: 0', inplace = True)\n",
        "df.dropna(axis = 0, how = 'any', inplace = True)\n",
        "df.info()"
      ],
      "execution_count": null,
      "outputs": [
        {
          "output_type": "stream",
          "text": [
            "<class 'pandas.core.frame.DataFrame'>\n",
            "Int64Index: 1350 entries, 0 to 1352\n",
            "Data columns (total 8 columns):\n",
            " #   Column              Non-Null Count  Dtype  \n",
            "---  ------              --------------  -----  \n",
            " 0   CIK Code            1350 non-null   int64  \n",
            " 1   Filing              1350 non-null   object \n",
            " 2   Date Filed          1350 non-null   object \n",
            " 3   Ticker              1350 non-null   object \n",
            " 4   CompanyName         1350 non-null   object \n",
            " 5   PrevAvgPriceChange  1350 non-null   float64\n",
            " 6   PostAvgPriceChange  1350 non-null   float64\n",
            " 7   Label               1350 non-null   object \n",
            "dtypes: float64(2), int64(1), object(5)\n",
            "memory usage: 94.9+ KB\n"
          ],
          "name": "stdout"
        }
      ]
    },
    {
      "cell_type": "markdown",
      "metadata": {
        "id": "tAMDRFq-9EjI"
      },
      "source": [
        "## Configuration of parameters"
      ]
    },
    {
      "cell_type": "code",
      "metadata": {
        "id": "KMwgQ1di9CvK",
        "colab": {
          "base_uri": "https://localhost:8080/",
          "height": 115,
          "referenced_widgets": [
            "584dd03ba5cb4dd6b7e28965da85e9b0",
            "abbc0945e5a24ee7b8c8cec3260e0051",
            "f745d1fc5aeb43f5a0b64ed703139839",
            "5f677154e498472693b60274f30f514a",
            "f1e80b9214d543ab95aa7fa4101659cc",
            "ae8024102ab34de0bebf1af6d469a226",
            "fe3fa146f4384a499d4fbdd12d9cbc63",
            "8c16f0cac2934e339971feeb38a31e14",
            "e73c93a28788405aa507d77d17f5891c",
            "286185180f94466cb75775341bbea5e2",
            "61554e3d4752411685db4c8bf1317f89",
            "06de124db259406b9cab1de07c37ba8f",
            "f6d39a237ff74fd7bb8cd3cbba05b9eb",
            "18e51935b8fc4e23b7fda0ac82b47fb4",
            "cd34f3de4db04adaa5792788a21ca4fb",
            "a0329c57b80a4bec9710163b5a111606"
          ]
        },
        "outputId": "9d1646e9-318c-404a-80b9-779a51420508"
      },
      "source": [
        "finbert = AutoModelForSequenceClassification.from_pretrained('ProsusAI/finbert', cache_dir = None, num_labels = 3)\n",
        "config = finbert.config"
      ],
      "execution_count": null,
      "outputs": [
        {
          "output_type": "display_data",
          "data": {
            "application/vnd.jupyter.widget-view+json": {
              "model_id": "584dd03ba5cb4dd6b7e28965da85e9b0",
              "version_minor": 0,
              "version_major": 2
            },
            "text/plain": [
              "HBox(children=(FloatProgress(value=0.0, description='Downloading', max=758.0, style=ProgressStyle(description_…"
            ]
          },
          "metadata": {
            "tags": []
          }
        },
        {
          "output_type": "stream",
          "text": [
            "\n"
          ],
          "name": "stdout"
        },
        {
          "output_type": "display_data",
          "data": {
            "application/vnd.jupyter.widget-view+json": {
              "model_id": "e73c93a28788405aa507d77d17f5891c",
              "version_minor": 0,
              "version_major": 2
            },
            "text/plain": [
              "HBox(children=(FloatProgress(value=0.0, description='Downloading', max=437992753.0, style=ProgressStyle(descri…"
            ]
          },
          "metadata": {
            "tags": []
          }
        },
        {
          "output_type": "stream",
          "text": [
            "\n"
          ],
          "name": "stdout"
        }
      ]
    },
    {
      "cell_type": "code",
      "metadata": {
        "colab": {
          "base_uri": "https://localhost:8080/"
        },
        "id": "bWtCLgnWD3we",
        "outputId": "a64959ab-674b-472d-c14d-ff59c8eec462"
      },
      "source": [
        "config.id2label[0] = 'decrease'\n",
        "config.id2label[1] = 'neutral'\n",
        "config.id2label[2] = 'increase'\n",
        "config.id2label"
      ],
      "execution_count": null,
      "outputs": [
        {
          "output_type": "execute_result",
          "data": {
            "text/plain": [
              "{0: 'decrease', 1: 'neutral', 2: 'increase'}"
            ]
          },
          "metadata": {
            "tags": []
          },
          "execution_count": 8
        }
      ]
    },
    {
      "cell_type": "code",
      "metadata": {
        "colab": {
          "base_uri": "https://localhost:8080/"
        },
        "id": "r_GyGRkVEgyM",
        "outputId": "fbc6efc3-7b5e-4911-c63b-3fead919838c"
      },
      "source": [
        "config.label2id['decrease'] = 0\n",
        "config.label2id['neutral'] = 1\n",
        "config.label2id['increase'] = 2\n",
        "config.label2id"
      ],
      "execution_count": null,
      "outputs": [
        {
          "output_type": "execute_result",
          "data": {
            "text/plain": [
              "{'decrease': 0, 'increase': 2, 'negative': 1, 'neutral': 1, 'positive': 0}"
            ]
          },
          "metadata": {
            "tags": []
          },
          "execution_count": 9
        }
      ]
    },
    {
      "cell_type": "code",
      "metadata": {
        "colab": {
          "base_uri": "https://localhost:8080/"
        },
        "id": "PbXPI7jqFiSi",
        "outputId": "6d8d031b-bb48-44b2-941f-b7ae9c0e1821"
      },
      "source": [
        "del config.label2id['negative']\n",
        "del config.label2id['positive']\n",
        "config.label2id"
      ],
      "execution_count": null,
      "outputs": [
        {
          "output_type": "execute_result",
          "data": {
            "text/plain": [
              "{'decrease': 0, 'increase': 2, 'neutral': 1}"
            ]
          },
          "metadata": {
            "tags": []
          },
          "execution_count": 10
        }
      ]
    },
    {
      "cell_type": "code",
      "metadata": {
        "id": "Df_beR5TF-tr",
        "colab": {
          "base_uri": "https://localhost:8080/",
          "height": 164,
          "referenced_widgets": [
            "537ab09583304345b918d485bdcffe80",
            "bb0b48bbaecc4f739320f26b225a60c2",
            "e7d315b81562465194c6666df7e946c6",
            "e13211b658ad4e28806b8f19db73de97",
            "8c204fc34d524614935c96bdd726bb27",
            "46be7d80ed484557af961985483a58df",
            "ddf8e27902334c1a944027f0f9c673c3",
            "9a0b2ec0f8a140be989051e5555ebf0f",
            "8efefc220354439e9a976c4562e33e16",
            "8c84656d3848421ca84a3e4fc9785164",
            "e329dc47ab714109ad6834f111fe71c1",
            "7d66be0c28864e1f9a95e44e01a7441a",
            "592d9963c13e45ec8f676c713dc2388c",
            "e5bc3dfe3e974e57844e72f17d413fa3",
            "c7c9c5c42e9f427297efb2c3c1f62a27",
            "a845d8be0b9a497798cea2c2cc57a7c9",
            "9c91fbb9fac943f0ae0d776245c3f7b2",
            "e5f33b8b2161481eb86fb45ecd18fe3d",
            "d4eb4b264c234b25b89c07a4bfbcf9e3",
            "ef8b05f976fc464c9a7380766da666c7",
            "32c9b9cbae7c44f4bedf37a4e6512303",
            "67d0f08d1fc1479592b1459fe4810550",
            "3da6ca104fe2451994f9c9ab6bca0de9",
            "b1860ebd5b2a42d8b0f8935e2a18dfd0"
          ]
        },
        "outputId": "64367105-debc-4487-9c9e-e555ee6fbae7"
      },
      "source": [
        "from transformers import AutoTokenizer\n",
        "tokenizer = AutoTokenizer.from_pretrained('ProsusAI/finbert')"
      ],
      "execution_count": null,
      "outputs": [
        {
          "output_type": "display_data",
          "data": {
            "application/vnd.jupyter.widget-view+json": {
              "model_id": "537ab09583304345b918d485bdcffe80",
              "version_minor": 0,
              "version_major": 2
            },
            "text/plain": [
              "HBox(children=(FloatProgress(value=0.0, description='Downloading', max=231508.0, style=ProgressStyle(descripti…"
            ]
          },
          "metadata": {
            "tags": []
          }
        },
        {
          "output_type": "stream",
          "text": [
            "\n"
          ],
          "name": "stdout"
        },
        {
          "output_type": "display_data",
          "data": {
            "application/vnd.jupyter.widget-view+json": {
              "model_id": "8efefc220354439e9a976c4562e33e16",
              "version_minor": 0,
              "version_major": 2
            },
            "text/plain": [
              "HBox(children=(FloatProgress(value=0.0, description='Downloading', max=112.0, style=ProgressStyle(description_…"
            ]
          },
          "metadata": {
            "tags": []
          }
        },
        {
          "output_type": "stream",
          "text": [
            "\n"
          ],
          "name": "stdout"
        },
        {
          "output_type": "display_data",
          "data": {
            "application/vnd.jupyter.widget-view+json": {
              "model_id": "9c91fbb9fac943f0ae0d776245c3f7b2",
              "version_minor": 0,
              "version_major": 2
            },
            "text/plain": [
              "HBox(children=(FloatProgress(value=0.0, description='Downloading', max=252.0, style=ProgressStyle(description_…"
            ]
          },
          "metadata": {
            "tags": []
          }
        },
        {
          "output_type": "stream",
          "text": [
            "\n"
          ],
          "name": "stdout"
        }
      ]
    },
    {
      "cell_type": "code",
      "metadata": {
        "colab": {
          "base_uri": "https://localhost:8080/"
        },
        "id": "UJrWq_9_GxrC",
        "outputId": "7b54a211-f70d-4392-f7da-878927dc9821"
      },
      "source": [
        "config.max_position_embeddings = 200\n",
        "config"
      ],
      "execution_count": null,
      "outputs": [
        {
          "output_type": "execute_result",
          "data": {
            "text/plain": [
              "BertConfig {\n",
              "  \"_name_or_path\": \"ProsusAI/finbert\",\n",
              "  \"architectures\": [\n",
              "    \"BertForSequenceClassification\"\n",
              "  ],\n",
              "  \"attention_probs_dropout_prob\": 0.1,\n",
              "  \"gradient_checkpointing\": false,\n",
              "  \"hidden_act\": \"gelu\",\n",
              "  \"hidden_dropout_prob\": 0.1,\n",
              "  \"hidden_size\": 768,\n",
              "  \"id2label\": {\n",
              "    \"0\": \"decrease\",\n",
              "    \"1\": \"neutral\",\n",
              "    \"2\": \"increase\"\n",
              "  },\n",
              "  \"initializer_range\": 0.02,\n",
              "  \"intermediate_size\": 3072,\n",
              "  \"label2id\": {\n",
              "    \"decrease\": 0,\n",
              "    \"increase\": 2,\n",
              "    \"neutral\": 1\n",
              "  },\n",
              "  \"layer_norm_eps\": 1e-12,\n",
              "  \"max_position_embeddings\": 200,\n",
              "  \"model_type\": \"bert\",\n",
              "  \"num_attention_heads\": 12,\n",
              "  \"num_hidden_layers\": 12,\n",
              "  \"pad_token_id\": 0,\n",
              "  \"position_embedding_type\": \"absolute\",\n",
              "  \"transformers_version\": \"4.6.0.dev0\",\n",
              "  \"type_vocab_size\": 2,\n",
              "  \"use_cache\": true,\n",
              "  \"vocab_size\": 30522\n",
              "}"
            ]
          },
          "metadata": {
            "tags": []
          },
          "execution_count": 12
        }
      ]
    },
    {
      "cell_type": "code",
      "metadata": {
        "id": "AYKdjibZLlt9"
      },
      "source": [
        "batch_size = 16\n",
        "epochs = 5\n",
        "lr = 2e-5\n",
        "early_stopping = early_stopping = tf.keras.callbacks.EarlyStopping(\n",
        "    monitor = 'val_loss',\n",
        "    verbose = 1,\n",
        "    patience = 10,\n",
        "    mode = 'max',\n",
        "    restore_best_weights = True\n",
        ")\n",
        "auto = tf.data.experimental.AUTOTUNE\n",
        "max_seq_length = 200"
      ],
      "execution_count": null,
      "outputs": []
    },
    {
      "cell_type": "markdown",
      "metadata": {
        "id": "YazbbX08D_46"
      },
      "source": [
        "## Tokenizing data"
      ]
    },
    {
      "cell_type": "code",
      "metadata": {
        "id": "FnzWHtOCEB1F"
      },
      "source": [
        "x = df.Filing.values\n",
        "y = df.Label.values\n",
        "labs = []\n",
        "\n",
        "for i in y:\n",
        "  if i == 'decrease':\n",
        "    labs.append(0)\n",
        "  elif i == 'neutral':\n",
        "    labs.append(1)\n",
        "  else:\n",
        "    labs.append(2)\n",
        "labs = np.array(labs)\n",
        "x_train, x_test, y_train, y_test = train_test_split(x,labs, test_size = 0.2, random_state = 42)"
      ],
      "execution_count": null,
      "outputs": []
    },
    {
      "cell_type": "code",
      "metadata": {
        "id": "B04G4W2nQXq5"
      },
      "source": [
        "train_texts, val_texts, train_labels, val_labels = train_test_split(x_train, y_train, test_size =0.2)\n"
      ],
      "execution_count": null,
      "outputs": []
    },
    {
      "cell_type": "code",
      "metadata": {
        "id": "06tmn5fsRA1K"
      },
      "source": [
        "train_encodings = tokenizer(list(train_texts),\n",
        "                            truncation = True,\n",
        "                            padding = True,\n",
        "                            max_length = max_seq_length,\n",
        "                            return_tensors = 'pt')\n",
        "\n",
        "val_encodings = tokenizer(list(val_texts),\n",
        "                          truncation = True,\n",
        "                          padding = True,\n",
        "                          max_length = max_seq_length,\n",
        "                          return_tensors = 'pt')\n",
        "\n",
        "test_encodings = tokenizer(list(x_test),\n",
        "                           truncation = True,\n",
        "                           padding = True,\n",
        "                           return_tensors = 'pt')"
      ],
      "execution_count": null,
      "outputs": []
    },
    {
      "cell_type": "code",
      "metadata": {
        "id": "TsNf1RUGOLsQ"
      },
      "source": [
        "class SEC_Dataset(torch.utils.data.Dataset):\n",
        "  def __init__(self, encodings, labels):\n",
        "    self.encodings = encodings\n",
        "    self.labels = labels\n",
        "\n",
        "  def __getitem__(self, idx):\n",
        "    item = {key: torch.tensor(val[idx]) for key, val in self.encodings.items()}\n",
        "    item['labels'] = torch.tensor(self.labels[idx])\n",
        "    return item\n",
        "\n",
        "  def __len__(self):\n",
        "    return len(self.labels)\n",
        "\n",
        "train_dataset = SEC_Dataset(train_encodings, train_labels)\n",
        "val_dataset = SEC_Dataset(val_encodings, val_labels)\n",
        "test_dataset = SEC_Dataset(test_encodings, y_test)"
      ],
      "execution_count": null,
      "outputs": []
    },
    {
      "cell_type": "markdown",
      "metadata": {
        "id": "q6XE1RB6TIJ4"
      },
      "source": [
        "## Performance metrics"
      ]
    },
    {
      "cell_type": "code",
      "metadata": {
        "id": "ZNUbBJNNuzV2"
      },
      "source": [
        "from sklearn.metrics import accuracy_score, precision_recall_fscore_support, classification_report\n",
        "\n",
        "def compute_metrics(eval_pred):\n",
        "  labels = eval_pred.label_ids\n",
        "  preds = eval_pred.predictions.argmax(-1)\n",
        "  lab_names = [0,1,2]\n",
        "  \n",
        "  precision, recall, f1, _ = precision_recall_fscore_support(labels, preds, average ='weighted')\n",
        "  acc = accuracy_score(labels, preds)\n",
        "  print(precision_recall_fscore_support(labels, preds, average = None, labels = lab_names))\n",
        "\n",
        "\n",
        "  dic = {\n",
        "      'Accuracy': acc,\n",
        "      'F1': f1,\n",
        "      'Precision': precision,\n",
        "      'Recall': recall\n",
        "  }\n",
        "  return dic"
      ],
      "execution_count": null,
      "outputs": []
    },
    {
      "cell_type": "markdown",
      "metadata": {
        "id": "P-a_7_-evT8J"
      },
      "source": [
        "## Training"
      ]
    },
    {
      "cell_type": "code",
      "metadata": {
        "id": "sp4TNcf9blvy"
      },
      "source": [
        "class MyTrainer(Trainer):\n",
        "  def __init__(self, model,\n",
        "        args = None,\n",
        "        data_collator = None,\n",
        "        train_dataset = None,\n",
        "        eval_dataset = None,\n",
        "        tokenizer = None,\n",
        "        model_init = None,\n",
        "        compute_metrics = None,\n",
        "        callbacks = None,\n",
        "        optimizers = (None,None)\n",
        "    ):\n",
        "\n",
        "    super().__init__(model, args, data_collator, train_dataset, eval_dataset, tokenizer, model_init,\n",
        "                  compute_metrics, callbacks, optimizers) \n",
        "    \n",
        "  def evaluate(\n",
        "        self,\n",
        "        train_dataset = None,\n",
        "        eval_dataset: Optional[Dataset] = None,\n",
        "        ignore_keys: Optional[List[str]] = None,\n",
        "        metric_key_prefix: str = \"eval\",\n",
        "    ) -> Dict[str, float]:\n",
        "        \n",
        "        # memory metrics - must set up as early as possible\n",
        "        self._memory_tracker.start()\n",
        "\n",
        "        if eval_dataset is not None and not isinstance(eval_dataset, collections.abc.Sized):\n",
        "            raise ValueError(\"eval_dataset must implement __len__\")\n",
        "\n",
        "        train_dataloader = self.get_train_dataloader()\n",
        "        eval_dataloader = self.get_eval_dataloader(eval_dataset)\n",
        "        start_time = time.time()\n",
        "\n",
        "        train_output = self.prediction_loop(\n",
        "            train_dataloader,\n",
        "            description = 'Training',\n",
        "            prediction_loss_only = True if self.compute_metrics is None else None,\n",
        "            ignore_keys = ignore_keys,\n",
        "            metric_key_prefix = 'train',\n",
        "            )\n",
        "\n",
        "\n",
        "        eval_output = self.prediction_loop(\n",
        "            eval_dataloader,\n",
        "            description=\"Evaluation\",\n",
        "            # No point gathering the predictions if there are no metrics, otherwise we defer to\n",
        "            # self.args.prediction_loss_only\n",
        "            prediction_loss_only=True if self.compute_metrics is None else None,\n",
        "            ignore_keys=ignore_keys,\n",
        "            metric_key_prefix=metric_key_prefix,\n",
        "        )\n",
        "        train_n_samples = len(self.train_dataset)\n",
        "        train_output.metrics.update(speed_metrics('train', start_time, train_n_samples))\n",
        "        self.log(train_output.metrics)\n",
        "\n",
        "        eval_n_samples = len(eval_dataset if eval_dataset is not None else self.eval_dataset)\n",
        "        eval_output.metrics.update(speed_metrics(metric_key_prefix, start_time, eval_n_samples))\n",
        "        self.log(eval_output.metrics)\n",
        "\n",
        "        if self.args.tpu_metrics_debug or self.args.debug:\n",
        "            # tpu-comment: Logging debug metrics for PyTorch/XLA (compile, execute times, ops, etc.)\n",
        "            xm.master_print(met.metrics_report())\n",
        "        \n",
        "        train_output.metrics['eval_loss'] = 'No log'\n",
        "        self.control = self.callback_handler.on_evaluate(self.args, self.state, self.control, eval_output.metrics)\n",
        "        self.control = self.callback_handler.on_evaluate(self.args, self.state, self.control, train_output.metrics)\n",
        "\n",
        "        self._memory_tracker.stop_and_update_metrics(train_output.metrics)\n",
        "        self._memory_tracker.stop_and_update_metrics(eval_output.metrics)\n",
        "\n",
        "        dic = {\n",
        "        'Training metrics': train_output.metrics,\n",
        "        'Validation metrics': eval_output.metrics\n",
        "        }\n",
        "\n",
        "        return dic\n",
        "\n"
      ],
      "execution_count": null,
      "outputs": []
    },
    {
      "cell_type": "markdown",
      "metadata": {
        "id": "iYt3tT9ckJpE"
      },
      "source": [
        "<b>NOTE:</b>The log prints two rows per epoch because the second row was added into the source code to retrieve the training accuracy. That is why the training loss is the same, and there is no log for validation loss."
      ]
    },
    {
      "cell_type": "code",
      "metadata": {
        "colab": {
          "base_uri": "https://localhost:8080/",
          "height": 660
        },
        "id": "EYI3fxu8Hijr",
        "outputId": "81cf3315-52d9-4ae0-d9a2-da3c42127a86"
      },
      "source": [
        "training_args = TrainingArguments(\n",
        "    output_dir = 'finBERT',\n",
        "    num_train_epochs = epochs,\n",
        "    do_train = True,\n",
        "    do_eval = True,\n",
        "    evaluation_strategy = 'epoch',\n",
        "    logging_strategy = 'epoch',\n",
        "    per_device_train_batch_size = batch_size,\n",
        "    per_device_eval_batch_size = batch_size,\n",
        "    warmup_steps = 250,\n",
        "    weight_decay = 0.01\n",
        ")\n",
        "\n",
        "trainer = MyTrainer(\n",
        "    model = finbert,\n",
        "    args = training_args,\n",
        "    train_dataset = train_dataset,\n",
        "    eval_dataset = val_dataset,\n",
        "    compute_metrics = compute_metrics\n",
        ")\n",
        "\n",
        "trainer.train()"
      ],
      "execution_count": null,
      "outputs": [
        {
          "output_type": "stream",
          "text": [
            "/usr/local/lib/python3.7/dist-packages/ipykernel_launcher.py:7: UserWarning: To copy construct from a tensor, it is recommended to use sourceTensor.clone().detach() or sourceTensor.clone().detach().requires_grad_(True), rather than torch.tensor(sourceTensor).\n",
            "  import sys\n"
          ],
          "name": "stderr"
        },
        {
          "output_type": "display_data",
          "data": {
            "text/html": [
              "\n",
              "    <div>\n",
              "      \n",
              "      <progress value='270' max='270' style='width:300px; height:20px; vertical-align: middle;'></progress>\n",
              "      [270/270 04:03, Epoch 5/5]\n",
              "    </div>\n",
              "    <table border=\"1\" class=\"dataframe\">\n",
              "  <thead>\n",
              "    <tr style=\"text-align: left;\">\n",
              "      <th>Epoch</th>\n",
              "      <th>Training Loss</th>\n",
              "      <th>Validation Loss</th>\n",
              "      <th>Accuracy</th>\n",
              "      <th>F1</th>\n",
              "      <th>Precision</th>\n",
              "      <th>Recall</th>\n",
              "    </tr>\n",
              "  </thead>\n",
              "  <tbody>\n",
              "    <tr>\n",
              "      <td>1</td>\n",
              "      <td>1.588900</td>\n",
              "      <td>0.837993</td>\n",
              "      <td>0.638889</td>\n",
              "      <td>0.593915</td>\n",
              "      <td>0.638126</td>\n",
              "      <td>0.638889</td>\n",
              "    </tr>\n",
              "    <tr>\n",
              "      <td>1</td>\n",
              "      <td>1.588900</td>\n",
              "      <td>No log</td>\n",
              "      <td>0.570602</td>\n",
              "      <td>0.528329</td>\n",
              "      <td>0.663630</td>\n",
              "      <td>0.570602</td>\n",
              "    </tr>\n",
              "    <tr>\n",
              "      <td>2</td>\n",
              "      <td>0.879000</td>\n",
              "      <td>0.829581</td>\n",
              "      <td>0.671296</td>\n",
              "      <td>0.665698</td>\n",
              "      <td>0.683340</td>\n",
              "      <td>0.671296</td>\n",
              "    </tr>\n",
              "    <tr>\n",
              "      <td>2</td>\n",
              "      <td>0.879000</td>\n",
              "      <td>No log</td>\n",
              "      <td>0.725694</td>\n",
              "      <td>0.712180</td>\n",
              "      <td>0.746601</td>\n",
              "      <td>0.725694</td>\n",
              "    </tr>\n",
              "    <tr>\n",
              "      <td>3</td>\n",
              "      <td>0.716200</td>\n",
              "      <td>0.774018</td>\n",
              "      <td>0.708333</td>\n",
              "      <td>0.698501</td>\n",
              "      <td>0.723178</td>\n",
              "      <td>0.708333</td>\n",
              "    </tr>\n",
              "    <tr>\n",
              "      <td>3</td>\n",
              "      <td>0.716200</td>\n",
              "      <td>No log</td>\n",
              "      <td>0.813657</td>\n",
              "      <td>0.806940</td>\n",
              "      <td>0.832208</td>\n",
              "      <td>0.813657</td>\n",
              "    </tr>\n",
              "    <tr>\n",
              "      <td>4</td>\n",
              "      <td>0.607700</td>\n",
              "      <td>0.655420</td>\n",
              "      <td>0.787037</td>\n",
              "      <td>0.774400</td>\n",
              "      <td>0.792778</td>\n",
              "      <td>0.787037</td>\n",
              "    </tr>\n",
              "    <tr>\n",
              "      <td>4</td>\n",
              "      <td>0.607700</td>\n",
              "      <td>No log</td>\n",
              "      <td>0.854167</td>\n",
              "      <td>0.852432</td>\n",
              "      <td>0.868953</td>\n",
              "      <td>0.854167</td>\n",
              "    </tr>\n",
              "    <tr>\n",
              "      <td>5</td>\n",
              "      <td>0.534200</td>\n",
              "      <td>0.803667</td>\n",
              "      <td>0.703704</td>\n",
              "      <td>0.703026</td>\n",
              "      <td>0.705088</td>\n",
              "      <td>0.703704</td>\n",
              "    </tr>\n",
              "    <tr>\n",
              "      <td>5</td>\n",
              "      <td>0.534200</td>\n",
              "      <td>No log</td>\n",
              "      <td>0.887731</td>\n",
              "      <td>0.886736</td>\n",
              "      <td>0.888294</td>\n",
              "      <td>0.887731</td>\n",
              "    </tr>\n",
              "  </tbody>\n",
              "</table><p>"
            ],
            "text/plain": [
              "<IPython.core.display.HTML object>"
            ]
          },
          "metadata": {
            "tags": []
          }
        },
        {
          "output_type": "stream",
          "text": [
            "/usr/local/lib/python3.7/dist-packages/transformers/trainer_pt_utils.py:367: FutureWarning: DistributedTensorGatherer is deprecated and will be removed in v5 of Tranformers.\n",
            "  FutureWarning,\n"
          ],
          "name": "stderr"
        },
        {
          "output_type": "stream",
          "text": [
            "(array([0.66981132, 0.51683748, 0.92      ]), array([0.26007326, 0.92894737, 0.32701422]), array([0.37467018, 0.66415804, 0.48251748]), array([273, 380, 211]))\n",
            "(array([0.44      , 0.64739884, 0.83333333]), array([0.22      , 0.92561983, 0.33333333]), array([0.29333333, 0.76190476, 0.47619048]), array([ 50, 121,  45]))\n",
            "(array([0.69811321, 0.71364653, 0.86868687]), array([0.81318681, 0.83947368, 0.40758294]), array([0.75126904, 0.77146312, 0.55483871]), array([273, 380, 211]))\n",
            "(array([0.50793651, 0.7421875 , 0.72      ]), array([0.64      , 0.78512397, 0.4       ]), array([0.56637168, 0.76305221, 0.51428571]), array([ 50, 121,  45]))\n",
            "(array([0.81785714, 0.77173913, 0.95967742]), array([0.83882784, 0.93421053, 0.56398104]), array([0.82820976, 0.8452381 , 0.71044776]), array([273, 380, 211]))\n",
            "(array([0.55932203, 0.75555556, 0.81818182]), array([0.66      , 0.84297521, 0.4       ]), array([0.60550459, 0.796875  , 0.53731343]), array([ 50, 121,  45]))\n",
            "(array([0.96396396, 0.78891258, 0.89017341]), array([0.78388278, 0.97368421, 0.72985782]), array([0.86464646, 0.87161366, 0.80208333]), array([273, 380, 211]))\n",
            "(array([0.83333333, 0.77333333, 0.8       ]), array([0.6       , 0.95867769, 0.53333333]), array([0.69767442, 0.85608856, 0.64      ]), array([ 50, 121,  45]))\n",
            "(array([0.91538462, 0.87621359, 0.875     ]), array([0.87179487, 0.95      , 0.79620853]), array([0.89305816, 0.91161616, 0.8337469 ]), array([273, 380, 211]))\n",
            "(array([0.58928571, 0.7704918 , 0.65789474]), array([0.66      , 0.7768595 , 0.55555556]), array([0.62264151, 0.77366255, 0.60240964]), array([ 50, 121,  45]))\n"
          ],
          "name": "stdout"
        },
        {
          "output_type": "execute_result",
          "data": {
            "text/plain": [
              "TrainOutput(global_step=270, training_loss=0.865188471476237, metrics={'train_runtime': 244.1086, 'train_samples_per_second': 1.106, 'total_flos': 567567891648000.0, 'epoch': 5.0, 'init_mem_cpu_alloc_delta': 2228011008, 'init_mem_gpu_alloc_delta': 439075328, 'init_mem_cpu_peaked_delta': 0, 'init_mem_gpu_peaked_delta': 0, 'train_mem_cpu_alloc_delta': 11235328, 'train_mem_gpu_alloc_delta': 1326974464, 'train_mem_cpu_peaked_delta': 0, 'train_mem_gpu_peaked_delta': 3255743488})"
            ]
          },
          "metadata": {
            "tags": []
          },
          "execution_count": 20
        }
      ]
    },
    {
      "cell_type": "code",
      "metadata": {
        "colab": {
          "base_uri": "https://localhost:8080/"
        },
        "id": "yUlmHIQucaEK",
        "outputId": "d2bb4dda-d720-4707-8c47-09873323d9ce"
      },
      "source": [
        "trainer.state.log_history"
      ],
      "execution_count": null,
      "outputs": [
        {
          "output_type": "execute_result",
          "data": {
            "text/plain": [
              "[{'epoch': 1.0, 'learning_rate': 1.08e-05, 'loss': 1.5889, 'step': 54},\n",
              " {'epoch': 1.0,\n",
              "  'step': 54,\n",
              "  'train_Accuracy': 0.5706018518518519,\n",
              "  'train_F1': 0.5283289417562254,\n",
              "  'train_Precision': 0.6636304787169279,\n",
              "  'train_Recall': 0.5706018518518519,\n",
              "  'train_loss': 0.916656494140625,\n",
              "  'train_runtime': 13.869,\n",
              "  'train_samples_per_second': 62.297},\n",
              " {'epoch': 1.0,\n",
              "  'eval_Accuracy': 0.6388888888888888,\n",
              "  'eval_F1': 0.5939153439153438,\n",
              "  'eval_Precision': 0.6381262042389211,\n",
              "  'eval_Recall': 0.6388888888888888,\n",
              "  'eval_loss': 0.8379929661750793,\n",
              "  'eval_runtime': 13.8704,\n",
              "  'eval_samples_per_second': 15.573,\n",
              "  'step': 54},\n",
              " {'epoch': 2.0, 'learning_rate': 2.16e-05, 'loss': 0.879, 'step': 108},\n",
              " {'epoch': 2.0,\n",
              "  'step': 108,\n",
              "  'train_Accuracy': 0.7256944444444444,\n",
              "  'train_F1': 0.7121798610325983,\n",
              "  'train_Precision': 0.7466012931480656,\n",
              "  'train_Recall': 0.7256944444444444,\n",
              "  'train_loss': 0.7005714178085327,\n",
              "  'train_runtime': 13.2764,\n",
              "  'train_samples_per_second': 65.078},\n",
              " {'epoch': 2.0,\n",
              "  'eval_Accuracy': 0.6712962962962963,\n",
              "  'eval_F1': 0.6656979559385645,\n",
              "  'eval_Precision': 0.6833403374853028,\n",
              "  'eval_Recall': 0.6712962962962963,\n",
              "  'eval_loss': 0.8295806646347046,\n",
              "  'eval_runtime': 13.2777,\n",
              "  'eval_samples_per_second': 16.268,\n",
              "  'step': 108},\n",
              " {'epoch': 3.0, 'learning_rate': 3.24e-05, 'loss': 0.7162, 'step': 162},\n",
              " {'epoch': 3.0,\n",
              "  'step': 162,\n",
              "  'train_Accuracy': 0.8136574074074074,\n",
              "  'train_F1': 0.8069400690106497,\n",
              "  'train_Precision': 0.8322081076957041,\n",
              "  'train_Recall': 0.8136574074074074,\n",
              "  'train_loss': 0.49462100863456726,\n",
              "  'train_runtime': 13.5539,\n",
              "  'train_samples_per_second': 63.746},\n",
              " {'epoch': 3.0,\n",
              "  'eval_Accuracy': 0.7083333333333334,\n",
              "  'eval_F1': 0.6985009668306025,\n",
              "  'eval_Precision': 0.7231782672931449,\n",
              "  'eval_Recall': 0.7083333333333334,\n",
              "  'eval_loss': 0.774017870426178,\n",
              "  'eval_runtime': 13.5552,\n",
              "  'eval_samples_per_second': 15.935,\n",
              "  'step': 162},\n",
              " {'epoch': 4.0, 'learning_rate': 4.32e-05, 'loss': 0.6077, 'step': 216},\n",
              " {'epoch': 4.0,\n",
              "  'step': 216,\n",
              "  'train_Accuracy': 0.8541666666666666,\n",
              "  'train_F1': 0.8524320140884205,\n",
              "  'train_Precision': 0.8689531622006171,\n",
              "  'train_Recall': 0.8541666666666666,\n",
              "  'train_loss': 0.4381493926048279,\n",
              "  'train_runtime': 13.3965,\n",
              "  'train_samples_per_second': 64.494},\n",
              " {'epoch': 4.0,\n",
              "  'eval_Accuracy': 0.7870370370370371,\n",
              "  'eval_F1': 0.7744001703582927,\n",
              "  'eval_Precision': 0.7927777777777778,\n",
              "  'eval_Recall': 0.7870370370370371,\n",
              "  'eval_loss': 0.6554203033447266,\n",
              "  'eval_runtime': 13.398,\n",
              "  'eval_samples_per_second': 16.122,\n",
              "  'step': 216},\n",
              " {'epoch': 5.0, 'learning_rate': 0.0, 'loss': 0.5342, 'step': 270},\n",
              " {'epoch': 5.0,\n",
              "  'step': 270,\n",
              "  'train_Accuracy': 0.8877314814814815,\n",
              "  'train_F1': 0.8867356655051165,\n",
              "  'train_Precision': 0.8882941725098884,\n",
              "  'train_Recall': 0.8877314814814815,\n",
              "  'train_loss': 0.32392117381095886,\n",
              "  'train_runtime': 13.4902,\n",
              "  'train_samples_per_second': 64.046},\n",
              " {'epoch': 5.0,\n",
              "  'eval_Accuracy': 0.7037037037037037,\n",
              "  'eval_F1': 0.7030262867172118,\n",
              "  'eval_Precision': 0.7050882271708415,\n",
              "  'eval_Recall': 0.7037037037037037,\n",
              "  'eval_loss': 0.8036671280860901,\n",
              "  'eval_runtime': 13.4918,\n",
              "  'eval_samples_per_second': 16.01,\n",
              "  'step': 270},\n",
              " {'epoch': 5.0,\n",
              "  'step': 270,\n",
              "  'total_flos': 567567891648000.0,\n",
              "  'train_runtime': 244.1086,\n",
              "  'train_samples_per_second': 1.106}]"
            ]
          },
          "metadata": {
            "tags": []
          },
          "execution_count": 21
        }
      ]
    },
    {
      "cell_type": "markdown",
      "metadata": {
        "id": "R9ue43_-pnYH"
      },
      "source": [
        "## Plotting training"
      ]
    },
    {
      "cell_type": "code",
      "metadata": {
        "colab": {
          "base_uri": "https://localhost:8080/"
        },
        "id": "twP4iCokqL7k",
        "outputId": "cf51a060-fa69-4050-bc94-af7fd37710f2"
      },
      "source": [
        "for log_history in trainer.state.log_history:\n",
        "  print(log_history.keys())"
      ],
      "execution_count": null,
      "outputs": [
        {
          "output_type": "stream",
          "text": [
            "dict_keys(['loss', 'learning_rate', 'epoch', 'step'])\n",
            "dict_keys(['train_loss', 'train_Accuracy', 'train_F1', 'train_Precision', 'train_Recall', 'train_runtime', 'train_samples_per_second', 'epoch', 'step'])\n",
            "dict_keys(['eval_loss', 'eval_Accuracy', 'eval_F1', 'eval_Precision', 'eval_Recall', 'eval_runtime', 'eval_samples_per_second', 'epoch', 'step'])\n",
            "dict_keys(['loss', 'learning_rate', 'epoch', 'step'])\n",
            "dict_keys(['train_loss', 'train_Accuracy', 'train_F1', 'train_Precision', 'train_Recall', 'train_runtime', 'train_samples_per_second', 'epoch', 'step'])\n",
            "dict_keys(['eval_loss', 'eval_Accuracy', 'eval_F1', 'eval_Precision', 'eval_Recall', 'eval_runtime', 'eval_samples_per_second', 'epoch', 'step'])\n",
            "dict_keys(['loss', 'learning_rate', 'epoch', 'step'])\n",
            "dict_keys(['train_loss', 'train_Accuracy', 'train_F1', 'train_Precision', 'train_Recall', 'train_runtime', 'train_samples_per_second', 'epoch', 'step'])\n",
            "dict_keys(['eval_loss', 'eval_Accuracy', 'eval_F1', 'eval_Precision', 'eval_Recall', 'eval_runtime', 'eval_samples_per_second', 'epoch', 'step'])\n",
            "dict_keys(['loss', 'learning_rate', 'epoch', 'step'])\n",
            "dict_keys(['train_loss', 'train_Accuracy', 'train_F1', 'train_Precision', 'train_Recall', 'train_runtime', 'train_samples_per_second', 'epoch', 'step'])\n",
            "dict_keys(['eval_loss', 'eval_Accuracy', 'eval_F1', 'eval_Precision', 'eval_Recall', 'eval_runtime', 'eval_samples_per_second', 'epoch', 'step'])\n",
            "dict_keys(['loss', 'learning_rate', 'epoch', 'step'])\n",
            "dict_keys(['train_loss', 'train_Accuracy', 'train_F1', 'train_Precision', 'train_Recall', 'train_runtime', 'train_samples_per_second', 'epoch', 'step'])\n",
            "dict_keys(['eval_loss', 'eval_Accuracy', 'eval_F1', 'eval_Precision', 'eval_Recall', 'eval_runtime', 'eval_samples_per_second', 'epoch', 'step'])\n",
            "dict_keys(['train_runtime', 'train_samples_per_second', 'total_flos', 'epoch', 'step'])\n"
          ],
          "name": "stdout"
        }
      ]
    },
    {
      "cell_type": "code",
      "metadata": {
        "colab": {
          "base_uri": "https://localhost:8080/",
          "height": 353
        },
        "id": "DCRd-v88prGC",
        "outputId": "2f5f8c58-5042-4004-e19c-2e4b07ab2eb9"
      },
      "source": [
        "# here we plot BERT vs finBERT\n",
        "finbert_train_loss = []\n",
        "finbert_val_loss = []\n",
        "finbert_train_acc = []\n",
        "finbert_val_acc = []\n",
        "bert_val_loss = [0.9916209578514099, 0.8696171641349792, 0.8130695223808289, 0.6990460753440857, 0.6732652187347412]\n",
        "bert_acc = [0.5324074074074074, 0.6666666666666666, 0.6759259259259259, 0.6759259259259259, 0.7407407407407407]\n",
        "\n",
        "\n",
        "for log_history in trainer.state.log_history:\n",
        "\n",
        "  if 'train_loss' in log_history.keys():\n",
        "    # Deal with trianing loss.\n",
        "    finbert_train_loss.append(log_history['train_loss'])\n",
        "    finbert_train_acc.append(log_history['train_Accuracy'])\n",
        "    \n",
        "  elif 'eval_loss' in log_history.keys():\n",
        "    # Deal with eval loss.\n",
        "    finbert_val_loss.append(log_history['eval_loss'])\n",
        "    finbert_val_acc.append(log_history['eval_Accuracy'])\n",
        "\n",
        "sns.set_style('darkgrid')\n",
        "\n",
        "x = range(1, len(finbert_train_acc) + 1)\n",
        "plt.figure(figsize = (12,5))\n",
        "plt.subplot(1,2,1)\n",
        "plt.plot(x, finbert_val_acc, 'r', label = 'FinBERT')\n",
        "plt.plot(x, bert_acc, 'b', label = 'BERT')\n",
        "plt.title('Validation accuracy')\n",
        "plt.legend()\n",
        "plt.subplot(1,2,2)\n",
        "plt.plot(x, finbert_val_loss, 'r', label = 'FinBERT')\n",
        "plt.plot(x, bert_val_loss, 'b', label = 'BERT')\n",
        "plt.title('Validation loss')\n",
        "plt.legend()"
      ],
      "execution_count": null,
      "outputs": [
        {
          "output_type": "execute_result",
          "data": {
            "text/plain": [
              "<matplotlib.legend.Legend at 0x7fea9807d690>"
            ]
          },
          "metadata": {
            "tags": []
          },
          "execution_count": 23
        },
        {
          "output_type": "display_data",
          "data": {
            "image/png": "[encoded data removed]",
            "text/plain": [
              "<Figure size 864x360 with 2 Axes>"
            ]
          },
          "metadata": {
            "tags": []
          }
        }
      ]
    },
    {
      "cell_type": "code",
      "metadata": {
        "id": "IdymfDwvMGZc",
        "colab": {
          "base_uri": "https://localhost:8080/",
          "height": 353
        },
        "outputId": "ae96623c-90b7-4c53-ee75-d3a4cdf99718"
      },
      "source": [
        "# here we plot finBERT training\n",
        "x = range(1, len(finbert_train_acc) + 1)\n",
        "plt.figure(figsize = (12,5))\n",
        "plt.subplot(1,2,1)\n",
        "plt.plot(x, finbert_train_acc, 'b', label = 'Training accuracy')\n",
        "plt.plot(x, finbert_val_acc, 'r', label = 'Validation accuracy')\n",
        "plt.title('Training and validation accuracy')\n",
        "plt.legend()\n",
        "plt.subplot(1,2,2)\n",
        "plt.plot(x, finbert_train_loss, 'b', label = 'Training loss')\n",
        "plt.plot(x, finbert_val_loss, 'r', label = 'Validation loss')\n",
        "plt.title('Training and validation loss')\n",
        "plt.legend()"
      ],
      "execution_count": null,
      "outputs": [
        {
          "output_type": "execute_result",
          "data": {
            "text/plain": [
              "<matplotlib.legend.Legend at 0x7fea98047210>"
            ]
          },
          "metadata": {
            "tags": []
          },
          "execution_count": 24
        },
        {
          "output_type": "display_data",
          "data": {
            "image/png": "[encoded data removed]",
            "text/plain": [
              "<Figure size 864x360 with 2 Axes>"
            ]
          },
          "metadata": {
            "tags": []
          }
        }
      ]
    },
    {
      "cell_type": "code",
      "metadata": {
        "id": "Y8XwpYbCeaeG"
      },
      "source": [
        ""
      ],
      "execution_count": null,
      "outputs": []
    }
  ]
}