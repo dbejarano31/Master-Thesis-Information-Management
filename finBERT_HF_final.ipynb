{
  "nbformat": 4,
  "nbformat_minor": 0,
  "metadata": {
    "accelerator": "GPU",
    "colab": {
      "name": "finBERT_HF_final.ipynb",
      "provenance": [],
      "collapsed_sections": [
        "i15FipMIg_J8",
        "d02BmPnV63Ri"
      ],
      "include_colab_link": true
    },
    "kernelspec": {
      "display_name": "Python 3",
      "name": "python3"
    },
    "language_info": {
      "name": "python"
    },
    "widgets": {
      "application/vnd.jupyter.widget-state+json": {
        "84489b215bd844ab803bb8e769328f1b": {
          "model_module": "@jupyter-widgets/controls",
          "model_name": "HBoxModel",
          "state": {
            "_view_name": "HBoxView",
            "_dom_classes": [],
            "_model_name": "HBoxModel",
            "_view_module": "@jupyter-widgets/controls",
            "_model_module_version": "1.5.0",
            "_view_count": null,
            "_view_module_version": "1.5.0",
            "box_style": "",
            "layout": "IPY_MODEL_6e1628776e6e4c8f969ee8b7cd4ec84d",
            "_model_module": "@jupyter-widgets/controls",
            "children": [
              "IPY_MODEL_8704268fb579427ca5ac669f52c9c823",
              "IPY_MODEL_ee77958b4b484f6997af4a18f43925f5"
            ]
          }
        },
        "6e1628776e6e4c8f969ee8b7cd4ec84d": {
          "model_module": "@jupyter-widgets/base",
          "model_name": "LayoutModel",
          "state": {
            "_view_name": "LayoutView",
            "grid_template_rows": null,
            "right": null,
            "justify_content": null,
            "_view_module": "@jupyter-widgets/base",
            "overflow": null,
            "_model_module_version": "1.2.0",
            "_view_count": null,
            "flex_flow": null,
            "width": null,
            "min_width": null,
            "border": null,
            "align_items": null,
            "bottom": null,
            "_model_module": "@jupyter-widgets/base",
            "top": null,
            "grid_column": null,
            "overflow_y": null,
            "overflow_x": null,
            "grid_auto_flow": null,
            "grid_area": null,
            "grid_template_columns": null,
            "flex": null,
            "_model_name": "LayoutModel",
            "justify_items": null,
            "grid_row": null,
            "max_height": null,
            "align_content": null,
            "visibility": null,
            "align_self": null,
            "height": null,
            "min_height": null,
            "padding": null,
            "grid_auto_rows": null,
            "grid_gap": null,
            "max_width": null,
            "order": null,
            "_view_module_version": "1.2.0",
            "grid_template_areas": null,
            "object_position": null,
            "object_fit": null,
            "grid_auto_columns": null,
            "margin": null,
            "display": null,
            "left": null
          }
        },
        "8704268fb579427ca5ac669f52c9c823": {
          "model_module": "@jupyter-widgets/controls",
          "model_name": "FloatProgressModel",
          "state": {
            "_view_name": "ProgressView",
            "style": "IPY_MODEL_58cb1e23b7a642c5bc1f50be0409a75e",
            "_dom_classes": [],
            "description": "Downloading: 100%",
            "_model_name": "FloatProgressModel",
            "bar_style": "success",
            "max": 758,
            "_view_module": "@jupyter-widgets/controls",
            "_model_module_version": "1.5.0",
            "value": 758,
            "_view_count": null,
            "_view_module_version": "1.5.0",
            "orientation": "horizontal",
            "min": 0,
            "description_tooltip": null,
            "_model_module": "@jupyter-widgets/controls",
            "layout": "IPY_MODEL_8fedc8f7692847eda30301b71ef29841"
          }
        },
        "ee77958b4b484f6997af4a18f43925f5": {
          "model_module": "@jupyter-widgets/controls",
          "model_name": "HTMLModel",
          "state": {
            "_view_name": "HTMLView",
            "style": "IPY_MODEL_16c711526ece401b8bcbe1677878a3e5",
            "_dom_classes": [],
            "description": "",
            "_model_name": "HTMLModel",
            "placeholder": "​",
            "_view_module": "@jupyter-widgets/controls",
            "_model_module_version": "1.5.0",
            "value": " 758/758 [00:09&lt;00:00, 81.7B/s]",
            "_view_count": null,
            "_view_module_version": "1.5.0",
            "description_tooltip": null,
            "_model_module": "@jupyter-widgets/controls",
            "layout": "IPY_MODEL_ff432b01b0034c92b021fbf0f50a22d9"
          }
        },
        "58cb1e23b7a642c5bc1f50be0409a75e": {
          "model_module": "@jupyter-widgets/controls",
          "model_name": "ProgressStyleModel",
          "state": {
            "_view_name": "StyleView",
            "_model_name": "ProgressStyleModel",
            "description_width": "initial",
            "_view_module": "@jupyter-widgets/base",
            "_model_module_version": "1.5.0",
            "_view_count": null,
            "_view_module_version": "1.2.0",
            "bar_color": null,
            "_model_module": "@jupyter-widgets/controls"
          }
        },
        "8fedc8f7692847eda30301b71ef29841": {
          "model_module": "@jupyter-widgets/base",
          "model_name": "LayoutModel",
          "state": {
            "_view_name": "LayoutView",
            "grid_template_rows": null,
            "right": null,
            "justify_content": null,
            "_view_module": "@jupyter-widgets/base",
            "overflow": null,
            "_model_module_version": "1.2.0",
            "_view_count": null,
            "flex_flow": null,
            "width": null,
            "min_width": null,
            "border": null,
            "align_items": null,
            "bottom": null,
            "_model_module": "@jupyter-widgets/base",
            "top": null,
            "grid_column": null,
            "overflow_y": null,
            "overflow_x": null,
            "grid_auto_flow": null,
            "grid_area": null,
            "grid_template_columns": null,
            "flex": null,
            "_model_name": "LayoutModel",
            "justify_items": null,
            "grid_row": null,
            "max_height": null,
            "align_content": null,
            "visibility": null,
            "align_self": null,
            "height": null,
            "min_height": null,
            "padding": null,
            "grid_auto_rows": null,
            "grid_gap": null,
            "max_width": null,
            "order": null,
            "_view_module_version": "1.2.0",
            "grid_template_areas": null,
            "object_position": null,
            "object_fit": null,
            "grid_auto_columns": null,
            "margin": null,
            "display": null,
            "left": null
          }
        },
        "16c711526ece401b8bcbe1677878a3e5": {
          "model_module": "@jupyter-widgets/controls",
          "model_name": "DescriptionStyleModel",
          "state": {
            "_view_name": "StyleView",
            "_model_name": "DescriptionStyleModel",
            "description_width": "",
            "_view_module": "@jupyter-widgets/base",
            "_model_module_version": "1.5.0",
            "_view_count": null,
            "_view_module_version": "1.2.0",
            "_model_module": "@jupyter-widgets/controls"
          }
        },
        "ff432b01b0034c92b021fbf0f50a22d9": {
          "model_module": "@jupyter-widgets/base",
          "model_name": "LayoutModel",
          "state": {
            "_view_name": "LayoutView",
            "grid_template_rows": null,
            "right": null,
            "justify_content": null,
            "_view_module": "@jupyter-widgets/base",
            "overflow": null,
            "_model_module_version": "1.2.0",
            "_view_count": null,
            "flex_flow": null,
            "width": null,
            "min_width": null,
            "border": null,
            "align_items": null,
            "bottom": null,
            "_model_module": "@jupyter-widgets/base",
            "top": null,
            "grid_column": null,
            "overflow_y": null,
            "overflow_x": null,
            "grid_auto_flow": null,
            "grid_area": null,
            "grid_template_columns": null,
            "flex": null,
            "_model_name": "LayoutModel",
            "justify_items": null,
            "grid_row": null,
            "max_height": null,
            "align_content": null,
            "visibility": null,
            "align_self": null,
            "height": null,
            "min_height": null,
            "padding": null,
            "grid_auto_rows": null,
            "grid_gap": null,
            "max_width": null,
            "order": null,
            "_view_module_version": "1.2.0",
            "grid_template_areas": null,
            "object_position": null,
            "object_fit": null,
            "grid_auto_columns": null,
            "margin": null,
            "display": null,
            "left": null
          }
        },
        "98f15626a5ee417594edf355697c56bc": {
          "model_module": "@jupyter-widgets/controls",
          "model_name": "HBoxModel",
          "state": {
            "_view_name": "HBoxView",
            "_dom_classes": [],
            "_model_name": "HBoxModel",
            "_view_module": "@jupyter-widgets/controls",
            "_model_module_version": "1.5.0",
            "_view_count": null,
            "_view_module_version": "1.5.0",
            "box_style": "",
            "layout": "IPY_MODEL_8b40a12ad6b44ab8b27b37e68c248a1a",
            "_model_module": "@jupyter-widgets/controls",
            "children": [
              "IPY_MODEL_076cdbe306ce4aeca522a86004587e1f",
              "IPY_MODEL_8432a3ce2ee34a119dfbafdb2d80d434"
            ]
          }
        },
        "8b40a12ad6b44ab8b27b37e68c248a1a": {
          "model_module": "@jupyter-widgets/base",
          "model_name": "LayoutModel",
          "state": {
            "_view_name": "LayoutView",
            "grid_template_rows": null,
            "right": null,
            "justify_content": null,
            "_view_module": "@jupyter-widgets/base",
            "overflow": null,
            "_model_module_version": "1.2.0",
            "_view_count": null,
            "flex_flow": null,
            "width": null,
            "min_width": null,
            "border": null,
            "align_items": null,
            "bottom": null,
            "_model_module": "@jupyter-widgets/base",
            "top": null,
            "grid_column": null,
            "overflow_y": null,
            "overflow_x": null,
            "grid_auto_flow": null,
            "grid_area": null,
            "grid_template_columns": null,
            "flex": null,
            "_model_name": "LayoutModel",
            "justify_items": null,
            "grid_row": null,
            "max_height": null,
            "align_content": null,
            "visibility": null,
            "align_self": null,
            "height": null,
            "min_height": null,
            "padding": null,
            "grid_auto_rows": null,
            "grid_gap": null,
            "max_width": null,
            "order": null,
            "_view_module_version": "1.2.0",
            "grid_template_areas": null,
            "object_position": null,
            "object_fit": null,
            "grid_auto_columns": null,
            "margin": null,
            "display": null,
            "left": null
          }
        },
        "076cdbe306ce4aeca522a86004587e1f": {
          "model_module": "@jupyter-widgets/controls",
          "model_name": "FloatProgressModel",
          "state": {
            "_view_name": "ProgressView",
            "style": "IPY_MODEL_7d2cd28380ea41c3baebe13aadaa735a",
            "_dom_classes": [],
            "description": "Downloading: 100%",
            "_model_name": "FloatProgressModel",
            "bar_style": "success",
            "max": 437992753,
            "_view_module": "@jupyter-widgets/controls",
            "_model_module_version": "1.5.0",
            "value": 437992753,
            "_view_count": null,
            "_view_module_version": "1.5.0",
            "orientation": "horizontal",
            "min": 0,
            "description_tooltip": null,
            "_model_module": "@jupyter-widgets/controls",
            "layout": "IPY_MODEL_766d9cd48d984af2abfda5edfc7a1132"
          }
        },
        "8432a3ce2ee34a119dfbafdb2d80d434": {
          "model_module": "@jupyter-widgets/controls",
          "model_name": "HTMLModel",
          "state": {
            "_view_name": "HTMLView",
            "style": "IPY_MODEL_df2cc959338343a68ea523c336745536",
            "_dom_classes": [],
            "description": "",
            "_model_name": "HTMLModel",
            "placeholder": "​",
            "_view_module": "@jupyter-widgets/controls",
            "_model_module_version": "1.5.0",
            "value": " 438M/438M [00:08&lt;00:00, 49.1MB/s]",
            "_view_count": null,
            "_view_module_version": "1.5.0",
            "description_tooltip": null,
            "_model_module": "@jupyter-widgets/controls",
            "layout": "IPY_MODEL_289ca63515ae487284b0b6498cbf0b19"
          }
        },
        "7d2cd28380ea41c3baebe13aadaa735a": {
          "model_module": "@jupyter-widgets/controls",
          "model_name": "ProgressStyleModel",
          "state": {
            "_view_name": "StyleView",
            "_model_name": "ProgressStyleModel",
            "description_width": "initial",
            "_view_module": "@jupyter-widgets/base",
            "_model_module_version": "1.5.0",
            "_view_count": null,
            "_view_module_version": "1.2.0",
            "bar_color": null,
            "_model_module": "@jupyter-widgets/controls"
          }
        },
        "766d9cd48d984af2abfda5edfc7a1132": {
          "model_module": "@jupyter-widgets/base",
          "model_name": "LayoutModel",
          "state": {
            "_view_name": "LayoutView",
            "grid_template_rows": null,
            "right": null,
            "justify_content": null,
            "_view_module": "@jupyter-widgets/base",
            "overflow": null,
            "_model_module_version": "1.2.0",
            "_view_count": null,
            "flex_flow": null,
            "width": null,
            "min_width": null,
            "border": null,
            "align_items": null,
            "bottom": null,
            "_model_module": "@jupyter-widgets/base",
            "top": null,
            "grid_column": null,
            "overflow_y": null,
            "overflow_x": null,
            "grid_auto_flow": null,
            "grid_area": null,
            "grid_template_columns": null,
            "flex": null,
            "_model_name": "LayoutModel",
            "justify_items": null,
            "grid_row": null,
            "max_height": null,
            "align_content": null,
            "visibility": null,
            "align_self": null,
            "height": null,
            "min_height": null,
            "padding": null,
            "grid_auto_rows": null,
            "grid_gap": null,
            "max_width": null,
            "order": null,
            "_view_module_version": "1.2.0",
            "grid_template_areas": null,
            "object_position": null,
            "object_fit": null,
            "grid_auto_columns": null,
            "margin": null,
            "display": null,
            "left": null
          }
        },
        "df2cc959338343a68ea523c336745536": {
          "model_module": "@jupyter-widgets/controls",
          "model_name": "DescriptionStyleModel",
          "state": {
            "_view_name": "StyleView",
            "_model_name": "DescriptionStyleModel",
            "description_width": "",
            "_view_module": "@jupyter-widgets/base",
            "_model_module_version": "1.5.0",
            "_view_count": null,
            "_view_module_version": "1.2.0",
            "_model_module": "@jupyter-widgets/controls"
          }
        },
        "289ca63515ae487284b0b6498cbf0b19": {
          "model_module": "@jupyter-widgets/base",
          "model_name": "LayoutModel",
          "state": {
            "_view_name": "LayoutView",
            "grid_template_rows": null,
            "right": null,
            "justify_content": null,
            "_view_module": "@jupyter-widgets/base",
            "overflow": null,
            "_model_module_version": "1.2.0",
            "_view_count": null,
            "flex_flow": null,
            "width": null,
            "min_width": null,
            "border": null,
            "align_items": null,
            "bottom": null,
            "_model_module": "@jupyter-widgets/base",
            "top": null,
            "grid_column": null,
            "overflow_y": null,
            "overflow_x": null,
            "grid_auto_flow": null,
            "grid_area": null,
            "grid_template_columns": null,
            "flex": null,
            "_model_name": "LayoutModel",
            "justify_items": null,
            "grid_row": null,
            "max_height": null,
            "align_content": null,
            "visibility": null,
            "align_self": null,
            "height": null,
            "min_height": null,
            "padding": null,
            "grid_auto_rows": null,
            "grid_gap": null,
            "max_width": null,
            "order": null,
            "_view_module_version": "1.2.0",
            "grid_template_areas": null,
            "object_position": null,
            "object_fit": null,
            "grid_auto_columns": null,
            "margin": null,
            "display": null,
            "left": null
          }
        },
        "8558dc39059946919bff86ee7b917edf": {
          "model_module": "@jupyter-widgets/controls",
          "model_name": "HBoxModel",
          "state": {
            "_view_name": "HBoxView",
            "_dom_classes": [],
            "_model_name": "HBoxModel",
            "_view_module": "@jupyter-widgets/controls",
            "_model_module_version": "1.5.0",
            "_view_count": null,
            "_view_module_version": "1.5.0",
            "box_style": "",
            "layout": "IPY_MODEL_86d62a32dbcf4f95b28b13c29f1168b4",
            "_model_module": "@jupyter-widgets/controls",
            "children": [
              "IPY_MODEL_b8da60364b354e3088e2cd3d170b843a",
              "IPY_MODEL_78cf5a3fb4aa435380f4a77a1fb15cba"
            ]
          }
        },
        "86d62a32dbcf4f95b28b13c29f1168b4": {
          "model_module": "@jupyter-widgets/base",
          "model_name": "LayoutModel",
          "state": {
            "_view_name": "LayoutView",
            "grid_template_rows": null,
            "right": null,
            "justify_content": null,
            "_view_module": "@jupyter-widgets/base",
            "overflow": null,
            "_model_module_version": "1.2.0",
            "_view_count": null,
            "flex_flow": null,
            "width": null,
            "min_width": null,
            "border": null,
            "align_items": null,
            "bottom": null,
            "_model_module": "@jupyter-widgets/base",
            "top": null,
            "grid_column": null,
            "overflow_y": null,
            "overflow_x": null,
            "grid_auto_flow": null,
            "grid_area": null,
            "grid_template_columns": null,
            "flex": null,
            "_model_name": "LayoutModel",
            "justify_items": null,
            "grid_row": null,
            "max_height": null,
            "align_content": null,
            "visibility": null,
            "align_self": null,
            "height": null,
            "min_height": null,
            "padding": null,
            "grid_auto_rows": null,
            "grid_gap": null,
            "max_width": null,
            "order": null,
            "_view_module_version": "1.2.0",
            "grid_template_areas": null,
            "object_position": null,
            "object_fit": null,
            "grid_auto_columns": null,
            "margin": null,
            "display": null,
            "left": null
          }
        },
        "b8da60364b354e3088e2cd3d170b843a": {
          "model_module": "@jupyter-widgets/controls",
          "model_name": "FloatProgressModel",
          "state": {
            "_view_name": "ProgressView",
            "style": "IPY_MODEL_9f860b263c6042e5b0a14227d6d2b6d4",
            "_dom_classes": [],
            "description": "Downloading: 100%",
            "_model_name": "FloatProgressModel",
            "bar_style": "success",
            "max": 231508,
            "_view_module": "@jupyter-widgets/controls",
            "_model_module_version": "1.5.0",
            "value": 231508,
            "_view_count": null,
            "_view_module_version": "1.5.0",
            "orientation": "horizontal",
            "min": 0,
            "description_tooltip": null,
            "_model_module": "@jupyter-widgets/controls",
            "layout": "IPY_MODEL_160a385c0ee54371b7e9856bb306cd40"
          }
        },
        "78cf5a3fb4aa435380f4a77a1fb15cba": {
          "model_module": "@jupyter-widgets/controls",
          "model_name": "HTMLModel",
          "state": {
            "_view_name": "HTMLView",
            "style": "IPY_MODEL_cf77f9f2799c41d9bd971a182f1ea971",
            "_dom_classes": [],
            "description": "",
            "_model_name": "HTMLModel",
            "placeholder": "​",
            "_view_module": "@jupyter-widgets/controls",
            "_model_module_version": "1.5.0",
            "value": " 232k/232k [00:01&lt;00:00, 141kB/s]",
            "_view_count": null,
            "_view_module_version": "1.5.0",
            "description_tooltip": null,
            "_model_module": "@jupyter-widgets/controls",
            "layout": "IPY_MODEL_78687406b6c74775b1c624ca9a336d8d"
          }
        },
        "9f860b263c6042e5b0a14227d6d2b6d4": {
          "model_module": "@jupyter-widgets/controls",
          "model_name": "ProgressStyleModel",
          "state": {
            "_view_name": "StyleView",
            "_model_name": "ProgressStyleModel",
            "description_width": "initial",
            "_view_module": "@jupyter-widgets/base",
            "_model_module_version": "1.5.0",
            "_view_count": null,
            "_view_module_version": "1.2.0",
            "bar_color": null,
            "_model_module": "@jupyter-widgets/controls"
          }
        },
        "160a385c0ee54371b7e9856bb306cd40": {
          "model_module": "@jupyter-widgets/base",
          "model_name": "LayoutModel",
          "state": {
            "_view_name": "LayoutView",
            "grid_template_rows": null,
            "right": null,
            "justify_content": null,
            "_view_module": "@jupyter-widgets/base",
            "overflow": null,
            "_model_module_version": "1.2.0",
            "_view_count": null,
            "flex_flow": null,
            "width": null,
            "min_width": null,
            "border": null,
            "align_items": null,
            "bottom": null,
            "_model_module": "@jupyter-widgets/base",
            "top": null,
            "grid_column": null,
            "overflow_y": null,
            "overflow_x": null,
            "grid_auto_flow": null,
            "grid_area": null,
            "grid_template_columns": null,
            "flex": null,
            "_model_name": "LayoutModel",
            "justify_items": null,
            "grid_row": null,
            "max_height": null,
            "align_content": null,
            "visibility": null,
            "align_self": null,
            "height": null,
            "min_height": null,
            "padding": null,
            "grid_auto_rows": null,
            "grid_gap": null,
            "max_width": null,
            "order": null,
            "_view_module_version": "1.2.0",
            "grid_template_areas": null,
            "object_position": null,
            "object_fit": null,
            "grid_auto_columns": null,
            "margin": null,
            "display": null,
            "left": null
          }
        },
        "cf77f9f2799c41d9bd971a182f1ea971": {
          "model_module": "@jupyter-widgets/controls",
          "model_name": "DescriptionStyleModel",
          "state": {
            "_view_name": "StyleView",
            "_model_name": "DescriptionStyleModel",
            "description_width": "",
            "_view_module": "@jupyter-widgets/base",
            "_model_module_version": "1.5.0",
            "_view_count": null,
            "_view_module_version": "1.2.0",
            "_model_module": "@jupyter-widgets/controls"
          }
        },
        "78687406b6c74775b1c624ca9a336d8d": {
          "model_module": "@jupyter-widgets/base",
          "model_name": "LayoutModel",
          "state": {
            "_view_name": "LayoutView",
            "grid_template_rows": null,
            "right": null,
            "justify_content": null,
            "_view_module": "@jupyter-widgets/base",
            "overflow": null,
            "_model_module_version": "1.2.0",
            "_view_count": null,
            "flex_flow": null,
            "width": null,
            "min_width": null,
            "border": null,
            "align_items": null,
            "bottom": null,
            "_model_module": "@jupyter-widgets/base",
            "top": null,
            "grid_column": null,
            "overflow_y": null,
            "overflow_x": null,
            "grid_auto_flow": null,
            "grid_area": null,
            "grid_template_columns": null,
            "flex": null,
            "_model_name": "LayoutModel",
            "justify_items": null,
            "grid_row": null,
            "max_height": null,
            "align_content": null,
            "visibility": null,
            "align_self": null,
            "height": null,
            "min_height": null,
            "padding": null,
            "grid_auto_rows": null,
            "grid_gap": null,
            "max_width": null,
            "order": null,
            "_view_module_version": "1.2.0",
            "grid_template_areas": null,
            "object_position": null,
            "object_fit": null,
            "grid_auto_columns": null,
            "margin": null,
            "display": null,
            "left": null
          }
        },
        "5abadc103cd34e669249077eedcf467c": {
          "model_module": "@jupyter-widgets/controls",
          "model_name": "HBoxModel",
          "state": {
            "_view_name": "HBoxView",
            "_dom_classes": [],
            "_model_name": "HBoxModel",
            "_view_module": "@jupyter-widgets/controls",
            "_model_module_version": "1.5.0",
            "_view_count": null,
            "_view_module_version": "1.5.0",
            "box_style": "",
            "layout": "IPY_MODEL_1dd381def5164f8c9486715b4b667e18",
            "_model_module": "@jupyter-widgets/controls",
            "children": [
              "IPY_MODEL_edc9f73f53964d16a3902e9d7086c6f9",
              "IPY_MODEL_8dabd44b75674ccc9f4351868d3bf4fe"
            ]
          }
        },
        "1dd381def5164f8c9486715b4b667e18": {
          "model_module": "@jupyter-widgets/base",
          "model_name": "LayoutModel",
          "state": {
            "_view_name": "LayoutView",
            "grid_template_rows": null,
            "right": null,
            "justify_content": null,
            "_view_module": "@jupyter-widgets/base",
            "overflow": null,
            "_model_module_version": "1.2.0",
            "_view_count": null,
            "flex_flow": null,
            "width": null,
            "min_width": null,
            "border": null,
            "align_items": null,
            "bottom": null,
            "_model_module": "@jupyter-widgets/base",
            "top": null,
            "grid_column": null,
            "overflow_y": null,
            "overflow_x": null,
            "grid_auto_flow": null,
            "grid_area": null,
            "grid_template_columns": null,
            "flex": null,
            "_model_name": "LayoutModel",
            "justify_items": null,
            "grid_row": null,
            "max_height": null,
            "align_content": null,
            "visibility": null,
            "align_self": null,
            "height": null,
            "min_height": null,
            "padding": null,
            "grid_auto_rows": null,
            "grid_gap": null,
            "max_width": null,
            "order": null,
            "_view_module_version": "1.2.0",
            "grid_template_areas": null,
            "object_position": null,
            "object_fit": null,
            "grid_auto_columns": null,
            "margin": null,
            "display": null,
            "left": null
          }
        },
        "edc9f73f53964d16a3902e9d7086c6f9": {
          "model_module": "@jupyter-widgets/controls",
          "model_name": "FloatProgressModel",
          "state": {
            "_view_name": "ProgressView",
            "style": "IPY_MODEL_4c1a4df9929147ad8f9cc479fe460c79",
            "_dom_classes": [],
            "description": "Downloading: 100%",
            "_model_name": "FloatProgressModel",
            "bar_style": "success",
            "max": 112,
            "_view_module": "@jupyter-widgets/controls",
            "_model_module_version": "1.5.0",
            "value": 112,
            "_view_count": null,
            "_view_module_version": "1.5.0",
            "orientation": "horizontal",
            "min": 0,
            "description_tooltip": null,
            "_model_module": "@jupyter-widgets/controls",
            "layout": "IPY_MODEL_d398fed349c449948ba23226293b02ab"
          }
        },
        "8dabd44b75674ccc9f4351868d3bf4fe": {
          "model_module": "@jupyter-widgets/controls",
          "model_name": "HTMLModel",
          "state": {
            "_view_name": "HTMLView",
            "style": "IPY_MODEL_fa7e066704124e97893f35e07b706b52",
            "_dom_classes": [],
            "description": "",
            "_model_name": "HTMLModel",
            "placeholder": "​",
            "_view_module": "@jupyter-widgets/controls",
            "_model_module_version": "1.5.0",
            "value": " 112/112 [00:00&lt;00:00, 209B/s]",
            "_view_count": null,
            "_view_module_version": "1.5.0",
            "description_tooltip": null,
            "_model_module": "@jupyter-widgets/controls",
            "layout": "IPY_MODEL_2c89fb890f6b4840bf9a40bd18b0251e"
          }
        },
        "4c1a4df9929147ad8f9cc479fe460c79": {
          "model_module": "@jupyter-widgets/controls",
          "model_name": "ProgressStyleModel",
          "state": {
            "_view_name": "StyleView",
            "_model_name": "ProgressStyleModel",
            "description_width": "initial",
            "_view_module": "@jupyter-widgets/base",
            "_model_module_version": "1.5.0",
            "_view_count": null,
            "_view_module_version": "1.2.0",
            "bar_color": null,
            "_model_module": "@jupyter-widgets/controls"
          }
        },
        "d398fed349c449948ba23226293b02ab": {
          "model_module": "@jupyter-widgets/base",
          "model_name": "LayoutModel",
          "state": {
            "_view_name": "LayoutView",
            "grid_template_rows": null,
            "right": null,
            "justify_content": null,
            "_view_module": "@jupyter-widgets/base",
            "overflow": null,
            "_model_module_version": "1.2.0",
            "_view_count": null,
            "flex_flow": null,
            "width": null,
            "min_width": null,
            "border": null,
            "align_items": null,
            "bottom": null,
            "_model_module": "@jupyter-widgets/base",
            "top": null,
            "grid_column": null,
            "overflow_y": null,
            "overflow_x": null,
            "grid_auto_flow": null,
            "grid_area": null,
            "grid_template_columns": null,
            "flex": null,
            "_model_name": "LayoutModel",
            "justify_items": null,
            "grid_row": null,
            "max_height": null,
            "align_content": null,
            "visibility": null,
            "align_self": null,
            "height": null,
            "min_height": null,
            "padding": null,
            "grid_auto_rows": null,
            "grid_gap": null,
            "max_width": null,
            "order": null,
            "_view_module_version": "1.2.0",
            "grid_template_areas": null,
            "object_position": null,
            "object_fit": null,
            "grid_auto_columns": null,
            "margin": null,
            "display": null,
            "left": null
          }
        },
        "fa7e066704124e97893f35e07b706b52": {
          "model_module": "@jupyter-widgets/controls",
          "model_name": "DescriptionStyleModel",
          "state": {
            "_view_name": "StyleView",
            "_model_name": "DescriptionStyleModel",
            "description_width": "",
            "_view_module": "@jupyter-widgets/base",
            "_model_module_version": "1.5.0",
            "_view_count": null,
            "_view_module_version": "1.2.0",
            "_model_module": "@jupyter-widgets/controls"
          }
        },
        "2c89fb890f6b4840bf9a40bd18b0251e": {
          "model_module": "@jupyter-widgets/base",
          "model_name": "LayoutModel",
          "state": {
            "_view_name": "LayoutView",
            "grid_template_rows": null,
            "right": null,
            "justify_content": null,
            "_view_module": "@jupyter-widgets/base",
            "overflow": null,
            "_model_module_version": "1.2.0",
            "_view_count": null,
            "flex_flow": null,
            "width": null,
            "min_width": null,
            "border": null,
            "align_items": null,
            "bottom": null,
            "_model_module": "@jupyter-widgets/base",
            "top": null,
            "grid_column": null,
            "overflow_y": null,
            "overflow_x": null,
            "grid_auto_flow": null,
            "grid_area": null,
            "grid_template_columns": null,
            "flex": null,
            "_model_name": "LayoutModel",
            "justify_items": null,
            "grid_row": null,
            "max_height": null,
            "align_content": null,
            "visibility": null,
            "align_self": null,
            "height": null,
            "min_height": null,
            "padding": null,
            "grid_auto_rows": null,
            "grid_gap": null,
            "max_width": null,
            "order": null,
            "_view_module_version": "1.2.0",
            "grid_template_areas": null,
            "object_position": null,
            "object_fit": null,
            "grid_auto_columns": null,
            "margin": null,
            "display": null,
            "left": null
          }
        },
        "15631258b3e04b99a9a115165a38cbd2": {
          "model_module": "@jupyter-widgets/controls",
          "model_name": "HBoxModel",
          "state": {
            "_view_name": "HBoxView",
            "_dom_classes": [],
            "_model_name": "HBoxModel",
            "_view_module": "@jupyter-widgets/controls",
            "_model_module_version": "1.5.0",
            "_view_count": null,
            "_view_module_version": "1.5.0",
            "box_style": "",
            "layout": "IPY_MODEL_d808cf2270b54c11a7e029b543ae8108",
            "_model_module": "@jupyter-widgets/controls",
            "children": [
              "IPY_MODEL_e32d0a3c63d04d53ab4c93aa2a3b0295",
              "IPY_MODEL_f388867d0806453db3aa0086f2a02148"
            ]
          }
        },
        "d808cf2270b54c11a7e029b543ae8108": {
          "model_module": "@jupyter-widgets/base",
          "model_name": "LayoutModel",
          "state": {
            "_view_name": "LayoutView",
            "grid_template_rows": null,
            "right": null,
            "justify_content": null,
            "_view_module": "@jupyter-widgets/base",
            "overflow": null,
            "_model_module_version": "1.2.0",
            "_view_count": null,
            "flex_flow": null,
            "width": null,
            "min_width": null,
            "border": null,
            "align_items": null,
            "bottom": null,
            "_model_module": "@jupyter-widgets/base",
            "top": null,
            "grid_column": null,
            "overflow_y": null,
            "overflow_x": null,
            "grid_auto_flow": null,
            "grid_area": null,
            "grid_template_columns": null,
            "flex": null,
            "_model_name": "LayoutModel",
            "justify_items": null,
            "grid_row": null,
            "max_height": null,
            "align_content": null,
            "visibility": null,
            "align_self": null,
            "height": null,
            "min_height": null,
            "padding": null,
            "grid_auto_rows": null,
            "grid_gap": null,
            "max_width": null,
            "order": null,
            "_view_module_version": "1.2.0",
            "grid_template_areas": null,
            "object_position": null,
            "object_fit": null,
            "grid_auto_columns": null,
            "margin": null,
            "display": null,
            "left": null
          }
        },
        "e32d0a3c63d04d53ab4c93aa2a3b0295": {
          "model_module": "@jupyter-widgets/controls",
          "model_name": "FloatProgressModel",
          "state": {
            "_view_name": "ProgressView",
            "style": "IPY_MODEL_4d649bbbdc4344528074b2b8e30250df",
            "_dom_classes": [],
            "description": "Downloading: 100%",
            "_model_name": "FloatProgressModel",
            "bar_style": "success",
            "max": 252,
            "_view_module": "@jupyter-widgets/controls",
            "_model_module_version": "1.5.0",
            "value": 252,
            "_view_count": null,
            "_view_module_version": "1.5.0",
            "orientation": "horizontal",
            "min": 0,
            "description_tooltip": null,
            "_model_module": "@jupyter-widgets/controls",
            "layout": "IPY_MODEL_5aee0814f3394ff9a635107e71119a1c"
          }
        },
        "f388867d0806453db3aa0086f2a02148": {
          "model_module": "@jupyter-widgets/controls",
          "model_name": "HTMLModel",
          "state": {
            "_view_name": "HTMLView",
            "style": "IPY_MODEL_7a848730c3fd4c78bc6b4cab08ef61db",
            "_dom_classes": [],
            "description": "",
            "_model_name": "HTMLModel",
            "placeholder": "​",
            "_view_module": "@jupyter-widgets/controls",
            "_model_module_version": "1.5.0",
            "value": " 252/252 [00:00&lt;00:00, 3.05kB/s]",
            "_view_count": null,
            "_view_module_version": "1.5.0",
            "description_tooltip": null,
            "_model_module": "@jupyter-widgets/controls",
            "layout": "IPY_MODEL_5225cb1a7ab8452ca80b204f5678d7f1"
          }
        },
        "4d649bbbdc4344528074b2b8e30250df": {
          "model_module": "@jupyter-widgets/controls",
          "model_name": "ProgressStyleModel",
          "state": {
            "_view_name": "StyleView",
            "_model_name": "ProgressStyleModel",
            "description_width": "initial",
            "_view_module": "@jupyter-widgets/base",
            "_model_module_version": "1.5.0",
            "_view_count": null,
            "_view_module_version": "1.2.0",
            "bar_color": null,
            "_model_module": "@jupyter-widgets/controls"
          }
        },
        "5aee0814f3394ff9a635107e71119a1c": {
          "model_module": "@jupyter-widgets/base",
          "model_name": "LayoutModel",
          "state": {
            "_view_name": "LayoutView",
            "grid_template_rows": null,
            "right": null,
            "justify_content": null,
            "_view_module": "@jupyter-widgets/base",
            "overflow": null,
            "_model_module_version": "1.2.0",
            "_view_count": null,
            "flex_flow": null,
            "width": null,
            "min_width": null,
            "border": null,
            "align_items": null,
            "bottom": null,
            "_model_module": "@jupyter-widgets/base",
            "top": null,
            "grid_column": null,
            "overflow_y": null,
            "overflow_x": null,
            "grid_auto_flow": null,
            "grid_area": null,
            "grid_template_columns": null,
            "flex": null,
            "_model_name": "LayoutModel",
            "justify_items": null,
            "grid_row": null,
            "max_height": null,
            "align_content": null,
            "visibility": null,
            "align_self": null,
            "height": null,
            "min_height": null,
            "padding": null,
            "grid_auto_rows": null,
            "grid_gap": null,
            "max_width": null,
            "order": null,
            "_view_module_version": "1.2.0",
            "grid_template_areas": null,
            "object_position": null,
            "object_fit": null,
            "grid_auto_columns": null,
            "margin": null,
            "display": null,
            "left": null
          }
        },
        "7a848730c3fd4c78bc6b4cab08ef61db": {
          "model_module": "@jupyter-widgets/controls",
          "model_name": "DescriptionStyleModel",
          "state": {
            "_view_name": "StyleView",
            "_model_name": "DescriptionStyleModel",
            "description_width": "",
            "_view_module": "@jupyter-widgets/base",
            "_model_module_version": "1.5.0",
            "_view_count": null,
            "_view_module_version": "1.2.0",
            "_model_module": "@jupyter-widgets/controls"
          }
        },
        "5225cb1a7ab8452ca80b204f5678d7f1": {
          "model_module": "@jupyter-widgets/base",
          "model_name": "LayoutModel",
          "state": {
            "_view_name": "LayoutView",
            "grid_template_rows": null,
            "right": null,
            "justify_content": null,
            "_view_module": "@jupyter-widgets/base",
            "overflow": null,
            "_model_module_version": "1.2.0",
            "_view_count": null,
            "flex_flow": null,
            "width": null,
            "min_width": null,
            "border": null,
            "align_items": null,
            "bottom": null,
            "_model_module": "@jupyter-widgets/base",
            "top": null,
            "grid_column": null,
            "overflow_y": null,
            "overflow_x": null,
            "grid_auto_flow": null,
            "grid_area": null,
            "grid_template_columns": null,
            "flex": null,
            "_model_name": "LayoutModel",
            "justify_items": null,
            "grid_row": null,
            "max_height": null,
            "align_content": null,
            "visibility": null,
            "align_self": null,
            "height": null,
            "min_height": null,
            "padding": null,
            "grid_auto_rows": null,
            "grid_gap": null,
            "max_width": null,
            "order": null,
            "_view_module_version": "1.2.0",
            "grid_template_areas": null,
            "object_position": null,
            "object_fit": null,
            "grid_auto_columns": null,
            "margin": null,
            "display": null,
            "left": null
          }
        }
      }
    }
  },
  "cells": [
    {
      "cell_type": "markdown",
      "metadata": {
        "id": "view-in-github",
        "colab_type": "text"
      },
      "source": [
        "<a href=\"https://colab.research.google.com/github/dbejarano31/Master-Thesis-Information-Management/blob/main/finBERT_HF_final.ipynb\" target=\"_parent\"><img src=\"https://colab.research.google.com/assets/colab-badge.svg\" alt=\"Open In Colab\"/></a>"
      ]
    },
    {
      "cell_type": "markdown",
      "metadata": {
        "id": "kFmPBOejxPjS"
      },
      "source": [
        "#FinBERT"
      ]
    },
    {
      "cell_type": "markdown",
      "metadata": {
        "id": "t8OMNeunxaPh"
      },
      "source": [
        "In this notebook we try the pre-trained FinBERT model by [Araci, 2019](https://arxiv.org/abs/1908.10063). FinBERT is pre-trained on the TRC2 news dataset from Reuters and the Financial PhraseBank dataset. We download the pre-trained model from the HuggingFace transformers library, [see here](https://huggingface.co/ProsusAI/finbert).\n",
        "<br></br>\n",
        "To access the dataset, [see here](https://drive.google.com/file/d/1o1BMTTU9YNPATL8x93l0N-h6sTZxLyDo/view?usp=sharing). "
      ]
    },
    {
      "cell_type": "markdown",
      "metadata": {
        "id": "i15FipMIg_J8"
      },
      "source": [
        "## Imports"
      ]
    },
    {
      "cell_type": "code",
      "metadata": {
        "colab": {
          "base_uri": "https://localhost:8080/"
        },
        "id": "37MNJzteZ7eS",
        "outputId": "1a7c61a3-9336-4558-904f-b9a6cf901c99"
      },
      "source": [
        "!pip install git+https://github.com/huggingface/transformers\n",
        "!pip install ray[tune]"
      ],
      "execution_count": null,
      "outputs": [
        {
          "output_type": "stream",
          "text": [
            "Collecting git+https://github.com/huggingface/transformers\n",
            "  Cloning https://github.com/huggingface/transformers to /tmp/pip-req-build-z_m6adlt\n",
            "  Running command git clone -q https://github.com/huggingface/transformers /tmp/pip-req-build-z_m6adlt\n",
            "  Installing build dependencies ... \u001b[?25l\u001b[?25hdone\n",
            "  Getting requirements to build wheel ... \u001b[?25l\u001b[?25hdone\n",
            "    Preparing wheel metadata ... \u001b[?25l\u001b[?25hdone\n",
            "Collecting huggingface-hub==0.0.8\n",
            "  Downloading https://files.pythonhosted.org/packages/a1/88/7b1e45720ecf59c6c6737ff332f41c955963090a18e72acbcbeac6b25e86/huggingface_hub-0.0.8-py3-none-any.whl\n",
            "Requirement already satisfied: regex!=2019.12.17 in /usr/local/lib/python3.7/dist-packages (from transformers==4.6.0.dev0) (2019.12.20)\n",
            "Requirement already satisfied: tqdm>=4.27 in /usr/local/lib/python3.7/dist-packages (from transformers==4.6.0.dev0) (4.41.1)\n",
            "Requirement already satisfied: requests in /usr/local/lib/python3.7/dist-packages (from transformers==4.6.0.dev0) (2.23.0)\n",
            "Collecting sacremoses\n",
            "\u001b[?25l  Downloading https://files.pythonhosted.org/packages/75/ee/67241dc87f266093c533a2d4d3d69438e57d7a90abb216fa076e7d475d4a/sacremoses-0.0.45-py3-none-any.whl (895kB)\n",
            "\u001b[K     |████████████████████████████████| 901kB 32.9MB/s \n",
            "\u001b[?25hRequirement already satisfied: numpy>=1.17 in /usr/local/lib/python3.7/dist-packages (from transformers==4.6.0.dev0) (1.19.5)\n",
            "Requirement already satisfied: importlib-metadata; python_version < \"3.8\" in /usr/local/lib/python3.7/dist-packages (from transformers==4.6.0.dev0) (3.10.1)\n",
            "Requirement already satisfied: filelock in /usr/local/lib/python3.7/dist-packages (from transformers==4.6.0.dev0) (3.0.12)\n",
            "Requirement already satisfied: packaging in /usr/local/lib/python3.7/dist-packages (from transformers==4.6.0.dev0) (20.9)\n",
            "Collecting tokenizers<0.11,>=0.10.1\n",
            "\u001b[?25l  Downloading https://files.pythonhosted.org/packages/ae/04/5b870f26a858552025a62f1649c20d29d2672c02ff3c3fb4c688ca46467a/tokenizers-0.10.2-cp37-cp37m-manylinux2010_x86_64.whl (3.3MB)\n",
            "\u001b[K     |████████████████████████████████| 3.3MB 50.2MB/s \n",
            "\u001b[?25hRequirement already satisfied: certifi>=2017.4.17 in /usr/local/lib/python3.7/dist-packages (from requests->transformers==4.6.0.dev0) (2020.12.5)\n",
            "Requirement already satisfied: idna<3,>=2.5 in /usr/local/lib/python3.7/dist-packages (from requests->transformers==4.6.0.dev0) (2.10)\n",
            "Requirement already satisfied: urllib3!=1.25.0,!=1.25.1,<1.26,>=1.21.1 in /usr/local/lib/python3.7/dist-packages (from requests->transformers==4.6.0.dev0) (1.24.3)\n",
            "Requirement already satisfied: chardet<4,>=3.0.2 in /usr/local/lib/python3.7/dist-packages (from requests->transformers==4.6.0.dev0) (3.0.4)\n",
            "Requirement already satisfied: joblib in /usr/local/lib/python3.7/dist-packages (from sacremoses->transformers==4.6.0.dev0) (1.0.1)\n",
            "Requirement already satisfied: click in /usr/local/lib/python3.7/dist-packages (from sacremoses->transformers==4.6.0.dev0) (7.1.2)\n",
            "Requirement already satisfied: six in /usr/local/lib/python3.7/dist-packages (from sacremoses->transformers==4.6.0.dev0) (1.15.0)\n",
            "Requirement already satisfied: zipp>=0.5 in /usr/local/lib/python3.7/dist-packages (from importlib-metadata; python_version < \"3.8\"->transformers==4.6.0.dev0) (3.4.1)\n",
            "Requirement already satisfied: typing-extensions>=3.6.4; python_version < \"3.8\" in /usr/local/lib/python3.7/dist-packages (from importlib-metadata; python_version < \"3.8\"->transformers==4.6.0.dev0) (3.7.4.3)\n",
            "Requirement already satisfied: pyparsing>=2.0.2 in /usr/local/lib/python3.7/dist-packages (from packaging->transformers==4.6.0.dev0) (2.4.7)\n",
            "Building wheels for collected packages: transformers\n",
            "  Building wheel for transformers (PEP 517) ... \u001b[?25l\u001b[?25hdone\n",
            "  Created wheel for transformers: filename=transformers-4.6.0.dev0-cp37-none-any.whl size=2179279 sha256=6ad4cafd45d3f66ec2699f11ea103678aa8e6c4a4f550a74b4d4c173fca9a889\n",
            "  Stored in directory: /tmp/pip-ephem-wheel-cache-dscv39hx/wheels/70/d3/52/b3fa4f8b8ef04167ac62e5bb2accb62ae764db2a378247490e\n",
            "Successfully built transformers\n",
            "Installing collected packages: huggingface-hub, sacremoses, tokenizers, transformers\n",
            "Successfully installed huggingface-hub-0.0.8 sacremoses-0.0.45 tokenizers-0.10.2 transformers-4.6.0.dev0\n",
            "Collecting ray[tune]\n",
            "\u001b[?25l  Downloading https://files.pythonhosted.org/packages/0b/d0/33b6f8789cec27ac07e33de987eef9430b211c7d8284437371e45d37bbd5/ray-1.3.0-cp37-cp37m-manylinux2014_x86_64.whl (49.7MB)\n",
            "\u001b[K     |████████████████████████████████| 49.7MB 70kB/s \n",
            "\u001b[?25hRequirement already satisfied: click>=7.0 in /usr/local/lib/python3.7/dist-packages (from ray[tune]) (7.1.2)\n",
            "Requirement already satisfied: grpcio>=1.28.1 in /usr/local/lib/python3.7/dist-packages (from ray[tune]) (1.32.0)\n",
            "Requirement already satisfied: numpy>=1.16 in /usr/local/lib/python3.7/dist-packages (from ray[tune]) (1.19.5)\n",
            "Collecting opencensus\n",
            "\u001b[?25l  Downloading https://files.pythonhosted.org/packages/e2/d6/b952f11b29c3a0cbec5620de3c4260cecd8c4329d83e91587edb48691e15/opencensus-0.7.12-py2.py3-none-any.whl (127kB)\n",
            "\u001b[K     |████████████████████████████████| 133kB 56.4MB/s \n",
            "\u001b[?25hCollecting gpustat\n",
            "\u001b[?25l  Downloading https://files.pythonhosted.org/packages/b4/69/d8c849715171aeabd61af7da080fdc60948b5a396d2422f1f4672e43d008/gpustat-0.6.0.tar.gz (78kB)\n",
            "\u001b[K     |████████████████████████████████| 81kB 14.0MB/s \n",
            "\u001b[?25hRequirement already satisfied: jsonschema in /usr/local/lib/python3.7/dist-packages (from ray[tune]) (2.6.0)\n",
            "Collecting aioredis\n",
            "\u001b[?25l  Downloading https://files.pythonhosted.org/packages/b0/64/1b1612d0a104f21f80eb4c6e1b6075f2e6aba8e228f46f229cfd3fdac859/aioredis-1.3.1-py3-none-any.whl (65kB)\n",
            "\u001b[K     |████████████████████████████████| 71kB 11.5MB/s \n",
            "\u001b[?25hRequirement already satisfied: requests in /usr/local/lib/python3.7/dist-packages (from ray[tune]) (2.23.0)\n",
            "Requirement already satisfied: msgpack<2.0.0,>=1.0.0 in /usr/local/lib/python3.7/dist-packages (from ray[tune]) (1.0.2)\n",
            "Collecting aiohttp-cors\n",
            "  Downloading https://files.pythonhosted.org/packages/13/e7/e436a0c0eb5127d8b491a9b83ecd2391c6ff7dcd5548dfaec2080a2340fd/aiohttp_cors-0.7.0-py3-none-any.whl\n",
            "Collecting redis>=3.5.0\n",
            "\u001b[?25l  Downloading https://files.pythonhosted.org/packages/a7/7c/24fb0511df653cf1a5d938d8f5d19802a88cef255706fdda242ff97e91b7/redis-3.5.3-py2.py3-none-any.whl (72kB)\n",
            "\u001b[K     |████████████████████████████████| 81kB 12.7MB/s \n",
            "\u001b[?25hRequirement already satisfied: pyyaml in /usr/local/lib/python3.7/dist-packages (from ray[tune]) (3.13)\n",
            "Collecting aiohttp\n",
            "\u001b[?25l  Downloading https://files.pythonhosted.org/packages/88/c0/5890b4c8b04a79b7360e8fe4490feb0bb3ab179743f199f0e6220cebd568/aiohttp-3.7.4.post0-cp37-cp37m-manylinux2014_x86_64.whl (1.3MB)\n",
            "\u001b[K     |████████████████████████████████| 1.3MB 36.3MB/s \n",
            "\u001b[?25hCollecting protobuf>=3.15.3\n",
            "\u001b[?25l  Downloading https://files.pythonhosted.org/packages/51/4e/de63de3cd9a83d3c1753a4566b11fc9d90b845f2448a132cfd36d3cb3cd1/protobuf-3.15.8-cp37-cp37m-manylinux1_x86_64.whl (1.0MB)\n",
            "\u001b[K     |████████████████████████████████| 1.0MB 38.0MB/s \n",
            "\u001b[?25hCollecting py-spy>=0.2.0\n",
            "\u001b[?25l  Downloading https://files.pythonhosted.org/packages/bc/5f/586c5399b30e5589ff1f6e09eaf96ae810fe4071340677cbaed9a5fc2947/py_spy-0.3.6-py2.py3-none-manylinux1_x86_64.whl (3.1MB)\n",
            "\u001b[K     |████████████████████████████████| 3.1MB 50.7MB/s \n",
            "\u001b[?25hRequirement already satisfied: filelock in /usr/local/lib/python3.7/dist-packages (from ray[tune]) (3.0.12)\n",
            "Requirement already satisfied: prometheus-client>=0.7.1 in /usr/local/lib/python3.7/dist-packages (from ray[tune]) (0.10.1)\n",
            "Collecting colorama\n",
            "  Downloading https://files.pythonhosted.org/packages/44/98/5b86278fbbf250d239ae0ecb724f8572af1c91f4a11edf4d36a206189440/colorama-0.4.4-py2.py3-none-any.whl\n",
            "Collecting tensorboardX; extra == \"tune\"\n",
            "\u001b[?25l  Downloading https://files.pythonhosted.org/packages/07/84/46421bd3e0e89a92682b1a38b40efc22dafb6d8e3d947e4ceefd4a5fabc7/tensorboardX-2.2-py2.py3-none-any.whl (120kB)\n",
            "\u001b[K     |████████████████████████████████| 122kB 44.9MB/s \n",
            "\u001b[?25hRequirement already satisfied: pandas; extra == \"tune\" in /usr/local/lib/python3.7/dist-packages (from ray[tune]) (1.1.5)\n",
            "Requirement already satisfied: tabulate; extra == \"tune\" in /usr/local/lib/python3.7/dist-packages (from ray[tune]) (0.8.9)\n",
            "Requirement already satisfied: six>=1.5.2 in /usr/local/lib/python3.7/dist-packages (from grpcio>=1.28.1->ray[tune]) (1.15.0)\n",
            "Requirement already satisfied: google-api-core<2.0.0,>=1.0.0 in /usr/local/lib/python3.7/dist-packages (from opencensus->ray[tune]) (1.26.3)\n",
            "Collecting opencensus-context==0.1.2\n",
            "  Downloading https://files.pythonhosted.org/packages/f1/33/990f1bd9e7ee770fc8d3c154fc24743a96f16a0e49e14e1b7540cc2fdd93/opencensus_context-0.1.2-py2.py3-none-any.whl\n",
            "Requirement already satisfied: nvidia-ml-py3>=7.352.0 in /usr/local/lib/python3.7/dist-packages (from gpustat->ray[tune]) (7.352.0)\n",
            "Requirement already satisfied: psutil in /usr/local/lib/python3.7/dist-packages (from gpustat->ray[tune]) (5.4.8)\n",
            "Collecting blessings>=1.6\n",
            "  Downloading https://files.pythonhosted.org/packages/03/74/489f85a78247609c6b4f13733cbf3ba0d864b11aa565617b645d6fdf2a4a/blessings-1.7-py3-none-any.whl\n",
            "Collecting async-timeout\n",
            "  Downloading https://files.pythonhosted.org/packages/e1/1e/5a4441be21b0726c4464f3f23c8b19628372f606755a9d2e46c187e65ec4/async_timeout-3.0.1-py3-none-any.whl\n",
            "Collecting hiredis\n",
            "\u001b[?25l  Downloading https://files.pythonhosted.org/packages/ed/33/290cea35b09c80b4634773ad5572a8030a87b5d39736719f698f521d2a13/hiredis-2.0.0-cp37-cp37m-manylinux2010_x86_64.whl (85kB)\n",
            "\u001b[K     |████████████████████████████████| 92kB 13.8MB/s \n",
            "\u001b[?25hRequirement already satisfied: chardet<4,>=3.0.2 in /usr/local/lib/python3.7/dist-packages (from requests->ray[tune]) (3.0.4)\n",
            "Requirement already satisfied: certifi>=2017.4.17 in /usr/local/lib/python3.7/dist-packages (from requests->ray[tune]) (2020.12.5)\n",
            "Requirement already satisfied: urllib3!=1.25.0,!=1.25.1,<1.26,>=1.21.1 in /usr/local/lib/python3.7/dist-packages (from requests->ray[tune]) (1.24.3)\n",
            "Requirement already satisfied: idna<3,>=2.5 in /usr/local/lib/python3.7/dist-packages (from requests->ray[tune]) (2.10)\n",
            "Requirement already satisfied: attrs>=17.3.0 in /usr/local/lib/python3.7/dist-packages (from aiohttp->ray[tune]) (20.3.0)\n",
            "Collecting multidict<7.0,>=4.5\n",
            "\u001b[?25l  Downloading https://files.pythonhosted.org/packages/7c/a6/4123b8165acbe773d1a8dc8e3f0d1edea16d29f7de018eda769abb56bd30/multidict-5.1.0-cp37-cp37m-manylinux2014_x86_64.whl (142kB)\n",
            "\u001b[K     |████████████████████████████████| 143kB 56.7MB/s \n",
            "\u001b[?25hCollecting yarl<2.0,>=1.0\n",
            "\u001b[?25l  Downloading https://files.pythonhosted.org/packages/f1/62/046834c5fc998c88ab2ef722f5d42122230a632212c8afa76418324f53ff/yarl-1.6.3-cp37-cp37m-manylinux2014_x86_64.whl (294kB)\n",
            "\u001b[K     |████████████████████████████████| 296kB 60.8MB/s \n",
            "\u001b[?25hRequirement already satisfied: typing-extensions>=3.6.5 in /usr/local/lib/python3.7/dist-packages (from aiohttp->ray[tune]) (3.7.4.3)\n",
            "Requirement already satisfied: pytz>=2017.2 in /usr/local/lib/python3.7/dist-packages (from pandas; extra == \"tune\"->ray[tune]) (2018.9)\n",
            "Requirement already satisfied: python-dateutil>=2.7.3 in /usr/local/lib/python3.7/dist-packages (from pandas; extra == \"tune\"->ray[tune]) (2.8.1)\n",
            "Requirement already satisfied: setuptools>=40.3.0 in /usr/local/lib/python3.7/dist-packages (from google-api-core<2.0.0,>=1.0.0->opencensus->ray[tune]) (56.0.0)\n",
            "Requirement already satisfied: googleapis-common-protos<2.0dev,>=1.6.0 in /usr/local/lib/python3.7/dist-packages (from google-api-core<2.0.0,>=1.0.0->opencensus->ray[tune]) (1.53.0)\n",
            "Requirement already satisfied: packaging>=14.3 in /usr/local/lib/python3.7/dist-packages (from google-api-core<2.0.0,>=1.0.0->opencensus->ray[tune]) (20.9)\n",
            "Requirement already satisfied: google-auth<2.0dev,>=1.21.1 in /usr/local/lib/python3.7/dist-packages (from google-api-core<2.0.0,>=1.0.0->opencensus->ray[tune]) (1.28.1)\n",
            "Requirement already satisfied: pyparsing>=2.0.2 in /usr/local/lib/python3.7/dist-packages (from packaging>=14.3->google-api-core<2.0.0,>=1.0.0->opencensus->ray[tune]) (2.4.7)\n",
            "Requirement already satisfied: pyasn1-modules>=0.2.1 in /usr/local/lib/python3.7/dist-packages (from google-auth<2.0dev,>=1.21.1->google-api-core<2.0.0,>=1.0.0->opencensus->ray[tune]) (0.2.8)\n",
            "Requirement already satisfied: cachetools<5.0,>=2.0.0 in /usr/local/lib/python3.7/dist-packages (from google-auth<2.0dev,>=1.21.1->google-api-core<2.0.0,>=1.0.0->opencensus->ray[tune]) (4.2.1)\n",
            "Requirement already satisfied: rsa<5,>=3.1.4; python_version >= \"3.6\" in /usr/local/lib/python3.7/dist-packages (from google-auth<2.0dev,>=1.21.1->google-api-core<2.0.0,>=1.0.0->opencensus->ray[tune]) (4.7.2)\n",
            "Requirement already satisfied: pyasn1<0.5.0,>=0.4.6 in /usr/local/lib/python3.7/dist-packages (from pyasn1-modules>=0.2.1->google-auth<2.0dev,>=1.21.1->google-api-core<2.0.0,>=1.0.0->opencensus->ray[tune]) (0.4.8)\n",
            "Building wheels for collected packages: gpustat\n",
            "  Building wheel for gpustat (setup.py) ... \u001b[?25l\u001b[?25hdone\n",
            "  Created wheel for gpustat: filename=gpustat-0.6.0-cp37-none-any.whl size=12621 sha256=84013c22cb5a8c036caeebb2c6903033688724aa842b541417827e98423bc1e3\n",
            "  Stored in directory: /root/.cache/pip/wheels/48/b4/d5/fb5b7f1d040f2ff20687e3bad6867d63155dbde5a7c10f4293\n",
            "Successfully built gpustat\n",
            "Installing collected packages: opencensus-context, opencensus, blessings, gpustat, async-timeout, hiredis, aioredis, multidict, yarl, aiohttp, aiohttp-cors, redis, protobuf, py-spy, colorama, tensorboardX, ray\n",
            "  Found existing installation: protobuf 3.12.4\n",
            "    Uninstalling protobuf-3.12.4:\n",
            "      Successfully uninstalled protobuf-3.12.4\n",
            "Successfully installed aiohttp-3.7.4.post0 aiohttp-cors-0.7.0 aioredis-1.3.1 async-timeout-3.0.1 blessings-1.7 colorama-0.4.4 gpustat-0.6.0 hiredis-2.0.0 multidict-5.1.0 opencensus-0.7.12 opencensus-context-0.1.2 protobuf-3.15.8 py-spy-0.3.6 ray-1.3.0 redis-3.5.3 tensorboardX-2.2 yarl-1.6.3\n"
          ],
          "name": "stdout"
        },
        {
          "output_type": "display_data",
          "data": {
            "application/vnd.colab-display-data+json": {
              "pip_warning": {
                "packages": [
                  "google"
                ]
              }
            }
          },
          "metadata": {
            "tags": []
          }
        }
      ]
    },
    {
      "cell_type": "code",
      "metadata": {
        "colab": {
          "base_uri": "https://localhost:8080/"
        },
        "id": "5y-PYu7AxACc",
        "outputId": "15b8707e-2cf2-44c4-a52e-94ba6a3a5291"
      },
      "source": [
        "#!pip install transformers\n",
        "from typing import TYPE_CHECKING, Any, Callable, Dict, List, Optional, Tuple, Union\n",
        "import pandas as pd\n",
        "import numpy as np\n",
        "import math\n",
        "import time\n",
        "\n",
        "import nltk\n",
        "from nltk.corpus import stopwords\n",
        "from nltk.tokenize import word_tokenize\n",
        "import string\n",
        "nltk.download('stopwords')\n",
        "nltk.download('punkt')\n",
        "\n",
        "import matplotlib.pyplot as plt\n",
        "import seaborn as sns\n",
        "\n",
        "import os\n",
        "\n",
        "from transformers.utils import *\n",
        "from transformers.data.data_collator import DataCollator, DataCollatorWithPadding, default_data_collator\n",
        "from transformers.file_utils import (\n",
        "    WEIGHTS_NAME,\n",
        "    is_apex_available,\n",
        "    is_datasets_available,\n",
        "    is_in_notebook,\n",
        "    is_sagemaker_dp_enabled,\n",
        "    is_sagemaker_mp_enabled,\n",
        "    is_torch_tpu_available,\n",
        "    is_training_run_on_sagemaker,\n",
        ")\n",
        "from transformers.modeling_utils import PreTrainedModel, unwrap_model\n",
        "from transformers.optimization import Adafactor, AdamW, get_scheduler\n",
        "from transformers.tokenization_utils_base import PreTrainedTokenizerBase\n",
        "from transformers.trainer_callback import (\n",
        "    CallbackHandler,\n",
        "    DefaultFlowCallback,\n",
        "    PrinterCallback,\n",
        "    ProgressCallback,\n",
        "    TrainerCallback,\n",
        "    TrainerControl,\n",
        "    TrainerState,\n",
        ")\n",
        "from transformers.trainer_utils import (\n",
        "    PREFIX_CHECKPOINT_DIR,\n",
        "    BestRun,\n",
        "    EvalPrediction,\n",
        "    HPSearchBackend,\n",
        "    PredictionOutput,\n",
        "    ShardedDDPOption,\n",
        "    TrainerMemoryTracker,\n",
        "    TrainOutput,\n",
        "    default_compute_objective,\n",
        "    default_hp_space,\n",
        "    denumpify_detensorize,\n",
        "    get_last_checkpoint,\n",
        "    set_seed,\n",
        "    speed_metrics,\n",
        ")\n",
        "from transformers.training_args import ParallelMode, TrainingArguments\n",
        "from transformers.utils import logging\n",
        "from transformers.utils.modeling_auto_mapping import MODEL_FOR_QUESTION_ANSWERING_MAPPING_NAMES \n",
        "import torch\n",
        "import tensorflow as tf\n",
        "from transformers import AutoModelForSequenceClassification, AutoTokenizer, TrainingArguments, Trainer\n",
        "import tensorflow_hub as hub\n",
        "\n",
        "from sklearn.feature_extraction.text import CountVectorizer\n",
        "from sklearn.metrics import accuracy_score, precision_recall_fscore_support\n",
        "from sklearn.model_selection import train_test_split\n",
        "\n",
        "\n",
        "\n",
        "from torch.utils.data.dataset import Dataset\n",
        "\n"
      ],
      "execution_count": null,
      "outputs": [
        {
          "output_type": "stream",
          "text": [
            "[nltk_data] Downloading package stopwords to /root/nltk_data...\n",
            "[nltk_data]   Unzipping corpora/stopwords.zip.\n",
            "[nltk_data] Downloading package punkt to /root/nltk_data...\n",
            "[nltk_data]   Unzipping tokenizers/punkt.zip.\n"
          ],
          "name": "stdout"
        }
      ]
    },
    {
      "cell_type": "markdown",
      "metadata": {
        "id": "rTBXfqYHBtCY"
      },
      "source": [
        "## Connecting to cloud hardware"
      ]
    },
    {
      "cell_type": "markdown",
      "metadata": {
        "id": "28oBLUsSaLh6"
      },
      "source": [
        "Edit > Notebook Settings > Hardware accelerator"
      ]
    },
    {
      "cell_type": "code",
      "metadata": {
        "colab": {
          "base_uri": "https://localhost:8080/"
        },
        "id": "zhpQoksBxHO3",
        "outputId": "cf904a58-ab8a-4943-8523-12b88ff843d8"
      },
      "source": [
        "device_name = tf.test.gpu_device_name()\n",
        "if device_name == '/device:GPU:0':\n",
        "  print('Found GPU at: {}'.format(device_name))\n",
        "else:\n",
        "  raise SystemError('GPU device not found')"
      ],
      "execution_count": null,
      "outputs": [
        {
          "output_type": "stream",
          "text": [
            "Found GPU at: /device:GPU:0\n"
          ],
          "name": "stdout"
        }
      ]
    },
    {
      "cell_type": "code",
      "metadata": {
        "colab": {
          "base_uri": "https://localhost:8080/"
        },
        "id": "cMrXcwA8xZ9X",
        "outputId": "aa266499-0bd2-44fa-b2c0-51bb1025736f"
      },
      "source": [
        "if torch.cuda.is_available():\n",
        "  device = torch.device(\"cuda\")\n",
        "  print('There are %d GPU(s) available' % torch.cuda.device_count())\n",
        "  print('We will use the GPU:', torch.cuda.get_device_name(0))\n",
        "else:\n",
        "  print('No GPU available, using CPU')\n",
        "  device = torch.device(\"cpu\")"
      ],
      "execution_count": null,
      "outputs": [
        {
          "output_type": "stream",
          "text": [
            "There are 1 GPU(s) available\n",
            "We will use the GPU: Tesla T4\n"
          ],
          "name": "stdout"
        }
      ]
    },
    {
      "cell_type": "markdown",
      "metadata": {
        "id": "d02BmPnV63Ri"
      },
      "source": [
        "## Importing data"
      ]
    },
    {
      "cell_type": "code",
      "metadata": {
        "colab": {
          "base_uri": "https://localhost:8080/"
        },
        "id": "NIBF-VVvxJxM",
        "outputId": "91f82cdb-9f03-4b49-b518-158c9c98710b"
      },
      "source": [
        "df = pd.read_csv('/content/final_consolidated_data')\n",
        "df.head()"
      ],
      "execution_count": null,
      "outputs": [
        {
          "output_type": "execute_result",
          "data": {
            "text/html": [
              "<div>\n",
              "<style scoped>\n",
              "    .dataframe tbody tr th:only-of-type {\n",
              "        vertical-align: middle;\n",
              "    }\n",
              "\n",
              "    .dataframe tbody tr th {\n",
              "        vertical-align: top;\n",
              "    }\n",
              "\n",
              "    .dataframe thead th {\n",
              "        text-align: right;\n",
              "    }\n",
              "</style>\n",
              "<table border=\"1\" class=\"dataframe\">\n",
              "  <thead>\n",
              "    <tr style=\"text-align: right;\">\n",
              "      <th></th>\n",
              "      <th>Unnamed: 0</th>\n",
              "      <th>CIK Code</th>\n",
              "      <th>Filing</th>\n",
              "      <th>Date Filed</th>\n",
              "      <th>Ticker</th>\n",
              "      <th>CompanyName</th>\n",
              "      <th>PrevAvgPriceChange</th>\n",
              "      <th>PostAvgPriceChange</th>\n",
              "      <th>Label</th>\n",
              "    </tr>\n",
              "  </thead>\n",
              "  <tbody>\n",
              "    <tr>\n",
              "      <th>0</th>\n",
              "      <td>0</td>\n",
              "      <td>1680378</td>\n",
              "      <td>Investing in ourshares of common stock involve...</td>\n",
              "      <td>2021-03-18</td>\n",
              "      <td>SNES</td>\n",
              "      <td>SenesTech, Inc.</td>\n",
              "      <td>0.001328</td>\n",
              "      <td>-0.003177</td>\n",
              "      <td>decrease</td>\n",
              "    </tr>\n",
              "    <tr>\n",
              "      <th>1</th>\n",
              "      <td>1</td>\n",
              "      <td>1222719</td>\n",
              "      <td>Investing in any of our securities involves ri...</td>\n",
              "      <td>2021-01-31</td>\n",
              "      <td>CHY</td>\n",
              "      <td>CALAMOS CONVERTIBLE &amp; HIGH INCOME FUND</td>\n",
              "      <td>0.004126</td>\n",
              "      <td>0.006552</td>\n",
              "      <td>neutral</td>\n",
              "    </tr>\n",
              "    <tr>\n",
              "      <th>2</th>\n",
              "      <td>2</td>\n",
              "      <td>1364954</td>\n",
              "      <td>An investment in our securities involves a hig...</td>\n",
              "      <td>2021-04-03</td>\n",
              "      <td>CHGG</td>\n",
              "      <td>CHEGG, INC</td>\n",
              "      <td>0.065078</td>\n",
              "      <td>0.011987</td>\n",
              "      <td>neutral</td>\n",
              "    </tr>\n",
              "    <tr>\n",
              "      <th>3</th>\n",
              "      <td>3</td>\n",
              "      <td>1674930</td>\n",
              "      <td>Investing in our common stock involves risk. B...</td>\n",
              "      <td>2020-08-12</td>\n",
              "      <td>FLGT</td>\n",
              "      <td>Fulgent Genetics, Inc.</td>\n",
              "      <td>0.412805</td>\n",
              "      <td>0.058477</td>\n",
              "      <td>neutral</td>\n",
              "    </tr>\n",
              "    <tr>\n",
              "      <th>4</th>\n",
              "      <td>4</td>\n",
              "      <td>1409375</td>\n",
              "      <td>Investing in our common stock involves a high ...</td>\n",
              "      <td>2021-03-10</td>\n",
              "      <td>OESX</td>\n",
              "      <td>ORION ENERGY SYSTEMS, INC.</td>\n",
              "      <td>-0.046603</td>\n",
              "      <td>-0.002521</td>\n",
              "      <td>neutral</td>\n",
              "    </tr>\n",
              "  </tbody>\n",
              "</table>\n",
              "</div>"
            ],
            "text/plain": [
              "   Unnamed: 0  CIK Code  ... PostAvgPriceChange     Label\n",
              "0           0   1680378  ...          -0.003177  decrease\n",
              "1           1   1222719  ...           0.006552   neutral\n",
              "2           2   1364954  ...           0.011987   neutral\n",
              "3           3   1674930  ...           0.058477   neutral\n",
              "4           4   1409375  ...          -0.002521   neutral\n",
              "\n",
              "[5 rows x 9 columns]"
            ]
          },
          "metadata": {
            "tags": []
          },
          "execution_count": 4
        }
      ]
    },
    {
      "cell_type": "code",
      "metadata": {
        "colab": {
          "base_uri": "https://localhost:8080/"
        },
        "id": "MSrHxOfV6NJB",
        "outputId": "093530c2-408a-4bb9-dcb9-9b5a5a6fd5be"
      },
      "source": [
        "df.drop(columns = 'Unnamed: 0', inplace = True)\n",
        "df.dropna(axis = 0, how = 'any', inplace = True)\n",
        "df.info()"
      ],
      "execution_count": null,
      "outputs": [
        {
          "output_type": "stream",
          "text": [
            "<class 'pandas.core.frame.DataFrame'>\n",
            "Int64Index: 1350 entries, 0 to 1349\n",
            "Data columns (total 8 columns):\n",
            " #   Column              Non-Null Count  Dtype  \n",
            "---  ------              --------------  -----  \n",
            " 0   CIK Code            1350 non-null   int64  \n",
            " 1   Filing              1350 non-null   object \n",
            " 2   Date Filed          1350 non-null   object \n",
            " 3   Ticker              1350 non-null   object \n",
            " 4   CompanyName         1350 non-null   object \n",
            " 5   PrevAvgPriceChange  1350 non-null   float64\n",
            " 6   PostAvgPriceChange  1350 non-null   float64\n",
            " 7   Label               1350 non-null   object \n",
            "dtypes: float64(2), int64(1), object(5)\n",
            "memory usage: 94.9+ KB\n"
          ],
          "name": "stdout"
        }
      ]
    },
    {
      "cell_type": "markdown",
      "metadata": {
        "id": "tAMDRFq-9EjI"
      },
      "source": [
        "## Configuration of parameters"
      ]
    },
    {
      "cell_type": "code",
      "metadata": {
        "id": "KMwgQ1di9CvK",
        "colab": {
          "base_uri": "https://localhost:8080/",
          "height": 115,
          "referenced_widgets": [
            "84489b215bd844ab803bb8e769328f1b",
            "6e1628776e6e4c8f969ee8b7cd4ec84d",
            "8704268fb579427ca5ac669f52c9c823",
            "ee77958b4b484f6997af4a18f43925f5",
            "58cb1e23b7a642c5bc1f50be0409a75e",
            "8fedc8f7692847eda30301b71ef29841",
            "16c711526ece401b8bcbe1677878a3e5",
            "ff432b01b0034c92b021fbf0f50a22d9",
            "98f15626a5ee417594edf355697c56bc",
            "8b40a12ad6b44ab8b27b37e68c248a1a",
            "076cdbe306ce4aeca522a86004587e1f",
            "8432a3ce2ee34a119dfbafdb2d80d434",
            "7d2cd28380ea41c3baebe13aadaa735a",
            "766d9cd48d984af2abfda5edfc7a1132",
            "df2cc959338343a68ea523c336745536",
            "289ca63515ae487284b0b6498cbf0b19"
          ]
        },
        "outputId": "7c9b4ac4-4f39-45f7-d252-23b4840f81e4"
      },
      "source": [
        "finbert = AutoModelForSequenceClassification.from_pretrained('ProsusAI/finbert', cache_dir = None, num_labels = 3)\n",
        "config = finbert.config"
      ],
      "execution_count": null,
      "outputs": [
        {
          "output_type": "display_data",
          "data": {
            "application/vnd.jupyter.widget-view+json": {
              "model_id": "84489b215bd844ab803bb8e769328f1b",
              "version_minor": 0,
              "version_major": 2
            },
            "text/plain": [
              "HBox(children=(FloatProgress(value=0.0, description='Downloading', max=758.0, style=ProgressStyle(description_…"
            ]
          },
          "metadata": {
            "tags": []
          }
        },
        {
          "output_type": "stream",
          "text": [
            "\n"
          ],
          "name": "stdout"
        },
        {
          "output_type": "display_data",
          "data": {
            "application/vnd.jupyter.widget-view+json": {
              "model_id": "98f15626a5ee417594edf355697c56bc",
              "version_minor": 0,
              "version_major": 2
            },
            "text/plain": [
              "HBox(children=(FloatProgress(value=0.0, description='Downloading', max=437992753.0, style=ProgressStyle(descri…"
            ]
          },
          "metadata": {
            "tags": []
          }
        },
        {
          "output_type": "stream",
          "text": [
            "\n"
          ],
          "name": "stdout"
        }
      ]
    },
    {
      "cell_type": "code",
      "metadata": {
        "colab": {
          "base_uri": "https://localhost:8080/"
        },
        "id": "nz9qa0maxqm1",
        "outputId": "73a1ae43-56da-4b22-de0b-9d821240b9e9"
      },
      "source": [
        "confi"
      ],
      "execution_count": null,
      "outputs": [
        {
          "output_type": "execute_result",
          "data": {
            "text/plain": [
              "768"
            ]
          },
          "metadata": {
            "tags": []
          },
          "execution_count": 6
        }
      ]
    },
    {
      "cell_type": "code",
      "metadata": {
        "colab": {
          "base_uri": "https://localhost:8080/"
        },
        "id": "_3WiEnlaks8U",
        "outputId": "6b0fcd05-2b7f-4b43-86cd-ac2d314b4e95"
      },
      "source": [
        "config.hidden_dropout_prob = 0.3\n",
        "#config.layer_norm_eps = 0.001\n",
        "max_seq_length = config.max_position_embeddings = 300\n",
        "config.id2label[0] = 'decrease'\n",
        "config.id2label[1] = 'neutral'\n",
        "config.id2label[2] = 'increase'\n",
        "config.label2id['decrease'] = 0\n",
        "config.label2id['neutral'] = 1\n",
        "config.label2id['increase'] = 2\n",
        "del config.label2id['negative']\n",
        "del config.label2id['positive']\n",
        "config"
      ],
      "execution_count": null,
      "outputs": [
        {
          "output_type": "execute_result",
          "data": {
            "text/plain": [
              "BertConfig {\n",
              "  \"_name_or_path\": \"ProsusAI/finbert\",\n",
              "  \"architectures\": [\n",
              "    \"BertForSequenceClassification\"\n",
              "  ],\n",
              "  \"attention_probs_dropout_prob\": 0.1,\n",
              "  \"gradient_checkpointing\": false,\n",
              "  \"hidden_act\": \"gelu\",\n",
              "  \"hidden_dropout_prob\": 0.3,\n",
              "  \"hidden_size\": 768,\n",
              "  \"id2label\": {\n",
              "    \"0\": \"decrease\",\n",
              "    \"1\": \"neutral\",\n",
              "    \"2\": \"increase\"\n",
              "  },\n",
              "  \"initializer_range\": 0.02,\n",
              "  \"intermediate_size\": 3072,\n",
              "  \"label2id\": {\n",
              "    \"decrease\": 0,\n",
              "    \"increase\": 2,\n",
              "    \"neutral\": 1\n",
              "  },\n",
              "  \"layer_norm_eps\": 1e-12,\n",
              "  \"max_position_embeddings\": 300,\n",
              "  \"model_type\": \"bert\",\n",
              "  \"num_attention_heads\": 12,\n",
              "  \"num_hidden_layers\": 12,\n",
              "  \"pad_token_id\": 0,\n",
              "  \"position_embedding_type\": \"absolute\",\n",
              "  \"transformers_version\": \"4.6.0.dev0\",\n",
              "  \"type_vocab_size\": 2,\n",
              "  \"use_cache\": true,\n",
              "  \"vocab_size\": 30522\n",
              "}"
            ]
          },
          "metadata": {
            "tags": []
          },
          "execution_count": 7
        }
      ]
    },
    {
      "cell_type": "code",
      "metadata": {
        "id": "Df_beR5TF-tr",
        "colab": {
          "base_uri": "https://localhost:8080/",
          "height": 164,
          "referenced_widgets": [
            "8558dc39059946919bff86ee7b917edf",
            "86d62a32dbcf4f95b28b13c29f1168b4",
            "b8da60364b354e3088e2cd3d170b843a",
            "78cf5a3fb4aa435380f4a77a1fb15cba",
            "9f860b263c6042e5b0a14227d6d2b6d4",
            "160a385c0ee54371b7e9856bb306cd40",
            "cf77f9f2799c41d9bd971a182f1ea971",
            "78687406b6c74775b1c624ca9a336d8d",
            "5abadc103cd34e669249077eedcf467c",
            "1dd381def5164f8c9486715b4b667e18",
            "edc9f73f53964d16a3902e9d7086c6f9",
            "8dabd44b75674ccc9f4351868d3bf4fe",
            "4c1a4df9929147ad8f9cc479fe460c79",
            "d398fed349c449948ba23226293b02ab",
            "fa7e066704124e97893f35e07b706b52",
            "2c89fb890f6b4840bf9a40bd18b0251e",
            "15631258b3e04b99a9a115165a38cbd2",
            "d808cf2270b54c11a7e029b543ae8108",
            "e32d0a3c63d04d53ab4c93aa2a3b0295",
            "f388867d0806453db3aa0086f2a02148",
            "4d649bbbdc4344528074b2b8e30250df",
            "5aee0814f3394ff9a635107e71119a1c",
            "7a848730c3fd4c78bc6b4cab08ef61db",
            "5225cb1a7ab8452ca80b204f5678d7f1"
          ]
        },
        "outputId": "1c12727d-99fb-4a4c-b86c-41d35c360dda"
      },
      "source": [
        "from transformers import AutoTokenizer\n",
        "tokenizer = AutoTokenizer.from_pretrained('ProsusAI/finbert')"
      ],
      "execution_count": null,
      "outputs": [
        {
          "output_type": "display_data",
          "data": {
            "application/vnd.jupyter.widget-view+json": {
              "model_id": "8558dc39059946919bff86ee7b917edf",
              "version_minor": 0,
              "version_major": 2
            },
            "text/plain": [
              "HBox(children=(FloatProgress(value=0.0, description='Downloading', max=231508.0, style=ProgressStyle(descripti…"
            ]
          },
          "metadata": {
            "tags": []
          }
        },
        {
          "output_type": "stream",
          "text": [
            "\n"
          ],
          "name": "stdout"
        },
        {
          "output_type": "display_data",
          "data": {
            "application/vnd.jupyter.widget-view+json": {
              "model_id": "5abadc103cd34e669249077eedcf467c",
              "version_minor": 0,
              "version_major": 2
            },
            "text/plain": [
              "HBox(children=(FloatProgress(value=0.0, description='Downloading', max=112.0, style=ProgressStyle(description_…"
            ]
          },
          "metadata": {
            "tags": []
          }
        },
        {
          "output_type": "stream",
          "text": [
            "\n"
          ],
          "name": "stdout"
        },
        {
          "output_type": "display_data",
          "data": {
            "application/vnd.jupyter.widget-view+json": {
              "model_id": "15631258b3e04b99a9a115165a38cbd2",
              "version_minor": 0,
              "version_major": 2
            },
            "text/plain": [
              "HBox(children=(FloatProgress(value=0.0, description='Downloading', max=252.0, style=ProgressStyle(description_…"
            ]
          },
          "metadata": {
            "tags": []
          }
        },
        {
          "output_type": "stream",
          "text": [
            "\n"
          ],
          "name": "stdout"
        }
      ]
    },
    {
      "cell_type": "code",
      "metadata": {
        "id": "AYKdjibZLlt9"
      },
      "source": [
        "batch_size = 32\n",
        "epochs = 5\n",
        "lr = 1e-5"
      ],
      "execution_count": null,
      "outputs": []
    },
    {
      "cell_type": "markdown",
      "metadata": {
        "id": "YazbbX08D_46"
      },
      "source": [
        "## Data pre-processing"
      ]
    },
    {
      "cell_type": "code",
      "metadata": {
        "id": "AjFkwMmLqyuv"
      },
      "source": [
        "# Stop word removal\n",
        "def remove_stopwords(text):\n",
        "  filtered = []\n",
        "  stop_words = set(stopwords.words('english'))\n",
        "  word_tokens = word_tokenize(text)\n",
        "  for w in word_tokens:\n",
        "    if w not in stop_words:\n",
        "      filtered.append(w)\n",
        "  filtered_doc = ' '.join(str(i) for i in filtered)\n",
        "  return filtered_doc"
      ],
      "execution_count": null,
      "outputs": []
    },
    {
      "cell_type": "code",
      "metadata": {
        "id": "MTYb6yMiq2Ng"
      },
      "source": [
        "df['Filing'] = df['Filing'].apply(lambda x: remove_stopwords(x))"
      ],
      "execution_count": null,
      "outputs": []
    },
    {
      "cell_type": "markdown",
      "metadata": {
        "id": "Je1r-h1e7D4f"
      },
      "source": [
        "Here we are going to perform the train/validation/test split of our data. We also do one-hot encoding of our labels. "
      ]
    },
    {
      "cell_type": "code",
      "metadata": {
        "id": "FnzWHtOCEB1F"
      },
      "source": [
        "x = df.Filing.values\n",
        "y = df.Label.values\n",
        "labs = []\n",
        "\n",
        "for i in y:\n",
        "  if i == 'decrease':\n",
        "    labs.append(0)\n",
        "  elif i == 'neutral':\n",
        "    labs.append(1)\n",
        "  else:\n",
        "    labs.append(2)\n",
        "labs = np.array(labs)\n",
        "x_train, x_test, y_train, y_test = train_test_split(x,labs, test_size = 0.2, random_state = 42)\n",
        "train_texts, val_texts, train_labels, val_labels = train_test_split(x_train, y_train, test_size =0.3)"
      ],
      "execution_count": null,
      "outputs": []
    },
    {
      "cell_type": "markdown",
      "metadata": {
        "id": "7_vjR1l87Vch"
      },
      "source": [
        "Below is where the tokenization magic happens. We use the arguments `return_overflowing_tokens` and `return_offsets_mapping` in order to segment long filings into windows of 300 tokens, and map the \"sub-filings\" to the label of the \"parent\" filing. The argument `stride` is used to impose some token overlap into the sub-filings. We use this to minimize the contextual loss that comes from truncation. \n"
      ]
    },
    {
      "cell_type": "code",
      "metadata": {
        "id": "06tmn5fsRA1K"
      },
      "source": [
        "train_encodings = tokenizer(list(train_texts),\n",
        "                            truncation = True,\n",
        "                            padding = True,\n",
        "                            return_overflowing_tokens = True,\n",
        "                            return_offsets_mapping = True,\n",
        "                            stride = 100,\n",
        "                            max_length = max_seq_length,\n",
        "                            return_tensors = 'pt')\n",
        "\n",
        "val_encodings = tokenizer(list(val_texts),\n",
        "                          truncation = True,\n",
        "                          padding = True,\n",
        "                          return_overflowing_tokens = True,\n",
        "                          return_offsets_mapping = True,\n",
        "                          stride = 100,\n",
        "                          max_length = max_seq_length,\n",
        "                          return_tensors = 'pt')\n",
        "\n",
        "test_encodings = tokenizer(list(x_test),\n",
        "                           truncation = True,\n",
        "                           padding = True,\n",
        "                           return_overflowing_tokens = True,\n",
        "                           return_offsets_mapping = True,\n",
        "                           stride = 100,\n",
        "                           max_length = max_seq_length,\n",
        "                           return_tensors = 'pt')"
      ],
      "execution_count": null,
      "outputs": []
    },
    {
      "cell_type": "markdown",
      "metadata": {
        "id": "btNmaNTU7_q3"
      },
      "source": [
        "Here we look at the `overflow_to_sample_mapping` in order to match the \"sub-filings\" to the labels of the parent filing. "
      ]
    },
    {
      "cell_type": "code",
      "metadata": {
        "id": "8uL5d3aOrVnH"
      },
      "source": [
        "train_sub_labs = []\n",
        "val_sub_labs = []\n",
        "test_sub_labs = []\n",
        "\n",
        "for idx, lab in enumerate(train_labels):\n",
        "  for i in train_encodings['overflow_to_sample_mapping']:\n",
        "    if i == idx:\n",
        "      train_sub_labs.append(lab)\n",
        "\n",
        "for idx, lab in enumerate(val_labels):\n",
        "  for i in val_encodings['overflow_to_sample_mapping']:\n",
        "    if i == idx:\n",
        "      val_sub_labs.append(lab)\n",
        "\n",
        "for idx, lab in enumerate(y_test):\n",
        "  for i in test_encodings['overflow_to_sample_mapping']:\n",
        "    if i == idx:\n",
        "      test_sub_labs.append(lab)\n",
        "\n",
        "train_sub_labs = np.array(train_sub_labs)\n",
        "val_sub_labs = np.array(val_sub_labs)\n",
        "test_sub_labs = np.array(test_sub_labs)"
      ],
      "execution_count": null,
      "outputs": []
    },
    {
      "cell_type": "markdown",
      "metadata": {
        "id": "QwF9ZmDQ8Qgx"
      },
      "source": [
        "To create the windows of the long filings, the tokenizer returned some items that are not recognized by BERT models for fine-tuning. We need to get rid of those. "
      ]
    },
    {
      "cell_type": "code",
      "metadata": {
        "colab": {
          "base_uri": "https://localhost:8080/"
        },
        "id": "vjPR9I-78aYw",
        "outputId": "477a2bc2-4c36-49dc-f690-d9e54a2b9918"
      },
      "source": [
        "print('Model requirements: {}'.format(tokenizer.model_input_names))\n",
        "print('='*90)\n",
        "print('Current inputs: {}'.format(train_encodings.keys))"
      ],
      "execution_count": null,
      "outputs": [
        {
          "output_type": "stream",
          "text": [
            "Model requirements: ['input_ids', 'token_type_ids', 'attention_mask']\n",
            "==========================================================================================\n",
            "Current inputs: <bound method BatchEncoding.keys of {'input_ids': tensor([[  101,  1028,  8875,  ...,     0,     0,     0],\n",
            "        [  101,  6614,  5714,  ..., 14728,  6970,   102],\n",
            "        [  101,  3737,  3820,  ...,     0,     0,     0],\n",
            "        ...,\n",
            "        [  101,  3006,  3037,  ...,  2326, 14422,   102],\n",
            "        [  101,  2094, 21693,  ...,     0,     0,     0],\n",
            "        [  101,  2006,  2258,  ...,     0,     0,     0]]), 'token_type_ids': tensor([[0, 0, 0,  ..., 0, 0, 0],\n",
            "        [0, 0, 0,  ..., 0, 0, 0],\n",
            "        [0, 0, 0,  ..., 0, 0, 0],\n",
            "        ...,\n",
            "        [0, 0, 0,  ..., 0, 0, 0],\n",
            "        [0, 0, 0,  ..., 0, 0, 0],\n",
            "        [0, 0, 0,  ..., 0, 0, 0]]), 'attention_mask': tensor([[1, 1, 1,  ..., 0, 0, 0],\n",
            "        [1, 1, 1,  ..., 1, 1, 1],\n",
            "        [1, 1, 1,  ..., 0, 0, 0],\n",
            "        ...,\n",
            "        [1, 1, 1,  ..., 1, 1, 1],\n",
            "        [1, 1, 1,  ..., 0, 0, 0],\n",
            "        [1, 1, 1,  ..., 0, 0, 0]]), 'offset_mapping': tensor([[[    0,     0],\n",
            "         [    0,     1],\n",
            "         [    2,     6],\n",
            "         ...,\n",
            "         [    0,     0],\n",
            "         [    0,     0],\n",
            "         [    0,     0]],\n",
            "\n",
            "        [[    0,     0],\n",
            "         [    0,     3],\n",
            "         [    3,     5],\n",
            "         ...,\n",
            "         [  855,   858],\n",
            "         [  859,   864],\n",
            "         [    0,     0]],\n",
            "\n",
            "        [[    0,     0],\n",
            "         [  414,   421],\n",
            "         [  422,   431],\n",
            "         ...,\n",
            "         [    0,     0],\n",
            "         [    0,     0],\n",
            "         [    0,     0]],\n",
            "\n",
            "        ...,\n",
            "\n",
            "        [[    0,     0],\n",
            "         [22381, 22387],\n",
            "         [22388, 22396],\n",
            "         ...,\n",
            "         [23621, 23628],\n",
            "         [23629, 23640],\n",
            "         [    0,     0]],\n",
            "\n",
            "        [[    0,     0],\n",
            "         [23017, 23018],\n",
            "         [23018, 23020],\n",
            "         ...,\n",
            "         [    0,     0],\n",
            "         [    0,     0],\n",
            "         [    0,     0]],\n",
            "\n",
            "        [[    0,     0],\n",
            "         [    0,     2],\n",
            "         [    3,     8],\n",
            "         ...,\n",
            "         [    0,     0],\n",
            "         [    0,     0],\n",
            "         [    0,     0]]]), 'overflow_to_sample_mapping': tensor([  0,   1,   1,  ..., 862, 862, 863])}>\n"
          ],
          "name": "stdout"
        }
      ]
    },
    {
      "cell_type": "code",
      "metadata": {
        "colab": {
          "base_uri": "https://localhost:8080/"
        },
        "id": "goM86yRxrZUo",
        "outputId": "29ad87a1-b6d9-4f66-9d0d-28fc1f5d6d94"
      },
      "source": [
        "train_encodings.pop('overflow_to_sample_mapping')\n",
        "train_encodings.pop('offset_mapping')\n",
        "test_encodings.pop('overflow_to_sample_mapping')\n",
        "test_encodings.pop('offset_mapping')\n",
        "val_encodings.pop('overflow_to_sample_mapping')\n",
        "val_encodings.pop('offset_mapping')\n",
        "train_encodings.keys"
      ],
      "execution_count": null,
      "outputs": [
        {
          "output_type": "execute_result",
          "data": {
            "text/plain": [
              "<bound method BatchEncoding.keys of {'input_ids': tensor([[  101,  2019,  2378,  ...,  2433,  2050,   102],\n",
              "        [  101,  2224,  1012,  ...,  1012,  2138,   102],\n",
              "        [  101,  2925,  4341,  ...,  1010,  4518,   102],\n",
              "        ...,\n",
              "        [  101,  3840,  2375,  ...,  1010,  2071,   102],\n",
              "        [  101,  4518,  7457,  ...,     0,     0,     0],\n",
              "        [  101,  8875, 20720,  ...,     0,     0,     0]]), 'token_type_ids': tensor([[0, 0, 0,  ..., 0, 0, 0],\n",
              "        [0, 0, 0,  ..., 0, 0, 0],\n",
              "        [0, 0, 0,  ..., 0, 0, 0],\n",
              "        ...,\n",
              "        [0, 0, 0,  ..., 0, 0, 0],\n",
              "        [0, 0, 0,  ..., 0, 0, 0],\n",
              "        [0, 0, 0,  ..., 0, 0, 0]]), 'attention_mask': tensor([[1, 1, 1,  ..., 1, 1, 1],\n",
              "        [1, 1, 1,  ..., 1, 1, 1],\n",
              "        [1, 1, 1,  ..., 1, 1, 1],\n",
              "        ...,\n",
              "        [1, 1, 1,  ..., 1, 1, 1],\n",
              "        [1, 1, 1,  ..., 0, 0, 0],\n",
              "        [1, 1, 1,  ..., 0, 0, 0]])}>"
            ]
          },
          "metadata": {
            "tags": []
          },
          "execution_count": 15
        }
      ]
    },
    {
      "cell_type": "code",
      "metadata": {
        "id": "TsNf1RUGOLsQ"
      },
      "source": [
        "class SEC_Dataset(torch.utils.data.Dataset):\n",
        "  def __init__(self, encodings, labels):\n",
        "    self.encodings = encodings\n",
        "    self.labels = labels\n",
        "\n",
        "  def __getitem__(self, idx):\n",
        "    item = {key: torch.tensor(val[idx]) for key, val in self.encodings.items()}\n",
        "    item['labels'] = torch.tensor(self.labels[idx])\n",
        "    return item\n",
        "\n",
        "  def __len__(self):\n",
        "    return len(self.labels)\n",
        "\n",
        "train_dataset = SEC_Dataset(train_encodings, train_sub_labs)\n",
        "val_dataset = SEC_Dataset(val_encodings, val_sub_labs)\n",
        "test_dataset = SEC_Dataset(test_encodings, test_sub_labs)"
      ],
      "execution_count": null,
      "outputs": []
    },
    {
      "cell_type": "markdown",
      "metadata": {
        "id": "q6XE1RB6TIJ4"
      },
      "source": [
        "## Performance metrics"
      ]
    },
    {
      "cell_type": "code",
      "metadata": {
        "id": "ZNUbBJNNuzV2"
      },
      "source": [
        "from sklearn.metrics import accuracy_score, precision_recall_fscore_support, classification_report\n",
        "\n",
        "def compute_metrics(eval_pred):\n",
        "  labels = eval_pred.label_ids\n",
        "  preds = eval_pred.predictions.argmax(-1)\n",
        "  lab_names = [0,1,2]\n",
        "  \n",
        "  precision, recall, f1, _ = precision_recall_fscore_support(labels, preds, average ='weighted')\n",
        "  acc = accuracy_score(labels, preds)\n",
        "  print(precision_recall_fscore_support(labels, preds, average = None, labels = lab_names))\n",
        "\n",
        "\n",
        "  dic = {\n",
        "      'Accuracy': acc,\n",
        "      'F1': f1,\n",
        "      'Precision': precision,\n",
        "      'Recall': recall\n",
        "  }\n",
        "  return dic"
      ],
      "execution_count": null,
      "outputs": []
    },
    {
      "cell_type": "markdown",
      "metadata": {
        "id": "P-a_7_-evT8J"
      },
      "source": [
        "## Training"
      ]
    },
    {
      "cell_type": "code",
      "metadata": {
        "id": "sp4TNcf9blvy"
      },
      "source": [
        "class MyTrainer(Trainer):\n",
        "  def __init__(self, model,\n",
        "        args = None,\n",
        "        data_collator = None,\n",
        "        train_dataset = None,\n",
        "        eval_dataset = None,\n",
        "        tokenizer = None,\n",
        "        model_init = None,\n",
        "        compute_metrics = None,\n",
        "        callbacks = None,\n",
        "        optimizers = (None,None)\n",
        "    ):\n",
        "\n",
        "    super().__init__(model, args, data_collator, train_dataset, eval_dataset, tokenizer, model_init,\n",
        "                  compute_metrics, callbacks, optimizers) \n",
        "    \n",
        "  def evaluate(\n",
        "        self,\n",
        "        train_dataset = None,\n",
        "        eval_dataset: Optional[Dataset] = None,\n",
        "        ignore_keys: Optional[List[str]] = None,\n",
        "        metric_key_prefix: str = \"eval\",\n",
        "    ) -> Dict[str, float]:\n",
        "        \n",
        "        # memory metrics - must set up as early as possible\n",
        "        self._memory_tracker.start()\n",
        "\n",
        "        if eval_dataset is not None and not isinstance(eval_dataset, collections.abc.Sized):\n",
        "            raise ValueError(\"eval_dataset must implement __len__\")\n",
        "\n",
        "        train_dataloader = self.get_train_dataloader()\n",
        "        eval_dataloader = self.get_eval_dataloader(eval_dataset)\n",
        "        start_time = time.time()\n",
        "\n",
        "        train_output = self.prediction_loop(\n",
        "            train_dataloader,\n",
        "            description = 'Training',\n",
        "            prediction_loss_only = True if self.compute_metrics is None else None,\n",
        "            ignore_keys = ignore_keys,\n",
        "            metric_key_prefix = 'train',\n",
        "            )\n",
        "\n",
        "\n",
        "        eval_output = self.prediction_loop(\n",
        "            eval_dataloader,\n",
        "            description=\"Evaluation\",\n",
        "            # No point gathering the predictions if there are no metrics, otherwise we defer to\n",
        "            # self.args.prediction_loss_only\n",
        "            prediction_loss_only=True if self.compute_metrics is None else None,\n",
        "            ignore_keys=ignore_keys,\n",
        "            metric_key_prefix=metric_key_prefix,\n",
        "        )\n",
        "        train_n_samples = len(self.train_dataset)\n",
        "        train_output.metrics.update(speed_metrics('train', start_time, train_n_samples))\n",
        "        self.log(train_output.metrics)\n",
        "\n",
        "        eval_n_samples = len(eval_dataset if eval_dataset is not None else self.eval_dataset)\n",
        "        eval_output.metrics.update(speed_metrics(metric_key_prefix, start_time, eval_n_samples))\n",
        "        self.log(eval_output.metrics)\n",
        "\n",
        "        if self.args.tpu_metrics_debug or self.args.debug:\n",
        "            # tpu-comment: Logging debug metrics for PyTorch/XLA (compile, execute times, ops, etc.)\n",
        "            xm.master_print(met.metrics_report())\n",
        "        \n",
        "        train_output.metrics['eval_loss'] = 'No log'\n",
        "        self.control = self.callback_handler.on_evaluate(self.args, self.state, self.control, eval_output.metrics)\n",
        "        self.control = self.callback_handler.on_evaluate(self.args, self.state, self.control, train_output.metrics)\n",
        "\n",
        "        self._memory_tracker.stop_and_update_metrics(train_output.metrics)\n",
        "        self._memory_tracker.stop_and_update_metrics(eval_output.metrics)\n",
        "\n",
        "        dic = {\n",
        "        'Training metrics': train_output.metrics,\n",
        "        'Validation metrics': eval_output.metrics\n",
        "        }\n",
        "\n",
        "        return dic\n",
        "\n"
      ],
      "execution_count": null,
      "outputs": []
    },
    {
      "cell_type": "markdown",
      "metadata": {
        "id": "iYt3tT9ckJpE"
      },
      "source": [
        "<b>NOTE:</b>The log prints two rows per epoch because the second row was added into the source code to retrieve the training accuracy. That is why the training loss is the same, and there is no log for validation loss."
      ]
    },
    {
      "cell_type": "code",
      "metadata": {
        "colab": {
          "base_uri": "https://localhost:8080/",
          "height": 1000
        },
        "id": "EYI3fxu8Hijr",
        "outputId": "8bf556d9-da14-430b-cd0f-5298a5fc6b82"
      },
      "source": [
        "training_args = TrainingArguments(\n",
        "    output_dir = 'finBERT',\n",
        "    num_train_epochs = 10,\n",
        "    do_train = True,\n",
        "    do_eval = True,\n",
        "    evaluation_strategy = 'epoch',\n",
        "    logging_strategy = 'epoch',\n",
        "    per_device_train_batch_size = 32,\n",
        "    per_device_eval_batch_size = 32,\n",
        "    warmup_steps = 250,\n",
        "    weight_decay = 0.2,\n",
        "    gradient_accumulation_steps = 3,\n",
        "    learning_rate = 1e-5,\n",
        "    fp16 = True\n",
        ")\n",
        "\n",
        "trainer = MyTrainer(\n",
        "    model = finbert,\n",
        "    args = training_args,\n",
        "    train_dataset = train_dataset,\n",
        "    eval_dataset = val_dataset,\n",
        "    compute_metrics = compute_metrics\n",
        ")\n",
        "trainer.train()"
      ],
      "execution_count": null,
      "outputs": [
        {
          "output_type": "stream",
          "text": [
            "/usr/local/lib/python3.7/dist-packages/ipykernel_launcher.py:7: UserWarning: To copy construct from a tensor, it is recommended to use sourceTensor.clone().detach() or sourceTensor.clone().detach().requires_grad_(True), rather than torch.tensor(sourceTensor).\n",
            "  import sys\n"
          ],
          "name": "stderr"
        },
        {
          "output_type": "display_data",
          "data": {
            "text/html": [
              "\n",
              "    <div>\n",
              "      \n",
              "      <progress value='2470' max='2470' style='width:300px; height:20px; vertical-align: middle;'></progress>\n",
              "      [2470/2470 3:45:50, Epoch 9/10]\n",
              "    </div>\n",
              "    <table border=\"1\" class=\"dataframe\">\n",
              "  <thead>\n",
              "    <tr style=\"text-align: left;\">\n",
              "      <th>Epoch</th>\n",
              "      <th>Training Loss</th>\n",
              "      <th>Validation Loss</th>\n",
              "      <th>Accuracy</th>\n",
              "      <th>F1</th>\n",
              "      <th>Precision</th>\n",
              "      <th>Recall</th>\n",
              "    </tr>\n",
              "  </thead>\n",
              "  <tbody>\n",
              "    <tr>\n",
              "      <td>0</td>\n",
              "      <td>1.218000</td>\n",
              "      <td>1.112867</td>\n",
              "      <td>0.335739</td>\n",
              "      <td>0.265415</td>\n",
              "      <td>0.528015</td>\n",
              "      <td>0.335739</td>\n",
              "    </tr>\n",
              "    <tr>\n",
              "      <td>0</td>\n",
              "      <td>1.218000</td>\n",
              "      <td>No log</td>\n",
              "      <td>0.435310</td>\n",
              "      <td>0.371735</td>\n",
              "      <td>0.526160</td>\n",
              "      <td>0.435310</td>\n",
              "    </tr>\n",
              "    <tr>\n",
              "      <td>1</td>\n",
              "      <td>0.965700</td>\n",
              "      <td>0.942784</td>\n",
              "      <td>0.526700</td>\n",
              "      <td>0.521902</td>\n",
              "      <td>0.562631</td>\n",
              "      <td>0.526700</td>\n",
              "    </tr>\n",
              "    <tr>\n",
              "      <td>1</td>\n",
              "      <td>0.965700</td>\n",
              "      <td>No log</td>\n",
              "      <td>0.592950</td>\n",
              "      <td>0.587505</td>\n",
              "      <td>0.612808</td>\n",
              "      <td>0.592950</td>\n",
              "    </tr>\n",
              "    <tr>\n",
              "      <td>2</td>\n",
              "      <td>0.809200</td>\n",
              "      <td>0.878637</td>\n",
              "      <td>0.569818</td>\n",
              "      <td>0.574883</td>\n",
              "      <td>0.598778</td>\n",
              "      <td>0.569818</td>\n",
              "    </tr>\n",
              "    <tr>\n",
              "      <td>2</td>\n",
              "      <td>0.809200</td>\n",
              "      <td>No log</td>\n",
              "      <td>0.711717</td>\n",
              "      <td>0.711552</td>\n",
              "      <td>0.713964</td>\n",
              "      <td>0.711717</td>\n",
              "    </tr>\n",
              "    <tr>\n",
              "      <td>3</td>\n",
              "      <td>0.670900</td>\n",
              "      <td>0.864498</td>\n",
              "      <td>0.608245</td>\n",
              "      <td>0.618451</td>\n",
              "      <td>0.660262</td>\n",
              "      <td>0.608245</td>\n",
              "    </tr>\n",
              "    <tr>\n",
              "      <td>3</td>\n",
              "      <td>0.670900</td>\n",
              "      <td>No log</td>\n",
              "      <td>0.770889</td>\n",
              "      <td>0.770218</td>\n",
              "      <td>0.777123</td>\n",
              "      <td>0.770889</td>\n",
              "    </tr>\n",
              "    <tr>\n",
              "      <td>4</td>\n",
              "      <td>0.573400</td>\n",
              "      <td>0.856315</td>\n",
              "      <td>0.633772</td>\n",
              "      <td>0.643185</td>\n",
              "      <td>0.666727</td>\n",
              "      <td>0.633772</td>\n",
              "    </tr>\n",
              "    <tr>\n",
              "      <td>4</td>\n",
              "      <td>0.573400</td>\n",
              "      <td>No log</td>\n",
              "      <td>0.817343</td>\n",
              "      <td>0.817049</td>\n",
              "      <td>0.819715</td>\n",
              "      <td>0.817343</td>\n",
              "    </tr>\n",
              "    <tr>\n",
              "      <td>5</td>\n",
              "      <td>0.510600</td>\n",
              "      <td>0.894508</td>\n",
              "      <td>0.635125</td>\n",
              "      <td>0.647509</td>\n",
              "      <td>0.686334</td>\n",
              "      <td>0.635125</td>\n",
              "    </tr>\n",
              "    <tr>\n",
              "      <td>5</td>\n",
              "      <td>0.510600</td>\n",
              "      <td>No log</td>\n",
              "      <td>0.831663</td>\n",
              "      <td>0.830850</td>\n",
              "      <td>0.842607</td>\n",
              "      <td>0.831663</td>\n",
              "    </tr>\n",
              "    <tr>\n",
              "      <td>6</td>\n",
              "      <td>0.455200</td>\n",
              "      <td>0.877613</td>\n",
              "      <td>0.651903</td>\n",
              "      <td>0.661861</td>\n",
              "      <td>0.688201</td>\n",
              "      <td>0.651903</td>\n",
              "    </tr>\n",
              "    <tr>\n",
              "      <td>6</td>\n",
              "      <td>0.455200</td>\n",
              "      <td>No log</td>\n",
              "      <td>0.856595</td>\n",
              "      <td>0.856029</td>\n",
              "      <td>0.863270</td>\n",
              "      <td>0.856595</td>\n",
              "    </tr>\n",
              "    <tr>\n",
              "      <td>7</td>\n",
              "      <td>0.414200</td>\n",
              "      <td>0.887525</td>\n",
              "      <td>0.658578</td>\n",
              "      <td>0.668482</td>\n",
              "      <td>0.695201</td>\n",
              "      <td>0.658578</td>\n",
              "    </tr>\n",
              "    <tr>\n",
              "      <td>7</td>\n",
              "      <td>0.414200</td>\n",
              "      <td>No log</td>\n",
              "      <td>0.865398</td>\n",
              "      <td>0.864794</td>\n",
              "      <td>0.871764</td>\n",
              "      <td>0.865398</td>\n",
              "    </tr>\n",
              "    <tr>\n",
              "      <td>8</td>\n",
              "      <td>0.387100</td>\n",
              "      <td>0.921046</td>\n",
              "      <td>0.663449</td>\n",
              "      <td>0.670725</td>\n",
              "      <td>0.691693</td>\n",
              "      <td>0.663449</td>\n",
              "    </tr>\n",
              "    <tr>\n",
              "      <td>8</td>\n",
              "      <td>0.387100</td>\n",
              "      <td>No log</td>\n",
              "      <td>0.878664</td>\n",
              "      <td>0.878580</td>\n",
              "      <td>0.879346</td>\n",
              "      <td>0.878664</td>\n",
              "    </tr>\n",
              "    <tr>\n",
              "      <td>9</td>\n",
              "      <td>0.368800</td>\n",
              "      <td>0.917423</td>\n",
              "      <td>0.664532</td>\n",
              "      <td>0.673139</td>\n",
              "      <td>0.694728</td>\n",
              "      <td>0.664532</td>\n",
              "    </tr>\n",
              "    <tr>\n",
              "      <td>9</td>\n",
              "      <td>0.368800</td>\n",
              "      <td>No log</td>\n",
              "      <td>0.881360</td>\n",
              "      <td>0.881259</td>\n",
              "      <td>0.882541</td>\n",
              "      <td>0.881360</td>\n",
              "    </tr>\n",
              "  </tbody>\n",
              "</table><p>"
            ],
            "text/plain": [
              "<IPython.core.display.HTML object>"
            ]
          },
          "metadata": {
            "tags": []
          }
        },
        {
          "output_type": "stream",
          "text": [
            "/usr/local/lib/python3.7/dist-packages/transformers/trainer_pt_utils.py:368: FutureWarning: DistributedTensorGatherer is deprecated and will be removed in v5 of Transformers.\n",
            "  FutureWarning,\n"
          ],
          "name": "stderr"
        },
        {
          "output_type": "stream",
          "text": [
            "(array([0.42959411, 0.71007371, 0.41875439]), array([0.71855382, 0.06853213, 0.53324389]), array([0.53771205, 0.125     , 0.46911475]), array([8602, 8434, 6708]))\n",
            "(array([0.39616286, 0.74822695, 0.2027163 ]), array([0.65575758, 0.04098679, 0.44456702]), array([0.4939286 , 0.07771639, 0.27845915]), array([4125, 5148, 1813]))\n",
            "(array([0.53422559, 0.64821401, 0.66906032]), array([0.77028598, 0.49703581, 0.48613596]), array([0.63089741, 0.5626468 , 0.56311518]), array([8602, 8434, 6708]))\n",
            "(array([0.48026745, 0.68538269, 0.40147225]), array([0.71393939, 0.42443667, 0.39106453]), array([0.57424198, 0.52423225, 0.39620006]), array([4125, 5148, 1813]))\n"
          ],
          "name": "stdout"
        },
        {
          "output_type": "stream",
          "text": [
            "/usr/local/lib/python3.7/dist-packages/ipykernel_launcher.py:7: UserWarning: To copy construct from a tensor, it is recommended to use sourceTensor.clone().detach() or sourceTensor.clone().detach().requires_grad_(True), rather than torch.tensor(sourceTensor).\n",
            "  import sys\n",
            "/usr/local/lib/python3.7/dist-packages/transformers/trainer_pt_utils.py:368: FutureWarning: DistributedTensorGatherer is deprecated and will be removed in v5 of Transformers.\n",
            "  FutureWarning,\n"
          ],
          "name": "stderr"
        },
        {
          "output_type": "stream",
          "text": [
            "(array([0.68148849, 0.7431601 , 0.7189017 ]), array([0.75366194, 0.67310885, 0.70646989]), array([0.71576042, 0.70640204, 0.71263158]), array([8602, 8434, 6708]))\n",
            "(array([0.55985768, 0.70750262, 0.37860577]), array([0.64848485, 0.52389277, 0.52123552]), array([0.60092104, 0.60200893, 0.43861685]), array([4125, 5148, 1813]))\n",
            "(array([0.77490947, 0.82762493, 0.71646606]), array([0.771216  , 0.69907517, 0.86076327]), array([0.77305832, 0.75793804, 0.78201395]), array([8602, 8434, 6708]))\n",
            "(array([0.62565321, 0.78501094, 0.38478261]), array([0.63854545, 0.55749806, 0.68339768]), array([0.63203359, 0.65197637, 0.49235049]), array([4125, 5148, 1813]))\n"
          ],
          "name": "stdout"
        },
        {
          "output_type": "stream",
          "text": [
            "/usr/local/lib/python3.7/dist-packages/ipykernel_launcher.py:7: UserWarning: To copy construct from a tensor, it is recommended to use sourceTensor.clone().detach() or sourceTensor.clone().detach().requires_grad_(True), rather than torch.tensor(sourceTensor).\n",
            "  import sys\n",
            "/usr/local/lib/python3.7/dist-packages/transformers/trainer_pt_utils.py:368: FutureWarning: DistributedTensorGatherer is deprecated and will be removed in v5 of Transformers.\n",
            "  FutureWarning,\n"
          ],
          "name": "stderr"
        },
        {
          "output_type": "stream",
          "text": [
            "(array([0.84695963, 0.82466212, 0.77855725]), array([0.77075099, 0.81752431, 0.87686345]), array([0.80706026, 0.8210777 , 0.82479142]), array([8602, 8434, 6708]))\n",
            "(array([0.66529879, 0.7624681 , 0.39812239]), array([0.62884848, 0.63850039, 0.63154992]), array([0.64656032, 0.69499947, 0.48837705]), array([4125, 5148, 1813]))\n",
            "(array([0.91929825, 0.83018436, 0.75988251]), array([0.73099279, 0.85961584, 0.92561121]), array([0.81440228, 0.84464379, 0.8345991 ]), array([8602, 8434, 6708]))\n",
            "(array([0.72826767, 0.76162019, 0.37715134]), array([0.56460606, 0.66841492, 0.70104799]), array([0.63607811, 0.71198014, 0.49044955]), array([4125, 5148, 1813]))\n"
          ],
          "name": "stdout"
        },
        {
          "output_type": "stream",
          "text": [
            "/usr/local/lib/python3.7/dist-packages/ipykernel_launcher.py:7: UserWarning: To copy construct from a tensor, it is recommended to use sourceTensor.clone().detach() or sourceTensor.clone().detach().requires_grad_(True), rather than torch.tensor(sourceTensor).\n",
            "  import sys\n",
            "/usr/local/lib/python3.7/dist-packages/transformers/trainer_pt_utils.py:368: FutureWarning: DistributedTensorGatherer is deprecated and will be removed in v5 of Transformers.\n",
            "  FutureWarning,\n"
          ],
          "name": "stderr"
        },
        {
          "output_type": "stream",
          "text": [
            "(array([0.92963067, 0.83800623, 0.80993691]), array([0.77249477, 0.89305193, 0.91860465]), array([0.84380952, 0.86465389, 0.86085499]), array([8602, 8434, 6708]))\n",
            "(array([0.73027091, 0.75664752, 0.39812646]), array([0.60121212, 0.69094794, 0.65637066]), array([0.65948677, 0.72230683, 0.49562682]), array([4125, 5148, 1813]))\n",
            "(array([0.93501252, 0.85126192, 0.81643334]), array([0.78109742, 0.89981029, 0.93023256]), array([0.85115277, 0.8748631 , 0.86962581]), array([8602, 8434, 6708]))\n",
            "(array([0.73303704, 0.76802375, 0.40233723]), array([0.59975758, 0.7035742 , 0.66464424]), array([0.65973333, 0.73438767, 0.50124792]), array([4125, 5148, 1813]))\n"
          ],
          "name": "stdout"
        },
        {
          "output_type": "stream",
          "text": [
            "/usr/local/lib/python3.7/dist-packages/ipykernel_launcher.py:7: UserWarning: To copy construct from a tensor, it is recommended to use sourceTensor.clone().detach() or sourceTensor.clone().detach().requires_grad_(True), rather than torch.tensor(sourceTensor).\n",
            "  import sys\n",
            "/usr/local/lib/python3.7/dist-packages/transformers/trainer_pt_utils.py:368: FutureWarning: DistributedTensorGatherer is deprecated and will be removed in v5 of Transformers.\n",
            "  FutureWarning,\n"
          ],
          "name": "stderr"
        },
        {
          "output_type": "stream",
          "text": [
            "(array([0.88131402, 0.89536178, 0.85668434]), array([0.87014648, 0.8583116 , 0.91517591]), array([0.87569465, 0.87644531, 0.88496468]), array([8602, 8434, 6708]))\n",
            "(array([0.67263844, 0.79610483, 0.4385698 ]), array([0.70084848, 0.64316239, 0.63596249]), array([0.68645376, 0.71150747, 0.51913552]), array([4125, 5148, 1813]))\n",
            "(array([0.90264615, 0.88700972, 0.8511398 ]), array([0.85259242, 0.87680816, 0.92397138]), array([0.8769056 , 0.88187943, 0.88606147]), array([8602, 8434, 6708]))\n",
            "(array([0.69242236, 0.79107599, 0.42639594]), array([0.67563636, 0.66122766, 0.64864865]), array([0.68392638, 0.72034705, 0.51454824]), array([4125, 5148, 1813]))\n"
          ],
          "name": "stdout"
        },
        {
          "output_type": "execute_result",
          "data": {
            "text/plain": [
              "TrainOutput(global_step=2470, training_loss=0.6373213208156076, metrics={'train_runtime': 13553.0661, 'train_samples_per_second': 0.182, 'total_flos': 8898203279059200.0, 'epoch': 10.0, 'init_mem_cpu_alloc_delta': 0, 'init_mem_gpu_alloc_delta': 0, 'init_mem_cpu_peaked_delta': 0, 'init_mem_gpu_peaked_delta': 0, 'train_mem_cpu_alloc_delta': -272003072, 'train_mem_gpu_alloc_delta': 889141248, 'train_mem_cpu_peaked_delta': 272519168, 'train_mem_gpu_peaked_delta': 9751937536})"
            ]
          },
          "metadata": {
            "tags": []
          },
          "execution_count": 21
        }
      ]
    },
    {
      "cell_type": "code",
      "metadata": {
        "colab": {
          "base_uri": "https://localhost:8080/"
        },
        "id": "yUlmHIQucaEK",
        "outputId": "d2bb4dda-d720-4707-8c47-09873323d9ce"
      },
      "source": [
        "trainer.state.log_history"
      ],
      "execution_count": null,
      "outputs": [
        {
          "output_type": "execute_result",
          "data": {
            "text/plain": [
              "[{'epoch': 1.0, 'learning_rate': 1.08e-05, 'loss': 1.5889, 'step': 54},\n",
              " {'epoch': 1.0,\n",
              "  'step': 54,\n",
              "  'train_Accuracy': 0.5706018518518519,\n",
              "  'train_F1': 0.5283289417562254,\n",
              "  'train_Precision': 0.6636304787169279,\n",
              "  'train_Recall': 0.5706018518518519,\n",
              "  'train_loss': 0.916656494140625,\n",
              "  'train_runtime': 13.869,\n",
              "  'train_samples_per_second': 62.297},\n",
              " {'epoch': 1.0,\n",
              "  'eval_Accuracy': 0.6388888888888888,\n",
              "  'eval_F1': 0.5939153439153438,\n",
              "  'eval_Precision': 0.6381262042389211,\n",
              "  'eval_Recall': 0.6388888888888888,\n",
              "  'eval_loss': 0.8379929661750793,\n",
              "  'eval_runtime': 13.8704,\n",
              "  'eval_samples_per_second': 15.573,\n",
              "  'step': 54},\n",
              " {'epoch': 2.0, 'learning_rate': 2.16e-05, 'loss': 0.879, 'step': 108},\n",
              " {'epoch': 2.0,\n",
              "  'step': 108,\n",
              "  'train_Accuracy': 0.7256944444444444,\n",
              "  'train_F1': 0.7121798610325983,\n",
              "  'train_Precision': 0.7466012931480656,\n",
              "  'train_Recall': 0.7256944444444444,\n",
              "  'train_loss': 0.7005714178085327,\n",
              "  'train_runtime': 13.2764,\n",
              "  'train_samples_per_second': 65.078},\n",
              " {'epoch': 2.0,\n",
              "  'eval_Accuracy': 0.6712962962962963,\n",
              "  'eval_F1': 0.6656979559385645,\n",
              "  'eval_Precision': 0.6833403374853028,\n",
              "  'eval_Recall': 0.6712962962962963,\n",
              "  'eval_loss': 0.8295806646347046,\n",
              "  'eval_runtime': 13.2777,\n",
              "  'eval_samples_per_second': 16.268,\n",
              "  'step': 108},\n",
              " {'epoch': 3.0, 'learning_rate': 3.24e-05, 'loss': 0.7162, 'step': 162},\n",
              " {'epoch': 3.0,\n",
              "  'step': 162,\n",
              "  'train_Accuracy': 0.8136574074074074,\n",
              "  'train_F1': 0.8069400690106497,\n",
              "  'train_Precision': 0.8322081076957041,\n",
              "  'train_Recall': 0.8136574074074074,\n",
              "  'train_loss': 0.49462100863456726,\n",
              "  'train_runtime': 13.5539,\n",
              "  'train_samples_per_second': 63.746},\n",
              " {'epoch': 3.0,\n",
              "  'eval_Accuracy': 0.7083333333333334,\n",
              "  'eval_F1': 0.6985009668306025,\n",
              "  'eval_Precision': 0.7231782672931449,\n",
              "  'eval_Recall': 0.7083333333333334,\n",
              "  'eval_loss': 0.774017870426178,\n",
              "  'eval_runtime': 13.5552,\n",
              "  'eval_samples_per_second': 15.935,\n",
              "  'step': 162},\n",
              " {'epoch': 4.0, 'learning_rate': 4.32e-05, 'loss': 0.6077, 'step': 216},\n",
              " {'epoch': 4.0,\n",
              "  'step': 216,\n",
              "  'train_Accuracy': 0.8541666666666666,\n",
              "  'train_F1': 0.8524320140884205,\n",
              "  'train_Precision': 0.8689531622006171,\n",
              "  'train_Recall': 0.8541666666666666,\n",
              "  'train_loss': 0.4381493926048279,\n",
              "  'train_runtime': 13.3965,\n",
              "  'train_samples_per_second': 64.494},\n",
              " {'epoch': 4.0,\n",
              "  'eval_Accuracy': 0.7870370370370371,\n",
              "  'eval_F1': 0.7744001703582927,\n",
              "  'eval_Precision': 0.7927777777777778,\n",
              "  'eval_Recall': 0.7870370370370371,\n",
              "  'eval_loss': 0.6554203033447266,\n",
              "  'eval_runtime': 13.398,\n",
              "  'eval_samples_per_second': 16.122,\n",
              "  'step': 216},\n",
              " {'epoch': 5.0, 'learning_rate': 0.0, 'loss': 0.5342, 'step': 270},\n",
              " {'epoch': 5.0,\n",
              "  'step': 270,\n",
              "  'train_Accuracy': 0.8877314814814815,\n",
              "  'train_F1': 0.8867356655051165,\n",
              "  'train_Precision': 0.8882941725098884,\n",
              "  'train_Recall': 0.8877314814814815,\n",
              "  'train_loss': 0.32392117381095886,\n",
              "  'train_runtime': 13.4902,\n",
              "  'train_samples_per_second': 64.046},\n",
              " {'epoch': 5.0,\n",
              "  'eval_Accuracy': 0.7037037037037037,\n",
              "  'eval_F1': 0.7030262867172118,\n",
              "  'eval_Precision': 0.7050882271708415,\n",
              "  'eval_Recall': 0.7037037037037037,\n",
              "  'eval_loss': 0.8036671280860901,\n",
              "  'eval_runtime': 13.4918,\n",
              "  'eval_samples_per_second': 16.01,\n",
              "  'step': 270},\n",
              " {'epoch': 5.0,\n",
              "  'step': 270,\n",
              "  'total_flos': 567567891648000.0,\n",
              "  'train_runtime': 244.1086,\n",
              "  'train_samples_per_second': 1.106}]"
            ]
          },
          "metadata": {
            "tags": []
          },
          "execution_count": 21
        }
      ]
    },
    {
      "cell_type": "markdown",
      "metadata": {
        "id": "R9ue43_-pnYH"
      },
      "source": [
        "## Plotting training"
      ]
    },
    {
      "cell_type": "code",
      "metadata": {
        "colab": {
          "base_uri": "https://localhost:8080/"
        },
        "id": "twP4iCokqL7k",
        "outputId": "cf51a060-fa69-4050-bc94-af7fd37710f2"
      },
      "source": [
        "for log_history in trainer.state.log_history:\n",
        "  print(log_history.keys())"
      ],
      "execution_count": null,
      "outputs": [
        {
          "output_type": "stream",
          "text": [
            "dict_keys(['loss', 'learning_rate', 'epoch', 'step'])\n",
            "dict_keys(['train_loss', 'train_Accuracy', 'train_F1', 'train_Precision', 'train_Recall', 'train_runtime', 'train_samples_per_second', 'epoch', 'step'])\n",
            "dict_keys(['eval_loss', 'eval_Accuracy', 'eval_F1', 'eval_Precision', 'eval_Recall', 'eval_runtime', 'eval_samples_per_second', 'epoch', 'step'])\n",
            "dict_keys(['loss', 'learning_rate', 'epoch', 'step'])\n",
            "dict_keys(['train_loss', 'train_Accuracy', 'train_F1', 'train_Precision', 'train_Recall', 'train_runtime', 'train_samples_per_second', 'epoch', 'step'])\n",
            "dict_keys(['eval_loss', 'eval_Accuracy', 'eval_F1', 'eval_Precision', 'eval_Recall', 'eval_runtime', 'eval_samples_per_second', 'epoch', 'step'])\n",
            "dict_keys(['loss', 'learning_rate', 'epoch', 'step'])\n",
            "dict_keys(['train_loss', 'train_Accuracy', 'train_F1', 'train_Precision', 'train_Recall', 'train_runtime', 'train_samples_per_second', 'epoch', 'step'])\n",
            "dict_keys(['eval_loss', 'eval_Accuracy', 'eval_F1', 'eval_Precision', 'eval_Recall', 'eval_runtime', 'eval_samples_per_second', 'epoch', 'step'])\n",
            "dict_keys(['loss', 'learning_rate', 'epoch', 'step'])\n",
            "dict_keys(['train_loss', 'train_Accuracy', 'train_F1', 'train_Precision', 'train_Recall', 'train_runtime', 'train_samples_per_second', 'epoch', 'step'])\n",
            "dict_keys(['eval_loss', 'eval_Accuracy', 'eval_F1', 'eval_Precision', 'eval_Recall', 'eval_runtime', 'eval_samples_per_second', 'epoch', 'step'])\n",
            "dict_keys(['loss', 'learning_rate', 'epoch', 'step'])\n",
            "dict_keys(['train_loss', 'train_Accuracy', 'train_F1', 'train_Precision', 'train_Recall', 'train_runtime', 'train_samples_per_second', 'epoch', 'step'])\n",
            "dict_keys(['eval_loss', 'eval_Accuracy', 'eval_F1', 'eval_Precision', 'eval_Recall', 'eval_runtime', 'eval_samples_per_second', 'epoch', 'step'])\n",
            "dict_keys(['train_runtime', 'train_samples_per_second', 'total_flos', 'epoch', 'step'])\n"
          ],
          "name": "stdout"
        }
      ]
    },
    {
      "cell_type": "code",
      "metadata": {
        "colab": {
          "base_uri": "https://localhost:8080/",
          "height": 328
        },
        "id": "IdymfDwvMGZc",
        "outputId": "f97e91eb-08ce-4a7b-e9d5-5ad86d517340"
      },
      "source": [
        "# here we plot finBERT training\n",
        "sns.set_style('darkgrid')\n",
        "\n",
        "finbert_train_loss = []\n",
        "finbert_val_loss = []\n",
        "finbert_train_acc = []\n",
        "finbert_val_acc = []\n",
        "\n",
        "for log_history in trainer.state.log_history:\n",
        "\n",
        "  if 'train_loss' in log_history.keys():\n",
        "    # Deal with trianing loss.\n",
        "    finbert_train_loss.append(log_history['train_loss'])\n",
        "    finbert_train_acc.append(log_history['train_Accuracy'])\n",
        "    \n",
        "  elif 'eval_loss' in log_history.keys():\n",
        "    # Deal with eval loss.\n",
        "    finbert_val_loss.append(log_history['eval_loss'])\n",
        "    finbert_val_acc.append(log_history['eval_Accuracy'])\n",
        "\n",
        "x = range(1, len(finbert_train_acc) + 1)\n",
        "plt.figure(figsize = (12,5))\n",
        "plt.subplot(1,2,1)\n",
        "plt.plot(x, finbert_train_acc, 'b', label = 'Training accuracy')\n",
        "plt.plot(x, finbert_val_acc, 'r', label = 'Validation accuracy')\n",
        "plt.title('Training and validation accuracy')\n",
        "plt.legend()\n",
        "plt.subplot(1,2,2)\n",
        "plt.plot(x, finbert_train_loss, 'b', label = 'Training loss')\n",
        "plt.plot(x, finbert_val_loss, 'r', label = 'Validation loss')\n",
        "plt.title('Training and validation loss')\n",
        "plt.legend()"
      ],
      "execution_count": null,
      "outputs": [
        {
          "output_type": "execute_result",
          "data": {
            "text/plain": [
              "<matplotlib.legend.Legend at 0x7f9f65f96850>"
            ]
          },
          "metadata": {
            "tags": []
          },
          "execution_count": 22
        },
        {
          "output_type": "display_data",
          "data": {
            "image/png": "[encoded data removed]",
            "text/plain": [
              "<Figure size 864x360 with 2 Axes>"
            ]
          },
          "metadata": {
            "tags": []
          }
        }
      ]
    },
    {
      "cell_type": "code",
      "metadata": {
        "id": "EZCwjwCHmwVO",
        "colab": {
          "base_uri": "https://localhost:8080/"
        },
        "outputId": "dccdc070-ecf6-4907-ebb0-0f9c838d147e"
      },
      "source": [
        "print(finbert_val_loss, finbert_val_acc)"
      ],
      "execution_count": null,
      "outputs": [
        {
          "output_type": "stream",
          "text": [
            "[1.1128673553466797, 0.942784309387207, 0.8786373734474182, 0.8644976019859314, 0.8563148379325867, 0.8945083618164062, 0.8776128888130188, 0.8875253200531006, 0.9210460782051086, 0.9174229502677917] [0.3357387696193397, 0.5267003427746707, 0.569817788201335, 0.6082446328702868, 0.6337723254555295, 0.6351253833664081, 0.6519033014613026, 0.6585783871549702, 0.6634493956341332, 0.664531841962836]\n"
          ],
          "name": "stdout"
        }
      ]
    },
    {
      "cell_type": "code",
      "metadata": {
        "colab": {
          "base_uri": "https://localhost:8080/",
          "height": 227
        },
        "id": "Y8XwpYbCeaeG",
        "outputId": "d82db867-8827-4283-b4cc-4a1a2bb6b2d8"
      },
      "source": [
        "trainer.predict(test_dataset)"
      ],
      "execution_count": null,
      "outputs": [
        {
          "output_type": "stream",
          "text": [
            "/usr/local/lib/python3.7/dist-packages/ipykernel_launcher.py:7: UserWarning: To copy construct from a tensor, it is recommended to use sourceTensor.clone().detach() or sourceTensor.clone().detach().requires_grad_(True), rather than torch.tensor(sourceTensor).\n",
            "  import sys\n"
          ],
          "name": "stderr"
        },
        {
          "output_type": "display_data",
          "data": {
            "text/html": [
              "\n",
              "    <div>\n",
              "      \n",
              "      <progress value='281' max='281' style='width:300px; height:20px; vertical-align: middle;'></progress>\n",
              "      [281/281 03:05]\n",
              "    </div>\n",
              "    "
            ],
            "text/plain": [
              "<IPython.core.display.HTML object>"
            ]
          },
          "metadata": {
            "tags": []
          }
        },
        {
          "output_type": "stream",
          "text": [
            "(array([0.62001267, 0.57129799, 0.50177235]), array([0.50883576, 0.6865617 , 0.53083333]), array([0.55894947, 0.62364876, 0.51589391]), array([3848, 2731, 2400]))\n"
          ],
          "name": "stdout"
        },
        {
          "output_type": "execute_result",
          "data": {
            "text/plain": [
              "PredictionOutput(predictions=array([[ 2.1185434 ,  0.06521089, -3.067783  ],\n",
              "       [ 2.2980125 , -0.39623025, -2.821409  ],\n",
              "       [-1.8740362 ,  3.5360255 , -1.3870275 ],\n",
              "       ...,\n",
              "       [-0.28043675, -1.4817287 ,  2.0297167 ],\n",
              "       [ 0.19348513, -1.9566354 ,  2.1042778 ],\n",
              "       [ 0.12549016, -1.2155614 ,  1.2621895 ]], dtype=float32), label_ids=array([1, 1, 1, ..., 0, 0, 0]), metrics={'test_loss': 1.2897781133651733, 'test_Accuracy': 0.5687715781267402, 'test_F1': 0.5671196912457988, 'test_Precision': 0.5735914011492542, 'test_Recall': 0.5687715781267402, 'test_runtime': 186.4708, 'test_samples_per_second': 48.152, 'test_mem_cpu_alloc_delta': 0, 'test_mem_gpu_alloc_delta': 0, 'test_mem_cpu_peaked_delta': 0, 'test_mem_gpu_peaked_delta': 778451968})"
            ]
          },
          "metadata": {
            "tags": []
          },
          "execution_count": 24
        }
      ]
    },
    {
      "cell_type": "code",
      "metadata": {
        "id": "6jQEQAe7M2QZ"
      },
      "source": [
        ""
      ],
      "execution_count": null,
      "outputs": []
    }
  ]
}